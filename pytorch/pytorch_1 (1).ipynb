{
 "cells": [
  {
   "cell_type": "code",
   "execution_count": 3,
   "metadata": {},
   "outputs": [],
   "source": [
    "from torch import Tensor\n",
    "import torch"
   ]
  },
  {
   "cell_type": "markdown",
   "metadata": {},
   "source": [
    "### ДЗ_1"
   ]
  },
  {
   "cell_type": "code",
   "execution_count": 83,
   "metadata": {},
   "outputs": [
    {
     "data": {
      "text/plain": [
       "\n",
       "    1     2     1     1     1     1     2     1     1     1     1     2     1\n",
       "    2     2     2     2     2     2     2     2     2     2     2     2     2\n",
       "    1     2     1     1     1     1     2     1     1     1     1     2     1\n",
       "    1     2     1     3     3     1     2     1     3     3     1     2     1\n",
       "    1     2     1     3     3     1     2     1     3     3     1     2     1\n",
       "    1     2     1     1     1     1     2     1     1     1     1     2     1\n",
       "    2     2     2     2     2     2     2     2     2     2     2     2     2\n",
       "    1     2     1     1     1     1     2     1     1     1     1     2     1\n",
       "    1     2     1     3     3     1     2     1     3     3     1     2     1\n",
       "    1     2     1     3     3     1     2     1     3     3     1     2     1\n",
       "    1     2     1     1     1     1     2     1     1     1     1     2     1\n",
       "    2     2     2     2     2     2     2     2     2     2     2     2     2\n",
       "    1     2     1     1     1     1     2     1     1     1     1     2     1\n",
       "[torch.FloatTensor of size 13x13]"
      ]
     },
     "execution_count": 83,
     "metadata": {},
     "output_type": "execute_result"
    }
   ],
   "source": [
    "x = Tensor(13 , 13).zero_ ()\n",
    "x.fill_(3)\n",
    "x.narrow(0,0,3).fill_(1)\n",
    "x.narrow(0,5,3).fill_(1)\n",
    "x.narrow(0,10,3).fill_(1)\n",
    "x.narrow(1,0,3).fill_(1)\n",
    "x.narrow(1,5,3).fill_(1)\n",
    "x.narrow(1,10,3).fill_(1)\n",
    "x.narrow(1,1,1).fill_(2)\n",
    "x.narrow(1,6,1).fill_(2)\n",
    "x.narrow(1,11,1).fill_(2)\n",
    "x.narrow(0,1,1).fill_(2)\n",
    "x.narrow(0,6,1).fill_(2)\n",
    "x.narrow(0,11,1).fill_(2)\n",
    "x"
   ]
  },
  {
   "cell_type": "code",
   "execution_count": 672,
   "metadata": {
    "scrolled": true
   },
   "outputs": [],
   "source": [
    "y = Tensor (20,20). normal_ ()\n",
    "DIAG = torch.arange(0,20).diag()\n",
    "y_inv = y.inverse()\n",
    "y_diag = y.diag()\n",
    "y_inv_diag = y_inv.diag()"
   ]
  },
  {
   "cell_type": "code",
   "execution_count": 683,
   "metadata": {},
   "outputs": [],
   "source": [
    "x_1 = y.mm(DIAG)\n",
    "x_2 = x_1.mm(y_inv)\n",
    "Eigen = x_2.eig()"
   ]
  },
  {
   "cell_type": "code",
   "execution_count": 686,
   "metadata": {},
   "outputs": [
    {
     "data": {
      "text/plain": [
       "(\n",
       "  19.0000   0.0000\n",
       "   0.0000   0.0000\n",
       "  18.0000   0.0000\n",
       "   1.0000   0.0000\n",
       "   2.0000   0.0000\n",
       "  17.0000   0.0000\n",
       "  16.0000   0.0000\n",
       "  15.0000   0.0000\n",
       "   3.0000   0.0000\n",
       "  14.0000   0.0000\n",
       "   4.0000   0.0000\n",
       "  13.0000   0.0000\n",
       "   5.0000   0.0000\n",
       "  12.0000   0.0000\n",
       "  11.0000   0.0000\n",
       "   6.0000   0.0000\n",
       "  10.0000   0.0000\n",
       "   9.0000   0.0000\n",
       "   7.0000   0.0000\n",
       "   8.0000   0.0000\n",
       " [torch.FloatTensor of size 20x2], [torch.FloatTensor with no dimension])"
      ]
     },
     "execution_count": 686,
     "metadata": {},
     "output_type": "execute_result"
    }
   ],
   "source": [
    "Eigen"
   ]
  },
  {
   "cell_type": "code",
   "execution_count": 671,
   "metadata": {
    "scrolled": true
   },
   "outputs": [],
   "source": [
    "DIAG = torch.arange(0,20).diag()"
   ]
  },
  {
   "cell_type": "code",
   "execution_count": 667,
   "metadata": {},
   "outputs": [
    {
     "data": {
      "text/plain": [
       "\n",
       "  0   1   2   3   4\n",
       "  5   6   7   8   9\n",
       " 10  11  12  13  14\n",
       " 15  16  17  18  19\n",
       " 20  21  22  23  24\n",
       "[torch.FloatTensor of size 5x5]"
      ]
     },
     "execution_count": 667,
     "metadata": {},
     "output_type": "execute_result"
    }
   ],
   "source": [
    "x"
   ]
  },
  {
   "cell_type": "code",
   "execution_count": 655,
   "metadata": {
    "scrolled": true
   },
   "outputs": [
    {
     "data": {
      "text/plain": [
       " 0.0\n",
       " 1.0\n",
       " 2.0\n",
       " 3.0\n",
       " 4.0\n",
       " 5.0\n",
       " 6.0\n",
       " 7.0\n",
       " 8.0\n",
       " 9.0\n",
       " 10.0\n",
       " 11.0\n",
       " 12.0\n",
       " 13.0\n",
       " 14.0\n",
       " 15.0\n",
       " 16.0\n",
       " 17.0\n",
       " 18.0\n",
       " 19.0\n",
       " 20.0\n",
       " 21.0\n",
       " 22.0\n",
       " 23.0\n",
       " 24.0\n",
       "[torch.FloatStorage of size 25]"
      ]
     },
     "execution_count": 655,
     "metadata": {},
     "output_type": "execute_result"
    }
   ],
   "source": [
    "x"
   ]
  },
  {
   "cell_type": "code",
   "execution_count": 647,
   "metadata": {},
   "outputs": [],
   "source": [
    ">>> q = torch . arange (0 , 20) . storage ()\n",
    ">>> x = torch . Tensor () . set_ (q , 5, (3 , 2) , (4 , 1) )"
   ]
  },
  {
   "cell_type": "code",
   "execution_count": 649,
   "metadata": {},
   "outputs": [
    {
     "data": {
      "text/plain": [
       " 0.0\n",
       " 1.0\n",
       " 2.0\n",
       " 3.0\n",
       " 4.0\n",
       " 5.0\n",
       " 6.0\n",
       " 7.0\n",
       " 8.0\n",
       " 9.0\n",
       " 10.0\n",
       " 11.0\n",
       " 12.0\n",
       " 13.0\n",
       " 14.0\n",
       " 15.0\n",
       " 16.0\n",
       " 17.0\n",
       " 18.0\n",
       " 19.0\n",
       "[torch.FloatStorage of size 20]"
      ]
     },
     "execution_count": 649,
     "metadata": {},
     "output_type": "execute_result"
    }
   ],
   "source": [
    "q"
   ]
  },
  {
   "cell_type": "code",
   "execution_count": 577,
   "metadata": {},
   "outputs": [],
   "source": [
    "x = torch.Tensor([ [ -149, -50, -154],\n",
    "[ 537, 180, 546 ],[-27, -9, -25 ] ])"
   ]
  },
  {
   "cell_type": "code",
   "execution_count": 612,
   "metadata": {},
   "outputs": [],
   "source": [
    "x_eig = torch.Tensor([ [ 1, 0, 0],\n",
    "[ 0, 2, 0 ],[0, 0, 3 ] ])"
   ]
  },
  {
   "cell_type": "code",
   "execution_count": 614,
   "metadata": {},
   "outputs": [
    {
     "data": {
      "text/plain": [
       "\n",
       "-149   -0   -0\n",
       "   0  360    0\n",
       "  -0   -0  -75\n",
       "[torch.FloatTensor of size 3x3]"
      ]
     },
     "execution_count": 614,
     "metadata": {},
     "output_type": "execute_result"
    }
   ],
   "source": [
    "x.mul(x_eig)"
   ]
  },
  {
   "cell_type": "code",
   "execution_count": 578,
   "metadata": {},
   "outputs": [],
   "source": [
    "eig = x.eig()[0]"
   ]
  },
  {
   "cell_type": "code",
   "execution_count": 607,
   "metadata": {},
   "outputs": [
    {
     "data": {
      "text/plain": [
       "\n",
       "-149  -50 -154\n",
       " 537  180  546\n",
       " -27   -9  -25\n",
       "[torch.FloatTensor of size 3x3]"
      ]
     },
     "execution_count": 607,
     "metadata": {},
     "output_type": "execute_result"
    }
   ],
   "source": [
    "torch.diag\n"
   ]
  },
  {
   "cell_type": "code",
   "execution_count": 608,
   "metadata": {},
   "outputs": [
    {
     "data": {
      "text/plain": [
       "\n",
       " 0.9983  0.0000\n",
       " 2.0030  0.0000\n",
       " 2.9987  0.0000\n",
       "[torch.FloatTensor of size 3x2]"
      ]
     },
     "execution_count": 608,
     "metadata": {},
     "output_type": "execute_result"
    }
   ],
   "source": [
    "eig"
   ]
  },
  {
   "cell_type": "code",
   "execution_count": 609,
   "metadata": {},
   "outputs": [
    {
     "data": {
      "text/plain": [
       "\n",
       " 0.9983\n",
       " 2.0030\n",
       " 2.9987\n",
       "[torch.FloatTensor of size 3x1]"
      ]
     },
     "execution_count": 609,
     "metadata": {},
     "output_type": "execute_result"
    }
   ],
   "source": [
    "eig.narrow(1,0,1)"
   ]
  },
  {
   "cell_type": "code",
   "execution_count": 175,
   "metadata": {},
   "outputs": [],
   "source": [
    "x_1 = torch.Tensor([ [ 1, -4, -7],\n",
    "[ -3, 9, -49 ],[0, 1, 0 ] ])"
   ]
  },
  {
   "cell_type": "code",
   "execution_count": 176,
   "metadata": {},
   "outputs": [
    {
     "data": {
      "text/plain": [
       "\n",
       " 7.0000e-01 -1.0000e-01  3.7000e+00\n",
       "-5.9605e-08 -1.9868e-08  1.0000e+00\n",
       "-4.2857e-02 -1.4286e-02 -4.2857e-02\n",
       "[torch.FloatTensor of size 3x3]"
      ]
     },
     "execution_count": 176,
     "metadata": {},
     "output_type": "execute_result"
    }
   ],
   "source": [
    "x_1.inverse()"
   ]
  },
  {
   "cell_type": "code",
   "execution_count": null,
   "metadata": {},
   "outputs": [],
   "source": [
    "\n",
    "\n",
    "1 −4 7\n",
    "−3 9 −49\n",
    "0 1 9\n",
    "\n",
    ""
   ]
  },
  {
   "cell_type": "code",
   "execution_count": 173,
   "metadata": {},
   "outputs": [
    {
     "data": {
      "text/plain": [
       "(\n",
       "  1.0000  0.0000\n",
       "  1.0000 -0.0000\n",
       "  1.0000  0.0000\n",
       "  1.0000 -0.0000\n",
       "  1.0000  0.0000\n",
       "  1.0000 -0.0000\n",
       "  1.0000  0.0000\n",
       "  1.0000 -0.0000\n",
       "  1.0000  0.0000\n",
       "  1.0000 -0.0000\n",
       "  1.0000  0.0000\n",
       "  1.0000  0.0000\n",
       "  1.0000  0.0000\n",
       "  1.0000  0.0000\n",
       "  1.0000  0.0000\n",
       "  1.0000  0.0000\n",
       "  1.0000  0.0000\n",
       "  1.0000  0.0000\n",
       "  1.0000  0.0000\n",
       "  1.0000 -0.0000\n",
       " [torch.FloatTensor of size 20x2], [torch.FloatTensor with no dimension])"
      ]
     },
     "execution_count": 173,
     "metadata": {},
     "output_type": "execute_result"
    }
   ],
   "source": [
    "torch.eig(y.mm(y_inv))"
   ]
  },
  {
   "cell_type": "code",
   "execution_count": 183,
   "metadata": {},
   "outputs": [],
   "source": [
    "from datetime import time"
   ]
  },
  {
   "cell_type": "code",
   "execution_count": null,
   "metadata": {},
   "outputs": [],
   "source": [
    "time.p"
   ]
  },
  {
   "cell_type": "code",
   "execution_count": 621,
   "metadata": {},
   "outputs": [],
   "source": [
    "import numpy as np\n",
    "m = Tensor (10000 , 400) . fill_ (2.0)\n",
    "\n",
    "def multi_torch(x):\n",
    "    rows = x.size()[0]\n",
    "    mult = torch.arange(1,rows+1)\n",
    "    mult = mult.view(rows,1)\n",
    "\n",
    "    mult = mult.expand_as(x)\n",
    "    x = x.mul(mult)\n",
    "    return x\n",
    "def multi(x):\n",
    "    rows = int(x.shape[0])\n",
    "    for i in xrange(rows):\n",
    "        x[i,:] = x[i,:]*(i+1)\n",
    "    return x\n",
    "    "
   ]
  },
  {
   "cell_type": "code",
   "execution_count": 625,
   "metadata": {},
   "outputs": [
    {
     "name": "stdout",
     "output_type": "stream",
     "text": [
      "0.0070081949234\n"
     ]
    }
   ],
   "source": [
    "res_1 =[]\n",
    "for i in xrange(10):\n",
    "    import timeit\n",
    "\n",
    "    start = timeit.default_timer()\n",
    "\n",
    "    test = multi_torch(m)\n",
    "\n",
    "    stop = timeit.default_timer()\n",
    "\n",
    "    res_1.append( stop - start)\n",
    "print (np.mean(res_1))"
   ]
  },
  {
   "cell_type": "code",
   "execution_count": 626,
   "metadata": {},
   "outputs": [
    {
     "name": "stdout",
     "output_type": "stream",
     "text": [
      "0.0657711029053\n"
     ]
    }
   ],
   "source": [
    "res_1 =[]\n",
    "for i in xrange(10):\n",
    "    import timeit\n",
    "\n",
    "    start = timeit.default_timer()\n",
    "\n",
    "    test = multi(m)\n",
    "\n",
    "    stop = timeit.default_timer()\n",
    "\n",
    "    res_1.append( stop - start)\n",
    "print (np.mean(res_1))"
   ]
  },
  {
   "cell_type": "code",
   "execution_count": 627,
   "metadata": {},
   "outputs": [
    {
     "name": "stdout",
     "output_type": "stream",
     "text": [
      "0.00664968490601\n"
     ]
    }
   ],
   "source": [
    "res_1 =[]\n",
    "for i in xrange(10):\n",
    "    import timeit\n",
    "\n",
    "    start = timeit.default_timer()\n",
    "\n",
    "    test = multi_torch(m)\n",
    "\n",
    "    stop = timeit.default_timer()\n",
    "\n",
    "    res_1.append( stop - start)\n",
    "print (np.mean(res_1))"
   ]
  },
  {
   "cell_type": "code",
   "execution_count": 178,
   "metadata": {},
   "outputs": [],
   "source": [
    "x1= Tensor (5000,5000). normal_ ()\n",
    "x2= Tensor (5000,5000). normal_ ()\n"
   ]
  },
  {
   "cell_type": "code",
   "execution_count": null,
   "metadata": {},
   "outputs": [],
   "source": [
    "x"
   ]
  },
  {
   "cell_type": "code",
   "execution_count": null,
   "metadata": {},
   "outputs": [],
   "source": []
  }
 ],
 "metadata": {
  "kernelspec": {
   "display_name": "Python 2",
   "language": "python",
   "name": "python2"
  },
  "language_info": {
   "codemirror_mode": {
    "name": "ipython",
    "version": 2
   },
   "file_extension": ".py",
   "mimetype": "text/x-python",
   "name": "python",
   "nbconvert_exporter": "python",
   "pygments_lexer": "ipython2",
   "version": "2.7.12"
  }
 },
 "nbformat": 4,
 "nbformat_minor": 2
}
