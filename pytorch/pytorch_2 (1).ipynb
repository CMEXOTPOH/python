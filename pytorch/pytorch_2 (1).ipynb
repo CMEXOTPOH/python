{
 "cells": [
  {
   "cell_type": "code",
   "execution_count": 148,
   "metadata": {},
   "outputs": [],
   "source": [
    "from torch import Tensor\n",
    "import torch\n",
    "import numpy as np"
   ]
  },
  {
   "cell_type": "code",
   "execution_count": 149,
   "metadata": {},
   "outputs": [],
   "source": [
    "train_input = Tensor(10,10)\n",
    "train_input.normal_()\n",
    "train_target = Tensor(10)\n",
    "train_target[:5].fill_(0)\n",
    "train_target[5:].fill_(1)\n",
    "x = Tensor(10,10)\n",
    "x = x.normal_()\n"
   ]
  },
  {
   "cell_type": "code",
   "execution_count": 3,
   "metadata": {},
   "outputs": [],
   "source": [
    "train_input = Tensor(100,13)\n",
    "train_input.normal_()\n",
    "train_input = train_input \n",
    "train_target = Tensor(100)\n",
    "train_target[:50].fill_(0)\n",
    "train_target[50:].fill_(1)\n",
    "x = Tensor(100,13)\n",
    "x = x.normal_()\n",
    "x = x \n"
   ]
  },
  {
   "cell_type": "code",
   "execution_count": 7,
   "metadata": {},
   "outputs": [
    {
     "data": {
      "text/plain": [
       "\n",
       "-0.8398  0.5159  0.4141  ...  -1.4233  0.4049  1.2116\n",
       "[torch.FloatTensor of size 1x1300]"
      ]
     },
     "execution_count": 7,
     "metadata": {},
     "output_type": "execute_result"
    }
   ],
   "source": [
    "train_input.view(1,-1)"
   ]
  },
  {
   "cell_type": "code",
   "execution_count": 883,
   "metadata": {},
   "outputs": [],
   "source": [
    "def knn(x):\n",
    "    result_v = Tensor(x.shape[0])\n",
    "    for n,test in enumerate(x):\n",
    "        x_quadro = np.power((train_input - test),2)\n",
    "        x_quadro = Tensor(map(Tensor.sum,x_quadro))\n",
    "        x_quadro = Tensor(map(np.sqrt,x_quadro))\n",
    "        res_index = x_quadro.sort(0)[1][0]\n",
    "        #result = train_target[res_index]\n",
    "        result_v[n] = train_target[res_index]\n",
    "    return result_v"
   ]
  },
  {
   "cell_type": "code",
   "execution_count": 994,
   "metadata": {},
   "outputs": [],
   "source": [
    "def knn_2(x,train_input,train_target,n_neighbours = 1):\n",
    "    inp = train_input.expand(x.shape[0],train_input.shape[0],train_input.shape[1])\n",
    "    tes = x.view(x.shape[0],1,x.shape[1])\n",
    "    x_quadro = torch.pow((inp - tes),2)\n",
    "    x_quadro = x_quadro.mean(2).view(-1)\n",
    "    x_quadro = torch.sqrt(x_quadro)\n",
    "    x_quadro = x_quadro.view(x.shape[0],train_input.shape[0],1)\n",
    "    indexes = x_quadro.sort(1)[1]\n",
    "    result = train_target[[x_quadro.sort(1)[1][:,0:n_neighbours].long()]].view(-1)\n",
    "    return result.view(x.shape[0],n_neighbours).mean(1)"
   ]
  },
  {
   "cell_type": "code",
   "execution_count": 993,
   "metadata": {},
   "outputs": [
    {
     "data": {
      "text/plain": [
       "\n",
       " 0.6000\n",
       " 0.7000\n",
       " 0.6000\n",
       " 0.7000\n",
       " 0.6000\n",
       " 0.2000\n",
       " 0.4000\n",
       " 0.3000\n",
       " 0.4000\n",
       " 0.7000\n",
       " 0.5000\n",
       " 0.5000\n",
       " 0.3000\n",
       " 0.4000\n",
       " 0.7000\n",
       " 0.6000\n",
       " 0.6000\n",
       " 0.4000\n",
       " 0.4000\n",
       " 0.4000\n",
       " 0.7000\n",
       " 0.4000\n",
       " 0.5000\n",
       " 0.6000\n",
       " 0.6000\n",
       " 0.6000\n",
       " 0.7000\n",
       " 0.6000\n",
       " 0.6000\n",
       " 0.4000\n",
       " 0.4000\n",
       " 0.5000\n",
       " 0.5000\n",
       " 0.4000\n",
       " 0.4000\n",
       " 0.7000\n",
       " 0.6000\n",
       " 0.6000\n",
       " 0.6000\n",
       " 0.5000\n",
       " 0.3000\n",
       " 0.4000\n",
       " 0.5000\n",
       " 0.4000\n",
       " 0.3000\n",
       " 1.0000\n",
       " 0.5000\n",
       " 0.6000\n",
       " 0.5000\n",
       " 0.4000\n",
       " 0.5000\n",
       " 0.7000\n",
       " 0.4000\n",
       " 0.4000\n",
       " 0.3000\n",
       " 0.5000\n",
       " 0.7000\n",
       " 0.2000\n",
       " 0.9000\n",
       " 0.5000\n",
       " 0.6000\n",
       " 0.4000\n",
       " 0.8000\n",
       " 0.6000\n",
       " 0.3000\n",
       " 0.3000\n",
       " 0.4000\n",
       " 0.3000\n",
       " 0.6000\n",
       " 0.5000\n",
       " 0.5000\n",
       " 0.4000\n",
       " 0.4000\n",
       " 0.5000\n",
       " 0.4000\n",
       " 0.4000\n",
       " 0.4000\n",
       " 0.4000\n",
       " 0.5000\n",
       " 0.5000\n",
       " 0.7000\n",
       " 0.6000\n",
       " 0.7000\n",
       " 0.4000\n",
       " 0.4000\n",
       " 0.5000\n",
       " 0.4000\n",
       " 0.5000\n",
       " 0.3000\n",
       " 0.4000\n",
       " 0.5000\n",
       " 0.6000\n",
       " 0.8000\n",
       " 0.7000\n",
       " 0.8000\n",
       " 0.5000\n",
       " 0.3000\n",
       " 0.4000\n",
       " 0.4000\n",
       " 0.6000\n",
       "[torch.FloatTensor of size 100]"
      ]
     },
     "execution_count": 993,
     "metadata": {},
     "output_type": "execute_result"
    }
   ],
   "source": [
    "knn_2(x,10)"
   ]
  },
  {
   "cell_type": "code",
   "execution_count": 991,
   "metadata": {},
   "outputs": [
    {
     "name": "stdout",
     "output_type": "stream",
     "text": [
      "0.00445804595947\n"
     ]
    }
   ],
   "source": [
    "res_1 =[]\n",
    "for i in xrange(100):\n",
    "    import timeit\n",
    "\n",
    "    start = timeit.default_timer()\n",
    "\n",
    "    y = knn_2(x)\n",
    "\n",
    "    stop = timeit.default_timer()\n",
    "\n",
    "    res_1.append( stop - start)\n",
    "print (np.mean(res_1))"
   ]
  },
  {
   "cell_type": "code",
   "execution_count": 889,
   "metadata": {},
   "outputs": [
    {
     "name": "stdout",
     "output_type": "stream",
     "text": [
      "0.0335905098915\n"
     ]
    }
   ],
   "source": [
    "res_1 =[]\n",
    "for i in xrange(100):\n",
    "    import timeit\n",
    "\n",
    "    start = timeit.default_timer()\n",
    "\n",
    "    y = knn(x)\n",
    "\n",
    "    stop = timeit.default_timer()\n",
    "\n",
    "    res_1.append( stop - start)\n",
    "print (np.mean(res_1))"
   ]
  }
 ],
 "metadata": {
  "kernelspec": {
   "display_name": "Python 2",
   "language": "python",
   "name": "python2"
  },
  "language_info": {
   "codemirror_mode": {
    "name": "ipython",
    "version": 2
   },
   "file_extension": ".py",
   "mimetype": "text/x-python",
   "name": "python",
   "nbconvert_exporter": "python",
   "pygments_lexer": "ipython2",
   "version": "2.7.12"
  }
 },
 "nbformat": 4,
 "nbformat_minor": 2
}
