{
 "cells": [
  {
   "cell_type": "code",
   "execution_count": 1,
   "metadata": {},
   "outputs": [],
   "source": [
    "from torch import Tensor\n",
    "import torch\n",
    "import numpy as np"
   ]
  },
  {
   "cell_type": "code",
   "execution_count": 2,
   "metadata": {},
   "outputs": [],
   "source": [
    "tensor = Tensor(10,10)\n",
    "tensor = tensor.normal_()\n",
    "def tanh(x):\n",
    "    return torch.tanh(x)\n",
    "def dsigm(x):\n",
    "    return 1./torch.pow(torch.cosh(x),2)"
   ]
  },
  {
   "cell_type": "code",
   "execution_count": 3,
   "metadata": {},
   "outputs": [],
   "source": [
    "tensor = Tensor(10,10)\n",
    "tensor = tensor.normal_()\n",
    "def tanh(x):\n",
    "    return 1/(1+np.exp(-x))\n",
    "def dsigm(x):\n",
    "    return x*(1-x)"
   ]
  },
  {
   "cell_type": "code",
   "execution_count": 4,
   "metadata": {},
   "outputs": [
    {
     "data": {
      "text/plain": [
       "\n",
       "\n",
       "Columns 0 to 7 \n",
       "  6.1787   1.2106   2.8478   1.0131   1.0169  11.3234   1.0279   1.0828\n",
       " 14.5342   1.0251   6.2053   1.2467   1.0384   1.1987   2.8934   1.0924\n",
       "  2.7939   1.6763   1.9612   1.0418   5.3868   1.2264   5.6136   1.0046\n",
       "  1.1591   1.5571   1.0555  17.3085   1.1861   1.0534   1.0350   1.0001\n",
       "  2.4826   1.0457   1.0001   1.0015   1.0669   1.1553   2.9772   1.0061\n",
       "  1.0592   1.0129   2.5432   1.8391   5.7670   9.0545   7.8159   1.0624\n",
       "  3.1264   3.5445   1.4582   1.0344   1.1893   1.4632   1.2759   5.3586\n",
       "  6.0980   2.9913   2.8231   1.8813   3.1625   2.5597   1.1787   1.0431\n",
       "  1.5248  99.7044   1.3353   1.1371   1.0371   1.0223   1.8169  26.9942\n",
       "  1.1402   1.4727   3.0647   3.9506   1.5390   6.3910   1.0330   1.4278\n",
       "\n",
       "Columns 8 to 9 \n",
       "  2.2025   3.5625\n",
       "  1.1760   1.1878\n",
       "  1.1045   1.1667\n",
       "  1.0071   1.4733\n",
       "  3.4026   5.1692\n",
       "  1.0754   6.0427\n",
       "  1.0840   1.1496\n",
       "  1.0482   1.4038\n",
       "  3.2215   1.0013\n",
       "  1.1448   1.0000\n",
       "[torch.FloatTensor of size 10x10]"
      ]
     },
     "execution_count": 4,
     "metadata": {},
     "output_type": "execute_result"
    }
   ],
   "source": [
    "torch.pow(torch.cosh(tensor),2)"
   ]
  },
  {
   "cell_type": "markdown",
   "metadata": {},
   "source": [
    "### ДЗ 2"
   ]
  },
  {
   "cell_type": "code",
   "execution_count": 5,
   "metadata": {},
   "outputs": [],
   "source": [
    "v = Tensor(10,20).float().normal_()\n",
    "t =  Tensor(10,20).float().normal_()"
   ]
  },
  {
   "cell_type": "code",
   "execution_count": 6,
   "metadata": {},
   "outputs": [],
   "source": [
    "def loss(t,v):\n",
    "    return torch.pow(torch.sum(torch.pow((t-v),2),0),0.5)"
   ]
  },
  {
   "cell_type": "code",
   "execution_count": 7,
   "metadata": {},
   "outputs": [],
   "source": [
    "def dloss(t,v):\n",
    "    return torch.sum((2*(t-v)),0)"
   ]
  },
  {
   "cell_type": "markdown",
   "metadata": {},
   "source": [
    "### ДЗ 3"
   ]
  },
  {
   "cell_type": "code",
   "execution_count": 8,
   "metadata": {},
   "outputs": [],
   "source": [
    "x = Tensor(10,20).float().normal_()\n",
    "w1 = Tensor(x.shape[1],15).float().normal_() # 15 - 1-st layer nods\n",
    "b1 = Tensor(1,w1.shape[1]).float().normal_()\n",
    "s1 = x.mm(w1)+b1\n",
    "x1 = tanh(s1)\n",
    "\n",
    "w2 = Tensor(x1.shape[1],1).float().normal_()# 8 - 2-nd layer nods\n",
    "b2 = Tensor(1,w2.shape[1]).float().normal_()\n",
    "s2 = x1.mm(w2)+b2\n",
    "x2 = tanh(s2)\n",
    "\n",
    "x_f = tanh(x2.sum(0))\n",
    "\n",
    "def forward_pass(w1, b1, w2, b2, x):\n",
    "    s1 = x.mm(w1)\n",
    "    x1 = tanh(s1+b1.expand(x.shape[0],w1.shape[1]))\n",
    "    s2 = x1.mm(w2)\n",
    "    x2 = tanh(s2+b2.expand(x1.shape[0],w2.shape[1]))\n",
    "    return(x,s1,x1,s2,x2)"
   ]
  },
  {
   "cell_type": "code",
   "execution_count": 9,
   "metadata": {},
   "outputs": [],
   "source": [
    "x, s1, x1, s2, x2 = forward_pass(w1, b1, w2, b2, x)"
   ]
  },
  {
   "cell_type": "code",
   "execution_count": 10,
   "metadata": {},
   "outputs": [],
   "source": [
    "t = Tensor(10,1).float()\n",
    "t[0:5] = -1\n",
    "t[5:] = 1"
   ]
  },
  {
   "cell_type": "code",
   "execution_count": 11,
   "metadata": {},
   "outputs": [],
   "source": [
    "l2_error = t - x2\n",
    "l2_delta = l2_error*dsigm(x2)\n",
    "w2_delta = x1.transpose(1,0).mm(l2_delta)\n",
    "l1_error = l2_delta.mm(w2.transpose(1,0))\n",
    "l1_delta = l1_error*dsigm(x1)\n",
    "w1_delta = x.transpose(1,0).mm(l1_delta)\n",
    "\n",
    "\n",
    "w2 += w2_delta\n",
    "w1 += w1_delta\n",
    "b2 += l2_delta.mean()\n",
    "b1 += l1_delta.mean()\n"
   ]
  },
  {
   "cell_type": "code",
   "execution_count": 45,
   "metadata": {
    "scrolled": true
   },
   "outputs": [
    {
     "data": {
      "text/plain": [
       "\n",
       "1.00000e-08 *\n",
       "  1.4901\n",
       " -5.9605\n",
       " -5.9605\n",
       "  5.9605\n",
       "  0.0000\n",
       "  0.0000\n",
       "  0.0000\n",
       "  0.0000\n",
       "  0.0000\n",
       "  0.0000\n",
       "  0.0000\n",
       "  0.0000\n",
       "  0.0000\n",
       "  0.0000\n",
       "  0.0000\n",
       "[torch.FloatTensor of size 15x1]"
      ]
     },
     "execution_count": 45,
     "metadata": {},
     "output_type": "execute_result"
    }
   ],
   "source": [
    "torch.mm()"
   ]
  },
  {
   "cell_type": "code",
   "execution_count": 679,
   "metadata": {},
   "outputs": [],
   "source": [
    "for i in xrange(1):\n",
    "    l2_error = t - x2\n",
    "    l2_delta = l2_error*dsigm(x2)\n",
    "    w2_delta = x1.transpose(1,0).mm(l2_delta)\n",
    "    l1_error = l2_delta.mm(w2.transpose(1,0))\n",
    "    l1_delta = l1_error*dsigm(x1)\n",
    "    w1_delta = x.transpose(1,0).mm(l1_delta)\n",
    "\n",
    "\n",
    "    w2 += w2_delta\n",
    "    w1 += w1_delta\n",
    "    b2 += l2_delta.mean()\n",
    "    b1 += l1_delta.mean(0)\n",
    "\n",
    "    x, s1, x1, s2, x2 = forward_pass(w1, b1, w2, b2, x)\n"
   ]
  }
 ],
 "metadata": {
  "kernelspec": {
   "display_name": "Python 2",
   "language": "python",
   "name": "python2"
  },
  "language_info": {
   "codemirror_mode": {
    "name": "ipython",
    "version": 2
   },
   "file_extension": ".py",
   "mimetype": "text/x-python",
   "name": "python",
   "nbconvert_exporter": "python",
   "pygments_lexer": "ipython2",
   "version": "2.7.12"
  }
 },
 "nbformat": 4,
 "nbformat_minor": 2
}
