{
 "cells": [
  {
   "cell_type": "code",
   "execution_count": 1,
   "metadata": {
    "collapsed": false
   },
   "outputs": [
    {
     "name": "stderr",
     "output_type": "stream",
     "text": [
      "Using Theano backend.\n"
     ]
    }
   ],
   "source": [
    "import numpy as np\n",
    "import pandas as pd\n",
    "from datetime import datetime\n",
    "from sklearn.preprocessing import StandardScaler\n",
    "from sklearn.cross_validation import KFold\n",
    "from sklearn.metrics import mean_absolute_error\n",
    "from scipy.stats import skew, boxcox\n",
    "from math import exp, log\n",
    "import os\n",
    "from os import listdir\n",
    "import csv\n",
    "from sklearn.ensemble import RandomForestRegressor as RandomForest\n",
    "%matplotlib inline\n",
    "import pylab\n",
    "from matplotlib.mlab import PCA as mlabPCA\n",
    "import matplotlib.pyplot as plt\n",
    "import math\n",
    "import pickle\n",
    "from sklearn.cross_validation import KFold\n",
    "from sklearn import cross_validation\n",
    "from sklearn import metrics\n",
    "from sklearn.cross_validation import train_test_split\n",
    "from sklearn.ensemble import RandomForestClassifier\n",
    "from sklearn import metrics\n",
    "from sklearn.metrics import roc_curve, auc\n",
    "from sklearn.svm import SVC\n",
    "from sklearn.naive_bayes import GaussianNB\n",
    "from sklearn.ensemble import AdaBoostClassifier\n",
    "import sklearn\n",
    "from sklearn.preprocessing import normalize\n",
    "from sklearn import preprocessing\n",
    "from keras.models import Sequential\n",
    "from keras.layers import Dense, Dropout, Activation\n",
    "import numpy as np\n",
    "import pandas as pd\n",
    "from sklearn.cross_validation import train_test_split\n",
    "from keras.layers.advanced_activations import PReLU\n",
    "from keras.models import load_model\n",
    "from keras.layers import Convolution1D, GlobalMaxPooling1D, Merge\n",
    "import cPickle\n",
    "from sklearn.externals import joblib\n",
    "np.random.seed(123)"
   ]
  },
  {
   "cell_type": "code",
   "execution_count": 2,
   "metadata": {
    "collapsed": true
   },
   "outputs": [],
   "source": [
    "def Gini(y_true, y_pred):\n",
    "    # check and get number of samples\n",
    "    assert y_true.shape == y_pred.shape\n",
    "    n_samples = y_true.shape[0]\n",
    "    \n",
    "    # sort rows on prediction column \n",
    "    # (from largest to smallest)\n",
    "    arr = np.array([y_true, y_pred]).transpose()\n",
    "    true_order = arr[arr[:,0].argsort()][::-1,0]\n",
    "    pred_order = arr[arr[:,1].argsort()][::-1,0]\n",
    "    \n",
    "    # get Lorenz curves\n",
    "    L_true = np.cumsum(true_order) / np.sum(true_order)\n",
    "    L_pred = np.cumsum(pred_order) / np.sum(pred_order)\n",
    "    L_ones = np.linspace(1/n_samples, 1, n_samples)\n",
    "    \n",
    "    # get Gini coefficients (area between curves)\n",
    "    G_true = np.sum(L_ones - L_true)\n",
    "    G_pred = np.sum(L_ones - L_pred)\n",
    "    \n",
    "    # normalize to true Gini coefficient\n",
    "    return G_pred/G_true"
   ]
  },
  {
   "cell_type": "code",
   "execution_count": 3,
   "metadata": {
    "collapsed": true
   },
   "outputs": [],
   "source": [
    "def perf_measure(y_actual,y_hat):\n",
    "    TP = 0\n",
    "    FP = 0\n",
    "    TN = 0\n",
    "    FN = 0\n",
    "\n",
    "    for i in range(len(y_hat)): \n",
    "        if np.all(y_actual[i]==1 and y_hat[i]==1):\n",
    "            TP += 1\n",
    "    for i in range(len(y_hat)): \n",
    "        if np.all(y_hat[i]==1 and y_actual[i]==0):\n",
    "            FP += 1\n",
    "    for i in range(len(y_hat)): \n",
    "        if np.all(y_actual[i]==0 and y_hat[i]==0):\n",
    "            TN += 1\n",
    "    for i in range(len(y_hat)): \n",
    "        if np.all(y_hat[i]==0 and y_actual[i]==1):\n",
    "            FN += 1\n",
    "\n",
    "    return(TP, FP, TN, FN)"
   ]
  },
  {
   "cell_type": "code",
   "execution_count": 4,
   "metadata": {
    "collapsed": true
   },
   "outputs": [],
   "source": [
    "def evaluate_prediction(predictions, target, title=\"Confusion matrix\"):\n",
    "    print('accuracy %s' % accuracy_score(target, predictions))\n",
    "    cm = confusion_matrix(target, predictions)\n",
    "    print('confusion matrix\\n %s' % cm)\n",
    "    print('(row=expected, col=predicted)')\n",
    "    \n",
    "    cm_normalized = cm.astype('float') / cm.sum(axis=1)[:, np.newaxis]\n",
    "    plot_confusion_matrix(cm_normalized, title + ' Normalized')"
   ]
  },
  {
   "cell_type": "code",
   "execution_count": 5,
   "metadata": {
    "collapsed": false
   },
   "outputs": [],
   "source": [
    "\n",
    "from sklearn.metrics import accuracy_score, confusion_matrix\n",
    "def plot_confusion_matrix(cm, title='Confusion matrix', cmap=\"cool\"):\n",
    "    \n",
    "    plt.figure(figsize=(5,5))\n",
    "    plt.imshow(cm, interpolation='nearest', cmap=cmap)\n",
    "    plt.title(title)\n",
    "    plt.colorbar()\n",
    "    tick_marks = np.arange(2)\n",
    "    target_names =\"01\"\n",
    "    plt.xticks(tick_marks, target_names, rotation=45)\n",
    "    plt.yticks(tick_marks, target_names)\n",
    "    plt.tight_layout()\n",
    "    plt.ylabel('True label')\n",
    "    plt.xlabel('Predicted label')"
   ]
  },
  {
   "cell_type": "markdown",
   "metadata": {},
   "source": [
    "### Без усреднения"
   ]
  },
  {
   "cell_type": "raw",
   "metadata": {},
   "source": [
    "df = pd.read_csv(\"data_for_model_2.csv\")\n",
    "df = df[pd.notnull(df['bday'])]\n",
    "df = df.fillna(0)\n",
    "df_ent = pd.get_dummies(df['Product'])\n",
    "df = df.drop(\"Product\",axis=1)\n",
    "df = pd.concat([df, df_ent], axis=1)\n",
    "df.DTOPEN = pd.to_datetime(df.DTOPEN, format=\"%d%b%Y\")\n",
    "df.DTOPEN = df.DTOPEN.dt.year\n",
    "df.bday = pd.to_datetime(df.bday, format=\"%d%b%Y\")\n",
    "df.bday = datetime.now().year-df.bday.dt.year\n"
   ]
  },
  {
   "cell_type": "raw",
   "metadata": {},
   "source": [
    "y = df.Class\n",
    "x = df.drop([\"Class\",\"Contract_ID\"],axis=1)\n",
    "x.to_csv(\"train.csv\",index = None)\n",
    "x = preprocessing.minmax_scale(x)\n",
    "y = preprocessing.minmax_scale(y) \n",
    "X_train,X_test,y_train,y_test = train_test_split(x,y,test_size=0.99)"
   ]
  },
  {
   "cell_type": "raw",
   "metadata": {},
   "source": [
    "def nn_model():\n",
    "    model = Sequential()\n",
    "    model.add(Dense(50,input_dim=X_train.shape[1]))\n",
    "    model.add(PReLU())\n",
    "    model.add(Dropout(0.3))\n",
    "    model.add(Dense(30))\n",
    "    model.add(PReLU())\n",
    "    model.add(Dropout(0.3))\n",
    "    model.add(Dense(1,activation=\"sigmoid\"))\n",
    "    model.compile(loss='binary_crossentropy', optimizer='adam', metrics=['accuracy'])\n",
    "    return(model)\n",
    "model_tot_nn = nn_model()"
   ]
  },
  {
   "cell_type": "raw",
   "metadata": {},
   "source": [
    "model_tot_nn.fit(X_train, y_train,validation_data=(X_test,y_test), nb_epoch=150, batch_size=128,verbose=0)"
   ]
  },
  {
   "cell_type": "raw",
   "metadata": {},
   "source": [
    "# evaluate the model\n",
    "scores = model_tot_nn.evaluate(X_train, y_train)\n",
    "print(\"%s: %.2f%%\" % (model_tot_nn.metrics_names[1], scores[1]*100))"
   ]
  },
  {
   "cell_type": "raw",
   "metadata": {},
   "source": [
    "pre = model_tot_nn.predict_classes(X_test)\n",
    "fpr, tpr, thresholds = metrics.roc_curve(y_test, pre)\n",
    "print (\"AUC\",metrics.auc(fpr, tpr))\n",
    "plt.plot(fpr, tpr)\n",
    "plt.xlabel(\"False Positive Rate\")\n",
    "plt.ylabel(\"True negative Rate\")"
   ]
  },
  {
   "cell_type": "raw",
   "metadata": {},
   "source": [
    "evaluate_prediction(pre,y_test)"
   ]
  },
  {
   "cell_type": "raw",
   "metadata": {},
   "source": [
    "pf = perf_measure(y_test, pre.T[0,:])\n",
    "TP = pf[0]\n",
    "FP = pf[1]\n",
    "TN = pf[2]\n",
    "FN = pf[3]\n",
    "MCC = (TP*TN-FP*FN)/(((TP+FP)*(TP+FN)*(TN+FP)*(TN+FN))**0.5)\n",
    "print ('MCC', MCC)\n",
    "print( \"Sensivity - Recall\",TP*1.0/(TP+FN))\n",
    "print( \"Precision\",TP*1.0/(TP+FP))\n",
    "print('GINI',Gini(y_test,pre[:,0]))\n",
    "precision = TP*1.0/(TP+FP)\n",
    "recall = TP*1.0/(TP+FN)\n",
    "print(\"F-score\",precision*recall*2/(precision+recall))"
   ]
  },
  {
   "cell_type": "raw",
   "metadata": {},
   "source": [
    "model_tot_nn.save('my_model_class_total_19-12-16.h5')"
   ]
  },
  {
   "cell_type": "markdown",
   "metadata": {},
   "source": [
    "### Нейронная сеть и усреднение"
   ]
  },
  {
   "cell_type": "code",
   "execution_count": 6,
   "metadata": {
    "collapsed": true
   },
   "outputs": [],
   "source": [
    "df = pd.read_csv(\"data_for_model_2.csv\")\n",
    "df = df[pd.notnull(df['bday'])]\n",
    "df = df.fillna(0)\n",
    "df = df[df.Product==\"Cash\"]\n",
    "df = df.drop('Product',axis=1)\n",
    "df.DTOPEN = pd.to_datetime(df.DTOPEN, format=\"%d%b%Y\")\n",
    "df.DTOPEN = df.DTOPEN.dt.year\n",
    "df.bday = pd.to_datetime(df.bday, format=\"%d%b%Y\")\n",
    "df.bday = datetime.now().year-df.bday.dt.year\n",
    "df = df.groupby([\"Contract_ID\"]).mean()\n",
    "df.sx[df.sx>0.5]=1\n",
    "df.sx[df.sx<1]=0"
   ]
  },
  {
   "cell_type": "code",
   "execution_count": 7,
   "metadata": {
    "collapsed": true
   },
   "outputs": [],
   "source": [
    "y = df.Class\n",
    "x = df.drop([\"Class\",u'PTP_Amount',u'CARDS_PORTF_AVG',\n",
    "       u'CARDS_PORTF_MAX', u'CARDS_BALANCEAMT_AVG', u'CARDS_BALANCEAMT_MAX',u'Total_Overdue',u'OS',u'Days_Past_Due'],axis=1)\n",
    "xx = x\n",
    "x.to_csv(\"train_avg.csv\",index = None)\n",
    "x = preprocessing.minmax_scale(x)\n",
    "y = preprocessing.minmax_scale(y)\n",
    "X_train,X_test,y_train,y_test = train_test_split(x,y,test_size=0.3)"
   ]
  },
  {
   "cell_type": "code",
   "execution_count": 8,
   "metadata": {
    "collapsed": true
   },
   "outputs": [],
   "source": [
    "def nn_model():\n",
    "    model = Sequential()\n",
    "    model.add(Dense(20,input_dim=X_train.shape[1], activation='relu'))\n",
    "    model.add(Dropout(0.1))\n",
    "    model.add(Dense(10, activation='relu'))\n",
    "    model.add(Dropout(0.1))\n",
    "    model.add(Dense(3,activation=\"sigmoid\"))\n",
    "    model.add(Dense(1,activation=\"sigmoid\"))\n",
    "    model.compile(loss='binary_crossentropy', optimizer='adam', metrics=['accuracy'])\n",
    "    return(model)\n",
    "model_avg_nn = nn_model()"
   ]
  },
  {
   "cell_type": "code",
   "execution_count": 9,
   "metadata": {
    "collapsed": false
   },
   "outputs": [
    {
     "data": {
      "text/plain": [
       "<keras.callbacks.History at 0x13b7d470>"
      ]
     },
     "execution_count": 9,
     "metadata": {},
     "output_type": "execute_result"
    }
   ],
   "source": [
    "model_avg_nn.fit(X_train, y_train,validation_data=(X_test,y_test), nb_epoch=100, batch_size=8,verbose=0)"
   ]
  },
  {
   "cell_type": "code",
   "execution_count": 10,
   "metadata": {
    "collapsed": false
   },
   "outputs": [
    {
     "name": "stdout",
     "output_type": "stream",
     "text": [
      "  32/1526 [..............................] - ETA: 0sacc: 82.96%\n"
     ]
    }
   ],
   "source": [
    "# evaluate the model\n",
    "scores = model_avg_nn.evaluate(X_train, y_train)\n",
    "print(\"%s: %.2f%%\" % (model_avg_nn.metrics_names[1], scores[1]*100))"
   ]
  },
  {
   "cell_type": "code",
   "execution_count": 11,
   "metadata": {
    "collapsed": false
   },
   "outputs": [
    {
     "name": "stdout",
     "output_type": "stream",
     "text": [
      " 32/654 [>.............................] - ETA: 0s('AUC', 0.79317969419903067)\n"
     ]
    },
    {
     "data": {
      "text/plain": [
       "<matplotlib.text.Text at 0x13e44cc0>"
      ]
     },
     "execution_count": 11,
     "metadata": {},
     "output_type": "execute_result"
    },
    {
     "data": {
      "image/png": "[encoded data removed]",
      "text/plain": [
       "<matplotlib.figure.Figure at 0x13b910f0>"
      ]
     },
     "metadata": {},
     "output_type": "display_data"
    }
   ],
   "source": [
    "pre = model_avg_nn.predict_classes(X_test)\n",
    "fpr, tpr, thresholds = metrics.roc_curve(y_test, pre)\n",
    "print (\"AUC\",metrics.auc(fpr, tpr))\n",
    "plt.plot(fpr, tpr)\n",
    "plt.xlabel(\"False Positive Rate\")\n",
    "plt.ylabel(\"True Positive Rate\")"
   ]
  },
  {
   "cell_type": "code",
   "execution_count": 12,
   "metadata": {
    "collapsed": false
   },
   "outputs": [
    {
     "name": "stdout",
     "output_type": "stream",
     "text": [
      "accuracy 0.7874617737\n",
      "confusion matrix\n",
      " [[291  92]\n",
      " [ 47 224]]\n",
      "(row=expected, col=predicted)\n"
     ]
    },
    {
     "data": {
      "image/png": "[encoded data removed]",
      "text/plain": [
       "<matplotlib.figure.Figure at 0x13c7b550>"
      ]
     },
     "metadata": {},
     "output_type": "display_data"
    }
   ],
   "source": [
    "evaluate_prediction(pre,y_test)"
   ]
  },
  {
   "cell_type": "code",
   "execution_count": 13,
   "metadata": {
    "collapsed": false
   },
   "outputs": [
    {
     "name": "stdout",
     "output_type": "stream",
     "text": [
      "('MCC', 0.5780242037918004)\n",
      "('Sensivity - Recall', 0.8265682656826568)\n",
      "('Precision', 0.7088607594936709)\n",
      "('GINI', 0.58043127306273068)\n",
      "('F-score', 0.7632027257240205)\n"
     ]
    }
   ],
   "source": [
    "pf = perf_measure(y_test, pre)\n",
    "TP = pf[0]\n",
    "FP = pf[1]\n",
    "TN = pf[2]\n",
    "FN = pf[3]\n",
    "MCC = (TP*TN-FP*FN)/(((TP+FP)*(TP+FN)*(TN+FP)*(TN+FN))**0.5)\n",
    "print ('MCC', MCC)\n",
    "print( \"Sensivity - Recall\",TP*1.0/(TP+FN))\n",
    "print( \"Precision\",TP*1.0/(TP+FP))\n",
    "print('GINI',Gini(y_test,pre[:,0]))\n",
    "precision = TP*1.0/(TP+FP)\n",
    "recall = TP*1.0/(TP+FN)\n",
    "print(\"F-score\",precision*recall*2.0/(precision+recall))"
   ]
  },
  {
   "cell_type": "code",
   "execution_count": 14,
   "metadata": {
    "collapsed": true
   },
   "outputs": [],
   "source": [
    "model_avg_nn.save('my_model_class_avg_19-12-16.h5')"
   ]
  },
  {
   "cell_type": "markdown",
   "metadata": {},
   "source": [
    "### Случайный Лес"
   ]
  },
  {
   "cell_type": "code",
   "execution_count": 15,
   "metadata": {
    "collapsed": false,
    "scrolled": true
   },
   "outputs": [],
   "source": [
    "rfc = RandomForestClassifier(n_estimators=500)\n",
    "rfc.fit(X=X_train,y=y_train)\n",
    "pickle.dump(rfc,open('random_forest_avg.pkl','wb'))"
   ]
  },
  {
   "cell_type": "raw",
   "metadata": {},
   "source": [
    "from sklearn.tree import DecisionTreeClassifier, export_graphviz\n",
    "for tree in rfc:\n",
    "    export_graphviz(tree,\n",
    "                feature_names=df.columns,\n",
    "                filled=True,\n",
    "                rounded=True)\n",
    "os.system('dot -Tpng tree.dot -o tree.png')\n"
   ]
  },
  {
   "cell_type": "code",
   "execution_count": 16,
   "metadata": {
    "collapsed": false
   },
   "outputs": [
    {
     "name": "stdout",
     "output_type": "stream",
     "text": [
      "('AUC', 0.78315493337700992)\n"
     ]
    },
    {
     "data": {
      "text/plain": [
       "<matplotlib.text.Text at 0x15579358>"
      ]
     },
     "execution_count": 16,
     "metadata": {},
     "output_type": "execute_result"
    },
    {
     "data": {
      "image/png": "[encoded data removed]",
      "text/plain": [
       "<matplotlib.figure.Figure at 0x11982a58>"
      ]
     },
     "metadata": {},
     "output_type": "display_data"
    }
   ],
   "source": [
    "pre = rfc.predict(X_test)\n",
    "fpr, tpr, thresholds = metrics.roc_curve(y_test, pre)\n",
    "print (\"AUC\",metrics.auc(fpr, tpr))\n",
    "plt.plot(fpr, tpr)\n",
    "plt.xlabel(\"False Positive Rate\")\n",
    "plt.ylabel(\"True negative Rate\")"
   ]
  },
  {
   "cell_type": "code",
   "execution_count": 17,
   "metadata": {
    "collapsed": false
   },
   "outputs": [
    {
     "name": "stdout",
     "output_type": "stream",
     "text": [
      "('MCC', 0.5657106430022303)\n",
      "('Sensivity - Recall', 0.7490774907749077)\n",
      "('Precision', 0.7435897435897436)\n",
      "('GINI', 0.57710639606396064)\n",
      "('F-score', 0.7463235294117648)\n"
     ]
    }
   ],
   "source": [
    "pf = perf_measure(y_test, pre)\n",
    "TP = pf[0]\n",
    "FP = pf[1]\n",
    "TN = pf[2]\n",
    "FN = pf[3]\n",
    "MCC = (TP*TN-FP*FN)/(((TP+FP)*(TP+FN)*(TN+FP)*(TN+FN))**0.5)\n",
    "print ('MCC', MCC)\n",
    "print( \"Sensivity - Recall\",TP*1.0/(TP+FN))\n",
    "print( \"Precision\",TP*1.0/(TP+FP))\n",
    "print('GINI',Gini(y_test,pre))\n",
    "precision = TP*1.0/(TP+FP)\n",
    "recall = TP*1.0/(TP+FN)\n",
    "print(\"F-score\",precision*recall*2/(precision+recall))"
   ]
  },
  {
   "cell_type": "code",
   "execution_count": 18,
   "metadata": {
    "collapsed": false
   },
   "outputs": [
    {
     "name": "stdout",
     "output_type": "stream",
     "text": [
      "accuracy 0.788990825688\n",
      "confusion matrix\n",
      " [[313  70]\n",
      " [ 68 203]]\n",
      "(row=expected, col=predicted)\n"
     ]
    },
    {
     "data": {
      "image/png": "[encoded data removed]",
      "text/plain": [
       "<matplotlib.figure.Figure at 0x1196abe0>"
      ]
     },
     "metadata": {},
     "output_type": "display_data"
    }
   ],
   "source": [
    "evaluate_prediction(pre,y_test)"
   ]
  },
  {
   "cell_type": "markdown",
   "metadata": {},
   "source": [
    "### SVM"
   ]
  },
  {
   "cell_type": "code",
   "execution_count": 19,
   "metadata": {
    "collapsed": false
   },
   "outputs": [],
   "source": [
    "svc = SVC(probability=True,C=10)\n",
    "svc.fit(X=X_train,y=y_train) \n",
    "pickle.dump(svc,open('svm_avg.pkl','wb'))"
   ]
  },
  {
   "cell_type": "code",
   "execution_count": 20,
   "metadata": {
    "collapsed": false
   },
   "outputs": [
    {
     "name": "stdout",
     "output_type": "stream",
     "text": [
      "('AUC', 0.75316254468027699)\n"
     ]
    },
    {
     "data": {
      "text/plain": [
       "<matplotlib.text.Text at 0xe11e048>"
      ]
     },
     "execution_count": 20,
     "metadata": {},
     "output_type": "execute_result"
    },
    {
     "data": {
      "image/png": "[encoded data removed]",
      "text/plain": [
       "<matplotlib.figure.Figure at 0x159e6b70>"
      ]
     },
     "metadata": {},
     "output_type": "display_data"
    }
   ],
   "source": [
    "pre = svc.predict(X_test)\n",
    "fpr, tpr, thresholds = metrics.roc_curve(y_test, pre)\n",
    "print (\"AUC\",metrics.auc(fpr, tpr))\n",
    "plt.plot(fpr, tpr)\n",
    "plt.xlabel(\"False Positive Rate\")\n",
    "plt.ylabel(\"True negative Rate\")"
   ]
  },
  {
   "cell_type": "code",
   "execution_count": 21,
   "metadata": {
    "collapsed": false
   },
   "outputs": [
    {
     "name": "stdout",
     "output_type": "stream",
     "text": [
      "('MCC', 0.4990785434157292)\n",
      "('Sensivity', 0.8118081180811808)\n",
      "('Precision', 0.6528189910979229)\n",
      "('GINI', 0.50157595325953264)\n",
      "('F-score', 0.7236842105263158)\n"
     ]
    }
   ],
   "source": [
    "pf = perf_measure(y_test, pre)\n",
    "TP = pf[0]\n",
    "FP = pf[1]\n",
    "TN = pf[2]\n",
    "FN = pf[3]\n",
    "MCC = (TP*TN-FP*FN)/(((TP+FP)*(TP+FN)*(TN+FP)*(TN+FN))**0.5)\n",
    "print ('MCC', MCC)\n",
    "print( 'Sensivity',TP*1.0/(TP+FN))\n",
    "print( 'Precision',TP*1.0/(TP+FP))\n",
    "print('GINI',Gini(y_test,pre))\n",
    "precision = TP*1.0/(TP+FP)\n",
    "recall = TP*1.0/(TP+FN)\n",
    "print(\"F-score\",precision*recall*2/(precision+recall))"
   ]
  },
  {
   "cell_type": "code",
   "execution_count": 22,
   "metadata": {
    "collapsed": false
   },
   "outputs": [
    {
     "name": "stdout",
     "output_type": "stream",
     "text": [
      "accuracy 0.743119266055\n",
      "confusion matrix\n",
      " [[266 117]\n",
      " [ 51 220]]\n",
      "(row=expected, col=predicted)\n"
     ]
    },
    {
     "data": {
      "image/png": "[encoded data removed]",
      "text/plain": [
       "<matplotlib.figure.Figure at 0x1559f978>"
      ]
     },
     "metadata": {},
     "output_type": "display_data"
    }
   ],
   "source": [
    "evaluate_prediction(pre,y_test)"
   ]
  },
  {
   "cell_type": "markdown",
   "metadata": {},
   "source": [
    "\n",
    "### Adaboost"
   ]
  },
  {
   "cell_type": "code",
   "execution_count": 23,
   "metadata": {
    "collapsed": false
   },
   "outputs": [],
   "source": [
    "adb = AdaBoostClassifier(n_estimators=200,learning_rate=0.1)\n",
    "adb.fit(X=X_train,y=y_train)\n",
    "pickle.dump(adb,open('adaboost_avg.pkl','wb'))"
   ]
  },
  {
   "cell_type": "code",
   "execution_count": 24,
   "metadata": {
    "collapsed": false
   },
   "outputs": [
    {
     "name": "stdout",
     "output_type": "stream",
     "text": [
      "('AUC', 0.77549545730444247)\n"
     ]
    },
    {
     "data": {
      "text/plain": [
       "<matplotlib.text.Text at 0x13d22240>"
      ]
     },
     "execution_count": 24,
     "metadata": {},
     "output_type": "execute_result"
    },
    {
     "data": {
      "image/png": "[encoded data removed]",
      "text/plain": [
       "<matplotlib.figure.Figure at 0x13b7df98>"
      ]
     },
     "metadata": {},
     "output_type": "display_data"
    }
   ],
   "source": [
    "pre = adb.predict(X_test)\n",
    "fpr, tpr, thresholds = metrics.roc_curve(y_test, pre)\n",
    "print (\"AUC\",metrics.auc(fpr, tpr))\n",
    "plt.plot(fpr, tpr)\n",
    "plt.xlabel(\"False Positive Rate\")\n",
    "plt.ylabel(\"True Positive Rate\")"
   ]
  },
  {
   "cell_type": "code",
   "execution_count": 25,
   "metadata": {
    "collapsed": false
   },
   "outputs": [
    {
     "name": "stdout",
     "output_type": "stream",
     "text": [
      "('MCC', 0.5443191298719369)\n",
      "('Sensivity', 0.7859778597785978)\n",
      "('Precision', 0.7029702970297029)\n",
      "('GINI', 0.56159670971709719)\n",
      "('F-score', 0.7421602787456446)\n"
     ]
    }
   ],
   "source": [
    "pf = perf_measure(y_test, pre)\n",
    "TP = pf[0]\n",
    "FP = pf[1]\n",
    "TN = pf[2]\n",
    "FN = pf[3]\n",
    "MCC = (TP*TN-FP*FN)/(((TP+FP)*(TP+FN)*(TN+FP)*(TN+FN))**0.5)\n",
    "print ('MCC', MCC)\n",
    "print( 'Sensivity',TP*1.0/(TP+FN))\n",
    "print( 'Precision',TP*1.0/(TP+FP))\n",
    "print('GINI',Gini(y_test,pre))\n",
    "precision = TP*1.0/(TP+FP)\n",
    "recall = TP*1.0/(TP+FN)\n",
    "print(\"F-score\",precision*recall*2/(precision+recall))"
   ]
  },
  {
   "cell_type": "code",
   "execution_count": 26,
   "metadata": {
    "collapsed": false
   },
   "outputs": [
    {
     "data": {
      "text/plain": [
       "0.56159670971709719"
      ]
     },
     "execution_count": 26,
     "metadata": {},
     "output_type": "execute_result"
    }
   ],
   "source": [
    "Gini(y_test,pre)"
   ]
  },
  {
   "cell_type": "code",
   "execution_count": 27,
   "metadata": {
    "collapsed": false
   },
   "outputs": [
    {
     "name": "stdout",
     "output_type": "stream",
     "text": [
      "accuracy 0.77370030581\n",
      "confusion matrix\n",
      " [[293  90]\n",
      " [ 58 213]]\n",
      "(row=expected, col=predicted)\n"
     ]
    },
    {
     "data": {
      "image/png": "[encoded data removed]",
      "text/plain": [
       "<matplotlib.figure.Figure at 0x11aca780>"
      ]
     },
     "metadata": {},
     "output_type": "display_data"
    }
   ],
   "source": [
    "evaluate_prediction(pre,y_test)"
   ]
  },
  {
   "cell_type": "markdown",
   "metadata": {},
   "source": [
    "### Логистическая регрессия"
   ]
  },
  {
   "cell_type": "code",
   "execution_count": 28,
   "metadata": {
    "collapsed": false
   },
   "outputs": [
    {
     "name": "stdout",
     "output_type": "stream",
     "text": [
      "accuracy 0.776758409786\n",
      "confusion matrix\n",
      " [[315  68]\n",
      " [ 78 193]]\n",
      "(row=expected, col=predicted)\n"
     ]
    },
    {
     "data": {
      "image/png": "[encoded data removed]",
      "text/plain": [
       "<matplotlib.figure.Figure at 0x6aa80f0>"
      ]
     },
     "metadata": {},
     "output_type": "display_data"
    }
   ],
   "source": [
    "from sklearn import linear_model\n",
    "logreg = linear_model.LogisticRegression(n_jobs=30, C=1e7)\n",
    "logreg = logreg.fit(X_train, y_train) ### учим регрессию\n",
    "pre =logreg.predict(X_test)\n",
    "evaluate_prediction(pre, y_test) \n"
   ]
  },
  {
   "cell_type": "code",
   "execution_count": 29,
   "metadata": {
    "collapsed": false
   },
   "outputs": [
    {
     "name": "stdout",
     "output_type": "stream",
     "text": [
      "('AUC', 0.7673157149326062)\n"
     ]
    },
    {
     "data": {
      "text/plain": [
       "<matplotlib.text.Text at 0x11ad71d0>"
      ]
     },
     "execution_count": 29,
     "metadata": {},
     "output_type": "execute_result"
    },
    {
     "data": {
      "image/png": "[encoded data removed]",
      "text/plain": [
       "<matplotlib.figure.Figure at 0x15d6b518>"
      ]
     },
     "metadata": {},
     "output_type": "display_data"
    }
   ],
   "source": [
    "pre =logreg.predict(X_test)\n",
    "fpr, tpr, thresholds = metrics.roc_curve(y_test, pre)\n",
    "print (\"AUC\",metrics.auc(fpr, tpr))\n",
    "plt.plot(fpr, tpr)\n",
    "plt.xlabel(\"False Positive Rate\")\n",
    "plt.ylabel(\"True Positive Rate\")"
   ]
  },
  {
   "cell_type": "code",
   "execution_count": 30,
   "metadata": {
    "collapsed": false
   },
   "outputs": [
    {
     "name": "stdout",
     "output_type": "stream",
     "text": [
      "('MCC', 0.5378014762328451)\n",
      "('Sensivity', 0.7121771217712177)\n",
      "('Precision', 0.7394636015325671)\n",
      "('GINI', 0.52755996309963105)\n",
      "('F-score', 0.7255639097744362)\n"
     ]
    }
   ],
   "source": [
    "pf = perf_measure(y_test, pre)\n",
    "TP = pf[0]\n",
    "FP = pf[1]\n",
    "TN = pf[2]\n",
    "FN = pf[3]\n",
    "MCC = (TP*TN-FP*FN)/(((TP+FP)*(TP+FN)*(TN+FP)*(TN+FN))**0.5)\n",
    "print ('MCC', MCC)\n",
    "print( 'Sensivity',TP*1.0/(TP+FN))\n",
    "print( 'Precision',TP*1.0/(TP+FP))\n",
    "print('GINI',Gini(y_test,pre))\n",
    "precision = TP*1.0/(TP+FP)\n",
    "recall = TP*1.0/(TP+FN)\n",
    "print(\"F-score\",precision*recall*2/(precision+recall))"
   ]
  },
  {
   "cell_type": "code",
   "execution_count": 31,
   "metadata": {
    "collapsed": true
   },
   "outputs": [],
   "source": [
    "pickle.dump(logreg,open('logreg.pkl','wb'))"
   ]
  },
  {
   "cell_type": "markdown",
   "metadata": {},
   "source": [
    "### Модель второго уровня"
   ]
  },
  {
   "cell_type": "raw",
   "metadata": {
    "collapsed": true
   },
   "source": [
    "\n",
    "pre_rfc_train =  rfc.predict_proba(X_train)\n",
    "pre_rfc_test =  rfc.predict_proba(X_test)\n",
    "pre_svm_train =  svc.predict_proba(X_train)\n",
    "pre_svm_test =  svc.predict_proba(X_test)\n",
    "pre_logreg_train =  logreg.predict_proba(X_train)\n",
    "pre_logreg_test =  logreg.predict_proba(X_test)\n",
    "XX1 = np.concatenate((pre_rfc_train,pre_svm_train,pre_logreg_train),axis = 1)\n",
    "YY1 = np.concatenate((pre_rfc_test,pre_svm_test,pre_logreg_test),axis = 1)"
   ]
  },
  {
   "cell_type": "raw",
   "metadata": {
    "collapsed": false
   },
   "source": [
    "tr = pre_rfc_train+pre_svm_train+pre_logreg_train+model_avg_nn.predict(X_train)\n",
    "ts = pre_rfc_test+pre_svm_test+pre_logreg_test+model_avg_nn.predict(X_test)\n",
    "tr1 = tr**0.5\n",
    "ts1 = ts**0.5\n",
    "tr2 = np.round(tr)/4\n",
    "ts2 = np.round(ts)/4\n",
    "tr3 = np.round(tr2)\n",
    "ts3 = np.round(ts2)"
   ]
  },
  {
   "cell_type": "raw",
   "metadata": {
    "collapsed": false
   },
   "source": [
    "XX = np.concatenate((X_train,tr),axis = 1)\n",
    "YY = np.concatenate((X_test,ts),axis = 1)"
   ]
  },
  {
   "cell_type": "code",
   "execution_count": 39,
   "metadata": {
    "collapsed": true
   },
   "outputs": [],
   "source": [
    "model_avg_nn2nd.save('my_model_class_avg_2ndlevel_19-12-16.h5')"
   ]
  },
  {
   "cell_type": "markdown",
   "metadata": {},
   "source": [
    "### Усреднение весов"
   ]
  },
  {
   "cell_type": "code",
   "execution_count": 167,
   "metadata": {
    "collapsed": false
   },
   "outputs": [],
   "source": [
    "pred_test = pre2*0.1 + pre_nn[:,0]*0.85+pre_logreg_test[:,1]*0.05"
   ]
  },
  {
   "cell_type": "code",
   "execution_count": 185,
   "metadata": {
    "collapsed": false
   },
   "outputs": [
    {
     "name": "stdout",
     "output_type": "stream",
     "text": [
      "('MCC', 0.6010351617065092)\n",
      "('Sensivity - Recall', 0.8339483394833949)\n",
      "('Precision', 0.7243589743589743)\n",
      "('GINI', 0.59371156211562126)\n",
      "('F-score', 0.7753001715265867)\n"
     ]
    }
   ],
   "source": [
    "pf = perf_measure(y_test, predt)\n",
    "TP = pf[0]\n",
    "FP = pf[1]\n",
    "TN = pf[2]\n",
    "FN = pf[3]\n",
    "MCC = (TP*TN-FP*FN)/(((TP+FP)*(TP+FN)*(TN+FP)*(TN+FN))**0.5)\n",
    "print ('MCC', MCC)\n",
    "print( \"Sensivity - Recall\",TP*1.0/(TP+FN))\n",
    "print( \"Precision\",TP*1.0/(TP+FP))\n",
    "print('GINI',Gini(y_test,pre[:,0]))\n",
    "precision = TP*1.0/(TP+FP)\n",
    "recall = TP*1.0/(TP+FN)\n",
    "print(\"F-score\",precision*recall*2.0/(precision+recall))"
   ]
  },
  {
   "cell_type": "code",
   "execution_count": 184,
   "metadata": {
    "collapsed": false
   },
   "outputs": [
    {
     "name": "stdout",
     "output_type": "stream",
     "text": [
      "accuracy 0.799694189602\n",
      "confusion matrix\n",
      " [[297  86]\n",
      " [ 45 226]]\n",
      "(row=expected, col=predicted)\n"
     ]
    },
    {
     "data": {
      "image/png": "[encoded data removed]",
      "text/plain": [
       "<matplotlib.figure.Figure at 0x172eb358>"
      ]
     },
     "metadata": {},
     "output_type": "display_data"
    }
   ],
   "source": [
    "evaluate_prediction(predt,y_test)"
   ]
  },
  {
   "cell_type": "code",
   "execution_count": null,
   "metadata": {
    "collapsed": true
   },
   "outputs": [],
   "source": []
  }
 ],
 "metadata": {
  "anaconda-cloud": {},
  "kernelspec": {
   "display_name": "Python [default]",
   "language": "python",
   "name": "python2"
  },
  "language_info": {
   "codemirror_mode": {
    "name": "ipython",
    "version": 2
   },
   "file_extension": ".py",
   "mimetype": "text/x-python",
   "name": "python",
   "nbconvert_exporter": "python",
   "pygments_lexer": "ipython2",
   "version": "2.7.12"
  }
 },
 "nbformat": 4,
 "nbformat_minor": 1
}
