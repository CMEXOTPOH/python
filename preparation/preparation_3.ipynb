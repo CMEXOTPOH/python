{
 "cells": [
  {
   "cell_type": "code",
   "execution_count": 112,
   "metadata": {},
   "outputs": [],
   "source": [
    "graph = {\n",
    "    'A' : set(['B','C','D']),\n",
    "    'B' : set(['A','E']),\n",
    "    'C' : set(['A','F']),\n",
    "    'D' : set(['A','G']),\n",
    "    'E' : set(['B','H']),\n",
    "    'F' : set(['C','I']),\n",
    "    'G' : set(['D','J']),\n",
    "    'H' : set(['E','I']),\n",
    "    'I' : set(['F','J']),\n",
    "    'J' : set(['J','I'])\n",
    "    \n",
    "}"
   ]
  },
  {
   "cell_type": "code",
   "execution_count": 324,
   "metadata": {},
   "outputs": [],
   "source": [
    "?repr"
   ]
  },
  {
   "cell_type": "code",
   "execution_count": 113,
   "metadata": {},
   "outputs": [
    {
     "data": {
      "text/plain": [
       "['A', 'C', 'B', 'D', 'F', 'E', 'G', 'I', 'H', 'J']"
      ]
     },
     "execution_count": 113,
     "metadata": {},
     "output_type": "execute_result"
    }
   ],
   "source": [
    "def BFS(graph,start):\n",
    "    queue = [start]\n",
    "    visited = []\n",
    "    while queue:\n",
    "        vertex = queue.pop(0)\n",
    "        if vertex not in visited:\n",
    "            visited.append(vertex)\n",
    "            queue.extend(graph[vertex] - set(visited))\n",
    "    return visited\n",
    "BFS(graph,'A')"
   ]
  },
  {
   "cell_type": "code",
   "execution_count": 114,
   "metadata": {},
   "outputs": [
    {
     "data": {
      "text/plain": [
       "['A', 'D', 'G', 'J', 'I', 'F', 'C', 'B', 'E', 'H']"
      ]
     },
     "execution_count": 114,
     "metadata": {},
     "output_type": "execute_result"
    }
   ],
   "source": [
    "def DFS(graph,start):\n",
    "    queue = [start]\n",
    "    visited = []\n",
    "    while queue:\n",
    "        vertex = queue.pop()\n",
    "        if vertex not in visited:\n",
    "            visited.append(vertex)\n",
    "            queue.extend(graph[vertex] - set(visited))\n",
    "    return visited\n",
    "DFS(graph,'A')"
   ]
  },
  {
   "cell_type": "code",
   "execution_count": 107,
   "metadata": {},
   "outputs": [
    {
     "name": "stdout",
     "output_type": "stream",
     "text": [
      "CPU times: user 3 µs, sys: 0 ns, total: 3 µs\n",
      "Wall time: 5.96 µs\n"
     ]
    },
    {
     "data": {
      "text/plain": [
       "[['A', 'C', 'F', 'I'], ['A', 'D', 'G', 'J', 'I']]"
      ]
     },
     "execution_count": 107,
     "metadata": {},
     "output_type": "execute_result"
    }
   ],
   "source": [
    "%time\n",
    "def BFS_path(graph,start,goal):\n",
    "    route = [(start,[start])]\n",
    "    while route:\n",
    "        vertex,path = route.pop(0)\n",
    "        for next in graph[vertex] - set(path):\n",
    "            if next == goal:\n",
    "                yield path + [next]\n",
    "            else:\n",
    "                route.append((next, path + [next]))\n",
    "list(BFS_path(graph,'A','I'))"
   ]
  },
  {
   "cell_type": "code",
   "execution_count": 108,
   "metadata": {},
   "outputs": [
    {
     "data": {
      "text/plain": [
       "[['A', 'D', 'G', 'J', 'I'], ['A', 'C', 'F', 'I']]"
      ]
     },
     "execution_count": 108,
     "metadata": {},
     "output_type": "execute_result"
    }
   ],
   "source": [
    "def DFS_path(graph,start,goal):\n",
    "    route = [(start,[start])]\n",
    "    while route:\n",
    "        vertex, path = route.pop()\n",
    "        for next in graph[vertex] - set(path):\n",
    "            if next == goal:\n",
    "                yield path + [next]\n",
    "            else:\n",
    "                route.append((next,path + [next]))\n",
    "list(DFS_path(graph,'A','I'))        "
   ]
  },
  {
   "cell_type": "code",
   "execution_count": 1339,
   "metadata": {},
   "outputs": [],
   "source": [
    "def delete_all(cls):\n",
    "    del cls"
   ]
  },
  {
   "cell_type": "code",
   "execution_count": 1744,
   "metadata": {},
   "outputs": [],
   "source": [
    "class Node():\n",
    "    def __init__(self,val):\n",
    "        self.left = None\n",
    "        self.right = None\n",
    "        self.val = val\n",
    "\n",
    "        \n",
    "class Tree():\n",
    "    def __init__(self):\n",
    "        self.root = None\n",
    "        self.count = 0\n",
    "        self.element_to_delete = 0\n",
    "    def del_right(self):\n",
    "        self.root.right = None\n",
    "\n",
    "        \n",
    "    def get_root(self):\n",
    "        return self.root\n",
    "\n",
    "    def delete_node(self, node):\n",
    "    # delete the attribute 'val' from object\n",
    "        del node\n",
    "\n",
    "    def insert(self,val):\n",
    "        if self.root == None:\n",
    "            self.root = Node(val)\n",
    "        else:\n",
    "            self._insert(val,self.root)\n",
    "            \n",
    "    def _insert(self,val,node):\n",
    "        if val < node.val:\n",
    "            if node.left == None:\n",
    "                node.left = Node(val)\n",
    "            else:\n",
    "                self._insert(val,node.left)\n",
    "        else:\n",
    "            if node.right == None:\n",
    "                node.right = Node(val)\n",
    "            else:\n",
    "                self._insert(val,node.right)\n",
    "    def search(self,val):\n",
    "        if self.root != None:\n",
    "            return self._search(val,self.root)\n",
    "    \n",
    "    def _search(self,val,node):\n",
    "        if val == node.val:\n",
    "            return node\n",
    "        elif val < node.val and node.left != None:\n",
    "            return self._search(val,node.left)\n",
    "        elif val > node.val and node.right != None:\n",
    "            return self._search(val,node.right)\n",
    "        \n",
    "    def delete(self):\n",
    "        self.root = None\n",
    "\n",
    "    def print_tree(self):\n",
    "        if self.root != None:\n",
    "            self._printTree(self.root)\n",
    "            \n",
    "    def _printTree(self,node):\n",
    "        if node != None:\n",
    "            self._printTree(node.left)\n",
    "            print(node.val)\n",
    "            self._printTree(node.right)\n",
    "        \n",
    "    def delete_node(self,val):\n",
    "        if self.root != None:\n",
    "            self._delete_node(val,self.root)\n",
    "            \n",
    "    def _delete_node(self,val,node):\n",
    "        if val == node.val:\n",
    "            if node.left == None and node.right == None:\n",
    "                node.val = None\n",
    "                node = None\n",
    "            else:\n",
    "                self._delete_node_2(node)\n",
    "                node.val = self.element_to_delete\n",
    "        elif val > node.val and node.right != None:\n",
    "            self._delete_node(val,node.right)\n",
    "        elif val < node.val and node.left != None:\n",
    "            self._delete_node(val,node.left)\n",
    "            \n",
    "    def _delete_node_2(self,node):\n",
    "        if node.left != None:\n",
    "            if self.count == 0:\n",
    "                node = node.left\n",
    "                self.count+=1\n",
    "                self._delete_node_2(node)\n",
    "            elif node.right != None and self.count != 0 and node.right.val != None:\n",
    "                node = node.right\n",
    "                print(node.val)\n",
    "                self._delete_node_2(node) \n",
    "        elif node.right != None:\n",
    "            if self.count == 0:\n",
    "                node = node.right\n",
    "                self.count+=1\n",
    "                self._delete_node_2(node)\n",
    "            elif node.left != None and self.count != 0 and node.left.val != None:\n",
    "                node = node.left\n",
    "                self._delete_node_2(node)           \n",
    "        else:\n",
    "            self.count = 0\n",
    "            self.element_to_delete = node.val\n",
    "            node.val = None\n",
    "            node = None\n",
    "            \n",
    "  \n",
    "            \n",
    "            \n"
   ]
  },
  {
   "cell_type": "code",
   "execution_count": 1745,
   "metadata": {},
   "outputs": [
    {
     "name": "stdout",
     "output_type": "stream",
     "text": [
      "11\n",
      "12\n",
      "14\n",
      "15\n",
      "16\n",
      "18\n",
      "19\n",
      "20\n",
      "22\n",
      "23\n",
      "24\n",
      "25\n",
      "30\n",
      "32\n",
      "35\n"
     ]
    }
   ],
   "source": [
    "tree = Tree()\n",
    "tree.insert(20)\n",
    "tree.insert(15)\n",
    "tree.insert(25)\n",
    "tree.insert(18)\n",
    "tree.insert(12)\n",
    "tree.insert(11)\n",
    "tree.insert(14)\n",
    "tree.insert(16)\n",
    "tree.insert(19)\n",
    "tree.insert(30)\n",
    "tree.insert(23)\n",
    "tree.insert(22)\n",
    "tree.insert(24)\n",
    "tree.insert(32)\n",
    "tree.insert(35)\n",
    "tree.print_tree()"
   ]
  },
  {
   "cell_type": "code",
   "execution_count": 1746,
   "metadata": {},
   "outputs": [],
   "source": [
    "tree.del_right()"
   ]
  },
  {
   "cell_type": "code",
   "execution_count": 1740,
   "metadata": {},
   "outputs": [],
   "source": [
    "tree.delete_node(19)"
   ]
  },
  {
   "cell_type": "code",
   "execution_count": 1721,
   "metadata": {
    "scrolled": true
   },
   "outputs": [],
   "source": [
    "tree.print_tree()"
   ]
  },
  {
   "cell_type": "code",
   "execution_count": 1643,
   "metadata": {},
   "outputs": [
    {
     "data": {
      "text/plain": [
       "19"
      ]
     },
     "execution_count": 1643,
     "metadata": {},
     "output_type": "execute_result"
    }
   ],
   "source": [
    "tree.root.val"
   ]
  },
  {
   "cell_type": "code",
   "execution_count": 1543,
   "metadata": {},
   "outputs": [],
   "source": [
    "tree.search(24)"
   ]
  },
  {
   "cell_type": "code",
   "execution_count": 1488,
   "metadata": {},
   "outputs": [
    {
     "data": {
      "text/plain": [
       "20"
      ]
     },
     "execution_count": 1488,
     "metadata": {},
     "output_type": "execute_result"
    }
   ],
   "source": [
    "tree.root.val"
   ]
  },
  {
   "cell_type": "code",
   "execution_count": 1747,
   "metadata": {},
   "outputs": [
    {
     "name": "stdout",
     "output_type": "stream",
     "text": [
      "11\n",
      "12\n",
      "14\n",
      "15\n",
      "16\n",
      "18\n",
      "19\n",
      "20\n"
     ]
    }
   ],
   "source": [
    "tree.print_tree()"
   ]
  },
  {
   "cell_type": "code",
   "execution_count": 633,
   "metadata": {},
   "outputs": [],
   "source": [
    "tree = Tree()\n",
    "for i in xrange(20):\n",
    "    tree.insert(np.random.randint(0,10000))"
   ]
  },
  {
   "cell_type": "code",
   "execution_count": 634,
   "metadata": {},
   "outputs": [
    {
     "name": "stdout",
     "output_type": "stream",
     "text": [
      "8941\n",
      "9849\n",
      "4361\n",
      "----------------------------------------------------------------------------------------------------\n",
      "161\n",
      "265\n",
      "382\n",
      "662\n",
      "847\n",
      "974\n",
      "1450\n",
      "1567\n",
      "2338\n",
      "2989\n",
      "3948\n",
      "4361\n",
      "5393\n",
      "5646\n",
      "6504\n",
      "6532\n",
      "7711\n",
      "8941\n",
      "9839\n",
      "9849\n"
     ]
    }
   ],
   "source": [
    "print(tree.root.val)\n",
    "print(tree.root.right.val)\n",
    "print(tree.root.left.val)\n",
    "print(50*'--')\n",
    "tree.print_tree()"
   ]
  },
  {
   "cell_type": "code",
   "execution_count": 635,
   "metadata": {
    "scrolled": false
   },
   "outputs": [
    {
     "name": "stdout",
     "output_type": "stream",
     "text": [
      "<__main__.Node instance at 0x108dcdb90>\n",
      "<__main__.Node instance at 0x108e18bd8>\n"
     ]
    }
   ],
   "source": [
    "tree.delete_node(tree.root.val)"
   ]
  },
  {
   "cell_type": "code",
   "execution_count": 636,
   "metadata": {},
   "outputs": [
    {
     "name": "stdout",
     "output_type": "stream",
     "text": [
      "9849\n",
      "9849\n",
      "4361\n",
      "----------------------------------------------------------------------------------------------------\n",
      "161\n",
      "265\n",
      "382\n",
      "662\n",
      "847\n",
      "974\n",
      "1450\n",
      "1567\n",
      "2338\n",
      "2989\n",
      "3948\n",
      "4361\n",
      "5393\n",
      "5646\n",
      "6504\n",
      "6532\n",
      "7711\n",
      "9849\n",
      "9839\n",
      "9849\n"
     ]
    }
   ],
   "source": [
    "print(tree.root.val)\n",
    "print(tree.root.right.val)\n",
    "print(tree.root.left.val)\n",
    "print(50*'--')\n",
    "tree.print_tree()"
   ]
  },
  {
   "cell_type": "code",
   "execution_count": 399,
   "metadata": {},
   "outputs": [
    {
     "name": "stdout",
     "output_type": "stream",
     "text": [
      "493\n",
      "670\n",
      "440\n",
      "----------------------------------------------------------------------------------------------------\n",
      "126\n",
      "199\n",
      "238\n",
      "298\n",
      "440\n",
      "446\n",
      "493\n",
      "670\n",
      "778\n",
      "843\n"
     ]
    }
   ],
   "source": [
    "print(tree.root.val)\n",
    "print(tree.root.right.val)\n",
    "print(tree.root.left.val)\n",
    "print(50*'--')\n",
    "tree.print_tree()"
   ]
  },
  {
   "cell_type": "code",
   "execution_count": 198,
   "metadata": {},
   "outputs": [
    {
     "name": "stdout",
     "output_type": "stream",
     "text": [
      "74\n",
      "89\n",
      "62\n"
     ]
    }
   ],
   "source": [
    "print(tree.root.val)\n",
    "print(tree.root.right.val)\n",
    "print(tree.root.left.val)"
   ]
  },
  {
   "cell_type": "code",
   "execution_count": 199,
   "metadata": {
    "scrolled": true
   },
   "outputs": [
    {
     "name": "stdout",
     "output_type": "stream",
     "text": [
      "49\n",
      "58\n",
      "62\n",
      "74\n",
      "84\n",
      "89\n"
     ]
    }
   ],
   "source": [
    "tree.print_tree()"
   ]
  },
  {
   "cell_type": "code",
   "execution_count": 187,
   "metadata": {},
   "outputs": [
    {
     "ename": "AttributeError",
     "evalue": "'NoneType' object has no attribute 'val'",
     "output_type": "error",
     "traceback": [
      "\u001b[0;31m---------------------------------------------------------------------------\u001b[0m",
      "\u001b[0;31mAttributeError\u001b[0m                            Traceback (most recent call last)",
      "\u001b[0;32m<ipython-input-187-18d3a5727db3>\u001b[0m in \u001b[0;36m<module>\u001b[0;34m()\u001b[0m\n\u001b[1;32m      1\u001b[0m \u001b[0mtree\u001b[0m\u001b[0;34m.\u001b[0m\u001b[0mroot\u001b[0m \u001b[0;34m=\u001b[0m \u001b[0mtree\u001b[0m\u001b[0;34m.\u001b[0m\u001b[0mdelete_node\u001b[0m\u001b[0;34m(\u001b[0m\u001b[0mtree\u001b[0m\u001b[0;34m.\u001b[0m\u001b[0mroot\u001b[0m\u001b[0;34m.\u001b[0m\u001b[0mval\u001b[0m\u001b[0;34m)\u001b[0m\u001b[0;34m\u001b[0m\u001b[0m\n\u001b[0;32m----> 2\u001b[0;31m \u001b[0;32mprint\u001b[0m\u001b[0;34m(\u001b[0m\u001b[0mtree\u001b[0m\u001b[0;34m.\u001b[0m\u001b[0mroot\u001b[0m\u001b[0;34m.\u001b[0m\u001b[0mval\u001b[0m\u001b[0;34m)\u001b[0m\u001b[0;34m\u001b[0m\u001b[0m\n\u001b[0m\u001b[1;32m      3\u001b[0m \u001b[0;32mprint\u001b[0m\u001b[0;34m(\u001b[0m\u001b[0mtree\u001b[0m\u001b[0;34m.\u001b[0m\u001b[0mroot\u001b[0m\u001b[0;34m.\u001b[0m\u001b[0mright\u001b[0m\u001b[0;34m.\u001b[0m\u001b[0mval\u001b[0m\u001b[0;34m)\u001b[0m\u001b[0;34m\u001b[0m\u001b[0m\n\u001b[1;32m      4\u001b[0m \u001b[0;32mprint\u001b[0m\u001b[0;34m(\u001b[0m\u001b[0mtree\u001b[0m\u001b[0;34m.\u001b[0m\u001b[0mroot\u001b[0m\u001b[0;34m.\u001b[0m\u001b[0mleft\u001b[0m\u001b[0;34m.\u001b[0m\u001b[0mval\u001b[0m\u001b[0;34m)\u001b[0m\u001b[0;34m\u001b[0m\u001b[0m\n",
      "\u001b[0;31mAttributeError\u001b[0m: 'NoneType' object has no attribute 'val'"
     ]
    }
   ],
   "source": [
    "tree.root = tree.delete_node(tree.root.val)\n",
    "print(tree.root.val)\n",
    "print(tree.root.right.val)\n",
    "print(tree.root.left.val)\n"
   ]
  },
  {
   "cell_type": "code",
   "execution_count": 96,
   "metadata": {},
   "outputs": [
    {
     "data": {
      "text/plain": [
       "<__main__.Node instance at 0x108c4b368>"
      ]
     },
     "execution_count": 96,
     "metadata": {},
     "output_type": "execute_result"
    }
   ],
   "source": [
    "tree.search(tree.root.val)"
   ]
  },
  {
   "cell_type": "code",
   "execution_count": 125,
   "metadata": {},
   "outputs": [
    {
     "name": "stdout",
     "output_type": "stream",
     "text": [
      "60\n",
      "78\n",
      "54\n"
     ]
    }
   ],
   "source": [
    "print(tree.root.val)\n",
    "print(tree.root.right.val)\n",
    "print(tree.root.left.val)\n"
   ]
  },
  {
   "cell_type": "code",
   "execution_count": 97,
   "metadata": {},
   "outputs": [
    {
     "data": {
      "text/plain": [
       "78"
      ]
     },
     "execution_count": 97,
     "metadata": {},
     "output_type": "execute_result"
    }
   ],
   "source": [
    "tree.root.val"
   ]
  },
  {
   "cell_type": "code",
   "execution_count": 122,
   "metadata": {},
   "outputs": [
    {
     "name": "stdout",
     "output_type": "stream",
     "text": [
      "<__main__.Node instance at 0x108cbcd88>\n"
     ]
    }
   ],
   "source": [
    "tree.delete_node(60)"
   ]
  },
  {
   "cell_type": "code",
   "execution_count": 123,
   "metadata": {},
   "outputs": [
    {
     "data": {
      "text/plain": [
       "<__main__.Node instance at 0x108cbcd88>"
      ]
     },
     "execution_count": 123,
     "metadata": {},
     "output_type": "execute_result"
    }
   ],
   "source": [
    "tree.search(60)"
   ]
  },
  {
   "cell_type": "code",
   "execution_count": 215,
   "metadata": {},
   "outputs": [],
   "source": [
    "def fib(n):\n",
    "    a = 0\n",
    "    b = 1\n",
    "    for _ in xrange(n):\n",
    "        a,b = b,b+a\n",
    "    return a"
   ]
  },
  {
   "cell_type": "code",
   "execution_count": 217,
   "metadata": {},
   "outputs": [],
   "source": [
    "def GCD(x,y):\n",
    "    if x < y:\n",
    "        x,y = y,x\n",
    "    if y == 0 :\n",
    "        return x\n",
    "    return GCD(y, x % y)"
   ]
  },
  {
   "cell_type": "code",
   "execution_count": 1667,
   "metadata": {},
   "outputs": [],
   "source": [
    "x = [4342534,43534,2323,6756,8686,34,6,34,6,7,4,6,7675]"
   ]
  },
  {
   "cell_type": "code",
   "execution_count": 224,
   "metadata": {},
   "outputs": [],
   "source": [
    "def m_sort(lst):\n",
    "    if len(lst) < 2:\n",
    "        return lst\n",
    "    result = []\n",
    "    mid = len(lst)//2\n",
    "    y = m_sort(lst[:mid])\n",
    "    z = m_sort(lst[mid:])\n",
    "    i = 0\n",
    "    j = 0\n",
    "    while i < len(y) and j < len(z):\n",
    "        if y[i] < z[j]:\n",
    "            result.append(y[i])\n",
    "            i+=1\n",
    "        else:\n",
    "            result.append(z[j])\n",
    "            j+=1\n",
    "    result+=y[i:]\n",
    "    result+=z[j:]\n",
    "    return result"
   ]
  },
  {
   "cell_type": "code",
   "execution_count": 1712,
   "metadata": {},
   "outputs": [],
   "source": [
    "def binary_search(element,lst):\n",
    "    global mid\n",
    "    lower_bound = 0\n",
    "    upper_bound = len(lst)\n",
    "    while lower_bound != upper_bound:\n",
    "        mid = (lower_bound + upper_bound)//2\n",
    "        #if element == lst[mid]:\n",
    "         #   return mid\n",
    "        if element > lst[mid]:\n",
    "            lower_bound = mid +1\n",
    "        else:\n",
    "            upper_bound = mid\n",
    "    return 'not found'\n",
    "        "
   ]
  },
  {
   "cell_type": "code",
   "execution_count": 1716,
   "metadata": {},
   "outputs": [],
   "source": [
    "def binary_search(element,lst):\n",
    "    global mid\n",
    "    lower_bound = 0\n",
    "    upper_bound = len(lst)\n",
    "    while lower_bound != upper_bound:\n",
    "        mid = (lower_bound + upper_bound)//2\n",
    "        #if element == lst[mid]:\n",
    "         #   return mid\n",
    "        if element < lst[mid]:\n",
    "            upper_bound = mid\n",
    "        else :\n",
    "            lower_bound = mid +1\n",
    "\n",
    "    return 'not found'\n",
    "        "
   ]
  },
  {
   "cell_type": "code",
   "execution_count": 1717,
   "metadata": {},
   "outputs": [
    {
     "name": "stdout",
     "output_type": "stream",
     "text": [
      "4\n"
     ]
    }
   ],
   "source": [
    "binary_search(6,q_sort(x))\n",
    "print(mid)"
   ]
  },
  {
   "cell_type": "code",
   "execution_count": 1711,
   "metadata": {},
   "outputs": [
    {
     "data": {
      "text/plain": [
       "[4, 6, 6, 6, 7, 34, 34, 2323, 6756, 7675, 8686, 43534, 4342534]"
      ]
     },
     "execution_count": 1711,
     "metadata": {},
     "output_type": "execute_result"
    }
   ],
   "source": [
    "q_sort(x)"
   ]
  },
  {
   "cell_type": "code",
   "execution_count": 1681,
   "metadata": {},
   "outputs": [
    {
     "data": {
      "text/plain": [
       "[4, 6, 6, 6, 7, 34, 34, 2323, 6756, 7675, 8686, 43534, 4342534]"
      ]
     },
     "execution_count": 1681,
     "metadata": {},
     "output_type": "execute_result"
    }
   ],
   "source": [
    "q_sort(x)"
   ]
  },
  {
   "cell_type": "code",
   "execution_count": 1677,
   "metadata": {},
   "outputs": [
    {
     "data": {
      "text/plain": [
       "8686"
      ]
     },
     "execution_count": 1677,
     "metadata": {},
     "output_type": "execute_result"
    }
   ],
   "source": [
    "x[4]"
   ]
  },
  {
   "cell_type": "code",
   "execution_count": 1672,
   "metadata": {},
   "outputs": [
    {
     "data": {
      "text/plain": [
       "[4, 6, 6, 6, 7, 34, 34, 2323, 6756, 7675, 8686, 43534, 4342534]"
      ]
     },
     "execution_count": 1672,
     "metadata": {},
     "output_type": "execute_result"
    }
   ],
   "source": [
    "def q_sort(lst):\n",
    "    less = []\n",
    "    equal = []\n",
    "    greater = []\n",
    "    if len(lst) < 2:\n",
    "        return lst\n",
    "    pivot = lst[0]\n",
    "    for element in lst:\n",
    "        if element > pivot:\n",
    "            greater.append(element)\n",
    "        elif element < pivot:\n",
    "            less.append(element)\n",
    "        else:\n",
    "            equal.append(element)\n",
    "    return q_sort(less) + equal + q_sort(greater)\n",
    "q_sort(x)"
   ]
  },
  {
   "cell_type": "code",
   "execution_count": 287,
   "metadata": {},
   "outputs": [
    {
     "data": {
      "text/plain": [
       "'not found'"
      ]
     },
     "execution_count": 287,
     "metadata": {},
     "output_type": "execute_result"
    }
   ],
   "source": [
    "binary_search(99,q_sort(x))"
   ]
  },
  {
   "cell_type": "code",
   "execution_count": 246,
   "metadata": {},
   "outputs": [],
   "source": [
    "class Base:\n",
    "    __count = 0\n",
    "\n",
    "    @classmethod\n",
    "    def _count(cls):\n",
    "        Base.__count += 1\n",
    "        return Base.__count\n",
    "\n",
    "    def __init__(self):\n",
    "        self.__id = self._count()\n",
    "\n",
    "    @property\n",
    "    def id(self):\n",
    "        return self.__id"
   ]
  },
  {
   "cell_type": "code",
   "execution_count": 255,
   "metadata": {},
   "outputs": [],
   "source": [
    "x = Base()"
   ]
  },
  {
   "cell_type": "code",
   "execution_count": 272,
   "metadata": {},
   "outputs": [],
   "source": [
    "class Test:\n",
    "    count = 0\n",
    "    def __init__(self):\n",
    "        Test.count+=1"
   ]
  },
  {
   "cell_type": "code",
   "execution_count": 277,
   "metadata": {},
   "outputs": [],
   "source": [
    "y = Test()"
   ]
  },
  {
   "cell_type": "code",
   "execution_count": 279,
   "metadata": {},
   "outputs": [],
   "source": [
    "x = Test()"
   ]
  },
  {
   "cell_type": "code",
   "execution_count": 281,
   "metadata": {},
   "outputs": [
    {
     "data": {
      "text/plain": [
       "4"
      ]
     },
     "execution_count": 281,
     "metadata": {},
     "output_type": "execute_result"
    }
   ],
   "source": [
    "y.count"
   ]
  },
  {
   "cell_type": "code",
   "execution_count": 203,
   "metadata": {},
   "outputs": [
    {
     "name": "stdout",
     "output_type": "stream",
     "text": [
      "0\n",
      "1\n",
      "2\n",
      "3\n",
      "4\n",
      "5\n",
      "6\n",
      "7\n",
      "8\n",
      "9\n"
     ]
    }
   ],
   "source": [
    "class HashTable():\n",
    "    def __init__(self,size):\n",
    "        self.table = [None]*1000\n",
    "        self.table_size = size\n",
    "    def get_value(self,key):\n",
    "        return hash(key) % self.table_size\n",
    "    \n",
    "    def insert(self,key):\n",
    "        value = self.get_value(key)\n",
    "        if self.table[value] == None:\n",
    "            self.table[value] = [key]\n",
    "        else:\n",
    "            if key in self.table[value]:\n",
    "                pass\n",
    "            else:\n",
    "                self.table[value].append(key)\n",
    "                \n",
    "    def delete(self,key):\n",
    "        value = self.get_value(key)\n",
    "        if self.table[value] == None:\n",
    "            pass\n",
    "        else:\n",
    "            if len(self.table[value]) == 1:\n",
    "                self.table[value] = None\n",
    "            else:\n",
    "                i = self.table[value].index(key)\n",
    "                del self.table[value][i]    "
   ]
  },
  {
   "cell_type": "code",
   "execution_count": 300,
   "metadata": {},
   "outputs": [],
   "source": [
    "import numpy as np\n",
    "from matplotlib import pyplot as plt"
   ]
  },
  {
   "cell_type": "code",
   "execution_count": 314,
   "metadata": {},
   "outputs": [],
   "source": [
    "def get_sample(size = 25):\n",
    "    image = np.array([[np.random.randint(0,2) for i in xrange(size)] for j in xrange(size)])\n",
    "    visited = np.zeros((size,size),dtype='bool')\n",
    "    return image,visited\n",
    "\n",
    "def get_neighbours(x,y,size):\n",
    "    check = lambda (x,y): True if 0 <= x < size and 0<= y < size else False\n",
    "    possible = [(x+1,y),(x-1,y),(x,y-1),(x,y+1)]\n",
    "    valid = map(check,possible)\n",
    "    return np.array(possible)[valid]\n",
    "\n",
    "def visit(x,y,size):\n",
    "    global visited,image\n",
    "    visited[x,y] = True\n",
    "    neighbours = get_neighbours(x,y,size)\n",
    "    for neighbour in neighbours:\n",
    "        x_new, y_new = neighbour[0], neighbour[1]\n",
    "        if visited[x_new,y_new] == False and image[x_new,y_new] == 1:\n",
    "            visit(x_new,y_new,size)\n",
    "        else:\n",
    "            visited[x_new,y_new] = True\n",
    "\n",
    "def main():\n",
    "    global visited,image\n",
    "    image,visited = get_sample()\n",
    "    size = image.shape[0]\n",
    "    group_count = 0\n",
    "    for x in xrange(size):\n",
    "        for y in xrange(size):\n",
    "            if visited[x,y] == False and image[x,y] == 1:\n",
    "                group_count+=1\n",
    "                visit(x,y,size)\n",
    "            else:\n",
    "                visited[x,y] = True\n",
    "    \n",
    "    print('%s groups' %group_count)\n",
    "    plt.imshow(image)\n",
    "    if np.sum(visited) == size**2:\n",
    "        print('visited all cells')\n",
    "            "
   ]
  },
  {
   "cell_type": "raw",
   "metadata": {},
   "source": [
    "repr(4)"
   ]
  },
  {
   "cell_type": "code",
   "execution_count": 296,
   "metadata": {},
   "outputs": [
    {
     "data": {
      "text/plain": [
       "array([[3, 2],\n",
       "       [1, 2],\n",
       "       [2, 1],\n",
       "       [2, 3]])"
      ]
     },
     "execution_count": 296,
     "metadata": {},
     "output_type": "execute_result"
    }
   ],
   "source": [
    "get_neighbours(2,2,4)"
   ]
  },
  {
   "cell_type": "code",
   "execution_count": 292,
   "metadata": {},
   "outputs": [
    {
     "data": {
      "text/plain": [
       "array([[False, False, False, False, False, False, False, False, False,\n",
       "        False],\n",
       "       [False, False, False, False, False, False, False, False, False,\n",
       "        False],\n",
       "       [False, False, False, False, False, False, False, False, False,\n",
       "        False],\n",
       "       [False, False, False, False, False, False, False, False, False,\n",
       "        False],\n",
       "       [False, False, False, False, False, False, False, False, False,\n",
       "        False],\n",
       "       [False, False, False, False, False, False, False, False, False,\n",
       "        False],\n",
       "       [False, False, False, False, False, False, False, False, False,\n",
       "        False],\n",
       "       [False, False, False, False, False, False, False, False, False,\n",
       "        False],\n",
       "       [False, False, False, False, False, False, False, False, False,\n",
       "        False],\n",
       "       [False, False, False, False, False, False, False, False, False,\n",
       "        False]])"
      ]
     },
     "execution_count": 292,
     "metadata": {},
     "output_type": "execute_result"
    }
   ],
   "source": [
    "x2"
   ]
  },
  {
   "cell_type": "code",
   "execution_count": null,
   "metadata": {},
   "outputs": [],
   "source": []
  },
  {
   "cell_type": "code",
   "execution_count": null,
   "metadata": {},
   "outputs": [],
   "source": []
  },
  {
   "cell_type": "code",
   "execution_count": null,
   "metadata": {},
   "outputs": [],
   "source": []
  },
  {
   "cell_type": "code",
   "execution_count": null,
   "metadata": {},
   "outputs": [],
   "source": []
  },
  {
   "cell_type": "code",
   "execution_count": null,
   "metadata": {},
   "outputs": [],
   "source": []
  },
  {
   "cell_type": "code",
   "execution_count": null,
   "metadata": {},
   "outputs": [],
   "source": []
  },
  {
   "cell_type": "code",
   "execution_count": null,
   "metadata": {},
   "outputs": [],
   "source": []
  }
 ],
 "metadata": {
  "kernelspec": {
   "display_name": "Python 2",
   "language": "python",
   "name": "python2"
  },
  "language_info": {
   "codemirror_mode": {
    "name": "ipython",
    "version": 2
   },
   "file_extension": ".py",
   "mimetype": "text/x-python",
   "name": "python",
   "nbconvert_exporter": "python",
   "pygments_lexer": "ipython2",
   "version": "2.7.10"
  }
 },
 "nbformat": 4,
 "nbformat_minor": 2
}
