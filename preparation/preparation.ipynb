{
 "cells": [
  {
   "cell_type": "code",
   "execution_count": 56,
   "metadata": {},
   "outputs": [],
   "source": [
    "graph = {\"A\" : set([\"B\",\"C\",\"D\"]),\n",
    "         \"B\" : set(['D','E']),\n",
    "         \"C\" : set(['F','G']),\n",
    "         \"D\" : set(['H']),\n",
    "         \"E\" : set([]),\n",
    "         \"F\" : set([]),\n",
    "         \"G\" : set([]),\n",
    "         \"H\" : set(['I']),\n",
    "         \"I\" : set([])\n",
    "        }"
   ]
  },
  {
   "cell_type": "code",
   "execution_count": 3,
   "metadata": {},
   "outputs": [],
   "source": [
    "graph = {\"Trusi\" : set([\"Bruki\",\"Tufli\"]),\n",
    "         \"Bruki\" : set(['Remen','Tufli']),\n",
    "         \"Remen\" : set(['Pidjack']),\n",
    "         \"Rubashka\" : set(['Remen','Galstuk']),\n",
    "         \"Galstuk\" : set(['Pidjack']),\n",
    "         \"Pidjack\" : set([]),\n",
    "         \"Tufli\" : set([]),\n",
    "         \"Noski\" : set(['Tufli'])\n",
    "        }"
   ]
  },
  {
   "cell_type": "code",
   "execution_count": 4,
   "metadata": {},
   "outputs": [
    {
     "data": {
      "text/plain": [
       "['Trusi', 'Bruki', 'Tufli', 'Remen', 'Pidjack']"
      ]
     },
     "execution_count": 4,
     "metadata": {},
     "output_type": "execute_result"
    }
   ],
   "source": [
    "def BFS(graph,start):\n",
    "    queue = [start]\n",
    "    visited = []\n",
    "    while queue:\n",
    "        vertex = queue.pop(0)\n",
    "        if vertex not in visited:\n",
    "            visited.append(vertex)\n",
    "            queue.extend(graph[vertex] - set(visited))\n",
    "    return visited\n",
    "BFS(graph,'')"
   ]
  },
  {
   "cell_type": "code",
   "execution_count": 9,
   "metadata": {},
   "outputs": [
    {
     "name": "stdout",
     "output_type": "stream",
     "text": [
      "['Remen', 'Pidjack']\n",
      "['Rubashka', 'Galstuk', 'Pidjack', 'Remen']\n",
      "['Noski', 'Tufli']\n",
      "['Trusi', 'Tufli', 'Bruki', 'Remen', 'Pidjack']\n",
      "['Pidjack']\n",
      "['Galstuk', 'Pidjack']\n",
      "['Bruki', 'Tufli', 'Remen', 'Pidjack']\n",
      "['Tufli']\n"
     ]
    }
   ],
   "source": [
    "def DFS(graph,start):\n",
    "    queue = [start]\n",
    "    visited = []\n",
    "    while queue:\n",
    "        vertex = queue.pop()\n",
    "        if vertex not in visited:\n",
    "            visited.append(vertex)\n",
    "            queue.extend(graph[vertex] - set(visited))\n",
    "    return visited\n",
    "for vertex in graph.keys():\n",
    "    print(DFS(graph,vertex))"
   ]
  },
  {
   "cell_type": "code",
   "execution_count": 58,
   "metadata": {},
   "outputs": [
    {
     "data": {
      "text/plain": [
       "[['A', 'D', 'H'], ['A', 'B', 'D', 'H']]"
      ]
     },
     "execution_count": 58,
     "metadata": {},
     "output_type": "execute_result"
    }
   ],
   "source": [
    "def BFS_path(graph,start,goal):\n",
    "    route = [(start,[start])]\n",
    "    while route:\n",
    "        vertex,path = route.pop(0)\n",
    "        for next in graph[vertex] - set(path):\n",
    "            if next == goal:\n",
    "                yield path + [next]\n",
    "            else:\n",
    "                route.append((next,path + [next]))\n",
    "list(BFS_path(graph,'A','H'))"
   ]
  },
  {
   "cell_type": "code",
   "execution_count": 59,
   "metadata": {},
   "outputs": [
    {
     "data": {
      "text/plain": [
       "[['A', 'D', 'H'], ['A', 'B', 'D', 'H']]"
      ]
     },
     "execution_count": 59,
     "metadata": {},
     "output_type": "execute_result"
    }
   ],
   "source": [
    "def BFS_path(graph,start,goal):\n",
    "    route = [(start,[start])]\n",
    "    while route:\n",
    "        vertex,path = route.pop()\n",
    "        for next in graph[vertex] - set(path):\n",
    "            if next == goal:\n",
    "                yield path + [next]\n",
    "            else:\n",
    "                route.append((next,path + [next]))\n",
    "list(BFS_path(graph,'A','H'))"
   ]
  },
  {
   "cell_type": "code",
   "execution_count": 64,
   "metadata": {},
   "outputs": [],
   "source": [
    "class Node():\n",
    "    def __init__(self,val):\n",
    "        self.l = None\n",
    "        self.r = None\n",
    "        self.val = val\n",
    "\n",
    "class Tree():\n",
    "    def __init__(self):\n",
    "        self.root = None\n",
    "    \n",
    "    def get_root(self):\n",
    "        return self.root\n",
    "    \n",
    "    def add(self,val):\n",
    "        if self.root == None:\n",
    "            self.root = Node(val)\n",
    "        else:\n",
    "            self._add(val,self.root)\n",
    "            \n",
    "    def _add(self,val,node):\n",
    "        if val > node.val:\n",
    "            if node.r == None:\n",
    "                node.r = Node(val)\n",
    "            else:\n",
    "                self._add(val,node.r)\n",
    "        else:\n",
    "            if node.l == None:\n",
    "                node.l = Node(val)\n",
    "            else:\n",
    "                self._add(val,node.l)\n",
    "                \n",
    "    def find(self,val):\n",
    "        if self.root != None:\n",
    "            return self._find(val,self.root)\n",
    "    \n",
    "    def _find(self,val,node):\n",
    "        if val == node.val:\n",
    "            return node\n",
    "        elif val > node.val and node.r != None:\n",
    "                return self._find(val,node.r)\n",
    "        elif val < node.val and node.l != None:\n",
    "                return self._find(val,node.l)\n",
    "            \n",
    "    def delete(self):\n",
    "        self.root = None\n",
    "        \n",
    "    def print_tree(self):\n",
    "        if self.root != None:\n",
    "            self._print_tree(self.root)\n",
    "        \n",
    "    def _print_tree(self,node):\n",
    "        if node != None:\n",
    "            self._print_tree(node.l)\n",
    "            print(node.val)\n",
    "            self._print_tree(node.r)\n",
    "        \n",
    "            "
   ]
  },
  {
   "cell_type": "code",
   "execution_count": 80,
   "metadata": {},
   "outputs": [],
   "source": [
    "class HashTable():\n",
    "    def __init__(self,size = 1000):\n",
    "        self.table = [None]*size\n",
    "        self.table_size = size\n",
    "        \n",
    "    def get_value(self,key):\n",
    "        return hash(key) % table.table_size\n",
    "    \n",
    "    def insert(self,key):\n",
    "        value = self.get_value(key)\n",
    "        if self.table[value] == None:\n",
    "            self.table[value] = [key]\n",
    "        else:\n",
    "            if key in self.table[value]:\n",
    "                pass\n",
    "            else:\n",
    "                self.table[value].append(key)\n",
    "    \n",
    "    def delete(self,key):\n",
    "        value = self.get_value(key)\n",
    "        if self.table[value] == None:\n",
    "            pass\n",
    "        else:\n",
    "            if len(self.table[value]) > 1:\n",
    "                i = self.table[value].index(key)\n",
    "                del self.table[value][i]\n",
    "            else:\n",
    "                self.table[value] = None\n",
    "                "
   ]
  },
  {
   "cell_type": "code",
   "execution_count": 91,
   "metadata": {},
   "outputs": [],
   "source": [
    "def fib(n):\n",
    "    a = 0\n",
    "    b = 1\n",
    "    for _ in xrange(n):\n",
    "        a,b = b,b+a\n",
    "    return a"
   ]
  },
  {
   "cell_type": "code",
   "execution_count": 93,
   "metadata": {},
   "outputs": [],
   "source": [
    "def GCD(x,y):\n",
    "    if x < y:\n",
    "        x,y = y,x\n",
    "    if y == 0:\n",
    "        return x\n",
    "    return GCD(y,x%y)"
   ]
  },
  {
   "cell_type": "code",
   "execution_count": 99,
   "metadata": {},
   "outputs": [],
   "source": [
    "x = [3232,545,23,656,76,56,343,87,343,76,23,65,3,5,6,7,9,8,6,5,43]"
   ]
  },
  {
   "cell_type": "code",
   "execution_count": 100,
   "metadata": {},
   "outputs": [],
   "source": [
    "def m_sort(lst):\n",
    "    if len(lst) < 2:\n",
    "        return lst\n",
    "    result = []\n",
    "    mid = len(lst)//2\n",
    "    y = m_sort(lst[:mid])\n",
    "    z = m_sort(lst[mid:])\n",
    "    i = 0\n",
    "    j = 0\n",
    "    while i < len(y) and j < len(z):\n",
    "        if y[i] < z[j]:\n",
    "            result.append(y[i])\n",
    "            i+=1\n",
    "        else:\n",
    "            result.append(z[j])\n",
    "            j+=1\n",
    "    result+=y[i:]\n",
    "    result+=z[j:]\n",
    "    return result"
   ]
  },
  {
   "cell_type": "code",
   "execution_count": 104,
   "metadata": {},
   "outputs": [],
   "source": [
    "vv = [1]"
   ]
  },
  {
   "cell_type": "code",
   "execution_count": 116,
   "metadata": {},
   "outputs": [],
   "source": [
    "def q_sort(lst):\n",
    "    less = []\n",
    "    equal = []\n",
    "    greater = []\n",
    "    if len(lst) > 1:\n",
    "        pivot = (lst[0] + lst[-1])//2\n",
    "        for element in lst:\n",
    "            if pivot > element:\n",
    "                less.append(element)\n",
    "            elif pivot < element:\n",
    "                    greater.append(element)\n",
    "            else:\n",
    "                equal.append(element)\n",
    "        return q_sort(less) + equal + q_sort(greater)\n",
    "    else:\n",
    "        return lst"
   ]
  },
  {
   "cell_type": "code",
   "execution_count": 123,
   "metadata": {},
   "outputs": [],
   "source": [
    "def binary_search(element,lst):\n",
    "    lower_boud = 0\n",
    "    upper_bound = len(lst)\n",
    "    while lower_boud != upper_bound:\n",
    "        mid = (lower_boud + upper_bound)//2\n",
    "        if element == lst[mid]:\n",
    "            return mid\n",
    "        elif element > lst[mid]:\n",
    "            lower_boud = mid+1\n",
    "        else:\n",
    "            upper_bound = mid\n",
    "    return 'not found'"
   ]
  },
  {
   "cell_type": "code",
   "execution_count": 127,
   "metadata": {},
   "outputs": [],
   "source": [
    "import numpy as np\n",
    "from matplotlib import pyplot as plt"
   ]
  },
  {
   "cell_type": "code",
   "execution_count": 151,
   "metadata": {},
   "outputs": [],
   "source": [
    "def get_sample(size = 100):\n",
    "    image = np.array([[np.random.randint(0,2) for i in xrange(size)] for j in xrange(size)])\n",
    "    visited = np.zeros((size,size),dtype='bool')\n",
    "    return image,visited\n",
    "\n",
    "def get_neighbours(x,y,size):\n",
    "    check = lambda(x,y): True if 0 <= x < size and 0 <= y < size else False\n",
    "    possible = [(x+1,y),(x-1,y),(x,y+1),(x,y-1)]\n",
    "    valid = map(check,possible)\n",
    "    return np.array(possible)[valid]\n",
    "\n",
    "def visit(x,y,size):\n",
    "    global visited,image\n",
    "    visited[x,y] = True\n",
    "    neighbours = get_neighbours(x,y,size)\n",
    "    for neighbour in neighbours:\n",
    "        x_new,y_new = neighbour[0],neighbour[1]\n",
    "        if image[x_new,y_new] == 1 and visited[x_new,y_new] == False:\n",
    "            visit(x_new,y_new,size)\n",
    "        else:\n",
    "            visited[x_new,y_new] = True\n",
    "\n",
    "def main():\n",
    "    global image,visited\n",
    "    image,visited = get_sample()\n",
    "    size = image.shape[0]\n",
    "    group_count = 0\n",
    "    for x in xrange(size):\n",
    "        for y in xrange(size):\n",
    "            if image[x,y] == 1 and visited[x,y] == False:\n",
    "                group_count+=1\n",
    "                visit(x,y,size)\n",
    "            else:\n",
    "                visited[x,y] = True\n",
    "                \n",
    "    print(\"%s groups\" %group_count)\n",
    "    plt.imshow(image,cmap='Greys')\n",
    "    if np.sum(visited) == size**2:\n",
    "        print('visited all cellls')"
   ]
  },
  {
   "cell_type": "code",
   "execution_count": 545,
   "metadata": {},
   "outputs": [],
   "source": [
    "class RedBlackTreeNode(object):\n",
    "    def __init__(self, val):\n",
    "        self.val = val\n",
    "        self.left = None\n",
    "        self.right = None\n",
    "        self.size = 1\n",
    "        self.isRed = True\n",
    "\n",
    "\n",
    "class RedBlackTree(object):\n",
    "    def __init__(self):\n",
    "        self.root = None\n",
    "\n",
    "    def sizeOf(self, node):\n",
    "        return node.size if node else 0\n",
    "\n",
    "    @property\n",
    "    def size(self):\n",
    "        return self.sizeOf(self.root)\n",
    "\n",
    "    def rotateLeft(self, root):\n",
    "        right = root.right\n",
    "\n",
    "        root.size, right.size = self.sizeOf(\n",
    "            root.left) + self.sizeOf(right.left) + 1, root.size\n",
    "\n",
    "        root.right = right.left\n",
    "        right.left = root\n",
    "\n",
    "        right.isRed = root.isRed\n",
    "        root.isRed = True\n",
    "\n",
    "        return right\n",
    "\n",
    "    def rotateRight(self, root):\n",
    "        left = root.left\n",
    "\n",
    "        root.size, left.size = self.sizeOf(\n",
    "            root.right) + self.sizeOf(left.right) + 1, root.size\n",
    "\n",
    "        root.left = left.right\n",
    "        left.right = root\n",
    "\n",
    "        left.isRed = root.isRed\n",
    "        root.isRed = True\n",
    "\n",
    "        return left\n",
    "\n",
    "    def flipColor(self, root):\n",
    "        root.left.isRed = False\n",
    "        root.right.isRed = False\n",
    "        root.isRed = True\n",
    "        return root\n",
    "\n",
    "    def insertTo(self, root, val):\n",
    "        if not root:\n",
    "            return RedBlackTreeNode(val)\n",
    "\n",
    "        if val > root.val:\n",
    "            root.right = self.insertTo(root.right, val)\n",
    "        else:\n",
    "            root.left = self.insertTo(root.left, val)\n",
    "\n",
    "        if (root.right and root.right.isRed) and not (\n",
    "                root.left and root.left.isRed):\n",
    "            root = self.rotateLeft(root)\n",
    "\n",
    "        if (root.left and root.left.isRed) and (\n",
    "                root.left.left and root.left.left.isRed):\n",
    "            root = self.rotateRight(root)\n",
    "\n",
    "        if (root.left and root.left.isRed) and (\n",
    "                root.right and root.right.isRed):\n",
    "            root = self.flipColor(root)\n",
    "\n",
    "        root.size = sum(map(self.sizeOf, (root.left, root.right))) + 1\n",
    "        return root\n",
    "\n",
    "    def insert(self, val):\n",
    "        self.root = self.insertTo(self.root, val)\n",
    "        self.root.isRed = False\n",
    "\n",
    "    def search(self,val):\n",
    "        if self.root != None:\n",
    "            return self._search(val,node)\n",
    "        \n",
    "    def _search(self,val,node):\n",
    "        if val == node.val:\n",
    "            return node\n",
    "        elif val > node.val and node.right != None:\n",
    "            return self._search(val,node.right)\n",
    "        elif val < node.val and node.left != None:\n",
    "            return self._search(val,node.left)\n",
    "\n",
    "\n",
    "class MedianFinder(object):\n",
    "    def __init__(self):\n",
    "        self.tree = RedBlackTree()\n",
    "\n",
    "    def addNum(self, num):\n",
    "        self.tree.insert(num)\n",
    "\n",
    "    def findMedian(self):\n",
    "        size = self.tree.size\n",
    "        if size & 1:\n",
    "            return self.tree.searchK(size + 1 >> 1)\n",
    "        return sum(map(self.tree.searchK, (size >> 1, size + 2 >> 1))) / 2.0"
   ]
  },
  {
   "cell_type": "code",
   "execution_count": 546,
   "metadata": {},
   "outputs": [],
   "source": [
    "tree = RedBlackTree()\n"
   ]
  },
  {
   "cell_type": "code",
   "execution_count": 547,
   "metadata": {},
   "outputs": [],
   "source": [
    "tree.insert(10)\n",
    "tree.insert(15)\n",
    "tree.insert(5)\n",
    "tree.insert(55)\n",
    "tree.insert(43)\n",
    "tree.insert(33)\n",
    "tree.insert(15)\n",
    "tree.insert(3)\n",
    "tree.insert(3)\n",
    "tree.insert(3)\n",
    "tree.insert(3)\n",
    "tree.insert(33)\n",
    "tree.insert(34)\n",
    "tree.insert(35)\n",
    "tree.insert(36)\n",
    "tree.insert(37)\n",
    "tree.insert(38)\n",
    "tree.insert(39)\n",
    "tree.insert(40)\n",
    "tree.insert(41)\n",
    "tree.insert(42)\n",
    "tree.insert(44)\n",
    "tree.insert(45)\n",
    "tree.insert(33)\n",
    "tree.insert(33)\n",
    "tree.insert(33)\n",
    "tree.insert(33)\n",
    "tree.insert(33)\n",
    "tree.insert(33)\n",
    "tree.insert(33)\n",
    "tree.insert(33)\n",
    "tree.insert(33)\n",
    "tree.insert(33)\n",
    "tree.insert(33)\n",
    "tree.insert(33)\n",
    "tree.insert(33)\n"
   ]
  },
  {
   "cell_type": "code",
   "execution_count": 552,
   "metadata": {},
   "outputs": [
    {
     "data": {
      "text/plain": [
       "33"
      ]
     },
     "execution_count": 552,
     "metadata": {},
     "output_type": "execute_result"
    }
   ],
   "source": [
    "tree.search(33).left.left.val"
   ]
  },
  {
   "cell_type": "code",
   "execution_count": 533,
   "metadata": {},
   "outputs": [
    {
     "data": {
      "text/plain": [
       "10"
      ]
     },
     "execution_count": 533,
     "metadata": {},
     "output_type": "execute_result"
    }
   ],
   "source": [
    "tree.root.val"
   ]
  },
  {
   "cell_type": "code",
   "execution_count": 179,
   "metadata": {},
   "outputs": [],
   "source": [
    "class stack(list):\n",
    "    def push(self,value):\n",
    "        self+=[value]\n",
    "    def pop(self):\n",
    "        if len(self) == 0:\n",
    "            print('is empty')\n",
    "        else:\n",
    "            element = self[-1]\n",
    "            del self[-1]\n",
    "            return element\n"
   ]
  },
  {
   "cell_type": "code",
   "execution_count": 263,
   "metadata": {},
   "outputs": [],
   "source": [
    "class queue(list):\n",
    "    def push(self,value):\n",
    "        self+=[value]\n",
    "    @property\n",
    "    def pop(self):\n",
    "        if len(self) == 0:\n",
    "            print('is empty')\n",
    "        else:\n",
    "            element = self[0]\n",
    "            del self[0]\n",
    "            return element\n",
    "    @property\n",
    "    def isEmpty(self):\n",
    "        return not self\n",
    "            "
   ]
  },
  {
   "cell_type": "code",
   "execution_count": 209,
   "metadata": {},
   "outputs": [],
   "source": [
    "q.push(55)"
   ]
  },
  {
   "cell_type": "code",
   "execution_count": 264,
   "metadata": {},
   "outputs": [],
   "source": [
    "q = queue()"
   ]
  },
  {
   "cell_type": "code",
   "execution_count": 265,
   "metadata": {},
   "outputs": [],
   "source": [
    "q.push(3)\n",
    "q.push(4)\n",
    "q.push(5)"
   ]
  },
  {
   "cell_type": "code",
   "execution_count": 268,
   "metadata": {},
   "outputs": [
    {
     "data": {
      "text/plain": [
       "5"
      ]
     },
     "execution_count": 268,
     "metadata": {},
     "output_type": "execute_result"
    }
   ],
   "source": [
    "q.pop"
   ]
  },
  {
   "cell_type": "code",
   "execution_count": 242,
   "metadata": {},
   "outputs": [
    {
     "data": {
      "text/plain": [
       "4"
      ]
     },
     "execution_count": 242,
     "metadata": {},
     "output_type": "execute_result"
    }
   ],
   "source": [
    "v[-1]"
   ]
  },
  {
   "cell_type": "code",
   "execution_count": 223,
   "metadata": {},
   "outputs": [
    {
     "data": {
      "text/plain": [
       "[5, 4]"
      ]
     },
     "execution_count": 223,
     "metadata": {},
     "output_type": "execute_result"
    }
   ],
   "source": [
    "[5] + v + [4] + v"
   ]
  },
  {
   "cell_type": "code",
   "execution_count": 181,
   "metadata": {},
   "outputs": [],
   "source": [
    "test = stack()"
   ]
  },
  {
   "cell_type": "code",
   "execution_count": 165,
   "metadata": {},
   "outputs": [],
   "source": [
    "test.push(5)"
   ]
  },
  {
   "cell_type": "code",
   "execution_count": 171,
   "metadata": {},
   "outputs": [
    {
     "data": {
      "text/plain": [
       "5"
      ]
     },
     "execution_count": 171,
     "metadata": {},
     "output_type": "execute_result"
    }
   ],
   "source": [
    "test.pop()"
   ]
  },
  {
   "cell_type": "code",
   "execution_count": 128,
   "metadata": {},
   "outputs": [],
   "source": [
    "x = [4,4,4,4]"
   ]
  },
  {
   "cell_type": "code",
   "execution_count": 133,
   "metadata": {},
   "outputs": [
    {
     "data": {
      "text/plain": [
       "[4, 4, 4, 4, 5]"
      ]
     },
     "execution_count": 133,
     "metadata": {},
     "output_type": "execute_result"
    }
   ],
   "source": [
    "x + [5]"
   ]
  },
  {
   "cell_type": "code",
   "execution_count": 130,
   "metadata": {},
   "outputs": [
    {
     "data": {
      "text/plain": [
       "[4, 4, 4, 4]"
      ]
     },
     "execution_count": 130,
     "metadata": {},
     "output_type": "execute_result"
    }
   ],
   "source": [
    "x"
   ]
  },
  {
   "cell_type": "code",
   "execution_count": 125,
   "metadata": {},
   "outputs": [],
   "source": [
    "test.push(5)"
   ]
  },
  {
   "cell_type": "code",
   "execution_count": 102,
   "metadata": {},
   "outputs": [
    {
     "data": {
      "text/plain": [
       "2"
      ]
     },
     "execution_count": 102,
     "metadata": {},
     "output_type": "execute_result"
    }
   ],
   "source": [
    "tree.size"
   ]
  },
  {
   "cell_type": "code",
   "execution_count": 37,
   "metadata": {},
   "outputs": [
    {
     "name": "stdout",
     "output_type": "stream",
     "text": [
      "10\n"
     ]
    }
   ],
   "source": [
    "tree = RedBlackTree()\n",
    "tree.insert(10)\n",
    "tree.print_tree()"
   ]
  },
  {
   "cell_type": "code",
   "execution_count": null,
   "metadata": {},
   "outputs": [],
   "source": []
  },
  {
   "cell_type": "code",
   "execution_count": 522,
   "metadata": {},
   "outputs": [],
   "source": [
    "class Node:\n",
    "\n",
    "\n",
    "    def __init__(self, data, parent, color):\n",
    "        self.left = None\n",
    "        self.right = None\n",
    "        self.parent = parent\n",
    "        self.data = data\n",
    "        self.color = color\n",
    "\n",
    "class RBTree:\n",
    "\n",
    "    def __init__(self):\n",
    "        self.root = None\n",
    "\n",
    "    def insert(self, data):\n",
    "        if self.root == None:\n",
    "            self.root = Node(data, None, 0)\n",
    "        else:\n",
    "            self._insert(Node(data, None, 0))\n",
    "\n",
    "    def _insert(self, z):\n",
    "        y = None\n",
    "        x = self.root\n",
    "        while x != None:\n",
    "            y = x\n",
    "            if z.data < x.data:\n",
    "                x = x.left\n",
    "            else:\n",
    "                x = x.right\n",
    "        z.parent = y\n",
    "        if y == None:\n",
    "            self.root = z\n",
    "        elif z.data < y.data:\n",
    "            y.left = z\n",
    "        else:\n",
    "            y.right = z\n",
    "\n",
    "        z.left = None\n",
    "        z.right = None\n",
    "        z.color = 1\n",
    "        self._insertFix(z)\n",
    "\n",
    "    def _insertFix(self, z):\n",
    "        while z.parent.color == 1:\n",
    "            if z.parent == z.parent.parent.left:\n",
    "                y = z.parent.parent.right\n",
    "                if y.color == 1:\n",
    "                    z.parent.color = 0\n",
    "                    y.color = 0\n",
    "                    z.parent.parent.color = 1\n",
    "                    z = z.parent.parent\n",
    "                else:\n",
    "                    if z == z.parent.right:\n",
    "                        z = z.parent\n",
    "                        self._rotateLeft(z)\n",
    "                    z.parent.color = 0\n",
    "                    z.parent.parent = 1\n",
    "                    self._rotateRight(z.parent.parent)\n",
    "            else:\n",
    "                y = z.parent.parent.left\n",
    "                if y.color == 1:\n",
    "                    z.parent.color = 0\n",
    "                    y.color = 0\n",
    "                    z.parent.parent.color = 1\n",
    "                    z = z.parent.parent\n",
    "                else:\n",
    "                    if z == z.parent.left:\n",
    "                        z = z.parent\n",
    "                        self._rotateRight(z)\n",
    "                    z.parent.color = 0\n",
    "                    z.parent.parent = 1\n",
    "                    self._rotateLeft(z.parent.parent)\n",
    "        self.root.color = 0\n",
    "\n",
    "    def _rotateLeft(self, x):\n",
    "        y = x.right\n",
    "        x.right = y.left\n",
    "        if y.left != None:\n",
    "            y.left.parent = x\n",
    "        y.parent = x.parent\n",
    "        if x.parent == None:\n",
    "            self.root = y\n",
    "        elif x == x.parent.left:\n",
    "            x.parent.left = y\n",
    "        else:\n",
    "            x.parent.right = y\n",
    "        y.left = x\n",
    "        x.parent = y\n",
    "\n",
    "    def _rotateRight(self, x):\n",
    "        x = y.left\n",
    "        y.left = x.right\n",
    "        if x.right != None:\n",
    "            x.right.parent = y\n",
    "        x.parent = y.parent\n",
    "        if y.parent == None:\n",
    "            self.root = x\n",
    "        elif y == y.parent.right:\n",
    "            y.parent.right = x\n",
    "        else:\n",
    "            y.parent.left = x\n",
    "        x.right = y\n",
    "        y.parent = x\n",
    "    \n",
    "    def search(self,val):\n",
    "        if self.root != None:\n",
    "            return self._search(val,self.root)\n",
    "    \n",
    "    def _search(self,val,node):\n",
    "        if node.data == val:\n",
    "            return node\n",
    "        elif val < node.data and node.left != None:\n",
    "            return self._search(val,node.left)\n",
    "        elif val >= node.data and node.right != None:\n",
    "            return self._search(val,node.right)\n"
   ]
  },
  {
   "cell_type": "code",
   "execution_count": 523,
   "metadata": {},
   "outputs": [],
   "source": [
    "tree = RBTree()"
   ]
  },
  {
   "cell_type": "code",
   "execution_count": 524,
   "metadata": {},
   "outputs": [
    {
     "name": "stdout",
     "output_type": "stream",
     "text": [
      "False\n",
      "False\n",
      "True\n"
     ]
    },
    {
     "ename": "AttributeError",
     "evalue": "'NoneType' object has no attribute 'color'",
     "output_type": "error",
     "traceback": [
      "\u001b[0;31m---------------------------------------------------------------------------\u001b[0m",
      "\u001b[0;31mAttributeError\u001b[0m                            Traceback (most recent call last)",
      "\u001b[0;32m<ipython-input-524-9f6d26c8a16a>\u001b[0m in \u001b[0;36m<module>\u001b[0;34m()\u001b[0m\n\u001b[1;32m      2\u001b[0m \u001b[0mtree\u001b[0m\u001b[0;34m.\u001b[0m\u001b[0minsert\u001b[0m\u001b[0;34m(\u001b[0m\u001b[0;36m1\u001b[0m\u001b[0;34m)\u001b[0m\u001b[0;34m\u001b[0m\u001b[0m\n\u001b[1;32m      3\u001b[0m \u001b[0mtree\u001b[0m\u001b[0;34m.\u001b[0m\u001b[0minsert\u001b[0m\u001b[0;34m(\u001b[0m\u001b[0;36m25\u001b[0m\u001b[0;34m)\u001b[0m\u001b[0;34m\u001b[0m\u001b[0m\n\u001b[0;32m----> 4\u001b[0;31m \u001b[0mtree\u001b[0m\u001b[0;34m.\u001b[0m\u001b[0minsert\u001b[0m\u001b[0;34m(\u001b[0m\u001b[0;36m125\u001b[0m\u001b[0;34m)\u001b[0m\u001b[0;34m\u001b[0m\u001b[0m\n\u001b[0m\u001b[1;32m      5\u001b[0m \u001b[0mtree\u001b[0m\u001b[0;34m.\u001b[0m\u001b[0minsert\u001b[0m\u001b[0;34m(\u001b[0m\u001b[0;36m526\u001b[0m\u001b[0;34m)\u001b[0m\u001b[0;34m\u001b[0m\u001b[0m\n\u001b[1;32m      6\u001b[0m \u001b[0mtree\u001b[0m\u001b[0;34m.\u001b[0m\u001b[0minsert\u001b[0m\u001b[0;34m(\u001b[0m\u001b[0;36m625\u001b[0m\u001b[0;34m)\u001b[0m\u001b[0;34m\u001b[0m\u001b[0m\n",
      "\u001b[0;32m<ipython-input-522-d3eb4e14f4cb>\u001b[0m in \u001b[0;36minsert\u001b[0;34m(self, data)\u001b[0m\n\u001b[1;32m     18\u001b[0m             \u001b[0mself\u001b[0m\u001b[0;34m.\u001b[0m\u001b[0mroot\u001b[0m \u001b[0;34m=\u001b[0m \u001b[0mNode\u001b[0m\u001b[0;34m(\u001b[0m\u001b[0mdata\u001b[0m\u001b[0;34m,\u001b[0m \u001b[0mNone\u001b[0m\u001b[0;34m,\u001b[0m \u001b[0;36m0\u001b[0m\u001b[0;34m)\u001b[0m\u001b[0;34m\u001b[0m\u001b[0m\n\u001b[1;32m     19\u001b[0m         \u001b[0;32melse\u001b[0m\u001b[0;34m:\u001b[0m\u001b[0;34m\u001b[0m\u001b[0m\n\u001b[0;32m---> 20\u001b[0;31m             \u001b[0mself\u001b[0m\u001b[0;34m.\u001b[0m\u001b[0m_insert\u001b[0m\u001b[0;34m(\u001b[0m\u001b[0mNode\u001b[0m\u001b[0;34m(\u001b[0m\u001b[0mdata\u001b[0m\u001b[0;34m,\u001b[0m \u001b[0mNone\u001b[0m\u001b[0;34m,\u001b[0m \u001b[0;36m0\u001b[0m\u001b[0;34m)\u001b[0m\u001b[0;34m)\u001b[0m\u001b[0;34m\u001b[0m\u001b[0m\n\u001b[0m\u001b[1;32m     21\u001b[0m \u001b[0;34m\u001b[0m\u001b[0m\n\u001b[1;32m     22\u001b[0m     \u001b[0;32mdef\u001b[0m \u001b[0m_insert\u001b[0m\u001b[0;34m(\u001b[0m\u001b[0mself\u001b[0m\u001b[0;34m,\u001b[0m \u001b[0mz\u001b[0m\u001b[0;34m)\u001b[0m\u001b[0;34m:\u001b[0m\u001b[0;34m\u001b[0m\u001b[0m\n",
      "\u001b[0;32m<ipython-input-522-d3eb4e14f4cb>\u001b[0m in \u001b[0;36m_insert\u001b[0;34m(self, z)\u001b[0m\n\u001b[1;32m     40\u001b[0m         \u001b[0mz\u001b[0m\u001b[0;34m.\u001b[0m\u001b[0mright\u001b[0m \u001b[0;34m=\u001b[0m \u001b[0mNone\u001b[0m\u001b[0;34m\u001b[0m\u001b[0m\n\u001b[1;32m     41\u001b[0m         \u001b[0mz\u001b[0m\u001b[0;34m.\u001b[0m\u001b[0mcolor\u001b[0m \u001b[0;34m=\u001b[0m \u001b[0;36m1\u001b[0m\u001b[0;34m\u001b[0m\u001b[0m\n\u001b[0;32m---> 42\u001b[0;31m         \u001b[0mself\u001b[0m\u001b[0;34m.\u001b[0m\u001b[0m_insertFix\u001b[0m\u001b[0;34m(\u001b[0m\u001b[0mz\u001b[0m\u001b[0;34m)\u001b[0m\u001b[0;34m\u001b[0m\u001b[0m\n\u001b[0m\u001b[1;32m     43\u001b[0m \u001b[0;34m\u001b[0m\u001b[0m\n\u001b[1;32m     44\u001b[0m     \u001b[0;32mdef\u001b[0m \u001b[0m_insertFix\u001b[0m\u001b[0;34m(\u001b[0m\u001b[0mself\u001b[0m\u001b[0;34m,\u001b[0m \u001b[0mz\u001b[0m\u001b[0;34m)\u001b[0m\u001b[0;34m:\u001b[0m\u001b[0;34m\u001b[0m\u001b[0m\n",
      "\u001b[0;32m<ipython-input-522-d3eb4e14f4cb>\u001b[0m in \u001b[0;36m_insertFix\u001b[0;34m(self, z)\u001b[0m\n\u001b[1;32m     44\u001b[0m     \u001b[0;32mdef\u001b[0m \u001b[0m_insertFix\u001b[0m\u001b[0;34m(\u001b[0m\u001b[0mself\u001b[0m\u001b[0;34m,\u001b[0m \u001b[0mz\u001b[0m\u001b[0;34m)\u001b[0m\u001b[0;34m:\u001b[0m\u001b[0;34m\u001b[0m\u001b[0m\n\u001b[1;32m     45\u001b[0m         \u001b[0;32mprint\u001b[0m\u001b[0;34m(\u001b[0m\u001b[0mz\u001b[0m\u001b[0;34m.\u001b[0m\u001b[0mparent\u001b[0m\u001b[0;34m.\u001b[0m\u001b[0mcolor\u001b[0m \u001b[0;34m==\u001b[0m \u001b[0;36m1\u001b[0m\u001b[0;34m)\u001b[0m\u001b[0;34m\u001b[0m\u001b[0m\n\u001b[0;32m---> 46\u001b[0;31m         \u001b[0;32mwhile\u001b[0m \u001b[0mz\u001b[0m\u001b[0;34m.\u001b[0m\u001b[0mparent\u001b[0m\u001b[0;34m.\u001b[0m\u001b[0mcolor\u001b[0m \u001b[0;34m==\u001b[0m \u001b[0;36m1\u001b[0m\u001b[0;34m:\u001b[0m\u001b[0;34m\u001b[0m\u001b[0m\n\u001b[0m\u001b[1;32m     47\u001b[0m             \u001b[0;32mif\u001b[0m \u001b[0mz\u001b[0m\u001b[0;34m.\u001b[0m\u001b[0mparent\u001b[0m \u001b[0;34m==\u001b[0m \u001b[0mz\u001b[0m\u001b[0;34m.\u001b[0m\u001b[0mparent\u001b[0m\u001b[0;34m.\u001b[0m\u001b[0mparent\u001b[0m\u001b[0;34m.\u001b[0m\u001b[0mleft\u001b[0m\u001b[0;34m:\u001b[0m\u001b[0;34m\u001b[0m\u001b[0m\n\u001b[1;32m     48\u001b[0m                 \u001b[0my\u001b[0m \u001b[0;34m=\u001b[0m \u001b[0mz\u001b[0m\u001b[0;34m.\u001b[0m\u001b[0mparent\u001b[0m\u001b[0;34m.\u001b[0m\u001b[0mparent\u001b[0m\u001b[0;34m.\u001b[0m\u001b[0mright\u001b[0m\u001b[0;34m\u001b[0m\u001b[0m\n",
      "\u001b[0;31mAttributeError\u001b[0m: 'NoneType' object has no attribute 'color'"
     ]
    }
   ],
   "source": [
    "tree.insert(5)\n",
    "tree.insert(1)\n",
    "tree.insert(25)\n",
    "tree.insert(125)\n",
    "tree.insert(526)\n",
    "tree.insert(625)\n",
    "tree.insert(725)\n",
    "tree.insert(826)\n",
    "tree.insert(925)"
   ]
  },
  {
   "cell_type": "code",
   "execution_count": 512,
   "metadata": {},
   "outputs": [
    {
     "data": {
      "text/plain": [
       "625"
      ]
     },
     "execution_count": 512,
     "metadata": {},
     "output_type": "execute_result"
    }
   ],
   "source": [
    "tree.root.right.right.right.right.data"
   ]
  },
  {
   "cell_type": "code",
   "execution_count": 491,
   "metadata": {},
   "outputs": [],
   "source": [
    "v  = tree.search(125)"
   ]
  },
  {
   "cell_type": "code",
   "execution_count": 498,
   "metadata": {},
   "outputs": [],
   "source": [
    "v.parent.parent.parent"
   ]
  },
  {
   "cell_type": "code",
   "execution_count": 468,
   "metadata": {},
   "outputs": [],
   "source": [
    "class RBTree:\n",
    "    __slots__ = {'_root'}\n",
    "\n",
    "    def __init__(self):\n",
    "        self._root = None\n",
    "\n",
    "    def insert(self, data):\n",
    "        if(self._root is None):\n",
    "            self._root = Node(data, None, 0)\n",
    "        else:\n",
    "            self._insert(Node(data, None, 0))\n",
    "\n",
    "    def _insert(self, z):\n",
    "        y = None\n",
    "        x = self._root\n",
    "        while(x is not None):\n",
    "            y = x\n",
    "            if(z.data < x.data):\n",
    "                x = x.left\n",
    "            else:\n",
    "                x = x.right\n",
    "        z.parent = y\n",
    "        if(y is None):\n",
    "            self._root = z\n",
    "        elif(z.data < y.data):\n",
    "            y.left = z\n",
    "        else:\n",
    "            y.right = z\n",
    "\n",
    "        z.left = None\n",
    "        z.right = None\n",
    "        z.color = 1\n",
    "        self._insertFix(z)\n",
    "\n",
    "    def _insertFix(self, z):\n",
    "        print(\"Print z from _insertFix: \" + str(z.data) + \"\\n\")\n",
    "        while(z.parent.color is 1):\n",
    "            if(z.parent == z.parent.parent.left):\n",
    "                y = z.parent.parent.right\n",
    "                if(y.color is 1):\n",
    "                    z.parent.color = 0\n",
    "                    y.color = 0\n",
    "                    z.parent.parent.color = 1\n",
    "                    z = z.parent.parent\n",
    "                else:\n",
    "                    if(z == z.parent.right):\n",
    "                        z = z.parent\n",
    "                        self._rotateLeft(z)\n",
    "                    z.parent.color = 0\n",
    "                    z.parent.parent = 1\n",
    "                    self._rotateRight(z.parent.parent)\n",
    "            else:\n",
    "                y = z.parent.parent.left\n",
    "                if(y.color is 1):\n",
    "                    z.parent.color = 0\n",
    "                    y.color = 0\n",
    "                    z.parent.parent.color = 1\n",
    "                    z = z.parent.parent\n",
    "                else:\n",
    "                    if(z == z.parent.left):\n",
    "                        z = z.parent\n",
    "                        self._rotateRight(z)\n",
    "                    z.parent.color = 0\n",
    "                    z.parent.parent = 1\n",
    "                    self._rotateLeft(z.parent.parent)\n",
    "        self._root.color = 0\n",
    "\n",
    "    def _rotateLeft(self, x):\n",
    "        y = x.right\n",
    "        x.right = y.left\n",
    "        if(y.left is not None):\n",
    "            y.left.parent = x\n",
    "        y.parent = x.parent\n",
    "        if(x.parent is  None):\n",
    "            self._root = y\n",
    "        elif(x == x.parent.left):\n",
    "            x.parent.left = y\n",
    "        else:\n",
    "            x.parent.right = y\n",
    "        y.left = x\n",
    "        x.parent = y\n",
    "\n",
    "    def _rotateRight(self, x):\n",
    "        x = y.left\n",
    "        y.left = x.right\n",
    "        if(x.right is not None):\n",
    "            x.right.parent = y\n",
    "        x.parent = y.parent\n",
    "        if(y.parent is None):\n",
    "            self._root = x\n",
    "        elif(y == y.parent.right):\n",
    "            y.parent.right = x\n",
    "        else:\n",
    "            y.parent.left = x\n",
    "        x.right = y\n",
    "        y.parent = x\n",
    "\n",
    "class Node:\n",
    "    __slots__ = {\"_left\", \"_right\", \"_parent\", \"_data\", \"_color\"}\n",
    "\n",
    "    def __init__(self, data, parent, color):\n",
    "        self.left = None\n",
    "        self.right = None\n",
    "        self.parent = parent\n",
    "        self.data = data\n",
    "        self.color = color"
   ]
  },
  {
   "cell_type": "code",
   "execution_count": 469,
   "metadata": {},
   "outputs": [],
   "source": [
    "tree = RBTree()"
   ]
  },
  {
   "cell_type": "code",
   "execution_count": 472,
   "metadata": {},
   "outputs": [
    {
     "name": "stdout",
     "output_type": "stream",
     "text": [
      "Print z from _insertFix: 5\n",
      "\n"
     ]
    },
    {
     "ename": "AttributeError",
     "evalue": "'NoneType' object has no attribute 'color'",
     "output_type": "error",
     "traceback": [
      "\u001b[0;31m---------------------------------------------------------------------------\u001b[0m",
      "\u001b[0;31mAttributeError\u001b[0m                            Traceback (most recent call last)",
      "\u001b[0;32m<ipython-input-472-8ce3df8089db>\u001b[0m in \u001b[0;36m<module>\u001b[0;34m()\u001b[0m\n\u001b[0;32m----> 1\u001b[0;31m \u001b[0mtree\u001b[0m\u001b[0;34m.\u001b[0m\u001b[0minsert\u001b[0m\u001b[0;34m(\u001b[0m\u001b[0;36m5\u001b[0m\u001b[0;34m)\u001b[0m\u001b[0;34m\u001b[0m\u001b[0m\n\u001b[0m",
      "\u001b[0;32m<ipython-input-468-c26b28e4e599>\u001b[0m in \u001b[0;36minsert\u001b[0;34m(self, data)\u001b[0m\n\u001b[1;32m      9\u001b[0m             \u001b[0mself\u001b[0m\u001b[0;34m.\u001b[0m\u001b[0m_root\u001b[0m \u001b[0;34m=\u001b[0m \u001b[0mNode\u001b[0m\u001b[0;34m(\u001b[0m\u001b[0mdata\u001b[0m\u001b[0;34m,\u001b[0m \u001b[0mNone\u001b[0m\u001b[0;34m,\u001b[0m \u001b[0;36m0\u001b[0m\u001b[0;34m)\u001b[0m\u001b[0;34m\u001b[0m\u001b[0m\n\u001b[1;32m     10\u001b[0m         \u001b[0;32melse\u001b[0m\u001b[0;34m:\u001b[0m\u001b[0;34m\u001b[0m\u001b[0m\n\u001b[0;32m---> 11\u001b[0;31m             \u001b[0mself\u001b[0m\u001b[0;34m.\u001b[0m\u001b[0m_insert\u001b[0m\u001b[0;34m(\u001b[0m\u001b[0mNode\u001b[0m\u001b[0;34m(\u001b[0m\u001b[0mdata\u001b[0m\u001b[0;34m,\u001b[0m \u001b[0mNone\u001b[0m\u001b[0;34m,\u001b[0m \u001b[0;36m0\u001b[0m\u001b[0;34m)\u001b[0m\u001b[0;34m)\u001b[0m\u001b[0;34m\u001b[0m\u001b[0m\n\u001b[0m\u001b[1;32m     12\u001b[0m \u001b[0;34m\u001b[0m\u001b[0m\n\u001b[1;32m     13\u001b[0m     \u001b[0;32mdef\u001b[0m \u001b[0m_insert\u001b[0m\u001b[0;34m(\u001b[0m\u001b[0mself\u001b[0m\u001b[0;34m,\u001b[0m \u001b[0mz\u001b[0m\u001b[0;34m)\u001b[0m\u001b[0;34m:\u001b[0m\u001b[0;34m\u001b[0m\u001b[0m\n",
      "\u001b[0;32m<ipython-input-468-c26b28e4e599>\u001b[0m in \u001b[0;36m_insert\u001b[0;34m(self, z)\u001b[0m\n\u001b[1;32m     31\u001b[0m         \u001b[0mz\u001b[0m\u001b[0;34m.\u001b[0m\u001b[0mright\u001b[0m \u001b[0;34m=\u001b[0m \u001b[0mNone\u001b[0m\u001b[0;34m\u001b[0m\u001b[0m\n\u001b[1;32m     32\u001b[0m         \u001b[0mz\u001b[0m\u001b[0;34m.\u001b[0m\u001b[0mcolor\u001b[0m \u001b[0;34m=\u001b[0m \u001b[0;36m1\u001b[0m\u001b[0;34m\u001b[0m\u001b[0m\n\u001b[0;32m---> 33\u001b[0;31m         \u001b[0mself\u001b[0m\u001b[0;34m.\u001b[0m\u001b[0m_insertFix\u001b[0m\u001b[0;34m(\u001b[0m\u001b[0mz\u001b[0m\u001b[0;34m)\u001b[0m\u001b[0;34m\u001b[0m\u001b[0m\n\u001b[0m\u001b[1;32m     34\u001b[0m \u001b[0;34m\u001b[0m\u001b[0m\n\u001b[1;32m     35\u001b[0m     \u001b[0;32mdef\u001b[0m \u001b[0m_insertFix\u001b[0m\u001b[0;34m(\u001b[0m\u001b[0mself\u001b[0m\u001b[0;34m,\u001b[0m \u001b[0mz\u001b[0m\u001b[0;34m)\u001b[0m\u001b[0;34m:\u001b[0m\u001b[0;34m\u001b[0m\u001b[0m\n",
      "\u001b[0;32m<ipython-input-468-c26b28e4e599>\u001b[0m in \u001b[0;36m_insertFix\u001b[0;34m(self, z)\u001b[0m\n\u001b[1;32m     52\u001b[0m             \u001b[0;32melse\u001b[0m\u001b[0;34m:\u001b[0m\u001b[0;34m\u001b[0m\u001b[0m\n\u001b[1;32m     53\u001b[0m                 \u001b[0my\u001b[0m \u001b[0;34m=\u001b[0m \u001b[0mz\u001b[0m\u001b[0;34m.\u001b[0m\u001b[0mparent\u001b[0m\u001b[0;34m.\u001b[0m\u001b[0mparent\u001b[0m\u001b[0;34m.\u001b[0m\u001b[0mleft\u001b[0m\u001b[0;34m\u001b[0m\u001b[0m\n\u001b[0;32m---> 54\u001b[0;31m                 \u001b[0;32mif\u001b[0m\u001b[0;34m(\u001b[0m\u001b[0my\u001b[0m\u001b[0;34m.\u001b[0m\u001b[0mcolor\u001b[0m \u001b[0;32mis\u001b[0m \u001b[0;36m1\u001b[0m\u001b[0;34m)\u001b[0m\u001b[0;34m:\u001b[0m\u001b[0;34m\u001b[0m\u001b[0m\n\u001b[0m\u001b[1;32m     55\u001b[0m                     \u001b[0mz\u001b[0m\u001b[0;34m.\u001b[0m\u001b[0mparent\u001b[0m\u001b[0;34m.\u001b[0m\u001b[0mcolor\u001b[0m \u001b[0;34m=\u001b[0m \u001b[0;36m0\u001b[0m\u001b[0;34m\u001b[0m\u001b[0m\n\u001b[1;32m     56\u001b[0m                     \u001b[0my\u001b[0m\u001b[0;34m.\u001b[0m\u001b[0mcolor\u001b[0m \u001b[0;34m=\u001b[0m \u001b[0;36m0\u001b[0m\u001b[0;34m\u001b[0m\u001b[0m\n",
      "\u001b[0;31mAttributeError\u001b[0m: 'NoneType' object has no attribute 'color'"
     ]
    }
   ],
   "source": [
    "tree.insert(5)"
   ]
  }
 ],
 "metadata": {
  "kernelspec": {
   "display_name": "Python 2",
   "language": "python",
   "name": "python2"
  },
  "language_info": {
   "codemirror_mode": {
    "name": "ipython",
    "version": 2
   },
   "file_extension": ".py",
   "mimetype": "text/x-python",
   "name": "python",
   "nbconvert_exporter": "python",
   "pygments_lexer": "ipython2",
   "version": "2.7.10"
  }
 },
 "nbformat": 4,
 "nbformat_minor": 2
}
