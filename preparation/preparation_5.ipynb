{
 "cells": [
  {
   "cell_type": "code",
   "execution_count": 12,
   "metadata": {},
   "outputs": [],
   "source": [
    "graph = {\n",
    "    'A' : {'B' : 5, 'C' : 10, 'D' : 20},\n",
    "    'B' : {'A' : 5, 'C' : 4},\n",
    "    'C' : {'A' : 10, 'B' : 4, 'D' : 3},\n",
    "    'D' : {'A' : 20, 'C' : 3}\n",
    "}\n",
    "finished = {}\n",
    "unfinished = {node : float('inf') for node in graph.keys()}\n",
    "previous_node = {}\n",
    "\n",
    "start_point = 'A'\n",
    "current_cost = 0\n",
    "while True:\n",
    "    for node,cost in graph[start_point].items() :\n",
    "        if node in finished:\n",
    "            continue\n",
    "        new_cost = current_cost + cost\n",
    "        if new_cost < unfinished[node]:\n",
    "            unfinished[node] = new_cost\n",
    "            previous_node[node] = start_point\n",
    "    finished[start_point] = current_cost\n",
    "    del unfinished[start_point]\n",
    "    if len(unfinished) == 0:\n",
    "        break\n",
    "    lst = unfinished.items()\n",
    "    lst.sort(key = lambda x: x[1])\n",
    "    start_point, current_cost = lst[0][0], lst[0][1]"
   ]
  },
  {
   "cell_type": "code",
   "execution_count": 55,
   "metadata": {},
   "outputs": [],
   "source": [
    "graph = {\n",
    "    'A' : set(['B','C','D']),\n",
    "    'B' : set(['A','E']),\n",
    "    'C' : set(['A','F']),\n",
    "    'D' : set(['A','G']),\n",
    "    'E' : set(['B','H']),\n",
    "    'F' : set(['C','I']),\n",
    "    'G' : set(['D','J']),\n",
    "    'H' : set(['E','I']),\n",
    "    'I' : set(['F','H','J']),\n",
    "    'J' : set(['G','I'])\n",
    "}"
   ]
  },
  {
   "cell_type": "code",
   "execution_count": 61,
   "metadata": {},
   "outputs": [
    {
     "data": {
      "text/plain": [
       "set()"
      ]
     },
     "execution_count": 61,
     "metadata": {},
     "output_type": "execute_result"
    }
   ],
   "source": [
    "graph['I'] - set(['A', 'C', 'B', 'D', 'F', 'E', 'G', 'I', 'H', 'J'])"
   ]
  },
  {
   "cell_type": "code",
   "execution_count": 62,
   "metadata": {},
   "outputs": [
    {
     "data": {
      "text/plain": [
       "['A', 'C', 'B', 'D', 'F', 'E', 'G', 'I', 'H', 'J']"
      ]
     },
     "execution_count": 62,
     "metadata": {},
     "output_type": "execute_result"
    }
   ],
   "source": [
    "def bfs(graph,start):\n",
    "    queue = [start]\n",
    "    visited = []\n",
    "    while queue:\n",
    "        node = queue.pop(0)\n",
    "        if node not in visited:\n",
    "            visited.append(node)\n",
    "            queue.extend(graph[node] - set(visited))\n",
    "    return visited\n",
    "bfs(graph,'A')"
   ]
  },
  {
   "cell_type": "code",
   "execution_count": 63,
   "metadata": {},
   "outputs": [
    {
     "data": {
      "text/plain": [
       "['A', 'D', 'G', 'J', 'I', 'F', 'C', 'H', 'E', 'B']"
      ]
     },
     "execution_count": 63,
     "metadata": {},
     "output_type": "execute_result"
    }
   ],
   "source": [
    "def dfs(graph,start):\n",
    "    queue = [start]\n",
    "    visited = []\n",
    "    while queue:\n",
    "        node = queue.pop()\n",
    "        if node not in visited:\n",
    "            visited.append(node)\n",
    "            queue.extend(graph[node] - set(visited))\n",
    "    return visited\n",
    "dfs(graph,'A')"
   ]
  },
  {
   "cell_type": "code",
   "execution_count": 64,
   "metadata": {},
   "outputs": [
    {
     "data": {
      "text/plain": [
       "[['A', 'C', 'F', 'I'], ['A', 'B', 'E', 'H', 'I'], ['A', 'D', 'G', 'J', 'I']]"
      ]
     },
     "execution_count": 64,
     "metadata": {},
     "output_type": "execute_result"
    }
   ],
   "source": [
    "def bfs_path(graph,start,goal):\n",
    "    route = [(start,[start])]\n",
    "    while route:\n",
    "        node,path = route.pop(0)\n",
    "        for next in graph[node] - set(path):\n",
    "            if next == goal:\n",
    "                yield path + [next]\n",
    "            else:\n",
    "                route.append((next,path + [next]))\n",
    "list(bfs_path(graph,'A','I'))"
   ]
  },
  {
   "cell_type": "code",
   "execution_count": 65,
   "metadata": {},
   "outputs": [
    {
     "data": {
      "text/plain": [
       "[['A', 'D', 'G', 'J', 'I'], ['A', 'B', 'E', 'H', 'I'], ['A', 'C', 'F', 'I']]"
      ]
     },
     "execution_count": 65,
     "metadata": {},
     "output_type": "execute_result"
    }
   ],
   "source": [
    "def dfs_path(graph,start,goal):\n",
    "    route = [(start,[start])]\n",
    "    while route:\n",
    "        node,path = route.pop()\n",
    "        for next in graph[node] - set(path):\n",
    "            if next == goal:\n",
    "                yield path + [next]\n",
    "            else:\n",
    "                route.append((next,path + [next]))\n",
    "list(dfs_path(graph,'A','I'))"
   ]
  },
  {
   "cell_type": "code",
   "execution_count": 85,
   "metadata": {},
   "outputs": [],
   "source": [
    "class Node():\n",
    "    def __init__(self,val):\n",
    "        self.val = val\n",
    "        self.left = None\n",
    "        self.right = None\n",
    "        self.parent = None\n",
    "\n",
    "class Tree():\n",
    "    def __init__(self):\n",
    "        self.root = None\n",
    "        self.count = 0\n",
    "        self.replacement = 0\n",
    "    \n",
    "    def get_root(self):\n",
    "        return self.root\n",
    "    \n",
    "    def insert(self,val):\n",
    "        if self.root == None:\n",
    "            self.root = Node(val)\n",
    "        else:\n",
    "            self._insert(self.root,val)\n",
    "            \n",
    "    def _insert(self,node,val):\n",
    "        if node.val > val:\n",
    "            if node.left == None:\n",
    "                node.left = Node(val)\n",
    "                node.left.parent = node\n",
    "            else:\n",
    "                self._insert(node.left,val)\n",
    "        else:\n",
    "            if node.right == None:\n",
    "                node.right = Node(val)\n",
    "                node.right.parent = node\n",
    "            else:\n",
    "                self._insert(node.right,val)\n",
    "                \n",
    "    def find(self,val):\n",
    "        if self.root != None:\n",
    "            return self._find(self.root,val)\n",
    "            \n",
    "    def _find(self,node,val):\n",
    "        if node.val == val:\n",
    "            return node\n",
    "        elif node.val > val and node.left != None:\n",
    "            return self._find(node.left,val)\n",
    "        elif node.val < val and node.right != None:\n",
    "            return self._find(node.right,val)\n",
    "        \n",
    "    def print_tree(self):\n",
    "        if self.root != None:\n",
    "            self._print_tree(self.root)\n",
    "        \n",
    "    def _print_tree(self,node):\n",
    "        if node != None:\n",
    "            self._print_tree(node.left)\n",
    "            print(node.val)\n",
    "            self._print_tree(node.right)\n",
    "            \n",
    "    def delete_node(self,val):\n",
    "        if self.root != None:\n",
    "            self._delete_node(self.root,val)\n",
    "            \n",
    "    def _delete_node(self,node,val):\n",
    "        if node.val == val:\n",
    "            if node.left == None and node.right == None:\n",
    "                if node.parent == None:\n",
    "                    node.val = None\n",
    "                else:\n",
    "                    if node.val < node.parent.val:\n",
    "                        node.parent.left = None\n",
    "                    else:\n",
    "                        node.parent.right = None\n",
    "            else:\n",
    "                self._delete_node_2(node)\n",
    "                node.val = self.replacement\n",
    "                \n",
    "        elif node.val > val and node.left != None:\n",
    "            self._delete_node(node.left ,val)\n",
    "        elif node.val < val and node.right != None:\n",
    "            self._delete_node(node.right ,val)\n",
    "            \n",
    "    def _delete_node_2(self,node):\n",
    "        if node.right != None and self.count == 0:\n",
    "            node = node.right\n",
    "            self.count+=1\n",
    "            self._delete_node_2(node)\n",
    "        elif node.left != None and self.count == 0:\n",
    "            node = node.left\n",
    "            self.count+=2\n",
    "            self._delete_node_2(node)\n",
    "        elif node.left != None and self.count == 1:\n",
    "            node = node.left\n",
    "            self._delete_node_2(node)\n",
    "        elif node.right != None and self.count == 2:\n",
    "            node = node.right\n",
    "            self._delete_node_2(node)\n",
    "        else:\n",
    "            self.count = 0\n",
    "            self.replacement = node.val\n",
    "            if node.val < node.parent.val:\n",
    "                node.parent.left = None\n",
    "            else:\n",
    "                node.parent.right = None\n",
    "            \n",
    "            \n",
    "            \n",
    "            "
   ]
  },
  {
   "cell_type": "code",
   "execution_count": 94,
   "metadata": {},
   "outputs": [
    {
     "name": "stdout",
     "output_type": "stream",
     "text": [
      "11\n",
      "12\n",
      "14\n",
      "15\n",
      "16\n",
      "18\n",
      "19\n",
      "20\n",
      "22\n",
      "23\n",
      "24\n",
      "25\n",
      "29\n",
      "30\n",
      "35\n"
     ]
    }
   ],
   "source": [
    "tree = Tree()\n",
    "tree.insert(20)\n",
    "tree.insert(15)\n",
    "tree.insert(25)\n",
    "tree.insert(18)\n",
    "tree.insert(12)\n",
    "tree.insert(23)\n",
    "tree.insert(30)\n",
    "tree.insert(11)\n",
    "tree.insert(14)\n",
    "tree.insert(16)\n",
    "tree.insert(19)\n",
    "tree.insert(22)\n",
    "tree.insert(24)\n",
    "tree.insert(29)\n",
    "tree.insert(35)\n",
    "tree.print_tree()"
   ]
  },
  {
   "cell_type": "code",
   "execution_count": 101,
   "metadata": {},
   "outputs": [],
   "source": [
    "import numpy as np\n",
    "x = []\n",
    "for i in xrange(20):\n",
    "    x.append(np.random.randint(0,100))"
   ]
  },
  {
   "cell_type": "code",
   "execution_count": 103,
   "metadata": {},
   "outputs": [],
   "source": [
    "def m_sort(lst):\n",
    "    if len(lst) < 2:\n",
    "        return lst\n",
    "    result = []\n",
    "    mid = len(lst)//2\n",
    "    y = m_sort(lst[:mid])\n",
    "    z = m_sort(lst[mid:])\n",
    "    i = 0\n",
    "    j = 0\n",
    "    while i < len(y) and j < len(z):\n",
    "        if y[i] < z[j]:\n",
    "            result.append(y[i])\n",
    "            i+=1\n",
    "        else:\n",
    "            result.append(z[j])\n",
    "            j+=1\n",
    "    result+=y[i:]\n",
    "    result+=z[j:]\n",
    "    return result"
   ]
  },
  {
   "cell_type": "code",
   "execution_count": 111,
   "metadata": {},
   "outputs": [],
   "source": [
    "def q_sort(lst):\n",
    "    if len(lst) < 2:\n",
    "        return lst\n",
    "    less = []\n",
    "    equal = []\n",
    "    greater = []\n",
    "    pivot = lst[0]\n",
    "    for element in lst:\n",
    "        if element < pivot:\n",
    "            less.append(element)\n",
    "        elif element > pivot:\n",
    "            greater.append(element)\n",
    "        else:\n",
    "            equal.append(element)\n",
    "    return q_sort(less) + equal + q_sort(greater)"
   ]
  },
  {
   "cell_type": "code",
   "execution_count": 115,
   "metadata": {},
   "outputs": [],
   "source": [
    "def binary_search(element,lst):\n",
    "    lower_bound = 0\n",
    "    upper_bound = len(lst)\n",
    "    while lower_bound != upper_bound:\n",
    "        mid = (lower_bound + upper_bound)//2\n",
    "        if element == lst[mid]:\n",
    "            return mid\n",
    "        elif element > lst[mid]:\n",
    "            lower_bound = mid +1\n",
    "        else:\n",
    "            upper_bound = mid\n",
    "    return 'not found'"
   ]
  },
  {
   "cell_type": "code",
   "execution_count": 121,
   "metadata": {},
   "outputs": [],
   "source": [
    "def binary_search(element,lst):\n",
    "    lower_bound = 0\n",
    "    upper_bound = len(lst)\n",
    "    while lower_bound != upper_bound:\n",
    "        mid = (lower_bound + upper_bound)//2\n",
    "        if element > lst[mid]:\n",
    "            lower_bound = mid +1\n",
    "        else:\n",
    "            upper_bound = mid\n",
    "    return mid"
   ]
  },
  {
   "cell_type": "code",
   "execution_count": 123,
   "metadata": {},
   "outputs": [],
   "source": [
    "def binary_search(element,lst):\n",
    "    lower_bound = 0\n",
    "    upper_bound = len(lst)\n",
    "    while lower_bound != upper_bound:\n",
    "        mid = (lower_bound + upper_bound)//2\n",
    "        if element < lst[mid]:\n",
    "            upper_bound = mid \n",
    "        else:\n",
    "            lower_bound = mid +1\n",
    "    return mid"
   ]
  },
  {
   "cell_type": "code",
   "execution_count": 128,
   "metadata": {},
   "outputs": [],
   "source": [
    "def fib(n):\n",
    "    a = 0\n",
    "    b = 1\n",
    "    for _ in xrange(n):\n",
    "        a,b = b,a+b\n",
    "    return a\n",
    "        "
   ]
  },
  {
   "cell_type": "code",
   "execution_count": 129,
   "metadata": {},
   "outputs": [
    {
     "name": "stdout",
     "output_type": "stream",
     "text": [
      "0\n",
      "1\n",
      "1\n",
      "2\n",
      "3\n",
      "5\n",
      "8\n",
      "13\n",
      "21\n",
      "34\n"
     ]
    }
   ],
   "source": [
    "for n in xrange(10):\n",
    "    print(fib(n))"
   ]
  },
  {
   "cell_type": "code",
   "execution_count": 130,
   "metadata": {},
   "outputs": [],
   "source": [
    "def GCD(x,y):\n",
    "    if y > x:\n",
    "        x,y = y,x\n",
    "    if y == 0:\n",
    "        return x\n",
    "    return GCD(y, x % y)"
   ]
  },
  {
   "cell_type": "code",
   "execution_count": 134,
   "metadata": {},
   "outputs": [
    {
     "data": {
      "text/plain": [
       "1"
      ]
     },
     "execution_count": 134,
     "metadata": {},
     "output_type": "execute_result"
    }
   ],
   "source": [
    "GCD(19,13)"
   ]
  },
  {
   "cell_type": "code",
   "execution_count": 188,
   "metadata": {},
   "outputs": [],
   "source": [
    "matrix =  np.array([[np.random.randint(0,3) for i in xrange(10)] for j in xrange(10)])"
   ]
  },
  {
   "cell_type": "code",
   "execution_count": 183,
   "metadata": {},
   "outputs": [
    {
     "name": "stdout",
     "output_type": "stream",
     "text": [
      "winner is 1_st in Region 2\n"
     ]
    }
   ],
   "source": [
    "N = len(matrix)/2\n",
    "start = N - 1\n",
    "end = N\n",
    "region = 1\n",
    "while N > 0:\n",
    "    sum_1 = np.sum(matrix[[start,end]][:,[start,end]]==0)\n",
    "    sum_2 = np.sum(matrix[[start,end]][:,[start,end]]==2)\n",
    "    if sum_1 > sum_2:\n",
    "        print('winner is 1_st in Region {}'.format(region))\n",
    "        break\n",
    "    elif sum_2 > sum_1:\n",
    "        print('winner is 2_nd in Region {}'.format(region))\n",
    "        break    \n",
    "    N-=1\n",
    "    region+=1\n",
    "    start-=1\n",
    "    end+=1"
   ]
  },
  {
   "cell_type": "code",
   "execution_count": 173,
   "metadata": {},
   "outputs": [],
   "source": [
    "sum_1 = 5 \n",
    "region = 2"
   ]
  },
  {
   "cell_type": "code",
   "execution_count": 178,
   "metadata": {},
   "outputs": [
    {
     "name": "stdout",
     "output_type": "stream",
     "text": [
      "winner is 5 in Region 2\n"
     ]
    }
   ],
   "source": [
    " print('winner is {} in Region {}'.format(sum_1,region))"
   ]
  },
  {
   "cell_type": "code",
   "execution_count": 166,
   "metadata": {},
   "outputs": [],
   "source": [
    "N = len(matrix)/2\n",
    "start = N - 1\n",
    "end = N"
   ]
  },
  {
   "cell_type": "code",
   "execution_count": 167,
   "metadata": {},
   "outputs": [
    {
     "data": {
      "text/plain": [
       "2"
      ]
     },
     "execution_count": 167,
     "metadata": {},
     "output_type": "execute_result"
    }
   ],
   "source": [
    "np.sum(matrix[[start,end]][:,[start,end]]==0)"
   ]
  },
  {
   "cell_type": "code",
   "execution_count": 153,
   "metadata": {},
   "outputs": [
    {
     "data": {
      "text/plain": [
       "array([[1, 0, 2, 1, 0, 2, 2, 0],\n",
       "       [2, 0, 0, 0, 2, 0, 0, 2]])"
      ]
     },
     "execution_count": 153,
     "metadata": {},
     "output_type": "execute_result"
    }
   ],
   "source": [
    "matrix[[3,4],:]"
   ]
  },
  {
   "cell_type": "code",
   "execution_count": 194,
   "metadata": {},
   "outputs": [
    {
     "data": {
      "text/plain": [
       "array([[1, 0],\n",
       "       [0, 1]])"
      ]
     },
     "execution_count": 194,
     "metadata": {},
     "output_type": "execute_result"
    }
   ],
   "source": [
    "matrix[[3,4]][:,[3,4]]"
   ]
  },
  {
   "cell_type": "code",
   "execution_count": 500,
   "metadata": {},
   "outputs": [
    {
     "name": "stdout",
     "output_type": "stream",
     "text": [
      "winner 2 in region 2\n"
     ]
    }
   ],
   "source": [
    "matrix =  np.array([[np.random.randint(0,3) for i in xrange(4)] for j in xrange(4)])\n",
    "find_winner(matrix)"
   ]
  },
  {
   "cell_type": "code",
   "execution_count": 461,
   "metadata": {
    "scrolled": true
   },
   "outputs": [
    {
     "data": {
      "text/plain": [
       "array([[2, 0, 1, 0],\n",
       "       [1, 0, 2, 1],\n",
       "       [1, 2, 0, 0],\n",
       "       [0, 0, 2, 2]])"
      ]
     },
     "execution_count": 461,
     "metadata": {},
     "output_type": "execute_result"
    }
   ],
   "source": [
    "matrix"
   ]
  },
  {
   "cell_type": "code",
   "execution_count": 488,
   "metadata": {},
   "outputs": [],
   "source": [
    "def find_winner(matrix,region = 0):\n",
    "    if region < len(matrix)//2:\n",
    "        n = len(matrix) -1\n",
    "        counter = len(matrix)//2\n",
    "        while counter > region:\n",
    "            if counter == len(matrix) //2:\n",
    "                new_matrix = matrix[1:n,:][:,1:n]\n",
    "            else:\n",
    "                new_matrix = new_matrix[1:n,:][:,1:n]\n",
    "            counter-=1\n",
    "            n-=2\n",
    "\n",
    "        sum_1 = np.sum(new_matrix == 0)\n",
    "        sum_2 = np.sum(new_matrix == 2)\n",
    "        if sum_1 > sum_2:\n",
    "            print('winner 1 in region {}'.format(region+1))\n",
    "        elif sum_2 > sum_1:\n",
    "            print('winner 2 in region {}'.format(region+1))\n",
    "        else:\n",
    "            find_winner(matrix,region+1)\n",
    "            \n",
    "    else:\n",
    "        print('draw')"
   ]
  },
  {
   "cell_type": "code",
   "execution_count": null,
   "metadata": {},
   "outputs": [],
   "source": []
  },
  {
   "cell_type": "code",
   "execution_count": 355,
   "metadata": {},
   "outputs": [],
   "source": [
    "region = 0\n",
    "n = len(matrix) -1\n",
    "counter = n//2\n",
    "while counter > region:\n",
    "    if counter == (len(matrix) -1)//2:\n",
    "        new_matrix = matrix[1:n,:][:,1:n]\n",
    "    else:\n",
    "        new_matrix = new_matrix[1:n,:][:,1:n]\n",
    "    counter-=1\n",
    "    n-=2\n",
    "sum_1 = np.sum(new_matrix == 0)\n",
    "sum_2 = np.sum(new_matrix == 2)\n",
    "if sum_1 > sum_2:\n",
    "    print('winner 1 in region {}'.format(region+1))\n",
    "    \n",
    "elif sum_2 > sum_1:\n",
    "    print('winner 2 in region {}'.format(region+1))\n"
   ]
  },
  {
   "cell_type": "code",
   "execution_count": 356,
   "metadata": {},
   "outputs": [
    {
     "data": {
      "text/plain": [
       "array([[0, 2],\n",
       "       [1, 1]])"
      ]
     },
     "execution_count": 356,
     "metadata": {},
     "output_type": "execute_result"
    }
   ],
   "source": [
    "new_matrix"
   ]
  },
  {
   "cell_type": "code",
   "execution_count": 274,
   "metadata": {},
   "outputs": [
    {
     "data": {
      "text/plain": [
       "array([[2, 2, 2, 1, 2, 1, 0, 0, 0, 1],\n",
       "       [2, 1, 1, 1, 2, 0, 2, 2, 0, 1],\n",
       "       [1, 2, 0, 0, 0, 1, 0, 0, 1, 0],\n",
       "       [0, 0, 0, 2, 1, 2, 2, 2, 0, 2],\n",
       "       [0, 1, 2, 2, 1, 2, 1, 1, 1, 1],\n",
       "       [1, 2, 1, 1, 1, 1, 2, 2, 0, 2],\n",
       "       [1, 0, 1, 2, 2, 1, 2, 0, 1, 0],\n",
       "       [0, 2, 1, 2, 1, 0, 0, 0, 0, 0],\n",
       "       [2, 1, 2, 2, 0, 0, 0, 1, 1, 0],\n",
       "       [2, 2, 0, 1, 1, 2, 0, 0, 2, 0]])"
      ]
     },
     "execution_count": 274,
     "metadata": {},
     "output_type": "execute_result"
    }
   ],
   "source": [
    "matrix"
   ]
  },
  {
   "cell_type": "code",
   "execution_count": 272,
   "metadata": {},
   "outputs": [
    {
     "data": {
      "text/plain": [
       "array([[1, 1, 1, 2],\n",
       "       [2, 0, 0, 0],\n",
       "       [0, 0, 2, 1],\n",
       "       [1, 2, 2, 1]])"
      ]
     },
     "execution_count": 272,
     "metadata": {},
     "output_type": "execute_result"
    }
   ],
   "source": [
    "new_matrix"
   ]
  },
  {
   "cell_type": "code",
   "execution_count": 260,
   "metadata": {},
   "outputs": [
    {
     "data": {
      "text/plain": [
       "array([[1, 1, 1, 2, 0, 2, 2, 0],\n",
       "       [2, 0, 0, 0, 1, 0, 0, 1],\n",
       "       [0, 0, 2, 1, 2, 2, 2, 0],\n",
       "       [1, 2, 2, 1, 2, 1, 1, 1],\n",
       "       [2, 1, 1, 1, 1, 2, 2, 0],\n",
       "       [0, 1, 2, 2, 1, 2, 0, 1],\n",
       "       [2, 1, 2, 1, 0, 0, 0, 0],\n",
       "       [1, 2, 2, 0, 0, 0, 1, 1]])"
      ]
     },
     "execution_count": 260,
     "metadata": {},
     "output_type": "execute_result"
    }
   ],
   "source": [
    "vvv = matrix[1:9,:][:,1:9]"
   ]
  },
  {
   "cell_type": "code",
   "execution_count": 263,
   "metadata": {},
   "outputs": [
    {
     "data": {
      "text/plain": [
       "array([[0, 0, 0, 1, 0, 0],\n",
       "       [0, 2, 1, 2, 2, 2],\n",
       "       [2, 2, 1, 2, 1, 1],\n",
       "       [1, 1, 1, 1, 2, 2],\n",
       "       [1, 2, 2, 1, 2, 0],\n",
       "       [1, 2, 1, 0, 0, 0]])"
      ]
     },
     "execution_count": 263,
     "metadata": {},
     "output_type": "execute_result"
    }
   ],
   "source": [
    "vv = vvv[1:7,:][:,1:7]"
   ]
  },
  {
   "cell_type": "code",
   "execution_count": 268,
   "metadata": {},
   "outputs": [
    {
     "data": {
      "text/plain": [
       "array([[2, 1, 2, 2],\n",
       "       [2, 1, 2, 1],\n",
       "       [1, 1, 1, 2],\n",
       "       [2, 2, 1, 2]])"
      ]
     },
     "execution_count": 268,
     "metadata": {},
     "output_type": "execute_result"
    }
   ],
   "source": [
    "v = vv[1:5,:][:,1:5]"
   ]
  },
  {
   "cell_type": "code",
   "execution_count": 270,
   "metadata": {},
   "outputs": [
    {
     "data": {
      "text/plain": [
       "array([[1, 2],\n",
       "       [1, 1]])"
      ]
     },
     "execution_count": 270,
     "metadata": {},
     "output_type": "execute_result"
    }
   ],
   "source": [
    "v[1:3,:][:,1:3]"
   ]
  },
  {
   "cell_type": "code",
   "execution_count": 254,
   "metadata": {
    "scrolled": true
   },
   "outputs": [
    {
     "data": {
      "text/plain": [
       "array([[2, 2, 2, 1, 2, 1, 0, 0, 0, 1],\n",
       "       [2, 1, 1, 1, 2, 0, 2, 2, 0, 1],\n",
       "       [1, 2, 0, 0, 0, 1, 0, 0, 1, 0],\n",
       "       [0, 0, 0, 2, 1, 2, 2, 2, 0, 2],\n",
       "       [0, 1, 2, 2, 1, 2, 1, 1, 1, 1],\n",
       "       [1, 2, 1, 1, 1, 1, 2, 2, 0, 2],\n",
       "       [1, 0, 1, 2, 2, 1, 2, 0, 1, 0],\n",
       "       [0, 2, 1, 2, 1, 0, 0, 0, 0, 0],\n",
       "       [2, 1, 2, 2, 0, 0, 0, 1, 1, 0],\n",
       "       [2, 2, 0, 1, 1, 2, 0, 0, 2, 0]])"
      ]
     },
     "execution_count": 254,
     "metadata": {},
     "output_type": "execute_result"
    }
   ],
   "source": [
    "matrix"
   ]
  },
  {
   "cell_type": "code",
   "execution_count": 266,
   "metadata": {},
   "outputs": [
    {
     "data": {
      "text/plain": [
       "array([[1, 1, 1, 2],\n",
       "       [2, 0, 0, 0],\n",
       "       [0, 0, 2, 1],\n",
       "       [1, 2, 2, 1]])"
      ]
     },
     "execution_count": 266,
     "metadata": {},
     "output_type": "execute_result"
    }
   ],
   "source": [
    "new_matrix"
   ]
  },
  {
   "cell_type": "code",
   "execution_count": 234,
   "metadata": {},
   "outputs": [],
   "source": [
    "new_matrix = matrix[1:9,:]\n",
    "new_matrix = new_matrix[:,1:9]"
   ]
  },
  {
   "cell_type": "code",
   "execution_count": 236,
   "metadata": {},
   "outputs": [],
   "source": [
    "new_matrix = new_matrix[1:7,:]\n",
    "new_matrix = new_matrix[:,1:7]"
   ]
  },
  {
   "cell_type": "code",
   "execution_count": 238,
   "metadata": {},
   "outputs": [],
   "source": [
    "new_matrix = new_matrix[1:5,:]\n",
    "new_matrix = new_matrix[:,1:5]"
   ]
  },
  {
   "cell_type": "code",
   "execution_count": 241,
   "metadata": {},
   "outputs": [],
   "source": [
    "new_matrix = new_matrix[1:3,:]\n",
    "new_matrix = new_matrix[:,1:3]"
   ]
  },
  {
   "cell_type": "code",
   "execution_count": null,
   "metadata": {},
   "outputs": [],
   "source": []
  },
  {
   "cell_type": "code",
   "execution_count": 242,
   "metadata": {},
   "outputs": [
    {
     "data": {
      "text/plain": [
       "array([[1, 2],\n",
       "       [1, 1]])"
      ]
     },
     "execution_count": 242,
     "metadata": {},
     "output_type": "execute_result"
    }
   ],
   "source": [
    "new_matrix"
   ]
  },
  {
   "cell_type": "code",
   "execution_count": 239,
   "metadata": {},
   "outputs": [
    {
     "data": {
      "text/plain": [
       "(4, 4)"
      ]
     },
     "execution_count": 239,
     "metadata": {},
     "output_type": "execute_result"
    }
   ],
   "source": [
    "new_matrix.shape"
   ]
  }
 ],
 "metadata": {
  "kernelspec": {
   "display_name": "Python 2",
   "language": "python",
   "name": "python2"
  },
  "language_info": {
   "codemirror_mode": {
    "name": "ipython",
    "version": 2
   },
   "file_extension": ".py",
   "mimetype": "text/x-python",
   "name": "python",
   "nbconvert_exporter": "python",
   "pygments_lexer": "ipython2",
   "version": "2.7.10"
  }
 },
 "nbformat": 4,
 "nbformat_minor": 2
}
