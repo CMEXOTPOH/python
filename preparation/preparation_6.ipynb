{
 "cells": [
  {
   "cell_type": "code",
   "execution_count": 12,
   "metadata": {},
   "outputs": [],
   "source": [
    "graph = {\n",
    "    'A' : {'B' : 5, 'C' : 10, 'D' :20},\n",
    "    'B' : {'A' : 5, 'C' : 4},\n",
    "    'C' : {'A' : 10, 'B' : 4, 'D' :3},\n",
    "    'D' : {'A' : 20, 'C' : 3}\n",
    "}\n",
    "unfinished = {node : float('inf') for node in graph.keys()}\n",
    "finished = {}\n",
    "closest = {}\n",
    "\n",
    "start_point = 'A'\n",
    "current_cost = 0\n",
    "while True:\n",
    "    for node, cost in graph[start_point].items():\n",
    "        if node in finished:\n",
    "            continue\n",
    "        new_cost = current_cost + cost\n",
    "        if new_cost < unfinished[node]:\n",
    "            unfinished[node] = new_cost\n",
    "            closest[node] = start_point\n",
    "    finished[start_point] = current_cost\n",
    "    del unfinished[start_point]\n",
    "    if len(unfinished) == 0:\n",
    "        break\n",
    "    lst = unfinished.items()\n",
    "    lst.sort(key = lambda x: x[1])\n",
    "    start_point, current_cost = lst[0][0], lst[0][1]\n"
   ]
  },
  {
   "cell_type": "code",
   "execution_count": 27,
   "metadata": {},
   "outputs": [],
   "source": [
    "graph = {\n",
    "    'A' : set(['B','C','D']),\n",
    "    'B' : set(['A','E']),\n",
    "    'C' : set(['A','F']),\n",
    "    'D' : set(['A','G']),\n",
    "    'E' : set(['B','H']),\n",
    "    'F' : set(['C','I']),\n",
    "    'G' : set(['D','J']),\n",
    "    'H' : set(['E','I']),\n",
    "    'I' : set(['F','H','J']),\n",
    "    'J' : set(['G','I'])\n",
    "}"
   ]
  },
  {
   "cell_type": "code",
   "execution_count": 28,
   "metadata": {},
   "outputs": [
    {
     "data": {
      "text/plain": [
       "['A', 'C', 'B', 'D', 'F', 'E', 'G', 'I', 'H', 'J']"
      ]
     },
     "execution_count": 28,
     "metadata": {},
     "output_type": "execute_result"
    }
   ],
   "source": [
    "def bfs(graph,start):\n",
    "    queue = [start]\n",
    "    visited = []\n",
    "    while queue:\n",
    "        node = queue.pop(0)\n",
    "        if node not in visited:\n",
    "            visited.append(node)\n",
    "            queue.extend(graph[node] - set(queue))\n",
    "    return visited\n",
    "bfs(graph,'A')"
   ]
  },
  {
   "cell_type": "code",
   "execution_count": 29,
   "metadata": {},
   "outputs": [
    {
     "data": {
      "text/plain": [
       "['A', 'D', 'G', 'J', 'I', 'F', 'C', 'H', 'E', 'B']"
      ]
     },
     "execution_count": 29,
     "metadata": {},
     "output_type": "execute_result"
    }
   ],
   "source": [
    "def dfs(graph,start):\n",
    "    queue = [start]\n",
    "    visited = []\n",
    "    while queue:\n",
    "        node = queue.pop()\n",
    "        if node not in visited:\n",
    "            visited.append(node)\n",
    "            queue.extend(graph[node] - set(visited))\n",
    "    return visited\n",
    "dfs(graph,'A')"
   ]
  },
  {
   "cell_type": "code",
   "execution_count": 30,
   "metadata": {},
   "outputs": [
    {
     "data": {
      "text/plain": [
       "[['A', 'C', 'F', 'I'], ['A', 'B', 'E', 'H', 'I'], ['A', 'D', 'G', 'J', 'I']]"
      ]
     },
     "execution_count": 30,
     "metadata": {},
     "output_type": "execute_result"
    }
   ],
   "source": [
    "def bfs_path(graph,start,goal):\n",
    "    route = [(start,[start])]\n",
    "    while route:\n",
    "        node, path = route.pop(0)\n",
    "        for next in graph[node] - set(path):\n",
    "            if next == goal:\n",
    "                yield path + [next]\n",
    "            else:\n",
    "                route.append((next,path + [next]))\n",
    "list(bfs_path(graph,'A','I'))"
   ]
  },
  {
   "cell_type": "code",
   "execution_count": 31,
   "metadata": {},
   "outputs": [
    {
     "data": {
      "text/plain": [
       "[['A', 'D', 'G', 'J', 'I'], ['A', 'B', 'E', 'H', 'I'], ['A', 'C', 'F', 'I']]"
      ]
     },
     "execution_count": 31,
     "metadata": {},
     "output_type": "execute_result"
    }
   ],
   "source": [
    "def dfs_path(graph,start,goal):\n",
    "    route = [(start,[start])]\n",
    "    while route:\n",
    "        node, path = route.pop()\n",
    "        for next in graph[node] - set(path):\n",
    "            if next == goal:\n",
    "                yield path + [next]\n",
    "            else:\n",
    "                route.append((next,path + [next]))\n",
    "list(dfs_path(graph,'A','I'))"
   ]
  },
  {
   "cell_type": "code",
   "execution_count": 46,
   "metadata": {},
   "outputs": [],
   "source": [
    "class Node():\n",
    "    def __init__(self,val):\n",
    "        self.val = val\n",
    "        self.parent = None\n",
    "        self.left = None\n",
    "        self.right = None\n",
    "        \n",
    "        \n",
    "class Tree():\n",
    "    def __init__(self):\n",
    "        self.root = None\n",
    "        \n",
    "    def insert(self,val):\n",
    "        if self.root == None:\n",
    "            self.root = Node(val)\n",
    "        else:\n",
    "            self._insert(self.root,val)\n",
    "            \n",
    "    def _insert(self,node,val):\n",
    "        if node.val > val:\n",
    "            if node.left == None:\n",
    "                node.left = Node(val)\n",
    "                node.left.parent = node\n",
    "            else:\n",
    "                self._insert(node.left,val)\n",
    "        else:\n",
    "            if node.right == None:\n",
    "                node.right = Node(val)\n",
    "                node.right.parent = node\n",
    "            else:\n",
    "                self._insert(node.right,val)\n",
    "    \n",
    "    def find(self,val):\n",
    "        if self.root != None:\n",
    "            return self._find(self.root,val)\n",
    "            \n",
    "    def _find(self,node,val):\n",
    "        if node.val == val:\n",
    "            return node\n",
    "        elif node.val < val and node.right != None:\n",
    "            return self._find(node.right,val)\n",
    "        elif node.val > val and node.left != None:\n",
    "            return self._find(node.left)\n",
    "    def print_tree(self):\n",
    "        if self.root != None:\n",
    "            self._print_tree(self.root)\n",
    "            \n",
    "    def _print_tree(self,node):\n",
    "        if node != None:\n",
    "            self._print_tree(node.left)\n",
    "            print(node.val)\n",
    "            self._print_tree(node.right)"
   ]
  },
  {
   "cell_type": "code",
   "execution_count": 49,
   "metadata": {},
   "outputs": [],
   "source": [
    "import numpy as np\n",
    "lst = []\n",
    "for n in xrange(30):\n",
    "    lst.append(np.random.randint(0,100))"
   ]
  },
  {
   "cell_type": "code",
   "execution_count": 54,
   "metadata": {},
   "outputs": [],
   "source": [
    "def m_sort(lst):\n",
    "    if len(lst) < 2:\n",
    "        return lst\n",
    "    result = []\n",
    "    mid = len(lst)//2\n",
    "    y = m_sort(lst[:mid])\n",
    "    z = m_sort(lst[mid:])\n",
    "    i = 0\n",
    "    j = 0\n",
    "    while i < len(y) and j < len(z):\n",
    "        if y[i] < z[j]:\n",
    "            result.append(y[i])\n",
    "            i+=1\n",
    "        else:\n",
    "            result.append(z[j])\n",
    "            j+=1\n",
    "    result+=y[i:]\n",
    "    result+=z[j:]\n",
    "    return result"
   ]
  },
  {
   "cell_type": "code",
   "execution_count": 56,
   "metadata": {},
   "outputs": [],
   "source": [
    "def q_sort(lst):\n",
    "    if len(lst) < 2:\n",
    "        return lst\n",
    "    less = []\n",
    "    equal = []\n",
    "    greater = []\n",
    "    pivot = lst[0]\n",
    "    for element in lst:\n",
    "        if element < pivot:\n",
    "            less.append(element)\n",
    "        elif element > pivot:\n",
    "            greater.append(element)\n",
    "        else:\n",
    "            equal.append(element)\n",
    "    return q_sort(less) + equal + q_sort(greater)"
   ]
  },
  {
   "cell_type": "code",
   "execution_count": 75,
   "metadata": {},
   "outputs": [],
   "source": [
    "def binary_search(element,lst):\n",
    "    lower_bound = 0\n",
    "    upper_bound = len(lst)\n",
    "    while lower_bound != upper_bound:\n",
    "        mid = (lower_bound + upper_bound)//2\n",
    "        if element == lst[mid]:\n",
    "            return mid\n",
    "        elif element > lst[mid]:\n",
    "            lower_bound = mid+1\n",
    "        else:\n",
    "            upper_bound = mid\n",
    "    return 'not found'\n",
    "    "
   ]
  },
  {
   "cell_type": "code",
   "execution_count": 150,
   "metadata": {},
   "outputs": [],
   "source": [
    "import numpy as np\n",
    "from matplotlib import pyplot as plt\n",
    "\n",
    "def get_sample(size = 10):\n",
    "    image = np.array([[np.random.randint(0,2) for i in xrange(size)] for j in xrange(size)])\n",
    "    visited = np.zeros((size,size),dtype='bool')\n",
    "    return image,visited\n",
    "\n",
    "def get_neighbours(x,y,size):\n",
    "    check = lambda (x,y): True if 0 <= x < size and 0 <= y < size else False\n",
    "    candidates = [(x+1,y),(x-1,y),(x,y+1),(x,y-1)]\n",
    "    valid = map(check,candidates)\n",
    "    return np.array(candidates)[valid]\n",
    "\n",
    "def visit(x,y,size):\n",
    "    global visited,image\n",
    "    visited[x,y] = True\n",
    "    neighbours = get_neighbours(x,y,size)\n",
    "    for neighbour in neighbours:\n",
    "        new_x,new_y = neighbour[0],neighbour[1]\n",
    "        if visited[new_x,new_y] == False and image[new_x,new_y] == 1:\n",
    "            visit(new_x,new_y,size)\n",
    "        else:\n",
    "            visited[new_x,new_y] = True\n",
    "\n",
    "def main():\n",
    "    global image,visited\n",
    "    image,visited = get_sample()\n",
    "    size = image.shape[0]\n",
    "    group_count = 0\n",
    "    for x in xrange(size):\n",
    "        for y in xrange(size):\n",
    "            if visited[x,y] == False and image[x,y] == 1:\n",
    "                group_count+=1\n",
    "                visit(x,y,size)\n",
    "            else:\n",
    "                visited[x,y] = True\n",
    "    \n",
    "    print('{} groups in total'.format(group_count))\n",
    "    plt.imshow(image)\n",
    "    if np.sum(visited) == size**2:\n",
    "        print('visited all cells')\n",
    "            \n",
    "    \n",
    "            "
   ]
  },
  {
   "cell_type": "code",
   "execution_count": 152,
   "metadata": {},
   "outputs": [
    {
     "name": "stdout",
     "output_type": "stream",
     "text": [
      "9 groups in total\n",
      "visited all cells\n"
     ]
    },
    {
     "data": {
      "image/png": "[encoded data removed]",
      "text/plain": [
       "<matplotlib.figure.Figure at 0x102adf1d0>"
      ]
     },
     "metadata": {},
     "output_type": "display_data"
    }
   ],
   "source": [
    "main()"
   ]
  },
  {
   "cell_type": "code",
   "execution_count": 154,
   "metadata": {},
   "outputs": [],
   "source": [
    "class Node():\n",
    "    def __init__(self):\n",
    "        self.value = None\n",
    "        self.child = {}\n",
    "        \n",
    "class Tree():\n",
    "    def __init__(self):\n",
    "        self.root = Node()\n",
    "        \n",
    "    def insert(self,string,value):\n",
    "        node = self.root\n",
    "        i = 0\n",
    "        while i < len(string):\n",
    "            if string[i] in node.child:\n",
    "                node = node.child[string[i]]\n",
    "                i+=1\n",
    "            else:\n",
    "                break\n",
    "        while i < len(string):\n",
    "            node.child[string[i]] = Node()\n",
    "            node = node.child[string[i]]\n",
    "            i+=1\n",
    "        node.value = value\n",
    "        \n",
    "    def find(self,node,key):\n",
    "        for char in key:\n",
    "            if char in node.child:\n",
    "                node = node.child[char]\n",
    "            else:\n",
    "                return 'None'\n",
    "        return node.value\n",
    "\n",
    "            \n",
    "        "
   ]
  },
  {
   "cell_type": "code",
   "execution_count": 263,
   "metadata": {},
   "outputs": [],
   "source": [
    "class Node():\n",
    "    def __init__(self,value):\n",
    "        self.value = value\n",
    "        self.next = None\n",
    "        self.previous = None\n",
    "        \n",
    "class LinkedList():\n",
    "    def __init__(self):\n",
    "        self.head  = None\n",
    "    \n",
    "    def insert(self,value):\n",
    "        if self.head == None:\n",
    "            self.head = Node(value)\n",
    "        else:\n",
    "            self._insert(self.head,value)\n",
    "        \n",
    "    def _insert(self,node,value):\n",
    "        new_node = Node(value)\n",
    "        new_node.next = self.head\n",
    "        self.head = new_node\n",
    "\n",
    "            \n",
    "    def delete(self,value):\n",
    "        if self.head != None:\n",
    "            self._delete\n",
    "        \n",
    "        \n",
    "        \n",
    "        "
   ]
  },
  {
   "cell_type": "code",
   "execution_count": 224,
   "metadata": {},
   "outputs": [],
   "source": [
    "class Test():\n",
    "    count = 0\n",
    "    def __init__(self):\n",
    "        Test.count+=1\n",
    "    def __del__(self):\n",
    "        Test.count-=1"
   ]
  }
 ],
 "metadata": {
  "kernelspec": {
   "display_name": "Python 2",
   "language": "python",
   "name": "python2"
  },
  "language_info": {
   "codemirror_mode": {
    "name": "ipython",
    "version": 2
   },
   "file_extension": ".py",
   "mimetype": "text/x-python",
   "name": "python",
   "nbconvert_exporter": "python",
   "pygments_lexer": "ipython2",
   "version": "2.7.10"
  }
 },
 "nbformat": 4,
 "nbformat_minor": 2
}
