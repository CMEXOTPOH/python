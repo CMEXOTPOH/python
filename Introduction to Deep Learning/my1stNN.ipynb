{
 "cells": [
  {
   "cell_type": "code",
   "execution_count": 1,
   "metadata": {},
   "outputs": [
    {
     "name": "stderr",
     "output_type": "stream",
     "text": [
      "Using TensorFlow backend.\n"
     ]
    },
    {
     "name": "stdout",
     "output_type": "stream",
     "text": [
      "Downloading data from https://s3.amazonaws.com/img-datasets/mnist.npz\n",
      " 9764864/11490434 [========================>.....] - ETA: 0s(50000, 28, 28) (50000,)\n"
     ]
    },
    {
     "data": {
      "image/png": "[encoded data removed]",
      "text/plain": [
       "<matplotlib.figure.Figure at 0x7fc3e02e8198>"
      ]
     },
     "metadata": {},
     "output_type": "display_data"
    }
   ],
   "source": [
    "from preprocessed_mnist import load_dataset\n",
    "import numpy as np\n",
    "X_train, y_train, X_val, y_val, X_test, y_test = load_dataset()\n",
    "print(X_train.shape, y_train.shape)\n",
    "import matplotlib.pyplot as plt\n",
    "%matplotlib inline\n",
    "plt.imshow(X_train[0], cmap=\"Greys\");"
   ]
  },
  {
   "cell_type": "code",
   "execution_count": 2,
   "metadata": {
    "collapsed": true
   },
   "outputs": [],
   "source": [
    "import tensorflow as tf\n",
    "import numpy as np\n",
    "s = tf.InteractiveSession()"
   ]
  },
  {
   "cell_type": "code",
   "execution_count": 3,
   "metadata": {
    "collapsed": true
   },
   "outputs": [],
   "source": [
    "def flatten(array):\n",
    "    return array.reshape((array.shape[0],28*28))\n",
    "\n",
    "#X_train = flatten(X_train)\n",
    "X_val = flatten(X_val)\n",
    "X_test = flatten(X_test)"
   ]
  },
  {
   "cell_type": "code",
   "execution_count": 4,
   "metadata": {
    "collapsed": true
   },
   "outputs": [],
   "source": [
    "#weights between input and first hidden layer with 128 neurons \n",
    "\n",
    "def make_weights(l_1,l_2,l_3):\n",
    "    global b_1,b_2,b_3,weights_1,weights_2,weights_3\n",
    "    weights_1 = tf.Variable(initial_value= tf.random_normal((X_test.shape[1],l_1),\\\n",
    "                                                            mean=0,stddev=0.2),name='weights_1',dtype='float32')\n",
    "    #weights between  first hidden layer with 128 neurons  and second with 64 neurons\n",
    "\n",
    "    weights_2 = tf.Variable(initial_value= tf.random_normal((l_1,l_2),mean=0,stddev=0.2),\\\n",
    "                            name='weights_2',dtype='float32')\n",
    "\n",
    "    #weights between  second hidden layer with 64 neurons  and softmax output with 10 neurons\n",
    "\n",
    "    weights_3 = tf.Variable(initial_value= tf.random_normal((l_2,l_3),mean=0,stddev=0.2),\\\n",
    "                            name='weights_3',dtype='float32')\n",
    "\n",
    "\n",
    "\n",
    "    b_1 = tf.Variable(tf.random_normal((l_1,),mean=0,stddev=0.1),name='bias_1',dtype='float32')\n",
    "    b_2 = tf.Variable(tf.random_normal((l_2,),mean=0,stddev=0.1),name='bias_2',dtype='float32')\n",
    "    b_3 = tf.Variable(tf.random_normal((l_3,),mean=0,stddev=0.1),name='bias_3',dtype='float32')\n",
    "make_weights(256,256,10)"
   ]
  },
  {
   "cell_type": "code",
   "execution_count": 5,
   "metadata": {
    "collapsed": true
   },
   "outputs": [],
   "source": [
    "input_X = tf.placeholder('float32', shape=(None, X_test.shape[1]))\n",
    "input_y = tf.placeholder('int32', shape=(None,))\n"
   ]
  },
  {
   "cell_type": "code",
   "execution_count": 6,
   "metadata": {
    "collapsed": true
   },
   "outputs": [],
   "source": [
    "predicted_y = tf.nn.sigmoid(tf.matmul(input_X,weights_1) + b_1)\n",
    "predicted_y = tf.nn.sigmoid(tf.matmul(predicted_y,weights_2) + b_2)\n",
    "predicted_y = tf.matmul(predicted_y,weights_3) + b_3 #bug in tf.nn.softmax\n",
    "\n",
    "loss = tf.reduce_mean(tf.nn.sparse_softmax_cross_entropy_with_logits(labels=input_y, logits=predicted_y))\n",
    "optimizer = tf.train.AdamOptimizer().minimize(loss)"
   ]
  },
  {
   "cell_type": "code",
   "execution_count": 7,
   "metadata": {
    "collapsed": true
   },
   "outputs": [],
   "source": [
    "def unison_shuffled_copies(a, b):\n",
    "    assert len(a) == len(b)\n",
    "    p = np.random.permutation(len(a))\n",
    "    return a[p], b[p]"
   ]
  },
  {
   "cell_type": "code",
   "execution_count": 8,
   "metadata": {},
   "outputs": [
    {
     "data": {
      "image/png": "[encoded data removed]",
      "text/plain": [
       "<matplotlib.figure.Figure at 0x7fc32a9a8fd0>"
      ]
     },
     "metadata": {},
     "output_type": "display_data"
    },
    {
     "name": "stdout",
     "output_type": "stream",
     "text": [
      "loss at epoch 21:0.0634\n",
      "accuracy test score at epoch 21:0.9739\n",
      "CPU times: user 4min 37s, sys: 16.4 s, total: 4min 54s\n",
      "Wall time: 2min 42s\n"
     ]
    }
   ],
   "source": [
    "\n",
    "%%time\n",
    "from IPython import display\n",
    "\n",
    "from sklearn.metrics import accuracy_score\n",
    "s.run(tf.global_variables_initializer())\n",
    "break_all = False\n",
    "losses = []\n",
    "losses_t = []\n",
    "iters = []\n",
    "for i in range(22):\n",
    "    if break_all:\n",
    "        break\n",
    "    X_train, y_train = unison_shuffled_copies(X_train, y_train)\n",
    "    for batch in range(0,X_train.shape[0],500):\n",
    "        if np.random.random() > 0.6:\n",
    "            shift_1 = np.random.randint(-5,5)\n",
    "            shift_2 = np.random.randint(-5,5)\n",
    "\n",
    "            X_to_train = np.roll(X_train[0+batch:batch+500],shift_1,1) #naive augmentation\n",
    "            X_to_train = np.roll(X_train[0+batch:batch+500],shift_2,2)\n",
    "        else:\n",
    "            X_to_train = X_train[0+batch:batch+500]\n",
    "        X_to_train = flatten(X_to_train)\n",
    "        s.run(optimizer, {input_X: X_to_train, input_y: y_train[0+batch:batch+500]})\n",
    "        if batch % 10000 == 0:\n",
    "            acc_sc = accuracy_score(y_test, s.run(tf.arg_max(predicted_y,1), {input_X:X_test}))\n",
    "            if acc_sc >= 0.98:\n",
    "                break_all = True\n",
    "                break\n",
    "    \n",
    "    if i % 1 == 0:\n",
    "        loss_i = s.run(loss, {input_X: flatten(X_train), input_y: y_train})\n",
    "        loss_t = s.run(loss, {input_X: X_test, input_y: y_test})\n",
    "        iters.append(i)\n",
    "        losses.append(loss_i)\n",
    "        losses_t.append(loss_t)\n",
    "        plt.plot(iters,losses,color ='blue',label = 'train')\n",
    "        plt.plot(iters,losses_t,color ='red',label = 'test')\n",
    "        plt.xlabel('epochs')\n",
    "        plt.ylabel('loss')\n",
    "        plt.legend()\n",
    "        display.clear_output(wait=True)\n",
    "        plt.show()\n",
    "        print(\"loss at epoch %i:%.4f\" % (i, loss_i))\n",
    "        print(\"accuracy test score at epoch %i:%.4f\" % (i, acc_sc))"
   ]
  },
  {
   "cell_type": "code",
   "execution_count": 9,
   "metadata": {},
   "outputs": [
    {
     "name": "stdout",
     "output_type": "stream",
     "text": [
      "train Acc: 0.98256\n",
      "test Acc: 0.9735\n"
     ]
    }
   ],
   "source": [
    "print(\"train Acc:\", accuracy_score(y_train, s.run(tf.arg_max(predicted_y,1), {input_X:flatten(X_train)}) ))\n",
    "print(\"test Acc:\", accuracy_score(y_test, s.run(tf.arg_max(predicted_y,1), {input_X:X_test})))"
   ]
  },
  {
   "cell_type": "code",
   "execution_count": null,
   "metadata": {
    "collapsed": true
   },
   "outputs": [],
   "source": []
  }
 ],
 "metadata": {
  "kernelspec": {
   "display_name": "Python 3",
   "language": "python",
   "name": "python3"
  },
  "language_info": {
   "codemirror_mode": {
    "name": "ipython",
    "version": 3
   },
   "file_extension": ".py",
   "mimetype": "text/x-python",
   "name": "python",
   "nbconvert_exporter": "python",
   "pygments_lexer": "ipython3",
   "version": "3.6.0"
  }
 },
 "nbformat": 4,
 "nbformat_minor": 2
}
