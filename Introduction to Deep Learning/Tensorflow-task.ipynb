{
 "cells": [
  {
   "cell_type": "markdown",
   "metadata": {
    "slideshow": {
     "slide_type": "slide"
    }
   },
   "source": [
    "# Going deeper with Tensorflow\n",
    "\n",
    "In this video, we're going to study the tools you'll use to build deep learning models. Namely, [Tensorflow](https://www.tensorflow.org/).\n",
    "\n",
    "If you're running this notebook outside the course environment, you'll need to install tensorflow:\n",
    "* `pip install tensorflow` should install cpu-only TF on Linux & Mac OS\n",
    "* If you want GPU support from offset, see [TF install page](https://www.tensorflow.org/install/)"
   ]
  },
  {
   "cell_type": "code",
   "execution_count": 1,
   "metadata": {
    "collapsed": true
   },
   "outputs": [],
   "source": [
    "import sys\n",
    "sys.path.append(\"..\")\n",
    "import grading"
   ]
  },
  {
   "cell_type": "markdown",
   "metadata": {},
   "source": [
    "# Visualization"
   ]
  },
  {
   "cell_type": "markdown",
   "metadata": {},
   "source": [
    "Plase note that if you are running on the Coursera platform, you won't be able to access the tensorboard instance due to the network setup there. If you run the notebook locally, you should be able to access TensorBoard on http://127.0.0.1:7007/"
   ]
  },
  {
   "cell_type": "code",
   "execution_count": 2,
   "metadata": {},
   "outputs": [
    {
     "name": "stdout",
     "output_type": "stream",
     "text": [
      "/bin/sh: 1: killall: not found\r\n"
     ]
    }
   ],
   "source": [
    "! killall tensorboard\n",
    "import os\n",
    "os.system(\"tensorboard --logdir=/tmp/tboard --port=7007 &\");"
   ]
  },
  {
   "cell_type": "code",
   "execution_count": 3,
   "metadata": {
    "collapsed": true
   },
   "outputs": [],
   "source": [
    "import tensorflow as tf\n",
    "s = tf.InteractiveSession()"
   ]
  },
  {
   "cell_type": "markdown",
   "metadata": {},
   "source": [
    "# Warming up\n",
    "For starters, let's implement a python function that computes the sum of squares of numbers from 0 to N-1."
   ]
  },
  {
   "cell_type": "code",
   "execution_count": 4,
   "metadata": {
    "collapsed": true
   },
   "outputs": [],
   "source": [
    "import numpy as np\n",
    "def sum_sin(N):\n",
    "    return np.sum(np.arange(N)**2)"
   ]
  },
  {
   "cell_type": "code",
   "execution_count": 5,
   "metadata": {},
   "outputs": [
    {
     "name": "stdout",
     "output_type": "stream",
     "text": [
      "CPU times: user 180 ms, sys: 2.41 s, total: 2.59 s\n",
      "Wall time: 3.86 s\n"
     ]
    },
    {
     "data": {
      "text/plain": [
       "662921401752298880"
      ]
     },
     "execution_count": 5,
     "metadata": {},
     "output_type": "execute_result"
    }
   ],
   "source": [
    "%%time\n",
    "sum_sin(10**8)"
   ]
  },
  {
   "cell_type": "markdown",
   "metadata": {},
   "source": [
    "# Tensoflow teaser\n",
    "\n",
    "Doing the very same thing"
   ]
  },
  {
   "cell_type": "code",
   "execution_count": 6,
   "metadata": {
    "collapsed": true
   },
   "outputs": [],
   "source": [
    "# An integer parameter\n",
    "N = tf.placeholder('int64', name=\"input_to_your_function\")\n",
    "\n",
    "# A recipe on how to produce the same result\n",
    "result = tf.reduce_sum(tf.range(N)**2)"
   ]
  },
  {
   "cell_type": "code",
   "execution_count": 7,
   "metadata": {},
   "outputs": [
    {
     "data": {
      "text/plain": [
       "<tf.Tensor 'Sum:0' shape=() dtype=int64>"
      ]
     },
     "execution_count": 7,
     "metadata": {},
     "output_type": "execute_result"
    }
   ],
   "source": [
    "result"
   ]
  },
  {
   "cell_type": "code",
   "execution_count": 8,
   "metadata": {},
   "outputs": [
    {
     "name": "stdout",
     "output_type": "stream",
     "text": [
      "CPU times: user 436 ms, sys: 928 ms, total: 1.36 s\n",
      "Wall time: 1.57 s\n"
     ]
    },
    {
     "data": {
      "text/plain": [
       "662921401752298880"
      ]
     },
     "execution_count": 8,
     "metadata": {},
     "output_type": "execute_result"
    }
   ],
   "source": [
    "%%time\n",
    "result.eval({N: 10**8})"
   ]
  },
  {
   "cell_type": "code",
   "execution_count": 9,
   "metadata": {
    "collapsed": true
   },
   "outputs": [],
   "source": [
    "writer = tf.summary.FileWriter(\"/tmp/tboard\", graph=s.graph)"
   ]
  },
  {
   "cell_type": "markdown",
   "metadata": {},
   "source": [
    "# How does it work?\n",
    "1. Define placeholders where you'll send inputs\n",
    "2. Make symbolic graph: a recipe for mathematical transformation of those placeholders\n",
    "3. Compute outputs of your graph with particular values for each placeholder\n",
    "  * `output.eval({placeholder:value})`\n",
    "  * `s.run(output, {placeholder:value})`\n",
    "\n",
    "So far there are two main entities: \"placeholder\" and \"transformation\"\n",
    "* Both can be numbers, vectors, matrices, tensors, etc.\n",
    "* Both can be int32/64, floats, booleans (uint8) of various size.\n",
    "\n",
    "* You can define new transformations as an arbitrary operation on placeholders and other transformations\n",
    " * `tf.reduce_sum(tf.arange(N)**2)` are 3 sequential transformations of placeholder `N`\n",
    " * There's a tensorflow symbolic version for every numpy function\n",
    "   * `a+b, a/b, a**b, ...` behave just like in numpy\n",
    "   * `np.mean` -> `tf.reduce_mean`\n",
    "   * `np.arange` -> `tf.range`\n",
    "   * `np.cumsum` -> `tf.cumsum`\n",
    "   * If if you can't find the op you need, see the [docs](https://www.tensorflow.org/api_docs/python).\n",
    "   \n",
    "`tf.contrib` has many high-level features, may be worth a look."
   ]
  },
  {
   "cell_type": "code",
   "execution_count": 10,
   "metadata": {
    "collapsed": true
   },
   "outputs": [],
   "source": [
    "with tf.name_scope(\"Placeholders_examples\"):\n",
    "    # Default placeholder that can be arbitrary float32\n",
    "    # scalar, vertor, matrix, etc.\n",
    "    arbitrary_input = tf.placeholder('float32')\n",
    "\n",
    "    # Input vector of arbitrary length\n",
    "    input_vector = tf.placeholder('float32', shape=(None,))\n",
    "\n",
    "    # Input vector that _must_ have 10 elements and integer type\n",
    "    fixed_vector = tf.placeholder('int32', shape=(10,))\n",
    "\n",
    "    # Matrix of arbitrary n_rows and 15 columns\n",
    "    # (e.g. a minibatch your data table)\n",
    "    input_matrix = tf.placeholder('float32', shape=(None, 15))\n",
    "    \n",
    "    # You can generally use None whenever you don't need a specific shape\n",
    "    input1 = tf.placeholder('float64', shape=(None, 100, None))\n",
    "    input2 = tf.placeholder('int32', shape=(None, None, 3, 224, 224))\n",
    "\n",
    "    # elementwise multiplication\n",
    "    double_the_vector = input_vector*2\n",
    "\n",
    "    # elementwise cosine\n",
    "    elementwise_cosine = tf.cos(input_vector)\n",
    "\n",
    "    # difference between squared vector and vector itself plus one\n",
    "    vector_squares = input_vector**2 - input_vector + 1"
   ]
  },
  {
   "cell_type": "code",
   "execution_count": 11,
   "metadata": {
    "collapsed": true
   },
   "outputs": [],
   "source": [
    "my_vector =  tf.placeholder('float32', shape=(None,), name=\"VECTOR_1\")\n",
    "my_vector2 = tf.placeholder('float32', shape=(None,))\n",
    "my_transformation = my_vector * my_vector2 / (tf.sin(my_vector) + 1)"
   ]
  },
  {
   "cell_type": "code",
   "execution_count": 12,
   "metadata": {},
   "outputs": [
    {
     "name": "stdout",
     "output_type": "stream",
     "text": [
      "Tensor(\"truediv:0\", shape=(?,), dtype=float32)\n"
     ]
    }
   ],
   "source": [
    "print(my_transformation)"
   ]
  },
  {
   "cell_type": "code",
   "execution_count": 13,
   "metadata": {},
   "outputs": [
    {
     "name": "stdout",
     "output_type": "stream",
     "text": [
      "[ 0.  1.  2.  3.  4.]\n"
     ]
    },
    {
     "data": {
      "text/plain": [
       "array([ 0.        ,  1.62913239,  2.09501147,  2.62899613,  0.        ], dtype=float32)"
      ]
     },
     "execution_count": 13,
     "metadata": {},
     "output_type": "execute_result"
    }
   ],
   "source": [
    "dummy = np.arange(5).astype('float32')\n",
    "print(dummy)\n",
    "my_transformation.eval({my_vector:dummy, my_vector2:dummy[::-1]})"
   ]
  },
  {
   "cell_type": "code",
   "execution_count": 14,
   "metadata": {
    "collapsed": true
   },
   "outputs": [],
   "source": [
    "writer.add_graph(my_transformation.graph)\n",
    "writer.flush()"
   ]
  },
  {
   "cell_type": "markdown",
   "metadata": {},
   "source": [
    "TensorBoard allows writing scalars, images, audio, histogram. You can read more on tensorboard usage [here](https://www.tensorflow.org/get_started/graph_viz)."
   ]
  },
  {
   "cell_type": "markdown",
   "metadata": {},
   "source": [
    "# Summary\n",
    "* Tensorflow is based on computation graphs\n",
    "* The graphs consist of placehlders and transformations"
   ]
  },
  {
   "cell_type": "markdown",
   "metadata": {},
   "source": [
    "# Mean squared error\n",
    "\n",
    "Your assignment is to implement mean squared error in tensorflow."
   ]
  },
  {
   "cell_type": "code",
   "execution_count": 15,
   "metadata": {
    "collapsed": true
   },
   "outputs": [],
   "source": [
    "with tf.name_scope(\"MSE\"):\n",
    "    y_true = tf.placeholder(\"float32\", shape=(None,), name=\"y_true\")\n",
    "    y_predicted = tf.placeholder(\"float32\", shape=(None,), name=\"y_predicted\")\n",
    "    # Your code goes here\n",
    "    # You want to use tf.reduce_mean\n",
    "    mse = tf.reduce_mean((y_true - y_predicted)**2)\n",
    "def compute_mse(vector1, vector2):\n",
    "    return mse.eval({y_true: vector1, y_predicted: vector2})"
   ]
  },
  {
   "cell_type": "code",
   "execution_count": 16,
   "metadata": {
    "collapsed": true
   },
   "outputs": [],
   "source": [
    "writer.add_graph(mse.graph)\n",
    "writer.flush()"
   ]
  },
  {
   "cell_type": "markdown",
   "metadata": {},
   "source": [
    "Tests and result submission. Please use the credentials obtained from the Coursera assignment page."
   ]
  },
  {
   "cell_type": "code",
   "execution_count": 17,
   "metadata": {
    "collapsed": true
   },
   "outputs": [],
   "source": [
    "import submit"
   ]
  },
  {
   "cell_type": "code",
   "execution_count": 18,
   "metadata": {},
   "outputs": [
    {
     "name": "stdout",
     "output_type": "stream",
     "text": [
      "Submitted to Coursera platform. See results on assignment page!\n"
     ]
    }
   ],
   "source": [
    "submit.submit_mse(compute_mse, 'VENHEADs@yandex.ru', 'xsnlHU1LJCjQFp1h')"
   ]
  },
  {
   "cell_type": "markdown",
   "metadata": {},
   "source": [
    "# Variables\n",
    "\n",
    "The inputs and transformations have no value outside function call. This isn't too comfortable if you want your model to have parameters (e.g. network weights) that are always present, but can change their value over time.\n",
    "\n",
    "Tensorflow solves this with `tf.Variable` objects.\n",
    "* You can assign variable a value at any time in your graph\n",
    "* Unlike placeholders, there's no need to explicitly pass values to variables when `s.run(...)`-ing\n",
    "* You can use variables the same way you use transformations \n",
    " "
   ]
  },
  {
   "cell_type": "code",
   "execution_count": 20,
   "metadata": {},
   "outputs": [
    {
     "name": "stdout",
     "output_type": "stream",
     "text": [
      "Initial value [ 1.  1.  1.  1.  1.]\n"
     ]
    }
   ],
   "source": [
    "# Initialize variable(s) with initial values\n",
    "s.run(tf.global_variables_initializer())\n",
    "\n",
    "# Evaluating shared variable (outside symbolicd graph)\n",
    "print(\"Initial value\", s.run(shared_vector_1))\n",
    "\n",
    "# Within symbolic graph you use them just\n",
    "# as any other inout or transformation, not \"get value\" needed"
   ]
  },
  {
   "cell_type": "code",
   "execution_count": 21,
   "metadata": {},
   "outputs": [
    {
     "name": "stdout",
     "output_type": "stream",
     "text": [
      "New value [ 0.  1.  2.  3.  4.]\n"
     ]
    }
   ],
   "source": [
    "# Setting a new value\n",
    "s.run(shared_vector_1.assign(np.arange(5)))\n",
    "\n",
    "# Getting that new value\n",
    "print(\"New value\", s.run(shared_vector_1))"
   ]
  },
  {
   "cell_type": "markdown",
   "metadata": {},
   "source": [
    "# tf.gradients - why graphs matter\n",
    "* Tensorflow can compute derivatives and gradients automatically using the computation graph\n",
    "* True to its name it can manage matrix derivatives\n",
    "* Gradients are computed as a product of elementary derivatives via the chain rule:\n",
    "\n",
    "$$ {\\partial f(g(x)) \\over \\partial x} = {\\partial f(g(x)) \\over \\partial g(x)}\\cdot {\\partial g(x) \\over \\partial x} $$\n",
    "\n",
    "It can get you the derivative of any graph as long as it knows how to differentiate elementary operations"
   ]
  },
  {
   "cell_type": "code",
   "execution_count": 22,
   "metadata": {},
   "outputs": [
    {
     "data": {
      "text/plain": [
       "[array([-18.        , -17.26530647, -16.53061295, -15.79591751,\n",
       "        -15.06122398, -14.32653046, -13.59183693, -12.85714245,\n",
       "        -12.12244892, -11.38775539, -10.65306091,  -9.91836739,\n",
       "         -9.18367386,  -8.44898033,  -7.71428585,  -6.97959232,\n",
       "         -6.24489784,  -5.51020384,  -4.77550983,  -4.04081631,\n",
       "         -3.3061223 ,  -2.57142854,  -1.83673477,  -1.10204077,\n",
       "         -0.36734694,   0.36734694,   1.10204077,   1.83673477,\n",
       "          2.57142854,   3.3061223 ,   4.04081631,   4.77550983,\n",
       "          5.51020384,   6.24489784,   6.97959232,   7.71428585,\n",
       "          8.44898033,   9.18367386,   9.91836739,  10.65306091,\n",
       "         11.38775539,  12.12244892,  12.85714245,  13.59183693,\n",
       "         14.32653046,  15.06122398,  15.79591751,  16.53061295,\n",
       "         17.26530647,  18.        ], dtype=float32)]"
      ]
     },
     "execution_count": 22,
     "metadata": {},
     "output_type": "execute_result"
    }
   ],
   "source": [
    "my_scalar = tf.placeholder('float32')\n",
    "\n",
    "scalar_squared = my_scalar**3\n",
    "x = np.linspace(-3, 3)\n",
    "\n",
    "# A derivative of scalar_squared by my_scalar\n",
    "derivative = tf.gradients(scalar_squared, [my_scalar,])\n",
    "derivative_1 = tf.gradients(derivative, [my_scalar,])\n",
    "s.run([derivative_1[0]],\n",
    "                                 {my_scalar:x})"
   ]
  },
  {
   "cell_type": "code",
   "execution_count": 23,
   "metadata": {},
   "outputs": [
    {
     "data": {
      "text/plain": [
       "[array([-6.        , -5.75510216, -5.51020432, -5.265306  , -5.02040815,\n",
       "        -4.77551031, -4.53061247, -4.28571415, -4.04081631, -3.79591846,\n",
       "        -3.55102038, -3.30612254, -3.06122446, -2.81632662, -2.57142854,\n",
       "        -2.32653069, -2.08163261, -1.83673465, -1.59183669, -1.34693873,\n",
       "        -1.10204077, -0.85714287, -0.6122449 , -0.36734694, -0.12244898,\n",
       "         0.12244898,  0.36734694,  0.6122449 ,  0.85714287,  1.10204077,\n",
       "         1.34693873,  1.59183669,  1.83673465,  2.08163261,  2.32653069,\n",
       "         2.57142854,  2.81632662,  3.06122446,  3.30612254,  3.55102038,\n",
       "         3.79591846,  4.04081631,  4.28571415,  4.53061247,  4.77551031,\n",
       "         5.02040815,  5.265306  ,  5.51020432,  5.75510216,  6.        ], dtype=float32)]"
      ]
     },
     "execution_count": 23,
     "metadata": {},
     "output_type": "execute_result"
    }
   ],
   "source": [
    "scalar_squared = my_scalar**2\n",
    "derivative = tf.gradients(scalar_squared, [my_scalar,])\n",
    "s.run([derivative[0]],\n",
    "                                 {my_scalar:x})"
   ]
  },
  {
   "cell_type": "code",
   "execution_count": 24,
   "metadata": {},
   "outputs": [
    {
     "data": {
      "text/plain": [
       "[<tf.Tensor 'gradients_2/pow_2_grad/Reshape:0' shape=<unknown> dtype=float32>]"
      ]
     },
     "execution_count": 24,
     "metadata": {},
     "output_type": "execute_result"
    }
   ],
   "source": [
    "derivative"
   ]
  },
  {
   "cell_type": "code",
   "execution_count": 25,
   "metadata": {},
   "outputs": [
    {
     "data": {
      "image/png": "[encoded data removed]",
      "text/plain": [
       "<matplotlib.figure.Figure at 0x7f5891514940>"
      ]
     },
     "metadata": {},
     "output_type": "display_data"
    }
   ],
   "source": [
    "import matplotlib.pyplot as plt\n",
    "%matplotlib inline\n",
    "\n",
    "x = np.linspace(-3, 3)\n",
    "x_squared, x_squared_der = s.run([scalar_squared, derivative[0]],\n",
    "                                 {my_scalar:x})\n",
    "\n",
    "plt.plot(x, x_squared,label=\"$x^2$\")\n",
    "plt.plot(x, x_squared_der, label=r\"$\\frac{dx^2}{dx}$\")\n",
    "plt.legend();"
   ]
  },
  {
   "cell_type": "markdown",
   "metadata": {},
   "source": [
    "# Why that rocks"
   ]
  },
  {
   "cell_type": "code",
   "execution_count": 26,
   "metadata": {
    "collapsed": true
   },
   "outputs": [],
   "source": [
    "my_vector = tf.placeholder('float32', [None])\n",
    "# Compute the gradient of the next weird function over my_scalar and my_vector\n",
    "# Warning! Trying to understand the meaning of that function may result in permanent brain damage\n",
    "weird_psychotic_function = tf.reduce_mean(\n",
    "    (my_vector+my_scalar)**(1+tf.nn.moments(my_vector,[0])[1]) + \n",
    "    1./ tf.atan(my_scalar))/(my_scalar**2 + 1) + 0.01*tf.sin(\n",
    "    2*my_scalar**1.5)*(tf.reduce_sum(my_vector)* my_scalar**2\n",
    "                      )*tf.exp((my_scalar-4)**2)/(\n",
    "    1+tf.exp((my_scalar-4)**2))*(1.-(tf.exp(-(my_scalar-4)**2)\n",
    "                                    )/(1+tf.exp(-(my_scalar-4)**2)))**2\n",
    "\n",
    "der_by_scalar = tf.gradients(weird_psychotic_function, my_scalar)\n",
    "der_by_vector = tf.gradients(weird_psychotic_function, my_vector)"
   ]
  },
  {
   "cell_type": "code",
   "execution_count": 27,
   "metadata": {},
   "outputs": [
    {
     "data": {
      "image/png": "[encoded data removed]",
      "text/plain": [
       "<matplotlib.figure.Figure at 0x7f5890eac4a8>"
      ]
     },
     "metadata": {},
     "output_type": "display_data"
    }
   ],
   "source": [
    "# Plotting the derivative\n",
    "scalar_space = np.linspace(1, 70, 1000)\n",
    "\n",
    "y = [s.run(weird_psychotic_function, {my_scalar:x, my_vector:[1, 2, 3]})\n",
    "     for x in scalar_space]\n",
    "\n",
    "plt.plot(scalar_space, y, label='function')\n",
    "\n",
    "y_der_by_scalar = [s.run(der_by_scalar,\n",
    "                         {my_scalar:x, my_vector:[1, 2, 3]})\n",
    "                   for x in scalar_space]\n",
    "\n",
    "plt.plot(scalar_space, y_der_by_scalar, label='derivative')\n",
    "plt.grid()\n",
    "plt.legend();"
   ]
  },
  {
   "cell_type": "markdown",
   "metadata": {},
   "source": [
    "# Almost done - optimizers\n",
    "\n",
    "While you can perform gradient descent by hand with automatic grads from above, tensorflow also has some optimization methods implemented for you. Recall momentum & rmsprop?"
   ]
  },
  {
   "cell_type": "code",
   "execution_count": 73,
   "metadata": {
    "collapsed": true
   },
   "outputs": [],
   "source": [
    "y_guess = tf.Variable(np.zeros(2, dtype='float32'))\n",
    "y_true = tf.range(1, 3, dtype='float32')\n",
    "loss = tf.reduce_mean((y_guess - y_true + tf.random_normal([2]))**2) \n",
    "#loss = tf.reduce_mean((y_guess - y_true)**2) \n",
    "optimizer = tf.train.MomentumOptimizer(0.01, 0.5).minimize(\n",
    "    loss, var_list=y_guess)"
   ]
  },
  {
   "cell_type": "code",
   "execution_count": 74,
   "metadata": {},
   "outputs": [
    {
     "data": {
      "image/png": "[encoded data removed]",
      "text/plain": [
       "<matplotlib.figure.Figure at 0x7f58890f8da0>"
      ]
     },
     "metadata": {},
     "output_type": "display_data"
    }
   ],
   "source": [
    "from matplotlib import animation, rc\n",
    "import matplotlib_utils\n",
    "from IPython.display import HTML, display_html\n",
    "\n",
    "fig, ax = plt.subplots()\n",
    "y_true_value = s.run(y_true)\n",
    "level_x = np.arange(0, 2, 0.02)\n",
    "level_y = np.arange(0, 3, 0.02)\n",
    "X, Y = np.meshgrid(level_x, level_y)\n",
    "Z = (X - y_true_value[0])**2 + (Y - y_true_value[1])**2\n",
    "ax.set_xlim(-0.02, 2)\n",
    "ax.set_ylim(-0.02, 3)\n",
    "s.run(tf.global_variables_initializer())\n",
    "ax.scatter(*s.run(y_true), c='red')\n",
    "contour = ax.contour(X, Y, Z, 10)\n",
    "ax.clabel(contour, inline=1, fontsize=10)\n",
    "line, = ax.plot([], [], lw=2)\n",
    "\n",
    "def init():\n",
    "    line.set_data([], [])\n",
    "    return (line,)\n",
    "\n",
    "guesses = [s.run(y_guess)]\n",
    "\n",
    "def animate(i):\n",
    "    s.run(optimizer)\n",
    "    guesses.append(s.run(y_guess))\n",
    "    line.set_data(*zip(*guesses))\n",
    "    return (line,)\n",
    "\n",
    "anim = animation.FuncAnimation(fig, animate, init_func=init,\n",
    "                               frames=400, interval=20, blit=True)"
   ]
  },
  {
   "cell_type": "code",
   "execution_count": 75,
   "metadata": {},
   "outputs": [
    {
     "data": {
      "text/html": [
       "<img src=\"data:image/jpeg;base64,/9j/4AAQSkZJRgABAQAAAQABAAD/2wBDAAIBAQEBAQIBAQECAgICAgQDAgICAgUEBAMEBgUGBgYFBgYGBwkIBgcJBwYGCAsICQoKCgoKBggLDAsKDAkKCgr/2wBDAQICAgICAgUDAwUKBwYHCgoKCgoKCgoKCgoKCgoKCgoKCgoKCgoKCgoKCgoKCgoKCgoKCgoKCgoKCgoKCgoKCgr/wAARCAEgAbADASIAAhEBAxEB/8QAHwAAAQUBAQEBAQEAAAAAAAAAAAECAwQFBgcICQoL/8QAtRAAAgEDAwIEAwUFBAQAAAF9AQIDAAQRBRIhMUEGE1FhByJxFDKBkaEII0KxwRVS0fAkM2JyggkKFhcYGRolJicoKSo0NTY3ODk6Q0RFRkdISUpTVFVWV1hZWmNkZWZnaGlqc3R1dnd4eXqDhIWGh4iJipKTlJWWl5iZmqKjpKWmp6ipqrKztLW2t7i5usLDxMXGx8jJytLT1NXW19jZ2uHi4%2BTl5ufo6erx8vP09fb3%2BPn6/8QAHwEAAwEBAQEBAQEBAQAAAAAAAAECAwQFBgcICQoL/8QAtREAAgECBAQDBAcFBAQAAQJ3AAECAxEEBSExBhJBUQdhcRMiMoEIFEKRobHBCSMzUvAVYnLRChYkNOEl8RcYGRomJygpKjU2Nzg5OkNERUZHSElKU1RVVldYWVpjZGVmZ2hpanN0dXZ3eHl6goOEhYaHiImKkpOUlZaXmJmaoqOkpaanqKmqsrO0tba3uLm6wsPExcbHyMnK0tPU1dbX2Nna4uPk5ebn6Onq8vP09fb3%2BPn6/9oADAMBAAIRAxEAPwD9/KKKKACiiigAooooAKKKKACiiigAooooAKKKKACiiigAooooAKKKKACiiigAooooAKKKKACiiigAooooAKKKKACiiigAooooAKKKKACiiigAooooAKKKKACiiigAooooAKKKKACiiigAooooAKKKKACiiigAorj/AAR%2B0J8A/iZ431n4Z/Dj44eD/EHiTw5JJH4h8P6J4ltbu%2B0t0kMTrcQRSNJAVkBQh1GGG088VZtfjb8Gb74p3PwLsvi54Ym8b2dgL288HRa/btqsFqQpE72gfzljIdPnK7fmXnkUAdPRRRQAUUUUAFFFFABRRRQAUUUUAFFFFABRRRQAUUUUAFFFFABRRRQAUUUUAFFFFABRRRQAUUUUAFFFFABRRRQAUUUUAFFFFABRRRQAUUUUAFFFFABRRRQAUUUUAFFFFABRRRQAUUUUAfIz%2BIrvxH/wUT0j40aVp3xZ1nw/4Z8I6/pWr2XiP4WX%2Bn6b4Ukmn0yMNpUo06CbVWu5bUtJiS%2BRUQyxvbxjbLy/g74f/EGL9qTw98N5fhR4oh17Qf2nfEnj3WvGcvhq6TSpvDt5oWp29tImpmP7NPIVvbDT/sqyGZPszMYxHCr19w0UAeIftr%2BO/wBp34WeFtF8bfAPx94D022ufF/hzw/qFj4v8B3uqyO%2Bq67Y6X9ojlttVsxGIkvDJ5ZR95jA3oDkWf8AhB/%2BChf/AEdB8Gf/AAw%2Brf8AzUUft4f8kQ0P/ss3w4/9TXRK9moA8Z/4Qf8A4KF/9HQfBn/ww%2Brf/NRVbWdA/bz8OaRdeIPEP7W3wQsLCyt3nvb29%2BB2qRQ28SAs0ju3ikKigAkkkAAZrtvhz8ddL%2BIPxC8S/DO58F65oGp%2BHTHIkWuxQx/2nZvJNEt5biOVy0JlglTLBW4UlQHUnwnxj4Y%2BMnh7SfE/w8%2BNujX%2BsaZ8RPFEvhqz8ZS%2BM3nuFS8eQ2EkOlRwrDawQsyQuY2EpCNOwKqSOulhHOfLN2emnVp9tbOyu/6dsZ1Uo3Svv/X3lHxB8b/27NYt/Cy/AD9pj4A%2BOLnxXqV3bWWPhRqtnboLWBp58y/8JHKfNCqAsRUFtwJKoC47H4Paz%2B3j8Zfh1p3xD0P9pT4RWkd4JYrqwvPgJqyz2V1DK8FxbSj/AISjiSKaOSNscbkOOKzfC3wc%2BK/xk%2BI914s8Z%2BCNU8Aatplhpl2de32sscviW1M0TXVtHHI3m272k8sT7wm%2BO5ZPvLlPb/gn8K5vhL4RuNG1LxGNX1PUtYvNV1nU0sVtUuLu5lMkjJCpYRoMgBdzHC5LMSSdcTTwtKlyxfvffvfqtNrbWflrpNKVWUrvb%2BvmeEeBx/wWR8RfFHWNF8XeKPgJ4e8H2FxPDpniCf4dapc32qbWxHMlnF4gKRRuAW/eThxkZTOcegf8IP8A8FC/%2BjoPgz/4YfVv/mor2aiuKclN3UUvS/6tm0U0tXc8Z/4Qf/goX/0dB8Gf/DD6t/8ANRR/wg//AAUL/wCjoPgz/wCGH1b/AOaivZqw/iF8T/ht8JPDsni/4qfEDRPDWlQ/63Ute1SGzgXjODJKyrn8amMZSdoq7K3PNf8AhB/%2BChf/AEdB8Gf/AAw%2Brf8AzUUf8IP/AMFC/wDo6D4M/wDhh9W/%2BaiuQn/4Kh/BjxncPpn7Lfwu%2BInxlulcx/afAPhOX%2BzEkzgB9SvDBaBf9pZH78HFNHiv/gqv8XOfD3wo%2BFXwe0%2BX5Wl8V65ceJtVjH98QWQgtVb2M7jPr1rs/s/ER/i2h/iaT%2B7WX/kpfJLrodj/AMIP/wAFC/8Ao6D4M/8Ahh9W/wDmorK8XH9tXwBpZ1vx5%2B2j8BNEsl%2B9eav8F9Stoh/wOTxUB%2BtYn/DB3xr%2BIH779or/AIKJfFfXc8PpvgZ7TwnYsvdStjGbgj63BODyTWt4R/4JZ/sB%2BE9UGv3H7NOh%2BItT6vqnjiWfX7h267i%2BoyTHOeeMY7Yo9lgYfHVcv8Mf1k1%2BQWgup4x4q/4KMP4T1I6Kf%2BCo37O2tXwyBZeD/gRrmuzE%2BgTTvEs5J7YxWb/w3d%2B3rr//ACSnwjrXi1H/AOPe8tP2O9a022l9CJdT8W2w2%2B/P0r7m8K%2BCvBvgTTRovgjwlpmjWa/dtNKsI7eIf8BjUD9K06Pa4CPw0pP1lb8Ix/ULw7HwPH8av%2BDgjxA4bwj%2BzN8I7OBz8k3jHRfsJx6lLTxNeMv0IzXffCy1/wCC7ev%2BI7T/AIW94p/ZT8N6I%2B77ZLo/hPxHqd9F8jbdsTalBE3z7QcyjAJPJAB%2BuqKieIpSjaNKK/8AAm/xl%2BgnJdjxn/hB/wDgoX/0dB8Gf/DD6t/81FH/AAg//BQv/o6D4M/%2BGH1b/wCaivZqK5STxn/hB/8AgoX/ANHQfBn/AMMPq3/zUUf8IP8A8FC/%2BjoPgz/4YfVv/mor2aigDxn/AIQf/goX/wBHQfBn/wAMPq3/AM1FH/CD/wDBQv8A6Og%2BDP8A4YfVv/mor2aigDxn/hB/%2BChf/R0HwZ/8MPq3/wA1FH/CD/8ABQvt%2B1B8Gf8Aww%2Brf/NRXs1FAHxJ4k1P/g4i8P7pdK0j9kfX0H3E0%2Bw8RW8jD3E96qg/8CNYI/aJ/wCC63hg%2Bd8Sv2XvBot1/wBZP4J8CQ6wf%2BAxyeMLaRv%2B%2BRX3zRXZHE0bWlRi/wDwJflJ/kVzLsfK/wCz98Sv%2BChPx%2B0zUr9/GnhvwRNpk8cU1j8Qf2YtX06WYspO6EjxY6TKMYLIxAJA71pfEvxF/wAFBvh74t8EeC7f9oL4M6he%2BNvEj6Xbr/wpTVYRaxRWNzeTXJ/4qZt4VLbbs%2BXLSKNwr6Wrzbx/%2BzPoHjv4y6D8dU%2BI/jDSdb8O288NhbafrKyaeVmiaKQtZ3EcsIYqeXRVf5R83XMU5Yd13Jq0bOy1lrZ27PfW/QFy3PBf2g/jh/wUO%2BCWpXmmaH8V/hH4kfQPDMniXxhJD8GdStk0nR42kDT5fxOTNKfJmKQqAWELfMOM60Hxz/aoufinb/CGL9rP4VnUrm7SyS7/AOGbde%2BwrfvaC8Wxa6/4SXyluTbETeUWB2%2B4xXb/ABj/AGSvHXxJ8U31xpHxXtLTR/Fvh6w0bx8l1ope9u7e1mkk3WsiSpHCZlkeGRWjZQrFkw2c8PqP7PH7SK6v4g8LaD4b06z0/TfFeu%2BL9B8S/wBqKf7Sv5bcppVsIBmSLySyrK78MLddmRIQnXTo4GpSScrO3e333XR9F038qSg0dT4Q179rv4gavqvh/wACftzfs%2Ba1qGhXAg1ux0r4O6hcTafISQEnRPFZaIkq2AwGcH0rf/4Qf/goX/0dB8Gf/DD6t/8ANRXF/sZeCtWfxvoXiLRPBHiDw54Z8GfCDTvCaQeJdBm0271HUzMJrl3imVXkEIiTE2NjyXc5RnBLH0f4l/ttfsqfBj4q2/wW%2BMHxs0fwr4gu7OO5s4vEbPZW1wjlgoS7mVbdnypygk3jIyBuGeethJKu6dFOVlfRXfntfyfW1yXHWyMz/hB/%2BChf/R0HwZ/8MPq3/wA1FH/CD/8ABQv/AKOg%2BDP/AIYfVv8A5qK9f0vVdM1zTodX0XUoLy0uYxJb3VrMskcqHoyspIYH1FT1x7EnjP8Awg//AAUL/wCjoPgz/wCGH1b/AOaivP8AwGP%2BCyGo/FLVfB/xL8UfATSfDkFvLNo3i/R/h1ql9HeYlVUhltpPEEMsEpRi5wHjGxhvPy5%2BpqKuM1FNOKd/XTzWv53Jaba1Pmf48eIv%2BCh/wV%2BHFx41sPjv8F9d1F7q3sdG0I/BrV7RtRvriVYbeBZB4jl2lpHUE7DhdzHhTV/4ieI/2wPhBo9pr3xY/ba%2BAnh2zvb2Ozgu9W%2BCmqQwtcPnam9/FIAzg8nA47V6B8VvgFqvxB%2BJ3hf4raX8TdStJfCt2bq28M30Edzo93N9nuIVmki2rKkyi5YrIkgA2qSjEDHC/tNQ/EnxB4m8NL4X%2BFfixvF2g3kEnhzWNKeCbQLk3Pl29/HeCQsUiSCSfJliRyozCxc7R10aVCqoQv3bezXZa6WVt9d3poZTnUhzO3a39I2bTwl/wUAv7WK/sP2qvgrPBPGskM0PwK1VkkQjIZSPFOCCDkEVJ/wg/wDwUL/6Og%2BDP/hh9W/%2BaivNdS%2BMuueHtf0z4uRfEy50Hw1a%2BK9StLHwjZ20MenQeGNKW4TULuaLZv377d3VwRtCRqnDkN7F8G/j74n%2BIXjWbwN47%2BFzeFr2Xw3a6/pVrLq4uZ3sppHj23MYjX7NOrpgx5cfNw5KsqzVwVWnHmWq/L/O11e2g4V4SdjjNS8Y/tm/CX40/Crw18Ufi38MPEvh/wAeeNbvQdTtNA%2BF2o6ReW4j8P6vqcc0VxNrl2gPm6dGjK0JysjYKkA19A14z%2B1B/wAlv/Zx/wCyzX3/AKhXiivZq4zYKKKKACiiigAooooAKKKKACiiigDxn9vD/kiGh/8AZZvhx/6muiV0/gH9pT4cfFD4t%2BIvhB4Dg1jUbnwoGj17Wo9HlXS7a8V1VrEXTAJJcru3MibtoByQRiuY/bw/5Ihof/ZZvhx/6muiV7KiJGCI0CgkkgDHJ5Jq4umovmV301tb/P00Jak2rM8u%2BLvwe%2BKHi/41eDviZ8MfGOkeHP7Ds72013Ubqwe8ub%2BynMTGzSHckajfEsgmdm2OgxGwZs9XafB34fJ4nsPHus%2BHrbV/EemWrW9l4i1W2jlvIUZmLBH2gR53EHYFyMA8AV09FW69VxUb2sraaaeb3e//AABKnFNvuFVtY1nSPD2lXOva/qttY2NnA015e3k6xRQRqMs7uxAVQASSTgAVT8bjxq3hHUV%2BHEulprptWGlPrUUj2izY%2BUyrGyuyDuFZSemR1rxI634q/ae/ZI8b/C/4i32k6V430d7vw94oxGYLAalAUeGULIzMltcxtbTKCzER3O3cWXNOlR9ouZvS6T7q/W3b9TRK50PxC/a50a2t/C6/s/aJp3xJufFUeoXGm/2P4khjtpYLKBZpglwFkR52EkYjh%2BXduLFkVGYeLeI/2k/G2seIvHnx48DfE3XI38H2eka/o3gW/mt4dP1fwsSseoRLGU3C/W5ttShLl2MU0duufLlUHV8I/Br4i/Gf40%2BIfGll4M1/4Z3UA0vV5dQ1PTY2iTxVbyPb3Eluqybby2ubGOGOZl2hl2bX3l9nr/gL9kj4Z6b4G0zw78X/AA5oHjjU7DXb3WhqeqeG4hFDfXVzJcubaGQym3iV5SI497lAifMSoNelfA4RWau9L7N66vvHbTRp63NPcid/418PXXjjwNqfhfTfFeqaDNqumy28GtaQUjvLBpEKrPF5qMqyoSGG9CARyp6V4z8Pf%2BCZ37IngzxFH498YeA7r4ieK05bxb8UtVl8QX5bsym7LRwkdvJjjA7CvfaK82nicRRg405OKe9tPxWvyvbyM1KSWgy3t4LSBLW1gSOKNAsccahVVQMAADoBT6KKwEFFFc/8SPiv8Lfg34bk8ZfF34k6B4V0iLPm6p4j1iCxt04zzJMyqPzpqMpOyV2NJydktToKK%2BVbz/gsN%2Byj4lvJdI/Zo8N/Eb4330LlJYvhD4AvNTtUYcfNfyrDYgZ4z5%2BB37UwftEf8FW/iv8Au/hN/wAE/PB3w9tZPmg1f4x/FJJZdnYtY6NDclWxztadT2OOtdX1HEr40o/4mo/g3f8AA6fqWIXxpR/xNL8G7/gfVtFfKY/Z0/4KwfEX/S/iR/wUZ8HeBkk4l0v4VfByGTYO4W61i5ujn38ketL/AMOsh4k/efF//goR%2B0x4saTm5th8UTo1rJ6jydIgtcL/ALJJ%2BtH1fDx%2BKsvkpP8ASKD2FCPxVV8lJ/okfVTukal3YKoGSScACuR8S/tBfAXwYzJ4w%2BN3hDSSn3xqXiW1gK/XfIMV4Kn/AARR/wCCal2wm8Xfs%2BXXimbOZJ/GfjjWtZaRvUi8vJF/IAV13hr/AIJX/wDBNPwkqjRP2BvhAGT7st18PdPuJB/wOWJm/WjlwC%2B1J/8AbsV%2BcmHLgl9qT%2BSX5yZtar/wUO/YB0Jimt/ty/B6zK/eF18TNKjI/wC%2BrgVjzf8ABUv/AIJoQNtf/goJ8Fyf9j4m6W38p67DSv2Nf2QdCULon7Knw2swv3Ra%2BBtPjx/3zCK2If2d/wBn%2B3XZB8DPByD0TwzaD%2BUdF8v7T/8AJP8AIP8AYe0//Jf8jzq2/wCCon/BNS7YJD/wUE%2BCuT0D/FDSl/8AQrgVvaN%2B3p%2Bwz4iYJ4f/AGz/AIT3xb7os/iLpkuf%2B%2BZzXSXX7N/7O96uy9%2BAnguYHqJfC1ow/WOsHWP2HP2KfEKlNf8A2PvhbfBvvC8%2BH%2Bmy5/76hNH/AAn/AN//AMkD/Yf7/wD5Kdn4X%2BK3wu8blV8F/EnQNXLfdGl6xBcZ%2Bnlsa36%2BdPFH/BIn/gl74vDDVv2B/hVFu6nS/BtrYn8DbIhFYB/4Iv8A7BGknz/hr4P8beBrkf6u68DfFnxDphj/AN1Ir7yx/wB8UcmAe05L1in%2BUg5cE9pyXrFP8pH1VRXyp/w7X%2BLPg7/Svgj/AMFR/wBojQrhf9VD4n1/TvE9qvplNTspZG/GWk/4Vb/wWO%2BGf/Im/tY/Bf4oQdfI%2BIPw3vNBuSPT7Rpd1LGD/tfZ8f7NP6tRl8FaPzUo/mmvxD6vRl8NVfNSj%2Baa/E%2BrKK%2BUT%2B2h%2B338Kv8Ak4f/AIJda/qljD8s%2Bu/BXx3p/iFXP95bK7%2BxXQHsFc8dzgVreB/%2BCvP7BfiXxDD4G8efF24%2BGfiWY7T4Z%2BL2gXnhe7V%2BmwHUY4opGyQP3bvycUngcVa8Y8y/utS/Jt/gDweJteMeZf3Wpfk2/wAD6YoqtpGsaR4g0yDW9B1W2vrK5jEltd2c6yxSoejK6khh7g1Zrk2OXYKzfFng3wh4%2B0Kfwt468K6brWmXK4udO1axjuYJR6NHICrfiK0qKabi7oD5r1P/AIJe/A3wrqVx4o/ZU8aeMPglrM8hmkk%2BHGuNDps8nUedpdwJbKRAf4REv1FV28af8FL/ANnH/kffh14Z%2BPfhuD7%2BseCGXQPEiRjlnfT7l2tLlsdFhmiJ7L2P05RXasfWnpWSqL%2B9q/8AwJWl%2BLL5299Txv4E/t6/s0fH/wARv8PNA8ZT6B40gH%2Bm/D/xrp8mka5btjJH2S5CtKB3eLzE/wBqvZK4T48fsxfAD9p3w4nhb48/CjSPEltCd1nLfW%2BLmyf/AJ6W9whWW3f/AG43VvevFn%2BCH7cf7JP%2Bn/syfFR/i/4Og5b4a/FHVNmr28Y/g0/W9uWPQLHeK6gDHmjrR7LCYj%2BFLkl2lt8p/wDySXqFoy20PqSivHP2eP24fgz%2B0D4hufhkU1Twd8QdNi36x8N/Gtl9g1i1UdZEjYlbqHjImgaSMgg5GcV7HXLVo1aE%2BSorP%2BvvXmm15ktNOzPOPHX7K3wb8WeG/GGmaH4K0nQNT8a2jRazrul6TCtxNIWDrLJ8uJT5gV2DcOR82au/CL4O6j4C1zXPH3jbxmfEfirxILWPVdXWw%2ByQrb2yOsFtBAHfyokaWeTBdiXnkJY547qiqeIrOm4OV0/%2BB13totPJGfs4KV7HjH7TrF/jb%2BzkShX/AIvPfjB9vBXijmvZ68Z/ag/5Lf8As4/9lmvv/UK8UV7NWJYUUUUAFFFFABRRRQAUUUUAeD%2BFPjN%2B0Fof7Z9v%2Bzp8QvEHgjxJpes%2BEdV8RLF4V8OXlje%2BFbaC9toLFb6Wa9uI7oXQmuFR1jtSXsZiiSKshiwvhX%2B1P8Xdd/bS8V/A34seJtE8M6Lb%2BJ7nTfAGgX/wn1u0ufE9tFpdvdm4tdenuxp93IrtdlreCBpBHauSAEZx0Xwm/YlvPg58QvG/xG8OftZfE27uvH2uT6rrcGrW3h2cLO7IIljm/sgXHlW8KLbwxPK6RxcBS3z1v337LUHiL45aL8a/Hvxv8a%2BIofC2tXOr%2BEfB2pHTI9J0W%2Bms7iyaeL7NZRXUxW2u7qNBc3EyqJ2IG5UZQDjP%2BChfxc%2BFHhrwf4M%2BFHiP4neHtP8AFPiD4w/D2XQfDV7rUEWoakkfjPRmka3t2cSTBVVixRSAFJOMGvoevGf28P8AkiGh/wDZZvhx/wCprolezUAFcT8ff2h/hD%2BzH8PZviZ8Z/F8OlaakqwWsexpbm/uX4jtraFAXuJnPCxoCx5PQEjH/an/AGpPBn7LXge11zV9Ivde8Ra7fLpvgvwXowD6h4h1Fx8ltAvYD7zyt8kaAs3YHhP2dv2RfGep/EGD9rX9tPVbLxL8UXiYaDpFsS%2Bj%2BBbZ%2BtppyNw05GBLeN%2B8kIwpVOG7KOHgqftq7tDolvJ9l2S6yei2V3oqUVa72PRP2afih8YvjD4JuvHvxb%2BBs3w%2BjvdRZvDWhanqaz6kdO2J5ct9Gi7LWdm3kwB3KKVViGBFJo37LXwo0z40678ftSt9Q1bxJrwgSWTVdQaS1tYoVVYo4bVdsClduRKyNNyQZCOK9GorF1pKcnT91S0sr7dtdenz/AV9dAooorEQUUV4H%2B1B/wAFAfh78BfGlt8Bfhr4M1b4o/F/VbYTaR8L/BpRrtIjgC6v53Pk6ZaZK5nnIyD8iuQRWlKlUrT5YK7/AK1fRLzdkaU6VStLlgrv%2Bt%2By82e9SyxQRNNNIqIilndjgKB1JPYV8w%2BP/wDgqp8FLjxfe/CX9kbwN4l%2BP3jayk8m70n4YWyT6bpsx6LfavKyWNoM5BBlZ1I5SsC0/YK%2BP/7YEi%2BKf%2BCnXxm%2B3aJMwktvgR8Nr%2Bew8M2y9Vj1G6UpdazIMKWDtHb7gcRFTX1L8Pfhx8PvhL4Qsvh/8LfA%2BkeHNC06Ly7DR9D06O0tbdfRIolVV/AV08uEofE%2BeXZaR%2B/d/JJeZvy4Wh8T532Wkfv3fySXmfMq/CH/AIKp/tN/6R8Z/wBofwz8AvDVx97wp8IrJdZ19om6xzazqEfkQyD%2B9bWp9nrovht/wSX/AGGvAviSP4g%2BMfhTN8S/Fy8yeMvi7q8/ifUXfOd6tftJHCfTyUjA7CvpKipljcRblg%2BRdo6fe1q/nITxle1oPlXaOn4rV/NkVlZWWm2cWn6daRW9vCgSGCCMIkagYCqo4AA7CpaKK5DlCiiigAooooAKKKKACiiigAooooAKKKKACsjxx8PvAXxO8OzeEPiV4I0jxDpNwMXGl65psV3by/70cqsrfiK16Kabi7oabTuj5W1n/gkN%2BzT4Z1OfxV%2ByV4t8cfAPXJpDK9x8JPE0llp88nUedpUwlsJUz1XyFyO44Ipv4k/4K0/stjd4r8JeDf2lvC0H%2Bs1DwwE8K%2BLI4%2BpdrSZ30%2B8YD%2BGOW3Zj0XkCvrWiutY2tLSraa/vav8A8C0l%2BLOlYyrLSraa/vav79Jfizwn9nX/AIKOfst/tH%2BLX%2BFWk%2BKdQ8I/EG3TN98MviJpUmieILfgk4tLjBuFwM%2BZA0seP4q92rzr9o79kr9nD9rfwmngv9or4QaP4otIH8ywnvYCl3p8uQRLa3MZWa1kBA%2BeJ0b3rwGb4c/8FBP2BR/afwV8Wap%2B0Z8LLUZuPAfjDUI08aaNAOT/AGfqb7Y9VVRki3u9sxCqqzMTT9lhq/8ACfLLtJ6fKWn3SS9R%2Bzw9f%2BG%2BV9pPT5S/%2BSS9T7DorzL9lz9r/wCA/wC2F4MuPF/wU8WvcTaZc/ZPEfh7VLR7PVtBvBndaX1nKBLbSqQwwww20lSy816bXLOnOlNxmrNdGc04TpycZKzQUUUVBJ5z%2B0Z%2Byj8Dv2p/D1tonxd8ICe702Xz9B8Q6dcNaarotwMFZ7O7iIlgcEA/Kdp2gMGHFeKj42/tJfsAzppH7W9/efEf4So4js/jJp2n/wDE18Px5wq65aQjEsQHH26BccZljUtur6wplxb293bva3UCSxSoUkjkUMrqRggg8EEdq66OLcIeyqrmh2fTzi94v8H1T3KUrKz2KvhvxL4d8Y6BZeK/CWu2eqaXqNslxp%2Bo6fcrNBcwuMrJG6Eq6kEEEEg1dr5I8Y/CT4if8E5NevfjV%2Byv4bvtf%2BEF3cveePvg5YL5kuhhjum1TQkP3ccvLYjCONxj2tgD6a%2BGPxN8A/GbwBpPxT%2BF3im01vw/rlkl1pWqWUm6OeJu47gg5BUgMrAqQCCKWIw6pxVSm%2BaD2fVPtJdH%2BDWqdtiUbarY82/ag/5Lf%2Bzj/wBlmvv/AFCvFFezV4z%2B1B/yW/8AZx/7LNff%2BoV4or2auUkKKKKACiiigAooooAKKKKACiiigDxn9vD/AJIhof8A2Wb4cf8Aqa6JXoXxh%2BLfgP4D/C7XvjH8T9cTTtA8OabLfapduMlY0GdqjqzscKqjlmZVHJFee/t4f8kQ0P8A7LN8OP8A1NdErg/2h7YftXfts%2BDv2S5P3/gz4c2Nv4%2B%2BJUA5ivrzzmj0XTpexXzYp7x42BDC2iz1rpwtGNar7%2BkUm5ei3t5vRLzfkVFXepe/Y4%2BC3jz4i%2BNLj9vT9qPQXtvHXiayMPgrwrd/Mvgbw%2B53RWaKeBeTLtkuZcBizCIbVQg/SlFFTiK8sRU5notklsktkvJfjq3q2KTcmFFFFYCCiivnH/goV%2B0B8UPCGmeE/wBlX9mPUYrb4t/GPUZtL8MalJF5ieG9OhQPqWuyp0ZbWFhsUn555YVw2SK1o0pV6ihHr9yW7b8ktTSlSlWqKC/4ZdW/JLU539oD9qD42/tFfGTVf2I/%2BCf2r21hq2iMsPxY%2BMdzai5sPA6uM/YrWM/JeauyHIiJ8uAENLydo9e/ZT/Y7%2BCH7HXgq48KfCXRLmW/1a5%2B2eKfFuuXRvNZ8R3xyXu7%2B7f57iViWPOFXcQiqvFaX7L/AOzR8Lf2Rvgro/wM%2BEemSxaZpaM9ze3kvm3eqXkh33F9dSnma4mkLO7nqTgYAAHoFbVq8eX2VHSH4yfd/otl5u7Nq1ePL7KlpD8Zeb/RbLzd2FFFFchyhRRRQAUUUUAFFFFABXI/GH49/Bn4AeHD4r%2BM/wAStI8O2WCY31K7CvOR1WKMZeVv9lFY%2B1eMeNf%2BCtX7FPwy%2BKHiH4SfEzxvrGg6r4bv5LO9N74Zu3jllQ4PlmFHJU9mIUMMEEggnxi8/Zz8R/8ABSzWfin%2B0vqfgy48N6dq/hC28OfCGbxV4fjmu/s6EzT3yQTkLF529445QQyiZnVlZQx%2BgweR1IyVXMlKlRsnzWXvczjZRvvo3JtJ2ir22PnMbn9OUXRyxxrV7tcqbfLyqV3K22qUUm1eTST3PuXwF488IfFDwbpvxC8A67Dqejavarc6dfwBgk8TdGAYAj6EAjvWvX4c/sneMf8AgqbefEn/AIZs/Z58d%2BN7O/0OM2t3omq3J%2ByaHAGCkypdBo7ZV7ADd2QEkA/o7%2Byt%2Bwx%2B1T8H/iZpHxa%2BMn/BQLxj4v22Mn9t%2BDrnzpNOlnkTlEae4dQkbElWWJGO0EbASp7864Xw2TTl7TGQ1TcIpScmt1eyaV1azbs%2Bmh5%2BRcV4rO4R9ngqmjSnJuKins7czTlZ3ukrpb66H1TRRRXyB9mFFFFABRRRQAUUUUAFFFFABRRRQB88ftYfsF6d8X/GUH7Sv7O/jZ/hl8cNFtvL0fx9pduGi1WFcEadq9sMLqFk20Da/wC8iwGjZSMG3%2Bxp%2B2hf/HfVdc%2BAnx58DJ4D%2BNXgeKM%2BM/BLXJkgubdjti1bTJWwbrT5iPlcfNEx8uQBgC3vlfPP7fX7KPi34y6Bo/x9/ZzvbfRvjd8MJJNS%2BHWtyfLHfgj/AEjRbw5HmWV4gMTgkbHKSKQUOe2lVjXiqNZ/4Zfy%2BT/u919nddU%2BylVjWiqVV%2Bkv5fJ/3fLpuuqf0NRXm37In7THhH9r79njw38fvB%2Bn3GnprVqy6not6MXOkahC7Q3djOCARLBPHJE2QM7MjgivSa5JwnTm4SVmtGcs4SpzcZKzWgUUUVJIV8j%2BK7D/AIdrfH1fib4eX7P8CPidr8cHjLS14t/BPiG5cJFqkQ6RWV1IVjnXhY5WSQEBmWvrisH4ofDTwZ8ZPhzrnwo%2BIuix6joXiLS5tP1WylHEsEqFGAP8LYOQw5BAI5ArqwtdUZuM1eEtJLy7rzW6ffTZsqLs9djzf9qD/kt37OP/AGWa%2B/8AUK8UV7NXy/P8NPH3wbtf2S/hT8TPiMPFur%2BHvipe2EniI2hhe9hi8GeKlgaRSzEyiERq75%2Bd1ZsDdgfUFYVIxhNxi7pPfv5/MT0YUUUVAgooooAKKKKACiiigDkPAv7QfwD%2BKHjLWfh18NPjf4Q8ReIfDrsniDQtC8S2t3eaYyuY2W4gikZ4SHBUhwMMCOtWLX42/Bm%2B%2BKdz8C7L4ueGJvG9nYC9vPB0Wv27arBakKRO9oH85YyHT5yu35l55FfNfw1%2BK%2BmfFj9t/Vvin4s%2BEnxF8JaT8LNJ1rwv4F024%2BDXiGH%2B2vtV5ZnUdWa6Fh9neCSW0gS1gikZnjWa5cHfGIeZ8HfD/wCIMX7Unh74by/CjxRDr2g/tO%2BJPHuteM5fDV0mlTeHbzQtTt7aRNTMf2aeQre2Gn/ZVkMyfZmYxiOFXoA97/bw/wCSIaH/ANlm%2BHH/AKmuiVyH/BO6L/hNvEPxz/aKvx5t34y%2BNOq2Fpdf3tM0cJpVqg/2Qbadx7ymr3/BQvTfivP4P8Gaj4c8aeHrXwtD8Yfh6Ne0a98MT3GoXjnxno3ltb3i3scdsFbaWD20xYAgFMgiv/wSxmji/Zf1Hw69skN5ovxS8ZWGpRIWO24TxBfM2dxJ3EOrHnvwAMCu2jpgazXVwXyvJ/mkWvgfyPo%2BiiiuIgKKKKACvkv9kWzb46/8FEv2h/2ptZYXFt4IvtP%2BFPgjeObOG0todR1Yr/11vb2JS3Ui0UZ4wPrSvlT/AIJbsthqH7SXhS7%2BW/079qXxVLdxtw2y6SzvIHI9DDPHg/7PtXZh/dw1aS3tFfJy1/JI6qHu4erJb2S%2BTlr%2BSR9V0UUVxnKFFFFABRRRQAUUUUAFfMf/AAUo/wCCiWjfsMeCrHTNJ8L3Gr%2BLvEttcf2BC6mO0tggCtcSyFSH2s6kRLy3coCGP05XwV%2B0f%2BwN/wAFBv2j/j14q1DWfj54VTwIL2S%2B8F6X4g0uHVYIHUKIIWtZrYpDwWV5QHOAciTca93h6hllXMFPHziqUFdqTa5uiSsn11a6q%2Bp8/wASYjNaOXOGXQk6s3ZOKT5erbvKPS6T6O2h%2Bfnir9rPwR4u8Ja9rviv4Yaz4n%2BKviGzt4pvib4s8UR3g09lkiaQWmn/AGQRxDy0aJGLl4g25GQgCum8HftLeH/Hupf8Jx%2B2j8NdV%2BOWp65Gq6XHY/ES6sLjRo4co0LWdsmFD4VwQFU9QSWavX/Gf/BDn9tHxr4uu/GHj34k/CPTVmERu7rSQ9haqqosY8u2ttPhhjICrnCoGJLEkkmvCvh14c/bC%2BAfxF8bfDr9irx/qvjJvsYsPFOs/CPTLzULcxlpFQeb9mDI4IcpNF0yxjkOCR%2B0UsRkOPw8o4OpFySTfvySinZWVRRjyR2so8qdrcurPw%2BthuIMvxEZY2lJQk2kuSLcmru7puUvaS3vKXM1e/NokfQ/7On/AAUE/Z9/Zs8TX9h%2Bxt/wTp8YzeJvEMcMHiPSrvxRc3Els0TP5UUO6G4lYMGLNkRndgYYKDXkvgKb4neN/wBobxJ8RP2%2B9d%2BMr6T4O1pV8WT%2BEUkuotIuDIzrDNMsxFnApTAEQYgYClDg1v8A7Knwd/b/AP2pvjjrn7PXxB/as%2BKXg6/0Tw3HeakdU1bUr1LcSrC8VpcKLlRbu8cm7y3IYGN1KhlIG5%2B3l/wSs/a4/Z8/Zv0O3/Z%2B8b%2BNPiat/rl1d/ETw9pazSwyXTmP7NeQWEZZ5WCqyySMZH3BGG1SQPl87znIOFadetWlzVJRjzOHta1VxfWMmml7u1vJyulr97wTwjxN4j5xg8rwjhShKc1F150cNh1NJu09Va8lrzWu9I2kz9cfCvibQfGfhrT/ABd4W1JLzTdTs47qwuoydssTqGVueeQR159av18k/wDBFP4SftGfBf8AYgs/Cf7Smj3Ol6lN4jvb3Q9Gv4hHcafp0oiZYpY8AxuZ/tEmxvmAlAODwPravx2jiKWLpKtSjKMZapTVpJXduZK6TtZtX6n7RnmT1uHs4r5ZWrUq06MuSU6MnOlKSS5nTk0nKPM2k7a8r6WbKKKK1PKCiiigAooooAKKKKACiiigAooooA%2BTf2YLVfgB/wAFMvjr%2BzXp48rQPiBoWlfFbw9ZR/6u2vLiSXTdYx7yXFrazkf3rhj/ABV9ZV8qTsuqf8FvbT7Cd39ifsr3K6mV/hN74ktzbhvcixuSB9a%2Bq67MZrOEnu4Rb9bNfkkdWL1lCT3cYt/c1%2BSQUUUVxnKFFFFAHjP7UH/Jb/2cf%2ByzX3/qFeKK9mrxn9qD/kt/7OP/AGWa%2B/8AUK8UV7NQAUUUUAFFFFABRRRQAUUUUAFFFFAHjP7eH/JEND/7LN8OP/U10SuM/ZOmHwb/AGz/AI7fsyaj%2B6h1/WLb4l%2BEw/W5tdRiS21Db7R39qxI/wCnpT/FXZ/t4f8AJEND/wCyzfDj/wBTXRK5f9v3wJ408JHwp%2B298G9Bn1LxX8Ibme41XRbNf3uv%2BGrhVXU7BR/HKERLmEHOJbcAAl67cE1OUqEnbnVl/iTvH8dP%2B3i4a6dz6OorE%2BG3xG8F/F7wBo/xR%2BHPiCDVdC1/Tor7StQtmyk8Eihlb1BwcEHkEEEAgituuOUZRk4tWaI2CiiikAV8i31%2BP2P/APgqnLq%2BtN9n8EftP6LaWkN9JxFZ%2BNdIgaOOBjwqG900KEzy8mn7RksK%2Buq82/az/Zh8Bftf/AzV/gh4%2BubqyS8MV1o2u6bJ5d7oepQOJbTULWQcxzwyqrqQecFTlWYHpw1WFObjP4ZKz/z%2BTSf3rqdGHqQhNxn8MlZ/5/JpP7%2B56TRXzT%2BxN%2B1z471/xTffsX/tiwWujfHLwbZCS6aJPKsvG2lqdkevaZnAeOTA86Ffmt5dyMqjbX0tWdajOhU5Zf8AAa6Nd0/61ulnVpToz5Zf8Bro15P%2BuqCiiisjMKK%2BOv25/wDgolP8MvjlpP7KPwh%2BJvhnwlrjRtd%2BMvGnjC2Z7PQrfyBNDFHGcCeaUMuANwG5Rj5mMfksX7UEOu3KjxJ/wXStYZ5HwsOkfCOC2hjPpvKcj3bFfR4bhjMK%2BGhXl7qkrr3aknbo/chJJO2l3e2trNX%2BZxXFWXYfEzoQ95wdn79OKT6r35xbavrZWT0vdO36P0V%2BaPxC/b2%2BOn7Peu6Tofwd/b98HfHzUdUvIobTwtc%2BB0gkKOcEteWcixKR1%2BeQMM5K7RX2/wDB34teOtF%2BAGl/EL9szU/Bfg/xA8DTa2lhrCR6dZqXYxr5sszru8vbuxI67s7WIxWGYZBjMvowqyakpu0UuZSf/bkoxlbzta%2B1zoy7iHBZjXnSinFwV5N8riv%2B34zlC/le9tXY9PrF%2BJHj/wAN/Cn4fa38TfGFy0OleH9KuNR1GSNdzCGGNpG2jI3NhSAO5IFeC/Ef/gqV%2BzTpU6eDfgNqk3xU8bX0yw6N4T8GxyS/apCcZe62GGKNerPlsDnaQCRzniz4V/8ABTD9rfw3qmj/ABD8b%2BDfgr4b1OxmtX8KWWjweJb27hkQo8V3NKRCFKsfmhIPtkVNDJq8JRnjWqNNtfG%2BWTV1fljZzel7PltfroVXzuhOMqeBTrVEn8CUop2duad1Ba2uuZu3TU8a%2BM/7Mn7bf/BWS20f4w3HiPSfhp8N9Q02N/Dvhe91m4uZ761LPLDf3EEK%2BSZHDoQCwKqBgcZbvfgF/wAETfCPwY8MyCD9rr4q6Xr9/GF1e%2B8B65Ho1tcAFtimIRyuwUMy5aQ53MQq5wPSv%2BCdH7Lv7T/7IXhbU/gx8V/iZ4W8R%2BCbFi/gw6Vayx31u0kryTCbdGqhGZywBeVgTgMFAWvpWvWzLiPMMLKWBwNaKw8X7vJFWa3XM5Rbb/mv9rrtbx8r4Zy7Fxjj8fRm8TJe9zyd1LZ8qjJJR/l5X8PTe/n/AOzt%2BzH8Hf2WvB83g34Q%2BHZLWO9uvtWq395dPcXeo3BGDNPK5Jdj6DCjJwBmvQKKK%2BUrVq2IqurVk5Se7erZ9fQoUcNSVKlFRitEkrJBRRRWRqFFFFABRRRQAUUUUAFFFFABRRRQAVBquqaZoemXOt61qEFpZ2cDz3d3cyhI4YkUszux4VQASSeABU9fFfx%2B8b6x/wAFPvitqf7D3wH1i5j%2BD3hvUhb/ALQHxE06YpFqjIQzeFNPmX/WSScC8lQ4hiJi3b5Ctb4eg60tXaK1b7L/ADeyXV/O29Ci60tXaK1b7L/Pol1fzt0P/BMqHUvjt4n%2BKn/BRrXbGaC3%2BMmv29r8PYLqIo8fhDSkkttOm2sN0ZupHu7wr3W4jPTFfWdVdC0LRfC%2BiWfhrw5pVvYadp1pHa2FjaQiOK3hjUIkaKvCqqgAAcAACrVLEVfb1nNKy2S7JaJfcvvuKvV9tVckrLouyWiX3L8wooorExCiivIv20/2k7n9mv4Otqng/R11nxz4lvo9C%2BHPhpTl9V1q4ysCEdoo%2BZpWJAWKJySOK0o0p16qpwWr/r7urfRJsaTbsit%2B1B/yW/8AZx/7LNff%2BoV4or2avl6f4UeJPgfa/sl/C/xn8QdS8V63pfxUvRrfiLVrySea/vZPBniqWeQNISyx%2Ba7hE6JGEQYCivqGlUjGM2ou6T37%2BfzB6MKKKKgQUUUUAFFFFABRRRQAUV4v%2Bxz8Xfjh8Srr4peDvj9e%2BFLvWfh/8TG8PW194P0W5sLW4tW0bStSQtFc3Vy5kVtQeMuHCuI1YImSK5L9if8Aan%2BLvxo%2BIXiPwR8e/E2iaPrtrc6xLpPw/Pwn1vw/qCaba6tJaQ38d9qN3JDq8DQ/ZWeW0hWNXuo8su9VIB1/7eH/ACRDQ/8Ass3w4/8AU10SvZq%2BeP8AgoX8XPhR4a8H%2BDPhR4j%2BJ3h7T/FPiD4w/D2XQfDV7rUEWoakkfjPRmka3t2cSTBVVixRSAFJOMGvoegD5Cv5Lz/glz8U7zXhbSv%2Bzl431lrjUBDGWX4bazcSfPNtH3NKuZGy2Plt5nJwqPz9cWV7Z6lZw6jp13FcW9xEskE8EgdJEYZVlYcEEEEEcEGo9a0XR/Emj3Xh7xDpVtf2F9bPb3tleQLLDcROpV43RgQyspIIIwQcV8nN4X%2BMf/BMe7kv/hloGs%2BP/wBnxpWku/CdmHu9b%2BHykktJYqSXvtNXJLW%2BTLAPmTeoZa9H3cwWrtV/Cfz6T9dJd1L4r%2BP1/P8A4J9dUVzvwp%2BLfw0%2BOXgLT/ih8IfG2neIfD%2Bqw%2BZY6pplwJI5B3B7qwPDIwDKQQwBBFdFXBKMoScZKzRGwUUUVIHkn7XP7G3wu/bA8I6fpvi671HQfE3hu8OoeBvH3hu4%2Bz6x4Zv8YFxazAcAgASRNmOVfldTgEeOeB/26fix%2ByR4lsfgT/wVIsLHSBc3C2fhX4%2BaNamLwt4lJOI0vuo0W%2BYfeilPkOwcxSYwtfX1Z3i3wj4U8feGb7wX468M6frOj6nbNb6lpWq2aXFtdRMMNHJHICrqe4IINdVLEJQ9lVXNHp3X%2BF/mno/J6nTTrpQ9nVXNH8V6P809H5PUu2t1a31rHe2VzHNDNGHhmicMrqRkMCOCCOQRUlfIUn7BX7Qv7IVzJ4g/4JkfG2303w%2BJDLP8C/ibNcX3hlsnLLp10pa70cnLEIhlg3MP3QArT8Jf8FV/hr4N8Q2nw1/bv%2BFviD9nvxXdSiC3fxzsm8O6jL/05a7BmzlHTiVoZOeUFU8G5rmoPnXZfEvWO/zXMinhXNXoPnXb7S9Y7/NXR7t4n/Zx%2BAPjfx8nxT8afBnwzrHiKO0W2j1fVNFhuJkiUkqA0inBG4jI5wSM44rnv2o/gq/jL9mvxx4L%2BEng7T4fEeo%2BF7y20IWdtbQP9paJhGqyOu2PJwN2RjOQykBh6bpOr6Tr%2BmW%2Bt6Fqdve2V1Estrd2k6yRTIRkMjqSGUjkEHBqxU08ZiaVWE%2BZvkasm21o07Wvtptp1PJrYHDVaVSnyJc6abSSeqabva99d2fnN%2BwZ8Ov2F7X4Z6f%2ByH%2B2L8DvD2h/FewmlW9i8deGLfT7zVRNO5h%2ByXgO65UKyxrtkDMVyFI5r6S8Pf8ABKH/AIJ7eGNbi8Qab%2BzTpck8Mm9I9Q1O9u4Cf9qGed42HsVI9q8l/wCC5njPwRpf7Puj%2BB5/CN/feLtW1UXfhrUNP0NZnso7RkmumF0RutT5WTmPLEKcjZuYfRf7FH7Rln%2B1V%2Bzf4f8AjNaeHzpJvllgm019bTUJIHhkaP8AeTKqkuwUOQyqw3jI9fq8zxWbVMujmtGpUpwqykpR53yp94%2B9fll71k1pZq7Vj5HKsLk9PMpZRXpU6k6MIuMvZrmce0vda5o%2B620/e5k7J3PQPCPgHwJ8P7D%2ByvAXgrSdEtTjNtpGmxW0fH%2BzGoFa1FFfGSlKcuaTu/PX8z7eMYwjyxVl5aflYKKKKkoKKKKACiiigAooooAKKKKACiiigAoorm/it8Y/hL8CfB1x8QvjT8S9C8J6Faj9/q3iHVYrO3U4zt3ysoLHHCjk9gacYyk7RV2NRlJ2SuzpK534rfFz4YfAvwFqPxS%2BMnj7SfDPh3SoTLqGs61fJb28K9gWcgFieAoyWJAAJIFfM83/AAUS%2BNX7T5Oh/wDBND9mS/8AFtjMdi/F74lQ3Gg%2BEYB/z1gEiC91UAgjFvEqHg%2Bbjmtj4Yf8E09J17x7p3x7/bv%2BLF78cfH%2BmzfaNGj1yxS18NeG5ex0zR0JhjdeB9omMs52ht6muz6rGjriJcv91ay%2B7aP/AG8/%2B3Tq%2BrRpa13y%2BS1l92y/7efyONvvGn7T3/BVBT4f%2BESeJPg5%2Bz1dcal48vLd7HxV48tj1i0uBwH0uxkXreSgTyKy%2BWiAs1fV3wc%2BDXwu/Z8%2BGej/AAc%2BC/giw8OeGdBtBbaVpGmxbIoUBJJ7l3ZiWZ2JZ2ZmYliSemorKtiHUioRXLBbL9W%2Br836JJGdWu6kVCK5Yrp%2BrfV%2Bf3JIKKKK5zAKKK8y/aY/a0%2BEn7LHh%2BzvPHd5d6hrmtTG28K%2BDNAtjd6xr912gtLZfmc5xuc4RMgsyirp0qlaahBXb6DSbdkdD8cPjh8MP2cvhhqvxg%2BMHimHSNC0iHfc3MuWeRicJDEg%2BaWV2IVI1BZmIAHNeK/ss/CD4nfGn4sn9vL9qfwxNo%2BuTWEll8LPAF6QzeDdHlxvlmHQaldAKZmHMaBYQeGFN%2BDv7Mnxa%2BOvxM0v9qz9u62tF1bSJjc/Dz4UWN0LjS/BxI%2BW5ncfLfantODPjy4iSIh0YfTFds508JTdKm7zekpLZL%2BWL6/3pddlpdyptRVlueM/tQf8lv8A2cf%2ByzX3/qFeKK9mrxn9qD/kt/7OP/ZZr7/1CvFFezV55AUUUUAFFFFABRRRQAUUUUAeL/An9jzWPgT408X%2BNbT9rL4leI5PHHiuHxBr1j4htPDoge7S1t7MhPsmkQOkb29pbRMA%2BcQhlKuzs2p8P/2WoPCfxoX48%2BNvjf418da9ZaHfaN4d/wCEqOmRwaJY3lxbXF1Dbx6fZWu8yPZWYMlwZpAtuoDjc%2B/1SigDxn9vD/kiGh/9lm%2BHH/qa6JXs1eM/t4f8kQ0P/ss3w4/9TXRK1PDP7YHwa1r406j%2Bzz4ivb/wt4wtLuSPTdI8V2RsjrkKnAudPkY%2BXdxNzgIxcYO5FxWkKVSqm4K9tXbou/8AXzsTKcY2u7XPUqKKKzKPnH4ofsOeIfB3j3UP2gf2E/H9r8OPG2ozfaPEPh66tWm8MeLJO5v7NCDDM3T7Xb7ZRliwkzUvwv8A%2BCgnhy38Z2nwQ/a/8B3Xwd%2BIN0/lWFl4gulk0bXnHG7TNTAENxnK/uXMcwLBTGSM19E1gfEz4V/Db4z%2BDbv4efFrwJpXiPQ79Nt3pWs2KXEEnodrggMOoYYIPIINd0cXCrFQxK5rbSXxL57SXlL5SRfMnpI36K%2BXV/ZA/aa/Zd/0z9hH49C88OQ8r8I/ixcz6hpkSD/lnYaiC15YAAYVHM8eTyoAq9oX/BSnwP4H1a38FftrfCzxB8DtdnlEMN54sVbjw9eSHtbazb5tmGOcTGFxnlRQ8DKor4eXtF2Wkl6xev8A4DzIOS/w6n0pRVXRNc0TxNpNvr/hvWLXULC7iElre2NwssMyHoyOpKsD6g4q1XC007MgKz/FPhTwt458P3fhLxt4a0/WNKv4TFfaZqtmlxb3EZ6pJHICrr7EEVoV5X%2B2J%2B0qP2Wvg63j3TfCw1/XNQ1ez0jwz4f%2B1%2BQdRv7mUIkYfa2MLvc8chMcZyN8NQrYnERpUleUnZdNfXp3v0tfoY4jE0sHQlXqu0Yq7fp6a32tbVu1jy0/8E9P2Sv2SPFEf7RPwc%2BJ3in4I6FomoLqfiXw74W8XPbeF9VjVtzxXOmXAkto1cfL/oyQyZb5Tk8%2BNftL/t2ftpftBfBqZv2WPgnF4S8E%2BNfGFl4Y8MfFbXfEJtJ3juLoQm6SBV8yBGKsolPCh%2BDvGB7Jof7Hfx0/aa8cad8Sf%2BChPibQr3SNGnFx4f8AhN4WEjaPDPggT3ry/NdyAHGw5Trg7WZD9IeIPh/4D8WeDpfh34q8E6Rqfh%2Be2W3n0LUNNims5IVxtjaF1KFBgYUjAwK9yWKwWBcfa2xFXS7d3CK3svhdSW13L3UtFfVnDCvm2a4qNarKVKlHZae0n5yupcsVulrNtJtxXun5vfC39iX4ifEP9j/4geL/ABz%2B0J8VvjTH4butTh%2BHfhefxRPNpmvvbwIIpESSTzLiMXXmpHunAxHtzjivdv2ZvixL8CfgN4T%2BFXwW8P8AhPxh4k8ReJr3S9P0O28NzeCU0%2B6s7V5r99YSR76SCWPykVmWNmYzwYjKnfX0V4s/Z%2B8CeIfC1x4W8P3ms%2BE0mS0SG78GaxLpstotsCsKwiIhERVJUpt2MvDKwAx5X4s/YHvNH0vQrj9nr4yT%2BG9f0w6//afiHxPpba1PqkmsrF9tvXAngCXoeGN4pPmhjG5PIZCFXKtm08dB068/dvdRtaK07RSW/ZX87Wt6uEwOUUKsqsaaU5P4mm5NWtZzbcrOybStd301Lujf8FF/gtc%2BFPCfiDXtA8Q2s/iDRLPU9dt7LS3u4vCsFzcPaxyajMmFgjNxFPEHwf8AUSMQqqSPf6%2BOvFv7BnxHsNa8TfA74eaLprfDn4g23he013xTea8y6hpul6TsW5037MIcTfaVSYiUOAHv7gsoAXP0p8dtF%2BOmu/De7079nHx34e8OeKzPE9jqfinQZdSslQODIjwRTwudy5UMHG0nODjFebXp4bmj7J793sul9NO3Xa/U6q9PD3j7N793t69u3Xa52NFfKv23/gtt4c%2BabQP2XvFsafe%2Bz6j4h0OWQeytHeqD9WxUlr%2B0d/wVa0mQ23iT/gmZ4L1MJG7G78N/H%2BHEjBSQojutNiIyQAMtjnnAFL6nN/DOD/7eX62F9Uk9pxf/AG8v1sfU1FfKv/DaP/BQuxP/ABOf%2BCPHjNlHV9K%2BL3ha4H4B7yNv0pf%2BG9/2wIRi7/4JB/GJW7iHxZ4XkH5jU6PqOI6cv/gUP/kg%2Bp1/L/wKP/yR9U0V8rf8N4/tmXHy6d/wSA%2BLjN2Fz408LQj8zqRpP%2BGxf%2BCj19/yCv8Agj74ghB%2B62s/Gvw1APx8maYj8qPqNfry/wDgcP8A5IPqdfrb/wACj/8AJH1VRXyqfjv/AMFefE/7nw//AME9fhZ4ZJ4WfxT8eJboD3KWWkt%2BQY0f2T/wWz8UfuL3xp%2BzH4Nif78unaJ4g12aMf7Jlms0J%2Bq0fU5L4pwX/byf5Jh9Ua%2BKcV/28n%2BSZ9VUV8p/8MY/8FC/Gf7n4r/8FafENrayf6%2Bz%2BGvwo0XRSB6JPdreyrj13e%2BKD/wR9/Zu8W8/tDfFz40/Fsf8%2B/xD%2BL2qS2uf%2BvSzktrfB/u%2BXt9qfsMLH4qt/wDDGT/PlQexw0fiq/dFv8%2BVHqHxz/b5/Yn/AGaI5v8Ahe/7VPgTwzcQff07UfElv9tJ7hbZWMzn2VDXlf8Aw9Rt/iiPsv7GP7F/xk%2BLbTcWWup4UPhvQZT6nUNaNsCvvHHJ7A5GfXfgj%2Bw7%2Bxx%2BzZ5UnwG/Zd8B%2BFLiIfLf6N4XtobpvdrgJ5rn3Zia9To58DT%2BGDl/idl90df/ACYfPg4fDBy9XZfdHX8T5NPgn/grx%2B0Oc%2BNfi38N/wBnzQZ/mOneBdOfxV4hCHgxvfXyQ2ULY/ijtpcdQfTofhX/AMEqP2SPAvjG3%2BK3xM0XW/i545tuYvG/xj1uTxBewnOQYI5/9GtMHp9nhjx0HQV9I0UpY2vblhaC7RVvve7%2BchPF1rcsLRX91W%2B97v5sRVVVCqAABgAdqWiiuQ5Qorzjxd%2B1n8APCmg%2BMdXg%2BJOl6zc%2BBNPmu/EmjaFqENze2wiA3IYw42uCyqdxUKzrvK5zXnXjD9qf4i%2BM9Z8M/CLwpYSfDLxZrHi46Prp8U6ZBqbaZnTbu%2BthGILgQy/aRaSIkgdlBjkTbvKV008HiKnSy89Ol/Xbsn07lKLZ9GVS8R%2BJPDvg/QrvxR4t16y0vTLCBpr7UdRukggt4x1d5HIVFHckgVyH7N/xa1j4x/DIeIPFejW%2Bm6/pmsahoviPTrVy0UF/ZXctrKYy3PluYhLHkkmOVDk5zXn3iX/gn94A%2BMHxXvPif%2B1H8QfEHxNs49Va68L%2BB/EMscXh7Q492Y1FhAqx3cig7fOufNJGOAeaIUaUaso15ctuyu35LZfNu1u%2BwJK%2BpzGo/tp/GD9qe8m8Gf8ABOjwDDqWl%2BY0GofGvxjaSw%2BHLLB2ubCL5ZtXmXDAeXtgDBd0pBxXffs3fsU/D/4C%2BILz4r%2BJvEWp%2BPfibrMAj1/4k%2BKysl/OnU29uqjy7G1BJ228IVQMbi5ANew2VlZ6bZxadp1pFb28EaxwQQRhEjRRgKqjgAAYAHSpaupi7QdOjHki9%2Brf%2BKX6K0fJg5aWWgUUUy5ubayt5Ly8uEihiQvLLK4VUUDJJJ4AA71xknjn7UH/ACW/9nH/ALLNff8AqFeKK9mrwr48eKvDHjf4ofs0eK/BniKx1bS734x372eo6ZdpPBOv/CF%2BKRuSRCVYZBGQe1e602mnZgmmFFFFIAooooAKKKKACiiigAormfhZ8afg58c9Eu/E3wT%2BLPhnxjpthqUmnX2oeFtet9Qgt7yMK0lvJJA7qkqh0LRkhgHUkcik8HfG34M/ETxfrvw9%2BH/xc8Ma7r/hacQ%2BJtD0fX7e6vNIkJYBLqGN2e3YlWAEgU5U%2BhoA4D9vD/kiGh/9lm%2BHH/qa6JXc/Gb4EfCD9oXwfJ4D%2BM/w/wBO8QaY7b44b2L57eTtLDIpDwyDtJGysOxrhv28P%2BSIaH/2Wb4cf%2BprolezVUJzpyUouzXVCaUlZrQ%2BbF%2BF/wC2p%2Byp%2B9%2BBnjT/AIXF4Lh%2B74I8eamLfXrKP%2B5Z6qRsuQO0d2ucKB51dh8G/wBub4EfFvxOPhnqd/qHgrxyoHn%2BA/HlidM1QE/88kkOy6U4yHgeRSOc17HXJfGL4DfBn9oLwwfB3xq%2BGmkeJdPBLRQ6pZq7QMf44pPvwv8A7aFWHrXZ9Zo1/wCPHX%2BaNk/mvhf/AJK/Mx9nOH8N6dnt8nuvxR1tFfOK/srftOfAX9/%2ByJ%2B03PfaTF/qvh/8XfN1axVegjt9QQi9tlA4UMZ1H93HFPH7eutfCY/Yf2zf2bvFfw5WPiTxVpkJ17w8w6BzeWamS3B64nhjwOp4JpfUpVNaElPyWkv/AAF6/c5D9so/xFy/l96/Wx9F1V1vQ9E8S6TcaB4j0e11Cwu4jHdWV7brLDMh6q6MCrA%2BhGKx/hn8XvhV8Z/D6%2BK/hJ8R9E8S6a2P9N0PU4rqNSf4WMbHa3%2BycEdxXRVySjOnKzTTXyf6Gqaauj5t1r/gmT8IfC%2Br3Hi/9kz4g%2BLfgfrU8hmkHw81MJpFzL2M%2Bk3CyWUij0WND/tVXHin/gqL8CD5Pij4b%2BBPjrosPyjUfCl%2BfDOulR1d7S7aSzlbH8Mc8WfQd/pqiutY%2BtJWrJVF/eV3/wCBK0vxZpzvrqfN%2Bk/8FTP2YNL1KHw5%2B0Bb%2BLfg5q877I7H4r%2BF59Khc9yl7h7N191nOfzrxr/gni/wr/a6%2BLGo/G39pD4zQ%2BOfiz4U1u6j0bw3LeRDTNEto5f3N5ptvGdk6OuxhcAvg7Tndtkb7t1XSNK17TptH1zTLe9tLhClxa3cKyRyqeoZWBDD2NfMX7R//BJ/9mb4meG77XPgP4E0n4Y%2BP43W50HxZ4Rhk04W10rq294rR40JYAqZAvmLu3KcjB9bLcblsIVKL5qTqWXOrS5d7rVKfLK9pJO9lu9Yvw85wdXEOliKUef2Tb9m3pPazXTnja8OZON3rZ2kvqWivzd/Z6X/AIKVeEP2gW/ZC8SftXeI9I8XWvh19ct38W6Tp/i7RNRsll8oTfaF%2By39qjOCirJLI%2BcbsFhn6N/4T/8A4KtfDnnxT%2Bzx8IviVbjjzfBXja80G6I9TBqEE0Wfbz8e4rkxmT1MJVUPawd0mvetdPZptWadn1PQwWLw%2BYUXUovZtNNOLUla6aa0auur9WfStFfNf/Dwfxv4R/0f41/8E%2Bfjp4cmT/j4udE8NW3iKzQdyJdLuZnIHr5Y4qaw/wCCtP8AwT/ku00zxP8AHtfCt452tZ%2BN/Duo6I6N/dP263iXj2JHvXJ/Z2O%2BzTb/AMNpf%2BkuR2ck%2Bx9HUV574M/a3/ZU%2BIwQ/D/9pj4f64X%2B6uk%2BMbK4J9sRyk59q7%2B3ube8gW5tLhJY3GUkjcMrD1BHWuWdOpTdpxa9U1%2BaRLTW4%2BiiioEFFFFABRRRQAUUUUAFFVNY17Q/DtodQ8Qa1aWMC9Z7y5WJB%2BLECvMvG37eP7Evw5Djxv8AtcfDfTpE%2B9bz%2BNLLzvwjEpc/gK0p0a1V2pxb9E3%2BSY0m9j1iivmxv%2BCsv7F%2BsE2/wu8TeLPH90f9Xa%2BAPh1rOqmT/dkhtTEf%2B%2B6Q/tw/tGeNfl%2BCP/BNL4qX4/5%2BvHeoaX4Zg%2BuJ7mSfH/bHd/s10/2djV8UOX/E1H/0pr8iuSXY%2BlKK%2Bat//BWf4k/dt/gj8LLKfu76l4o1G3H0Asrct/30D7Uh/YG%2BLPxC/eftI/8ABQb4s%2BJlbiXSvCFza%2BFNPkXujJp0YuGXtzcE46k0fVKUP4laK9Lyf4JL8Q5Ut2fSgljaRolkUsoBZQeRnpn8q8W%2BFfiv4gfC749%2BL/g/8aPixeeIbG%2B0aDxT4U1rWbS0tRBbCQ2t7ZAwRRRiOB/sjgsC5F58zMa6j9nz9lT4B/ssaTqOj/Ar4fpoqaxcJPq9xJqFxd3N9KilVkmnuZJJZWAJGWY9a0PEn7PHwS8Z/FPTvjX4z%2BG2m6x4n0a0Ntouq6tEbk6ahJLG2SUslu7Z%2BaSNVdgAGYgACIzw8JTjq4taOyvfS3V21vfXYScVc%2BaLb4JeJvE/inwl8HLj4d6pf6dZ%2BI/EMkvjiz2Npeo%2BEtXW6nlU3KEgXLXH2J/L2ndJFvxtJYekeA/2OfF2tz6nP%2B0n4103XJT4f0jSNHvfDcFxY3SSac8kkWrNKZC0V6ZJAf3Z2J5Yxnewr6C6dKK1qZjXkrR0/Pe979L9loNzZzvwu%2BF/hb4QeEIvBnhI30lutxNc3F3qmoy3d1d3E0jSSzzTSszyO7szEk4GcAAAAdFRXnnxr/ax/Zw/Z1jUfGX4xaJol1Lj7PpUlz5t/cZ6CK0iDTyk%2BiIeorljGtiKlopyk%2B2r/AzlOMVeTseh1HdXVtY20l7e3EcMMSF5ZZXCqigZLEngADvXzu37UX7VfxwH2X9lb9lG70jTpeI/G/xjkfSLQDs8WnR7r24UjkbxAD6jrTrb9ge5%2BK1zHrf7bPx1174oyK4kXwrGP7I8NQMDlQNPtmzcbTxuuZJcjqBXR9UjS1rzUfJe9L7k7L5y%2BRj7Zy/hxv57L8dX8kWfFP8AwUB8H%2BI9eufh5%2ByJ4A1T4x%2BJraQxXTeGJVi0TTpP%2BnvVpP8AR4%2B/yxmWTjGzNZ8H7HHxY/aJuI9e/b0%2BK8etadvEkPwq8EvNZeHYSDkC6kJFxqZBAP70pFkH91g19BeGPCvhjwToNt4V8GeHLDSNMsoxHZ6dplmkEECf3UjQBVHsBV%2Bn9bjR0w0eX%2B89ZfftH/t1X/vB7Jz/AIjv5bL/AIPz%2B48M%2BP3hzw94Q%2BKX7M/hjwnoVnpmm2PxgvYbLT9Ptkhgt4x4J8UYREQBVUegAFe514z%2B1B/yW/8AZx/7LNff%2BoV4or2auJtt3ZvsFFFFIAooooAKKKKACiiigD5V/YW%2BKXhqH4s/HbTofhf8RdCtPEHxlt77w2%2Bt/B7xDpNrdWTeHdEsVmjkurCKMRi4sblCcgIIwzYR0ZuI/YU%2BH/xB0v4w/Cnwxq3wo8UaHqHwn%2BGfjHQfiVr2s%2BGrqys9T1O/1nS5oWtbqWNYtTW5ezu77zrd5VjDjzCkkxWvuGigD54/4KF6b8V5/B/gzUfDnjTw9a%2BFofjD8PRr2jXvhie41C8c%2BM9G8tre8W9jjtgrbSwe2mLAEApkEbXjlP25/hl4x1LxZ8P5fC/xO8L3d288PhHUANF1bToyeIba7XdBcKo/57qjHpv71P8At4f8kQ0P/ss3w4/9TXRK9mrSlU9m9k0%2BjX/DNfJmNej7aKSk4tbNO3%2Bafo00eJeDf2%2BfgVqevw%2BBfiwdW%2BGPieY7U0D4jWB00zN0/cXLE21wCeAY5WJ9BnFe1wzQ3EK3FvKrxuoZHRshgehBHUVm%2BMfBHgz4h6DN4V8feEtM1vTLgYn07V7GO5gk/wB5JAVP5V4tL%2BwTofgCZ9S/ZR%2BNPi74Vz7i66TpV7/aOiM56ltOvN8ag/8ATIxexFbWwlXZuD8/eX3r3l9zOa%2BYUN0qi8vdl9zvF/JxPfaCARgjIPUV4CPiH%2B318IP3fxC%2BCXhn4o6XF11j4e6p/ZmpBB1Z7C%2BYxu5HOI7j6DtV/wAN/wDBQv8AZkvtXi8LfETxLqPw61yU4Gi/ErR5tFlz6LJcAQSZ7bJGz26ih4Ou1eC5l/dd/wAFr%2BA1mOFTtUbg%2B01y/i/dfykWPiV/wT%2B/ZW%2BJPiBvHMPw5PhbxQclPFvgO/m0TUlc/wAZms2j80/9dA49uK50fA39vT4QjPwV/ay0rx3p0fEOgfGHw%2BDOE9BqenCOQt7yQSe%2Ba%2BgdK1bStd0%2BLVtE1O3vLWdN0FzazLJHIvqrKSCPpViqjjcTFcs3zJdJLm/PVfJo6PY0n70dPNaflo/uPncftjfH/wCG37n9o39hXxrZRLw2u/De6h8T2TAdZDHD5d3GvfBgJHv1r33QNbsvEug2XiPTUnW31C0jubdbq2eGUI6hlDxuAyNgjKsAQeCARVuvmT9uH4m%2BPviV470D9gj4AeJJdM8S%2BNbZ7zxn4is%2BZPDnh5DtlmBH3ZZj%2B6T6kfKXVhth6EcyrqnTiobuUrvlUUruTTvay7PVtJatHNjMUsvw7qzblsox0vKTdlFer8tEm3omca//AAVd1K3/AGhfFf7Nng34LS/E/XtK1ORdGf4cXYeBrZYkdhcyTEhJI2fy3ZcpuU9CQtZ%2Bh/tAf8FGv2pf7RuYtF8P/s/%2BBbGO%2BfUPGV35Wt3KJaSvFchZdy26bGjkBZlTGxipIGa9f/ZF/Yes/wBjDwzd%2BF/h1r2hatHNd3E0Woan4Wjt9SKPEoWCS6gceYgkjQkmPJGep5rlfGP7MPxcl8OePtc0r4WeEvD6eINHsbe98FeBdSMsOuzJqAuL29dpba1T7RJbtLCiMvzMzb5cMCPY%2Bt5NSquOFpR0slOfvNvZtQbUV3StJJ3voeWsDmleLeLrys7%2B5T91JdnNLnl1u7xurWsdF%2Bxh8Jf2Z/hdofiD4z%2BDfitf%2BMfEGq3It/F/xB8Z3bC/d1CFYH85UNvFzGypgblMZy4CEfQkUsU8SzQyK6OoZHU5DA9CD3FfIvjexkg8eaV8Zf2iPBF3o/gjxL40vNQ1jQNU037Wc2umG00xL2GASKWlzLLg7lVobZCd20D3L9knw14q8D/s1%2BFtF8c6W%2Bn38OnPPJpRj502KSWSWKzCjp5ETxwhe3lYrysxU6z%2BsVJuUm0tbdrWVrL3bWskklax6uBpUcNTVClBRir7X6u93e7u97ttt3uz0qob/T7DVLR7DU7GG5gkGJIZ4g6MPQg8GvA4v%2BCo37FFpItr4y%2BKGoeE7nOHtvGXhDVNKKH0LXNsifkxrt/Cf7Z37IfjsKPB37UXw%2B1F36Q2vjCyaQexTzNwPsRXJLBY2mrypyXyf5pP8zpVejJ6SX3oh8Z/sQ/sZ/EQu/jr9k/4b6tI/wB6e%2B8FWMkufUOYtwPuDXA3H/BI3/gna8z3Olfs2WWjSOcl/DWu6jpRz7fY7iLH4V9C6Trei69ai90PV7W9hPSa0uFkU/ipIq1ThjcdSVo1ZL/t6X5X/Q3U5W0Z82/8OufgZpvHgb4y/G7wwo%2B6mhfG3XUVfoJbl/1o/wCHct/bcaP/AMFAv2krMDoP%2BFjQXOP/AAKs5c/jX0lRVf2jjus7%2Bqi/zix88%2B582/8ADBnxmtONI/4Ka/HZAOn22fQrg/m2mDNH/DE37TacQf8ABUT4tAf9NNB8PMfz/s6vpKij%2B0MV3X/gMP8A5AOeX9W/yPm3/hiP9pSXi7/4KhfF1h38nRfD0Z/MadR/wwF8Ur0Y1v8A4KX/ALQMnqLHVdEts/8AfOlnFfSVFH9oYvo1/wCAw/8AkA55f1b/ACPm0/8ABN6C6/5Df7dn7SV6D94f8LWe1z/4CQxY/DFH/Dqn9l3VP%2BR88S/FXxVn73/CRfGfxDKG%2BoS8QGvpKij%2B0cd0qNell%2BUUHPPufO%2Bj/wDBJv8A4Jy6Pdi/b9krwvqU4/5beIEm1Nj9TdySZ/GvTfBP7Ln7M3w0ZG%2BHP7O3gXQDH/q20XwlZ2pX6GKJa7usvxH458E%2BD4jP4t8YaVpaAZL6jqEcAx9XYVE8Xja%2BkqkpeV5P8L/oS5ytqzUACgKoAAHAFFeReLv2/v2IPAwYeJf2tPh7DIn37eDxXazyj/tnE7P%2Blcwf%2BCnP7Lesfu/hkPHPjmb%2BGHwX8NdYvt30kFsIz%2BD0RwONmrqnK3o0vvdl%2BJi69BOzkvv/AOHPoSivnv8A4bI/aA8W8fCP/gnb8TLwf8/HjPUdL8PxfXE1zJLj/tnn2pDq/wDwVE8dfPYeDfgz8PbaXgjU9W1HxDeQj12wx2kJI/3yPaq%2Bo1Y/HKMfWUfyXMxe3g/hTfon%2Btj6Fql4g8SeHfCelya54q16y0yyhGZrzULpIYkHu7kAfia8H/4ZF/aa8ccfGr/goV42lgPJsPh5oGn%2BHYwe480JPcY/7ag%2BhFXNA/4JofsbafqkfiLxj8LJfHGrIctq3xG1q71%2BZ2/vEX0skYP%2B6gFHscHD46t/8MX%2BcuVfgHPWltG3q/8AK4viX/gpV%2Bx/peqyeGfBHxIn8fa0nC6J8NdGudfndv7u6yR41P8AvOorPP7Qv7cXxWPlfA/9jCHwpZS/6nxB8YfE0doVHqdOsPPnJ9neP8O3vPhvwt4Z8HaTHoPhDw5YaVYwjEVlptmkESfREAA/AVfp%2B3wlP%2BHSv5yd/wAI8q/FhyVZfFK3ov1d2fOx/ZE/aN%2BK/wC%2B/ab/AG2PEktpJ80nhf4W2KeG7EZ%2B9G1wrS3syY4/1yZ9OufQvgr%2ByH%2BzR%2BzxI158H/g1oukX8uftGtG3NxqE5PUyXcxeeTPP3nPU%2Btej155f/G/X9E%2BKWneCPEnwn1DT9H1rWJNK0fxDPqNs32q7W3luP%2BPdGLrEyQS7XJ3EocoowaTxOLrxcE7R7K0V9ytf53IksPQalLdu13d/jrb8D0Osrxh438L%2BAvDV/wCLvFeqi2sNNjD3sqRPKyAkAAJGGdmJYAKoJJIABzXhvxD%2BLXxK8KfEjxZ41HxAnh0vwd4l0izu/CUttB9lm0i8it0kuw4j87zRLP5gfzNqrCybOpPl3hj4bnUo7X4HfDfbpHjsaTfR%2BMIzbGJX1LTLxbrTdXuwoAkM9wFPn4PnJLKuTtwLp4JNc05aaf5u/wAmtddzirZm4ycKcLvVa9Xqlbvqno2nZfd9e%2BAfiL4R%2BJuiNr/g7UnnhjnaC5intZLee2mUAtDNDKqyQyAMpKOoYZGRzXm/xO/as8RaN44v/hL8D/2ePF3jzxNpzIl9Ilr/AGZo9k7osiibUboLGTsdWxCspwcYzxWp8CPDnjuPx/46%2BJHi7wPdeGIvE95p8keiXWpW9yWuLe0FvLdhoHZVEipBGASGK26syqWKj0%2BsH7GjVd1zL16%2Bdt7baNHUvrGIw6tLkd3d21tdrRS2vo9U7dtjwH4w3Hjy68efsw3PxP0zS7PX3%2BL16dUtdEu5J7WKX/hCvFPyxySIjMMY5KjnNe/V4z%2B1B/yW/wDZx/7LNff%2BoV4or2asG7u51xXLFK9wooopDCiiigAooooAKKKKACiiigDxn9vD/kiGh/8AZZvhx/6muiVN4ytf22PBHivUPEfw/wBT8G%2BO/D9xdPNb%2BGNYhk0fULOIniCG7j82KXA/iljUnu3rD%2B3h/wAkQ0P/ALLN8OP/AFNdEr2SOWKUExSK21ip2nOCOo%2BtXCfI9k/U5sVhliYpc8oNapxdn%2BTTXk00eIw/t0%2BB/CMq6d%2B0b8NfF3wxutwRrrxJpBn0x39E1C082Aj3dk%2BnSvWvBvjzwP8AETR08Q%2BAPGOl65YSfcvdI1CO5iP/AAONiK1JoYriJoJ4ldHUq6OuQwPUEHqK8l8Y/sNfsz%2BK9YfxVpfw/wD%2BEW11sldf8D302jXit/eL2jIHP%2B%2BGq70Jbpx/FfjZ/izi5M5w/wAMoVV/eXs5ffHmg/nGJ65VHxH4X8M%2BMdIl0Dxd4dsdVsJxiay1K0SeGQf7SOCp/EV45/wpD9rv4cfN8Iv2rovEVnH/AKnRfij4eS7JHob6zME34sr/AI9/SfhJqnxf1XwxI/xt8IaJo%2Bsw3jxLH4e1eS8tbmEKpWZWkijePLFhsYEjaDnnAUoci5oyT%2B9P7tzahjJ15%2ByrUJwduqUov/t6La%2BTSv2PMtU/4J1/s222oS678JbPxB8M9Tmbc998NfEdxpKk%2B9ujG2YezREdulZHirwZ%2B2V%2Bz94cvPGOlftneEde0DTITJcr8X/DUdqLeEfxPqFg8WPTc8Lcnv0rW%2BP3xp0T4R/Ea08Yr8ZL2z07SpUl8dWVy0T6RpumLHJlpSYy8d1JJ5SRRxuZZGYYjZQSPmLwOnxP/wCCgv7Qlr4t/aKuriL4cSaqNR%2BHvwz8Qi50uz1bTxJL5FzJsgZLuYRwtKYpH5Ei4PlvivbwVCvXpOviZ/uY2u3Hmbf8sb7u2vxWitXpa/z2PzDA4Wt9Xw1NqtKXKlCXLH/FLldlFPRrl5nL3Vd7XdT/AOCpH7WPxx8P6r8Ov2Xv2c4tX12ykWPUfHvgyW41fTbKHcBJLbxXVrbCWbBykbMQevzDNdn%2Byj8Yf2Kf2XZ9T1T4pfE/xpp3xE8UvE3ivxR8YvDd/pt5fOmdqK88fkQwqSdsaSHA25ZtqkfQngX4/fDldSHhHTPBtz4f8PwWuoPoutSxW0Gm3MNhL5V15apJuiVDllLoiugLKSAcdV4H%2BJHw9%2BMWkXknhi6e9t7eUQXttqGlzW7KWRXXdFcRoxVkZWVsFWByCRRicxoewlh6FB06b3tL3pduZ2atfaKtFPo3qa4LCTqYiNepi1Vqq6ipR92Nt%2BSN4u9nrNptrZpaD/Avxf8AhN8ULcXfw0%2BJ/h7xDEV3CTQ9aguxj1zE7V0VeT%2BOv2FP2OfiRcG%2B8V/s2%2BEXuy2439jo8dnck%2BvnW4STPvurnf8Ah394G0D5fhP8fPi94KiX/VWmifES6ubZD/1xv/tCY/CvJ5MHLabXrG/4xf6Hve0zGHxU4y/wya/CUf1PeqK8GHwB/bY8M8%2BC/wBvBdTij/1Vp41%2BG9jdbh6NNZvbP%2BOCaPt//BTHw589z4c%2BCniuJOq2eparo80g9hJHcoD/AMCxR9Wi/hqRfza/NfqH12cfjozXolL/ANJl%2Bh7vLFHNG0M0aujDDKwyCPQiuI8Wfsxfs1%2BPSx8c/s9%2BB9ZL/fOq%2BE7O4J/GSM15/wD8NFftmaLz4q/4J931zGv%2Bsm8LfEnS7z8Qlx9mc/TFH/Dc2oad8niz9i3456ay/wCsaHwRHqCD6GyuJiR%2BFXDD4uDvTf8A4DJfpJCeYYJr37r/ABQkvzgw1b/gmB%2BwDq1yb3/hlrwzYzHpLokUunsPobV48fhVX/h2V%2BzLp3PgzU/iN4bI6HQfi1r0O36BrtgPwFW/%2BHj/AOzPYfJ4vXxz4dfvHr3ww1uDb9SLRlH4mpLX/gpf%2BwjdTC3l/aW8P2kh/wCWep%2BdaMPqJo1Iro587S3m/vf/AMkZfW8mv8cF80vz5SgP%2BCfVpa8aL%2B2d%2B0FZAfdA%2BKEtzj/wKil/Wj/hh/4nWP8AyA/%2BCiHxwi9BfX%2Bj3WP%2B%2B9OFdfpv7c/7FurgfYf2s/hwSeiyeNLKNj%2BDyg1t2X7T/wCzVqQB079obwNPnp5Pi2zbP5S1DxGZr4k/nBfrTNo1Mul8M4/Ka/8Akzzb/hkf9p%2B3407/AIKT/EVQOn2nwt4fm/nYik/4ZZ/bGXiL/gpl4wA/2/h34cb/ANs69cg%2BNvwYuhm1%2BLvhiQf9M9ftj/J6sL8Vvhc4yvxJ0A/TWIP/AIqo%2Bt4xbxX/AIBH/wCQNFHCvaX/AJN/9seN/wDDK37YMnFx/wAFMfGZH/TP4f8Ah1P5WdL/AMMf/tIXXGqf8FI/ic4PX7JoOgwfysDivYn%2BLXwriGZPiZ4fUerazAP/AGeqlz8d/gfZgm8%2BMvhSIDqZPEVsv83oWKxr2iv/AACP/wAgDWFW8v8Ayb/7Y8n/AOGFfHF582t/8FBvjzOe62uv6Xaqf%2B/WnAj86P8Ah3j4avOPEH7WHx91NT96Of4t3sKN9VtvKFeiX37V37LelgnUv2k/AFuB18/xjYpj85awtU/b6/Yi0gE3f7Wfw9bHUW3iy1mP/kN2q1XzSXwp/KC/SmZSq5bD4qkfnNf/ACZzH/Dr79j%2B%2B%2BfxX4b8W%2BIJD95/EHxL1263fVWvNh/75rU8Of8ABNf9gbwvKJtO/ZH8CzuDnfqmgx3zE%2BpNwHyarv8A8FNP2GC5jsP2gLDUWBxt0fS729P4CCF803/h4n8DtS48EeBfij4mJ%2B7/AGF8KNZfd9DJbIKtyzpqzc0vVr9YmSxeTp6Tg/Sz/JSPU/CPwV%2BDfgAqfAfwl8M6IU%2B4dI0G3ttv08tBiumrwY/tqeOtY/deCP2E/jPfyH7japo1hpcR%2BrXV4rD8Vo/4Xh%2B3drv7rw9%2Bwvpekb/u3Hir4qWi7Pdo7KC4z9A1c0sNiZO82vnJf/JNmqzDCJWgpP0hN/8AtqR7zRXg39m/8FMPEv7q78UfBbwnE/V7HTNU1ieMexkktkJ%2Bq0n/AAy9%2B1J4o/dfEn/goH4q8hvv2/gnwjpej4/3ZHjuJR/32an6vTXxVYr0u/yX6j%2BuVZfBQm/Xlj%2Bcr/ge9VwnxE/ah/Zu%2BEgkHxM%2BPHhHQ5I87rbUfEFvHMT6CMvvY%2BwBNcB/w7n%2BAWufP8WPEnxA8fP/ANTn8Q9SuY/%2B/McscOPbZj2ru/h3%2Byn%2BzN8JTHJ8NfgD4P0WaPG26sPD1uk%2BR3Muzex9yTRy4OO8pS9El%2Bbf5Bz5lPaEY%2BsnJ/dFJficGf8Agon8GPEfyfBXwD8RfiO3QSeDPAl49vntm5uVhgx/teZj3o/4W3%2B318Qv3fw//ZT8MeCrduY9S%2BI/jQXEm31NppqSYPsZl9Dive6KPbUI/BTX/bzb/D3UH1bF1P4lZ%2BkUo/i%2BZnDfBHwt8ffD1nqF18ffizoviW9vZY3s7bQPDJ06201QG3xoWmlkmDEg7nII29Oayvid8K/i/wCMfjd4b8deFfGXhzTdF8P6XcJHHqWjT3l0LueRFlljCzxRqfs6GNXbft82Q7DkV2Hjn4qfDH4Y2f8AaHxI%2BIuh6BBt3CXWdWhtVI9jIwzXl8/7fvwK1iVrP4Rab4t%2BItyjFWi8CeE7q8iB97llS3A9zJilB15TdSMd/LTt5L8TDE4nK8LBUK9ZJpp2c7zdnfZc03/4Cd3rHwF%2BG/izWNL8T%2BO9GGt6vpEvmWmqXmI5DiQSorrAESVEdVZVdWClQevNdnXh5%2BJv7cnxD%2BTwD%2Bzn4b8EWrcpqPxD8Tfapyp7/Y9PDYb2adffFIf2WfjP4/8A3nx6/a/8V30LctovgW2i8PWeD1Rni33Mi9uZhn9KUoNpe0mtPn%2BC0/Ezhj3Jv6phpyv1aVNP1c7Sf/gDPQ/il8ffgn8E7P7b8WfinoegArujh1HUUSaX/rnFnfIfZVJrzr/hr7xt8Rv3H7NH7MvizxRE/wDqvEPiSL%2BwNJKnpIsl2vnzL7RwnPr6dh8Lv2Tv2cvgzef2t8PPhDo9pqRbc%2Bs3MBur927lrqcvMT9Xr0Op5qEdk366fgv8y/Y5xiP4lWNJdoLml/4HPRfKB4J8aJPG8vxB/Zjk%2BJFrpcGut8X706nFok0klokv/CFeKciJpVV2XGOWANe914z%2B1B/yW/8AZx/7LNff%2BoV4or2asm7u56kI8kFG7dur3frtr8gooopFBRRRQAUUUUAFFFFAHy78Bv2xvjb8QPjF4Wk8baZ4WXwH8TNa8XaZ4Ks9L025i1XS5NFu5YoZLy4e5eK6W7t7a5mKxwwG3by48z5Mgu/Cv9qf4u67%2B2l4r%2BBvxY8TaJ4Z0W38T3Om%2BANAv/hPrdpc%2BJ7aLS7e7Nxa69PdjT7uRXa7LW8EDSCO1ckAIzjovB37BngbwF8SZviN4X%2BLvjeAW11rN14U0J59OlsPC0%2BrXq3mpS2KPZF2aeUOP9JecQpNLHAIVfFb99%2By1B4i%2BOWi/Gvx78b/ABr4ih8La1c6v4R8HakdMj0nRb6azuLJp4vs1lFdTFba7uo0FzcTKonYgblRlAOM/wCChfxc%2BFHhrwf4M%2BFHiP4neHtP8U%2BIPjD8PZdB8NXutQRahqSR%2BM9GaRre3ZxJMFVWLFFIAUk4wa7Xxf8Ash/CnxD4lvfHXhe/8Q%2BD/EGoTtNfa14P1%2BaykuJDyWkjy0MpJ674znvWX%2B3h/wAkQ0P/ALLN8OP/AFNdErpvEXxW%2BJ/g/XbuLWfgHquo6NHOwtNV8NahDdyvHn5We2YxyKcdQu/8ayrV6dBJzvbyTf32Tt9x5uZUsuq0orGU%2BaKej5ZPldt7x96OnVNdrnOf8IX%2B2h8PufCXxe8MeO7Neln4y0dtPuwo/hF1ZZRm92h%2BvrR/w1D4%2B8Hfu/jV%2By14z0ZV%2B/qXhtI9dslXuxa1PnKP96Ee9dFon7UfwO1e9XSL/wAbR6JqB4bTvEttJp0yn0xcKgJ%2BhNd7aXlpqFsl5YXUc8MgzHLC4ZWHqCODSpYihXV6c1L0af8AwV80jgoYWFRXy/Gy06OUasV6qfvr/wADRwHgb9rD9m/4jXX9neFfjHoj3u7adNvrr7Hdg%2BhguAkmf%2BA16EGUrvDDbjOc8Yrxz9sr4l/sr/CXwPba9%2B0p4KsdfOpXP2LQtF/4R1NRvtSuSMiC2jKk7/clQCR8wJFfNngH9iT9oL9o3VZdelTW/wBnT4b30DRf8IV4c8T3kusarA4IP2lHlNvZhlP%2BrEZIyVZD96vYwuW1K1L29WSp0v5pdbbqMV7036Ky6yRhVzXNsJilhlThXn1VNyg4p7OfMpQiv%2B37v7MWWZvhX8Nf2%2BP2s/K%2BEPgsWvwl8E%2BJZtS8eeIre6kWz8X%2BIQpEccEBJhm8pm3POUO4MwztZC/1jr/wS1DxV4503xD4j%2BJmqXei6Rq6app3ht7K1SKC6jRljImSNZGjXezBGJO7b82F2nz74afsy/tDfs3%2BB9P%2BHXwB%2BOHhy78P6RD5Om6F4s8GogjTJY5uLKSJmYkkl2RmZiWJJJrd/wCFo/tgeFP3Xi/9mHSPECJzJe%2BCvGkYJHqIL6OE/hvJp4/HrETjCimqcFaKer85P%2B9J6u2ytFaR148BChg6cpY7DVI1Jy5puMG4XW0V7KUvdj0Tjq7ykuaTOQ1r9lX4rXPwtvPCWsajpmpLonh59L8OWOmzMkuqRvciW6ed5QiQzTwL5G0Eopkdi%2BCAvp/wb8N%2BLJfGPi74s%2BMtBudHn8S3VpDp%2Bi3k8Uk1pZ2sJRPNMLvH5jyyTvhHYBWQbjiuf/4bP8GaL/yUv4S/Efwkq/6y41jwVcTQKf8ArrZiZD9c1s%2BFv2wP2XPGUgg0L49eFzMTgW15q0drNn08uYo%2BfbFcUq85xaZ14Stw5SxMXTxKUl9mUlFtpNLSahLRNpK1vVq7q/Eb4%2BfFX4c%2BMrzSx%2Byb4x8ReH4fL%2ByeIfC1/p9y1xmNWf8A0WS4jlTaxZehztyOtYf/AA378EdH%2BX4k%2BGPH/gxv%2Bpo%2BHmpQoP8AtpHDJHj33Y969m03VdL1m1W/0fUre7gf7s1tMsiH6FSRVikp0rWcPub/AOCetLD5i5OdHE6PVKUIyXonGUXbtv6s8u8Lftt/sg%2BMmEeg/tKeDGkY4WC61%2BC3lJ9NkzK2fwr0LQvFPhjxRB9q8NeI7DUYsZ8yxvEmXH1QkVS8U/DD4a%2BOAy%2BNfh5oesBhhhqmkw3Gfr5imvPdd/YE/Yw8QT/arr9m3wray5yJdJ04WLA%2BoNsUI/Cn/s77r7n/AJE3zyHSlP51IP8AKaPXqK8SH7AXwN0znwP4l%2BIXhg9v%2BEf%2BJerxAfQPcOB9MYo/4Y68U6d8/hf9tH4x2bD7q3mv2d8g%2BoubR2P/AH1RyUXtP70/0bD61m0fiwqf%2BGrH/wBujFnttRXdlZ38Rt760imjPVJYww/I14v/AMM/ftZ2Hy6N%2B3rqzoPurrHw%2B0m4x9TGkRP50f8ACsf28tM5sP2rfBWp46DU/hg8WfqYb/8ApR7KHSa/H/IP7RxS%2BLCVPl7N/lUR6TqXwc%2BEWsknV/hX4buiev2nQ7d8/wDfSGsS9/ZR/Zb1Ik6j%2BzZ4AuCevneDrF8/nFXI/wBl/wDBRm0%2BWLxp8F74Do03h3VoGP8A3zduP0o8/wD4KOQ/8wv4JXH/AG/6xDn/AMhPWi9rHaqv/AmYyxtCXx4Sp/4Ki/8A25m5P%2BxB%2BxhcndN%2ByR8MyT1I8C6eD%2BkNV2/YM/Ylc5P7JPw5/DwdZj%2BUdZf9t/8ABReH/WfDj4NTf9cvF2qr/wChWNH/AAlP/BQxeD8G/hO3uvjjUB/Owq%2BfFL/l9/5O/wDMzeIy574Of/gg1Y/2D/2Jozlf2Sfhwf8Ae8GWR/nHVu2/Yp/Y3szutf2TPhpGR/EvgTTwfz8muf8A%2BEn/AOChz8L8H/hKnu/jfUT/ACsKP7W/4KMzfc8B/BaD/rp4p1Zz%2BlkP50OeKe9b/wAnf%2BYLEZetsHP/AMEI7Sx/Zh/Zq0sg6b%2Bzz4Gt8dPI8JWaY/KKt3TPhj8NtEIOjfD3Q7QjobXSYY8f98qK8u3f8FHZv%2BWPwStv%2B2usT4/8dSj%2Bwf8Agonf/Lc/Ez4PaeD/ABWfhHU52H/fy9UH8qhqpL4qi/8AAmzWONox%2BDCVP/BcV/7ej2xI0iQRxoFUDAVRgClrxL/hUf7c2ofNf/tj%2BGrDPVNL%2BFaNj6NNet/Kj/hnD9pnU/k8S/t7eKjGeqaN4P0az/JjbyMPzNZ%2Byh1mvx/yNf7Qxb%2BHCVPm6a/ObPbaK8SP7Ftxe8%2BJP2u/jVqBb7yr42SyU/QWcERA/GqcP7Cn7JGsavNofid9c8T6nbxrJdW2v/EbVLyZEbozxNdYAPqV5o5KC3n9y/zZLxeauyWHjG/81WP/ALbBnrvib4m/DfwUrN4y%2BIOh6SF%2B8dT1aGDH13sK88179vv9jTw9c/Yrj9ovw1ez5wINEvDqLk%2BgW1EhJ9hVb4Xfsu/sEXsM178Lfgt8N9WFlcGGe6tdMtL9oZQASpkYOVbB9c16zoPhXwv4Vtvsfhfw3YabDjHlWFmkK/kgAo/2dd39y/zFTnnOIgpQlRSfVc9T8bxizyD/AIbq8E6zz8N/gf8AFfxajf6u40f4e3UELf8AbW9ECD8TR/wvL9sPxR8vgj9isaXFJ/qr3xt49s7baPVobRbl/wAMg17dWb4i8Y%2BEPCFv9r8WeKtN0uLGfN1G%2BjgXH1cgUe0pLaH3tv8AyHPC47l5q%2BLcV/djTgvvlzv8TyL/AIRD/goH4xGzXvjN8OPBUR5x4Y8K3Oqzj28y8mjT8fK/A0f8MZap4o/efGL9qv4o%2BJy//HxZW2vpo1nKPTydOjhOPYua29b/AG3f2UtEu/7PHxt0jUrntbeHzJqcjH0C2iyE1S/4a1v9f/d/DP8AZn%2BJmvM/%2BouZ/D66XbP7%2BbfSRHHuFNHt6i%2BGy9Ev%2BCzypVeGnLlqYh1n29pOr/5LTuvwNDwP%2BxR%2Byh8O7z%2B1PDXwG8PNfbt39papZ/b7rd6%2BfdGSTPvur0%2BGGG3iWC3iVERQqIi4CgdAAOleQf8ACXftweLf%2BQD8HPA3hCL/AJ6eJvE82pTY9fKs4kTPt5v40n/CiP2jPFv/ACUn9rvVLWB%2BZLDwN4dtdMC%2BwnmE8uPcEVnKc5u8m36nZh8XRoQ5MBgp28oRpR%2B%2Bbi//ACVs9c1DUtO0izk1HVb%2BG1t4lzLPcShEQepYkAV5j4h/bU/Zs0TUW0LS/iPF4i1McLpXhC0m1adm/u4tFkCn/eIqjY/sX/szx6zC/jnR7nxhrBUyJN448QXGqSyAdWEVxI0ePogFd38PtZ%2BFEM1z4K%2BG0Om2f9nsRLp%2BnWAto12sUYoAqq4DDaSmQDwSDWTqQUkm1dmjrZ1Vkot0qN9FdupL0svZwvb1OD/4Xp%2B0X46Gz4TfsrX9hBJxHq3xE1iLTEQ%2BptofOnI9iqH%2BVB%2BC37TXxA%2Bf4sftNNotrJ/rNH%2BG%2BjpZY9vtlyZZj9VCf4eq6/4m8N%2BFbI6l4o8QWOm2w63F/dpCg/4E5ArhLn9qz4UXc72PgP8AtjxfdI2Gg8J6NNeKPrKAIQPcvWVXFYag7VJpPtfX7tX%2BBhXwuEpu2YYuU2/s8ygn6QpWk/vkch8cPC1n4K%2BI/wCzL4U0/UL%2B7hsfjBexpc6pfPc3En/FFeKDuklkJZ2OepNe8V4X8e9Wvdd%2BKH7NGsajoF1pc9x8Yb55NPvWQywH/hCvFHytsZlz9Ca90reMlKKa6nv0lTjSiqatGytvtbTfXbvr3CiiimaBRRRQAUUUUAFFFFABRRRQB4z%2B3h/yRDQ/%2ByzfDj/1NdEr1Ky8b%2BDtR1WbQrHxTp8t9bymKezS7TzUcHBBTOf0ry39vD/kiGh/9lm%2BHH/qa6JWv%2B078Rv2YPgv4Ifx/wDtI3GjWdi0nk20l5Z%2Bbc3MuCRFAqKZHcgdF6Dk4AJrmxFLNqzhDL4xlNv4Zc/veScE2nfvFq3TqY160MPSdSclGK1bbskvXob/AMXviH8BPBOj%2BV8d/GvhLS7GVCyxeKr%2B2ijkHThZyA3pwDXyr4y/a0/4Jm6Rq09n8Fdf8T6h4iwWSx%2BDllqImkbsFEQW2bJ45JH4Vm/su/sY%2BBv2jbzxl%2B1n%2B0J4C1TS31bxVMnw%2B03xnp8Mo0/w9CF%2ByM1teJIqFyzkg/3QynDZb6n8NeAvil8N9MTSfAF/4QutPUAx2jaH/Z3GOMG1JTp32U8wr5TluL%2BrY/A1K9WEYuTpToyjFtK6STVdxjK8eayUnGVtrHzTpZhnVJYj2dOFN35W4Oc7XaT1dNRbS5kr6Jq%2B58v%2BDP2c/wBu79qDxn4X%2BLXxb8THwX4a8E%2BII9c8DeFfFyRX%2Brz3KcI99LbJAYkKnmPcW5KsvRq%2Bmv8AhMv2ovDfy6/8GtA8QoOtx4Z8SG3fH/XK7RRn28ytb/hY3xF0j/kafgrqLIODPoWoQ3gPuEYxv%2BlLH8fvhrC4g1%2B/vdFmJwYtb0ue2x/wJ02/rXmY7inJsU4RlXeGjBcsYSU6aSbv/wAvoWk29XJ1G35KyOvCZPQwMX7OvUU5W5pOV7tKyupRcbJaJJ6LTXcyP%2BGndC0njx98L/G/hwLxJcX3hqS4gU/9dbXzVx78Vq%2BHP2kfgJ4rcQ6L8XNBaYnAt7jUEglz6eXKVb9K6TRfGXhHxIAfD3inTr7PT7HepJ/6CTTPEfgTwR4wjMXi3wdpWqKRgrqOnxzjH/A1NdNGeIrU1OhWhUj3srf%2BBQk0dyp5pBe5VhNf3otfjCX6Gja3drewLdWVzHNE4yskThlP0I61leKfh18PvHEZh8a%2BBNG1hCMFdU0uK4BHpiRTXI3X7JXwBedrzSfAp0edjkT6BqVxYMp9QIJFH5io/wDhnnXdK/eeD/2iPHtgy/cjvdTh1CIf8BuYnY/99Vr7XHR%2BKkn/AIZL8pJfmTUnjpQ5a2HjNeU4tfdOKKOpfsMfsoX921/afBqw0q4b/lv4euZ9NYfQ2skeKg/4Y%2BsdM/5Ev9oj4raGq/6qCDxm93EnsEvEmGPatX/hCP2odG%2BfSPjroOr46Ra74P8ALz9Xtp0/RRR/bX7W2kfPe%2BA/AutKO2na9dWbt%2BEsDgf99Gj6418dKa%2BV/wD0mT/I8t4DJk7ywEoPvGFvxo1I/kZX/Ckv2o9J%2BXw3%2B2bdTxr9yLxF4FsLrj0LweQx%2BuaP7M/bz0j93beLPhTraL0e80fUbCRvqY5plH4LWr/wuD416d83iD9lvWNg%2B8%2Bj%2BIrC7/JWkjY/lS/8NK29t/yGvgd8R7ED7zP4UadV/G3eQUf2hhV8Ta9YyX/tovZZTD4a9an/ANv1l/6XCaMn/hPv22NF%2BXVP2dPBms46vovxAkgz9BcWY/Uij/hfn7RWn/Nr/wCxP4iCDq%2Bk%2BLNKuvyBmjY/kK1v%2BGt/gbB8ur65qumv3TU/DF/Bj6loMfrVmx/au/Zu1A7YfjT4fQ%2BlzfrDj6%2BZjFNZhgG7e1j/AOBJfm0NTw17U8za8pSov/0qEWYH/DWWr2vy6x%2Byb8XLYj7xi8N21yv4GC5cn8qX/hs7wTb/APIa%2BEHxT04dzefDbUcD8UjYH8K7ex%2BN3wY1PB074u%2BGLjPTydft2/k9a1p4z8H3%2BDY%2BK9Nmz08q%2BjbP5Gt416E/hmn6NP8AJnVCGPn/AA8fGX/cOk//AEmojzL/AIbp/Z1h41PVvEti3dbzwDrCY/H7KRR/w3p%2Bygv%2Bv%2BKbQ/8AXzoF/F/6HAK9dinhnXfBMrj1RgadWpt7DPemIpv/ALhP9Kp4/wD8N9fsfD7/AMddKT/rrDOv84xSj9vn9jg/83BaB%2BMrj/2WvX6Qqp6gH60B7HP/APn9S/8ABc//AJaeQn9vr9jgdP2gdBPsskh/ktH/AA3x%2ByEf9X8btOk/65Wlw/8A6DGa9fAA6CigPY5//wA/qX/guf8A8tPIP%2BG8/wBlZv8AUfEi6n/69vDGpS/%2BgW5o/wCG5PgNP/yCF8X6gewsvh7q7Z/76thXr9RXF9ZWgzdXkUQ9ZJAv86G0twdDPba4mmvSk/1qnN/Cz4taN8W9OutU0Twx4j02K1mEZHiPw9cae0uRndGs6qXX3HGeK4j45WV74X%2BJXhr4h6RqUkMQ1u0g1jy/E10Z5FkbyVgisCTbsrbwXYbX%2BUkAnmvSbz4geA9Pz9v8baRBjr52pRLj82rk9X%2BIf7KkHiWPxprfjXwB/bUCBIdUn1CyN2ijOFWQneAMngHufWsZYjDw%2BKaXq0v1M8bGNXBRpVa8OdNPmbUNne6Sk/S17PW7VzzT9oS%2B8PHxxrGu6nc20usyaTpz/DW6idWllnjuv38Fm/UzOxCuqHcyOQcqDiCbwneal48vfA2n6LdW3iyfxDrrXepiykUPpt3aOUlM%2BNpj3mNEXdlWjAAAXI9Mf9q/9mXS1WztfixorBBhIdPLTYHsIlP6Un/DWHwjuvl0CLxLq7dl0zwdqEmfoTCAfzrF5jgP%2Bfsfk0/yueNVwuU1cRKpPFw1d2lZvXfVNvm6Rla6jpqY3wG0/wAR3fj6DW7jwpqekQ6b4CsdF1mPUNNktkl1CCVv9TuUCZFXePMTKkMmD6dV8U/hR42%2BIurW02ifHzxN4U0%2BK28u4sPDtvZhp33E%2BZ500EjqcEDA44zjOazv%2BGi9QvPl0L9nn4jXbH7pm0KO1U/U3EyEflSf8LR/aE1D/kD/ALMMkCt92TWfGFpDj3KwiU/hS%2Bv4Z/C2/SMn/wC2o9Gj/ZkcF9WlKdRN3fLGor7fyKNlorpSs9W97LK/4Yt8A6p8vjz4pfEnxOh%2B9DrPj69WI/8AALZolH4AVo%2BHv2Lf2UvDE/2vT/gJ4bnnzn7RqlgL2TPrvuN7Z985qT7R%2B17qnzRab8PNGRugmub2%2BkX8FWFSfxo/4Vr%2B0Zqvza5%2B0lDZK334dA8IW8eB6B7h5T%2BOBR9bnL4KM38lH/0qX6EQwOUqXNTy9yfeUI3%2B%2BrObO/0Tw74f8NWgsPDmhWenwDpDZWqRIPwUAVb3Lu2bhuIyBnnFea/8M02Wo/8AI3/GX4gayrf6yGbxM9tE/tstViGK3/h/8DfhX8LtSm1rwP4SS0vbmDybi9kuZZ5pI9wba0krsxGQD17VcKmLnNc1NRXnK7%2B5K34nsUKmNclH2MYQ/wAabS8lGNvxRS%2BNfiD4geEdKj8TeELxpIbcjztPh0Q3JkIyzNLIHzFEEByVQtnGCchag%2BKPh/X/ABXcaJ4r8N39rdaXbW80l5aXPiO5sLaZWCNHKTACJcFeA%2BFwx5q58VpdN1PUNI8HajfavFDqU7R3Y0u8EIMTYjAlOCxVmYLhSDk9cVmeOtO0eza50iDwbo97pmiadDqNzYatZG4Dqu6MCLe22LakbHO05IxgZzXjY7McLSdfmk2ouKaV21Kznt25U3LfRNWb0MMRh6tWpVTfuvltq9JLXSydl3XXscbfaxa6/rMfjlPDl3FrPiA6JqfhWR7N3lTcvlTW3mAfKsa7mkUkAiQtg7q6XwN4J8X6R4t8PaHc6BdQ2/hWXU0OstLGYLyynY%2BREoDby/8AqS2VwDCeTuFaUfiHxSl/Ne2OtERPq8mlW%2Bm%2BRGsUAMQaB1AXduGQzZJBBOAAKd8K9QX%2B1LG30zUJpodQ8OpealBPdvM9veBkVtxckqW3OCOBmI8V5uGzTDVMfClyyvKW/uq/vOzsr3vKLb1UoRtdNXtjRy2MaqnKbbunokr63133kr33SstjqPE3w98CeNbyz1Dxh4O0zVZtO3mxfUbJJvIL7dxXeDgnavPsK1IYbTT7UQwRRwQxLhURQqoo9hwBWL4w0LxD4int7LQPiDPoqorG7js7WGSWYHG0hpAfLxzyAc5HTHOQnwF8D3bibxbdat4hkByG1zVZZlH/AGzBWP8A8dr26%2BKzFYmcMHhVLo5yqQjFuy6RU6jttqo/dZnrezUKjlGCTe70V/XS7%2BZxf7TFxb3fxo/ZvubWdJY3%2BMt8UkjYMrD/AIQrxR0I617TXiX7R2mabo3xg/Zt0vSLCG1toPjJfLDb28QREH/CFeKOAo4Fe2169P2ns17S3NZXte1%2Btr62vtfXubK4UUUVYBRRRQAUUUUAFFFFAHMeHPjb8GPGPxB1n4SeEfi74Y1XxX4cRX8Q%2BGdN1%2B2n1DS1bG1ri2RzJADuXBdRnI9aLX42/Bm%2B%2BKdz8C7L4ueGJvG9nYC9vPB0Wv27arBakKRO9oH85YyHT5yu35l55FfHH7PHh7xn4L%2BNXgPQ/EHwg8a6dqXwx8T/ABJv/H/iY%2BB9Ra11K21jWJJLQWtykBXUjevPa3rJbmUwi0bzxE8YWrvg74f/ABBi/ak8PfDeX4UeKIde0H9p3xJ491rxnL4auk0qbw7eaFqdvbSJqZj%2BzTyFb2w0/wCyrIZk%2BzMxjEcKvQB73%2B3h/wAkQ0P/ALLN8OP/AFNdErzTS/Bvhz4o/wDBWzXb3xXYjU7b4dfDSzm0O0vpGmhsdRvLkyNcxoxISTyxtBA4GD1UEeg/ts/B/wDaf%2BMPhTRdL%2BAHirwEttpPjDw3ruoeHPGGm3sL6q2l69Y6mY49UtpZBYhktCuWsLrcxA%2BQNuXw39hDRP2zdA0jxt8YtG%2BAnw58ReI/FXj7XNP8TeJPFPx11Bbu5k0jVbzShEiw%2BFyiW6NayeWBjKsCVj4jTuwU8LQjVrT/AInI4w0d1z2U3e6t7iafV3surPMzDD18VVoU4q8FNTldq3uJuKt1bk010XLd9D7A8e6RrmpwD%2Bz0hniKeWLZwwIdiF8zIyDgE9RxyaZ4zl02fT7Zp76zT7PumFldEjz9qldq8qcg9Dg8gcc159/wnH/BQv8A6Nf%2BDP8A4fjVv/mXpH8af8FB5ABJ%2By38F2AORu%2BO%2BrHB/wDCWr4TMeFaWLljJ06nvYmMVJTvKK5HdNWtK17PlbcNLW5ZSv79PFuHImvhvt5/1vv%2BB39xqN8Zmlsrqa3W0e1hgs9wIdnAZlfOSTtYDrxjNWdO16/1C%2BtjdCF7PUWnEEHlHcqJnDlicEMB0x/EK8vk8Qft7y6iurSfso/BY3KDCyn476tkcEf9Cv1wTz71Bpuq/t%2BaXdG7h/Zj%2BD7kKywpJ8e9WKwqxyVQf8ItwCQPXoBXDRyPiLD4%2BMo1703O7tJpcqas3FprWF6fs4Wgnyyd7K2kq%2BGlTacdbdv19dbvXdHqetfCD4W%2BIWMmr/D/AEmVz1mWyRJP%2B%2BlAb9azf%2BFE%2BFrL/kWfEXiPRh2TTfEE%2Bz/viRnX8MV4xN8cv27PGXxl1v4HW37NHwzsdV8MeGNJ126vLX4/apHBLBqVxqVvCin/AIRglnVtKnLBlAAkjwWJYL1%2BmeLP%2BCiFhYx2c/7N3wfumQHM8/x41Xe/JPOPCwHt07V6s8ly7E5lONXLoKNrqqnBOT0umoKnUi99XJp280cEqNBwUrq/azX47Hcf8K%2B%2BKGncaH8b7t0H3Y9X0a3uPzZBG360bf2hdP4EnhDU1Xuy3No7fl5gzXHf8Jx/wUL/AOjX/gz/AOH41b/5l6P%2BE4/4KF/9Gv8AwZ/8Pxq3/wAy9dH%2Br2Gh/ArVqf8AhrTa%2B6ftEZezXRv7/wDhzsf%2BE4%2BL1l/yEvgkZgPvPpniGCTPuFlEZo/4XLJbcav8J/GNqR95l0cTqPxhd647/hOP%2BChf/Rr/AMGf/D8at/8AMvXL6t%2B0d%2B3bo/xn0D4HXH7KHwkbVPEXhfV9ds7lPjrqnkRwadc6bbzI5PhjcHZtUgKgKQQkmSpChj%2By82p/wsfP/t%2BnRn%2BSpsOWfSX5HrX/AA0F8Lovl1PVr2wbuuoaNdQ4%2BpaPH61teFPiJ4G8ctKnhDxTZ6g0KhpktpgzID0JHUV5n/wnH/BQv/o1/wCDP/h%2BNW/%2BZemJ4v8A%2BCgUUrTx/sr/AAWV3HzOvx11UE/U/wDCLVvhqOe0669vXpzh1tTlGXyaqSj96GlUT1a%2B7/gnofj3xtqXh2SCx8P6fHdXBmgN35obZDDJKIwTj%2BJiSFHtzxUHxB1yG1uGsLfwpYanJBYSXt6L/AVIEyML8jZc4OAcDjkivJ/F2l/tseNZorzW/wBkP4IPcxzRP9r/AOF4ap5rLG4YIWPhbO04wR6E4qDxLB/wUX8QESRfAP4N28k1jJY38i/G3VGM9s5ztX/imAEYAkBucbjwa87G0uIubEum7qTjycrV0kpXVpqybfI225JrmtayTicZyTT1X9dzv7zS/hPrWrRxXHwP8PXVg1xb29ze3Wm25dJZkDIAhjIZRuUMdwIJ4B5NUtH%2BFP7OHi3VIrOb9nvw3bwX0Usul3a6PbKLtI2AchUUFPvA89Qa8k%2BL3xJ/by%2BC9haeONb/AGa/hFLot9438O6f/Zll8a9Uab7bf6hZ6TbN5jeG1UQrNcwyyDaWwjlc8Iep8L2v/BQ7w9d6bLP%2Bzv8ABe4h0ewmtNOiX43aujKkjISXb/hGTuYCNRkBe578ctLC55LFR9tTi4c2t40rWvZ20uocusftc%2Bj0OWWBwtR%2B/Sg/WMP/AJE9El/ZC/Zplbf/AMKd0hD6wxtH/wCgsKb/AMMg/s7D/VfDzy/%2BuOrXaf8AoMori/F13/wUQ8WRQRw/Az4Y6SYGY79I/aB1SMyZxw27wo2QMcfU1h/8I5/wUmj/ANR4L8ED/rp%2B0Bet/PwfXoYqlOjXcaWXRqR/mUqMb/8AbskmrbbkSynLL6YaH/gMV%2BiPUP8AhkX4BD7nhTUE/wCufijUV/lcUf8ADI3wJ7eH9YH08Yap/wDJNeX/ANjf8FOl/wBX4Q%2BHo/3vjndt/wC6hXL/ABt%2BIX/BSb4D/Bjxd8cfFPgTwHdaX4M8MX%2Bu6la2HxpuGuJre0tpLiRIw/hNVLlYyFDMoyRkgc1z81f/AKFT/wDA6H/ySJ/srLf%2BgaP3RPeP%2BGRvgR38O6ufr4v1Q/8AtzR/wyJ8AOj%2BD71/%2BuniXUG/nPXl/wDZX/BUM/e8J/Dn8PjbdD/3UaP7E/4KbN/rfB/w/P8AufHW7X/3UKOau9sqf/gdD/5Jh/ZWW/8AQNH7onqH/DIH7OTf634aQy/9d9QuZP8A0KU1Lb/skfs02pzH8GNDY/8ATW13/wDoRNeVf8Iz/wAFIX5n8EeCm9k/aFvk/l4Qo/4RH/goW/8Ar/hr4Nf/ALuV1ZP/AEDwoKF9c6ZVH51KH/yDGsqy1bYWH/gMP/kWezWf7OX7P1hg23wR8KAjozeH7dj%2BZQmtex%2BGHw00vH9mfDzQrfHTyNIhTH5LXgX/AAg37dcn/H78EPAtz6if9qDxB/TwyK5f4I3v7Tfx7%2BDHhD45aD%2Bx38NBpvjPwvp%2Bu6db6z%2B0nr7TxW93bR3EaSqvh5kDhZAGClhkHBI5raMs5X8PAUo%2BtWP/ALZQZvDCYen8FGC9FFflA%2BukTStHh2otvaxjsAqL/SqF78QPAem5/tHxtpFvjr5%2BpRJj82r5/g%2BG37UcD%2BYP2GvgRI3rcfHTV5T/AOP%2BGDWnZaN%2B1/p2DYfsOfs%2Bwkd4/jHqAP5/8IrWynxPLanQh6zqy/KEDpXtErJJfeerXnx6%2BDVk2yT4kaVIewt7kSk/TZnNQH4%2BeALjjRota1Juy6f4eu5M/Q%2BWAfzrh7PxN%2B3zp67bD9k/4JQD0h%2BOeqr/AC8LVP8A8Jx/wUL/AOjX/gz/AOH41b/5l6Pq/EtT4sRSj/hpSl%2BM6q/FBar3X3f8E7H/AIW5rV58mifBnxZOx6G6tYbVT%2BMsoI/Kj/hLPjbqHyaf8I7Cyz0k1TxGpx9Vhjf%2BdeTeAf2jv27fiJ4r8b%2BENH/ZQ%2BEkNx4D8URaFqslz8ddUCTzyaVp%2Bph4tvhgkp5OowqSwU70cYwAzdR/wnH/AAUL/wCjX/gz/wCH41b/AOZej%2ByszqfxcfU/7chSh/7ZN/iHJJ7y/I7H%2Bz/2gdS%2BS68S%2BFtKU97PTZ7px%2BMkiA/lWv4R8NeMNGu5bvxT8RLjWfMj2pA2nQ28cRzncAg3E9uWNeb/APCcf8FC/wDo1/4M/wDh%2BNW/%2BZej/hOP%2BChf/Rr/AMGf/D8at/8AMvW%2BHyXD0K0a0qtWcltz1Ztf%2BArlg/nFjUEne7%2B873xv8MY/F92%2BpQ%2BJdRs52FvhILjbF%2B5kLoSFAbILNjDDBOai%2BIHhL%2B0dPe6N/P8AbJo3tFS12oLmBiSYJAwfKhdxLDDfeIIya8%2BvfFP/AAURu7m3nj/Zy%2BEECwOWeKH48aptm9mz4VJx9Mda5YfHT9tvxl8Y9c%2BBNz%2ByT8JW1Lw14a0jX7m5f486stu8Go3Gp20KIV8M7i6tpk5cFQuJI8FiWC%2BbmeSLF4XGQw9FQqVLJSc9JO3xJLm5XHmkleOr1s4tp7U4UI1Iynquq1/zX4WPa9V8KWF62neMNC0qZbtmheQ2rruKGPaG2yHyy4UhQ5G4LwDUFz/ZJupNStXayc2UshkGI3e5hkw5k2YEjducjHTrXnmn6l%2B37p2lJo1v%2BzN8IFgRNqrF8fdXjI5JyCnhYEHnHWp49d/b0itEsf8Ahk74KPFG%2B9Fl%2BO2rPhs53ZbwuSTnv1rxK/C%2BZ45c75Kcpxg5q7cfaxik3Hk5ZRTblKUk05OMNNGdlOvhqL91Xs3bRJ2fe99baelz0GISDVUaS2KajLqkU8biI5e3ZF3gtj7qjeME9VFdNqlndX9g9paanLaSNjFxCqllGecbgRyOPxryL/hOP%2BChQ6fsvfBn/wAPxq3/AMy9H/Ccf8FC/wDo1/4M/wDh%2BNW/%2BZevosq4ep5dh69GdRzjV3teD2ldtxknzvmd5pxbtHrG7xq4l1JRkla3z/Ppptr1If2kbRrH4xfs22j3c1wY/jJfAzTsC7/8UV4o5JAAz%2BFe2V8r/E/xL%2B1bq/7Sf7Olr8a/gv8AD3w/o4%2BLmotHfeFvidfaxcmf/hC/E21DBPotkoQgsS/mkggDYckr9UV71KlCjSjTgrKKSW70SstW236tt923qc7bk7sKKKK0EFFFFABRRRQAUUUUAFUfFHiGw8JeGtR8V6qHNrpljNd3IiXLeXGhdsDucKavVHd2lrf2stje26TQzRtHNFKoZXUjBUg8EEcYoA%2Bb/wBjX9qX4%2BfFTxho3hX4/wCm%2BEkfxv8ACfTviB4XXwnp9zb/ANl29xKEn0y6ae4mF1JCJrTbdxiBZS8v7iLYN3ldh/wUe%2BMvw6%2BGB%2BNPiX4f%2BDLrw347%2BF/ivx18M9A0LTrixubKWxvbQW9pqVw88qXL3i6nDPJPFDB5LpMpSbcr17z8AP2F/CH7Omq2%2Br%2BE/jL461OXTtF07QNDGv3OnXA0rw/ZPK8GjQlbJCbfMvzzSF7yQRRb7lvLXGNpP/BM74DW1p4g8PeJPFXi3X/D2reEtc8MaH4Y1bUbZbTwtpOr3CXF/a6c1vbxToHkhtyjzyzyQrbRJE8artIB037Mnxc%2BMfiPx94/%2BBfx/u/DOoeJvAt1pky654Q0e406x1Cxv7TzYm%2BzXFzcvDKksVzEw85wyxxyDZvMaexV538AP2c9K%2BAx8Q6xcfEjxN408ReK9Rhu/EHizxhJZm%2Bu/Ito7aCLbZW1tbxxRxRgKscS5Z5Hbc8js3olABXy78Bv2xvjb8QPjF4Wk8baZ4WXwH8TNa8XaZ4Ks9L025i1XS5NFu5YoZLy4e5eK6W7t7a5mKxwwG3by48z5Mg%2Boq8M8HfsGeBvAXxJm%2BI3hf4u%2BN4BbXWs3XhTQnn06Ww8LT6terealLYo9kXZp5Q4/wBJecQpNLHAIVfFAFPXPip8cfh5%2B2p4R%2BGetaj4B13SviI2poukaH4XurbXdB0ewtZp4tRu717yWO6txdPFalBbwBZtUj2M2H3ZH/BOH9qf4u/tH%2BBfO/aL8T6JZeO/%2BEZ0jVdZ%2BHlv8J9b8KX3hxrqOUyLIur3cz6jAZUeKO6gSOItbS8uThOt8Dfsaf8ACA/tKeLP2l9O/aU%2BIV3e%2BNJ1Os%2BHtSi0OaxW3it3htbKGX%2BzBewWtuZHmjhS5C%2Bc8kj7zLL5mx8G/wBl%2B2%2BFvxF1T4v%2BLfjT4y%2BIPinUtEt9GTW/GR02N7PT4ZZJhbwxabZWkChpZWd3aNpGIQF9qKoAPUaKKKAPl39pr9sb42/Cv4p%2BMX%2BHmmeFm8G/CbRfDep%2BO7bWdNuZtR1iPVL64imjsZo7mOO0a2tbfzw0kVwJ5JRFiEKZDN%2B2R%2B0r8TPgV%2B0L4Os7bV/D3hLwNJ4R1K88S/EXxH8ItZ8RW2myLe2CLaS3thd28GkQyRtLK8923lf6MpPCV23xn/Yh%2BHHxu%2BKR%2BJmueOfFWlxaja6Ra%2BL/AA1o11app3imDS72S9sYr5ZbeSYLHNNLn7PLAZY5DFMZYwqCf46fsk3X7QngmX4Y%2BPP2lviHF4Y1TR7jSfF2g6YuiwxeJLKcuJobmX%2BzTPCGidoC1pJbt5Z67/noA881L9sb422v7QF3LBpnhb/hWOn/ABms/hpc2D6bcnW5by402Ccamt19p8hYlvLmK2%2Bym3LGNXn88HENfUVeL3H7Dvw1n%2BPf/C8B428Ux2j%2BKYfFE/gOO5tBoc2vRacunRamyfZvtPmrbJGBELgW/mRJMYTKPMr2igAr56/a8/aJ/aA8B/ECD4Xfs4WvhFdT0/4a67431m48Zabc3UN1BYSWsUOmwi3uIDBJcPcSZumMqwCEfuJjJhfoWvI/2l/2PPB/7TOoWWtaj8SfF/hHULfw/qfh%2B%2B1HwbeWsM2paLqHkG80%2BY3NtOFjka2hYSxCO4iKExTR733AHNftOfHfxlB%2BxX/w118L/FnhPQ9G03wWPGV5Z%2BNfAdxrzXUKWqXttBBFb6lZGO58wIEOZCZNgVQ2DXDXv7WP7Vvw%2B%2BOvgP4aftDa54P8EaRd/D7wheeLdd/4VDr2o6XqPiXUL29ttR0q31aK/Wz0gK0FokH2wzMXvY/9bwh9x8efsw%2BC/iP8NLL4P%2BJ/Emst4c07xRpOr2mlWotIY1h028t7u10whLcbrISWsQZGzI6Ao0hViKqfHT9lqD9oLXLZPG3xv8a2/hJZrGbU/h7ph0yPStVktblbmMzytZNfANIke9IrqNHWMKVwzhwD1SiiigDxf/goL8Xfjh%2Bz9%2ByP40%2BPXwCvfCkeseCdCu9cuoPGGi3N9bXdpa20sz26JbXVsySuyIokLlUBYlH4FXf2wfif4u8CeDvDXgX4e6ZoNxr3xH8ZWvhTTZfFWmyXumWqzwz3FzNc20csLXKLaWtziESx%2BY5RS6gkjU/ax/Zxsv2tPgRr37PutfFXxT4R0nxPZS2OuX/hBdO%2B13NlLE8U1tuv7S6jRHV%2BWRFkBUbXXnOd43/ZWk%2BJXw6s/BHjz9oLx1qOp6TqenapoHjExaPBqek6lZklbyEQaclszyBnWRJYJIWSR08sKxUgHgkn7d37VvjLQ/8AhDPhno3gC28beE9C8dal44udZ0i9m03Un8OawNKjtrKOO7SS0F826cTSSXH2RQEMdyTuH1t8L/HumfFT4aeHfifoltLDZeJNCtNUtIZ8b0iuIUlRWx3AcA%2B9eIeIf%2BCaXwn1jwLpPg/Rvi58QNBvLPTfEOna74n0XUrFdS8SWmu3a3usRXry2bxg3N0om8y2jglgbIt3gUlT9BaHomkeGdEs/Dfh/T4rSw0%2B1jtrK0gXakMMahURR2AUAAegoAtVzXxik%2BJsPwy1if4Oa1oOneJYrXfpl74m0qa%2BsYirAuZYIJ7eSUeWHwqyx/MVy2M10tYXxM8Hap8QfAep%2BC9G%2BIOs%2BFbjUbfyU8QeH4bOS8swSCzRLe29xbkkAqfMhcYY4AOCADgvgJ8UfjB%2B0N%2BxH8P/AI1%2BH7nw1o/jXxx8ONE1xpbzSri40uzvLyyguJT9mW4SaSJTI%2B2Pz1YgKDJ1avAL39sz9qLQfg5p6%2BA9I8K3UGj/ABzu/AmoePPB3wa13X9Hk0Kz0S6uX1G00TTb1rqNYtRhTSXIuZYklglbO0qF9i8JfsNT%2BDP2S0/Y80n9rf4rroNr4ITwrpWvwz6JbaxptjGiRRPBcW2lxqsyQIIVlKE7SXOZcSjR8H/sjeJvh78ENJ%2BBvgH9rz4jaJa6FcIuk6vpeieFYbi1sEt1gj01IV0T7Gtsm0OpFv5wY483ZhAAehfB3xvpvxK%2BE/hr4gaR440jxNb6zodrdp4h8P2jW9jqReJWNxBE8srQxuSWWNpJGQEKzsQSekrl/gr8IfBvwD%2BFOg/Bz4fxXK6R4e09LSza%2BuWmnlAyWllkbl5HYs7N3ZicDpXUUAFeL/sc/F344fEq6%2BKXg74/XvhS71n4f/ExvD1tfeD9FubC1uLVtG0rUkLRXN1cuZFbUHjLhwriNWCJkivaK8X%2BBP7HmsfAnxp4v8a2n7WXxK8RyeOPFcPiDXrHxDaeHRA92lrb2ZCfZNIgdI3t7S2iYB84hDKVdnZgDwzwR%2B3/APFXwb8N/jF8RPi9B4atvF3hrS/EGsaJ8MG%2BFGteGb6/jsr99PsrxtSv7qSLVreSNdPWS5tYdkX2mLkDYh95/Zk%2BLnxj8R%2BPvH/wL%2BP934Z1DxN4FutMmXXPCGj3GnWOoWN/aebE32a4ubl4ZUliuYmHnOGWOOQbN5jTM1z9gjwN8RNV8Qar8evjB45%2BIZ1zwTq/hK0g8ST6dbJouk6nJA97Daf2bZWp8xzaWmJ5jLMn2ZNrqS5bsfgB%2BznpXwGPiHWLj4keJvGniLxXqMN34g8WeMJLM3135FtHbQRbbK2treOKOKMBVjiXLPI7bnkdmAPRKKKKAPF/gr8XfjhrX7XHxZ%2BAvxUvfCl1o/hjQvD2ueEJ/D%2Bi3NrcxWmpXOsw/Z7x5rqZbiVF0yJvMjSBcyuNhwDXP%2BJPiJ%2B0t4V/b88F/CDTPFXw51Xw54u0jWNY8Q2cHw%2BvLfWdL0HTkSK336j/AGq8Ush1DUbdVVrRVZGuiqqVJroNF/Y81jQP2i/GH7SWnftZfEoah4z0qy0y90J7Tw6dPs7SznuprSKAf2R548o3t0oaSaRmWY7y5VCvaaX8C/Cul/HDxL%2B0CmranNr/AIk8MaboDefNGYdOsrKW7mRbZRGCjPLeyvIzF95SIcCNQADx3/gnD%2B1P8Xf2j/AvnftF%2BJ9EsvHf/CM6Rqus/Dy3%2BE%2Bt%2BFL7w411HKZFkXV7uZ9RgMqPFHdQJHEWtpeXJwn0tXl3wb/Zftvhb8RdU%2BL/AIt%2BNPjL4g%2BKdS0S30ZNb8ZHTY3s9PhlkmFvDFptlaQKGllZ3do2kYhAX2oqj1GgArwf9rX4zftBfAbxJ4X8XeDPEHgi98Pa14u0Lw7beBb7w5eSa5rlze3yw3LWl7HerFCYLVpLrY1pMPLtJmd40BeP3ivGfiT%2BxyvxE/ad0T9qa3/aO%2BIGhar4f0MaVpmgaZDolxpcEDzebctGl9plxNDLcgRxzSxSo7RwxorIByAcL%2B2x%2B1D8Zvhb4y8QWfwa8OeDrpPhP8Kbr4leJh4s0qe5m1GFWuoYtPsJIriEWM8sNrqCm7cTqm6NfJdXcirH%2B2z8YtQ%2BNZ17StO8Ln4VxfF6w%2BHT2Mul3P8Abktzd6Zb3C6otz9p8lIlvLqK2NqbcsY1ebzwcQ13Hx0/YR8FftBtFN42%2BMHji2mu/C934Y8Xz6RcadA3ivQrmYSyaZfD7EVWL76LJbC3nRJpQso8xybU/wCw58NJvj1/wu9fGviiK0bxTD4on8BRXNoNDm16HTl06LU2T7N9pEq2yRgRC4Fv5kSTGEyjzKAPaKKKKACiiigAooooAKKKKACiiigAooooAKKKKACiiigAooooAKKKKACiiigAooooAKKKKACiiigAooooAKKKKACiiigAooooAKKKKACiiigAooooAKKKKACiiigAooooAKKKKACiiigAooooAKKKKACiiigD/9k%3D\">"
      ]
     },
     "metadata": {},
     "output_type": "display_data"
    }
   ],
   "source": [
    "try:\n",
    "    display_html(HTML(anim.to_html5_video()))\n",
    "# In case the build-in renderers are unaviable, fall back to\n",
    "# a custom one, that doesn't require external libraries\n",
    "except RuntimeError:\n",
    "    anim.save(None, writer=matplotlib_utils.SimpleMovieWriter(0.001))"
   ]
  },
  {
   "cell_type": "markdown",
   "metadata": {},
   "source": [
    "# Logistic regression\n",
    "Your assignment is to implement the logistic regression\n",
    "\n",
    "Plan:\n",
    "* Use a shared variable for weights\n",
    "* Use a matrix placeholder for `X`\n",
    " \n",
    "We shall train on a two-class MNIST dataset\n",
    "* please note that target `y` are `{0,1}` and not `{-1,1}` as in some formulae"
   ]
  },
  {
   "cell_type": "code",
   "execution_count": 76,
   "metadata": {},
   "outputs": [
    {
     "name": "stdout",
     "output_type": "stream",
     "text": [
      "y [shape - (360,)]: [0 1 0 1 0 1 0 0 1 1]\n",
      "X [shape - (360, 64)]:\n"
     ]
    }
   ],
   "source": [
    "from sklearn.datasets import load_digits\n",
    "mnist = load_digits(2)\n",
    "\n",
    "X, y = mnist.data, mnist.target\n",
    "\n",
    "print(\"y [shape - %s]:\" % (str(y.shape)), y[:10])\n",
    "print(\"X [shape - %s]:\" % (str(X.shape)))"
   ]
  },
  {
   "cell_type": "code",
   "execution_count": 77,
   "metadata": {},
   "outputs": [
    {
     "name": "stdout",
     "output_type": "stream",
     "text": [
      "X:\n",
      " [[  0.   0.   5.  13.   9.   1.   0.   0.   0.   0.]\n",
      " [  0.   0.   0.  12.  13.   5.   0.   0.   0.   0.]\n",
      " [  0.   0.   1.   9.  15.  11.   0.   0.   0.   0.]]\n",
      "y:\n",
      " [0 1 0 1 0 1 0 0 1 1]\n"
     ]
    },
    {
     "data": {
      "image/png": "[encoded data removed]",
      "text/plain": [
       "<matplotlib.figure.Figure at 0x7f5889103a58>"
      ]
     },
     "metadata": {},
     "output_type": "display_data"
    }
   ],
   "source": [
    "print('X:\\n',X[:3,:10])\n",
    "print('y:\\n',y[:10])\n",
    "plt.imshow(X[0].reshape([8,8]));"
   ]
  },
  {
   "cell_type": "markdown",
   "metadata": {},
   "source": [
    "It's your turn now!\n",
    "Just a small reminder of the relevant math:\n",
    "\n",
    "$$\n",
    "P(y=1|X) = \\sigma(X \\cdot W + b)\n",
    "$$\n",
    "$$\n",
    "\\text{loss} = -\\log\\left(P\\left(y_\\text{predicted} = 1\\right)\\right)\\cdot y_\\text{true} - \\log\\left(1 - P\\left(y_\\text{predicted} = 1\\right)\\right)\\cdot\\left(1 - y_\\text{true}\\right)\n",
    "$$\n",
    "\n",
    "$\\sigma(x)$ is available via `tf.nn.sigmoid` and matrix multiplication via `tf.matmul`"
   ]
  },
  {
   "cell_type": "code",
   "execution_count": 296,
   "metadata": {
    "collapsed": true
   },
   "outputs": [],
   "source": [
    "from sklearn.model_selection import train_test_split\n",
    "X_train, X_test, y_train, y_test = train_test_split(\n",
    "    X, y, random_state=42)"
   ]
  },
  {
   "cell_type": "markdown",
   "metadata": {},
   "source": [
    "__Your code goes here.__ For the training and testing scaffolding to work, please stick to the names in comments."
   ]
  },
  {
   "cell_type": "code",
   "execution_count": 339,
   "metadata": {},
   "outputs": [],
   "source": [
    "# Model parameters - weights and bias\n",
    "weights = tf.Variable(initial_value= tf.zeros((X.shape[1],1)),name='weights',dtype='float32')# shape should be (X.shape[1], 1)\n",
    "#b = tf.Variable(initial_value= np.random.random((1)),name='bias',dtype='float32')\n",
    "b = tf.Variable(1,name='bias',dtype='float32')"
   ]
  },
  {
   "cell_type": "code",
   "execution_count": 340,
   "metadata": {
    "collapsed": true
   },
   "outputs": [],
   "source": [
    "# Placeholders for the input data\n",
    "input_X = tf.placeholder('float32', shape=(None, X_train.shape[1]))\n",
    "input_y = tf.placeholder('float32', shape=(None,))"
   ]
  },
  {
   "cell_type": "code",
   "execution_count": 341,
   "metadata": {},
   "outputs": [],
   "source": [
    "predicted_y = tf.matmul(input_X,weights)+b\n",
    "predicted_y = tf.nn.sigmoid(predicted_y)\n",
    "predicted_y = tf.squeeze(predicted_y)\n",
    "loss = tf.reduce_mean(-1*tf.log(predicted_y)*input_y - tf.log(1 - predicted_y)*(1-input_y))\n",
    "optimizer = tf.train.MomentumOptimizer(0.01, 0.5).minimize(loss)\n"
   ]
  },
  {
   "cell_type": "code",
   "execution_count": 342,
   "metadata": {
    "collapsed": true
   },
   "outputs": [],
   "source": [
    "# The model code\n",
    "\n",
    "# Compute a vector of predictions, resulting shape should be [input_X.shape[0],]\n",
    "# This is 1D, if you have extra dimensions, you can  get rid of them with tf.squeeze .\n",
    "# Don't forget the sigmoid.\n",
    "# predicted_y = <predicted probabilities for input_X>\n",
    "\n",
    "# Loss. Should be a scalar number - average loss over all the objects\n",
    "# tf.reduce_mean is your friend here\n",
    "# loss = <logistic loss (scalar, mean over sample)>\n",
    "\n",
    "# See above for an example. tf.train.*Optimizer\n",
    "# optimizer = <optimizer that minimizes loss>"
   ]
  },
  {
   "cell_type": "markdown",
   "metadata": {},
   "source": [
    "A test to help with the debugging"
   ]
  },
  {
   "cell_type": "code",
   "execution_count": 343,
   "metadata": {
    "collapsed": true
   },
   "outputs": [],
   "source": [
    "assert np.allclose(validation_true_values, prediction_validation)\n"
   ]
  },
  {
   "cell_type": "code",
   "execution_count": 344,
   "metadata": {},
   "outputs": [],
   "source": [
    "validation_weights = 1e-3 * np.fromiter(map(lambda x:\n",
    "        s.run(weird_psychotic_function, {my_scalar:x, my_vector:[1, 0.1, 2]}),\n",
    "                                   0.15 * np.arange(1, X.shape[1] + 1)),\n",
    "                                   count=X.shape[1], dtype=np.float32)[:, np.newaxis]\n",
    "# Compute predictions for given weights and bias\n",
    "prediction_validation = s.run(\n",
    "    predicted_y, {\n",
    "    input_X: X,\n",
    "    weights: validation_weights,\n",
    "    b: 1e-1})\n",
    "\n",
    "# Load the reference values for the predictions\n",
    "validation_true_values = np.loadtxt(\"validation_predictons.txt\")\n",
    "\n",
    "assert prediction_validation.shape == (X.shape[0],),\\\n",
    "       \"Predictions must be a 1D array with length equal to the number \" \\\n",
    "       \"of examples in input_X\"\n",
    "assert np.allclose(validation_true_values, prediction_validation)\n",
    "loss_validation = s.run(\n",
    "        loss, {\n",
    "            input_X: X[:100],\n",
    "            input_y: y[-100:],\n",
    "            weights: validation_weights+1.21e-3,\n",
    "            b: -1e-1})\n",
    "assert np.allclose(loss_validation, 0.728689)"
   ]
  },
  {
   "cell_type": "code",
   "execution_count": 345,
   "metadata": {},
   "outputs": [
    {
     "name": "stdout",
     "output_type": "stream",
     "text": [
      "loss at iter 0:1.5850\n",
      "train auc: 0.998847167325\n",
      "test auc: 1.0\n",
      "loss at iter 1:0.3342\n",
      "train auc: 0.999890206412\n",
      "test auc: 0.999505928854\n",
      "loss at iter 2:0.0770\n",
      "train auc: 0.999945103206\n",
      "test auc: 1.0\n",
      "loss at iter 3:0.0158\n",
      "train auc: 1.0\n",
      "test auc: 1.0\n",
      "loss at iter 4:nan\n",
      "train auc: 1.0\n",
      "test auc: 1.0\n"
     ]
    }
   ],
   "source": [
    "from sklearn.metrics import roc_auc_score\n",
    "s.run(tf.global_variables_initializer())\n",
    "for i in range(5):\n",
    "    s.run(optimizer, {input_X: X_train, input_y: y_train})\n",
    "    loss_i = s.run(loss, {input_X: X_train, input_y: y_train})\n",
    "    print(\"loss at iter %i:%.4f\" % (i, loss_i))\n",
    "    print(\"train auc:\", roc_auc_score(y_train, s.run(predicted_y, {input_X:X_train})))\n",
    "    print(\"test auc:\", roc_auc_score(y_test, s.run(predicted_y, {input_X:X_test})))"
   ]
  },
  {
   "cell_type": "markdown",
   "metadata": {},
   "source": [
    "### Coursera submission"
   ]
  },
  {
   "cell_type": "code",
   "execution_count": 346,
   "metadata": {
    "collapsed": true
   },
   "outputs": [],
   "source": [
    "grade_submitter = grading.Grader(\"BJCiiY8sEeeCnhKCj4fcOA\")"
   ]
  },
  {
   "cell_type": "code",
   "execution_count": 347,
   "metadata": {
    "collapsed": true
   },
   "outputs": [],
   "source": [
    "test_weights = 1e-3 * np.fromiter(map(lambda x:\n",
    "    s.run(weird_psychotic_function, {my_scalar:x, my_vector:[1, 2, 3]}),\n",
    "                               0.1 * np.arange(1, X.shape[1] + 1)),\n",
    "                               count=X.shape[1], dtype=np.float32)[:, np.newaxis]"
   ]
  },
  {
   "cell_type": "markdown",
   "metadata": {},
   "source": [
    "First, test prediction and loss computation. This part doesn't require a fitted model."
   ]
  },
  {
   "cell_type": "code",
   "execution_count": 348,
   "metadata": {
    "collapsed": true
   },
   "outputs": [],
   "source": [
    "prediction_test = s.run(\n",
    "    predicted_y, {\n",
    "    input_X: X,\n",
    "    weights: test_weights,\n",
    "    b: 1e-1})"
   ]
  },
  {
   "cell_type": "code",
   "execution_count": 349,
   "metadata": {
    "collapsed": true
   },
   "outputs": [],
   "source": [
    "assert prediction_test.shape == (X.shape[0],),\\\n",
    "       \"Predictions must be a 1D array with length equal to the number \" \\\n",
    "       \"of examples in X_test\""
   ]
  },
  {
   "cell_type": "code",
   "execution_count": 350,
   "metadata": {
    "collapsed": true
   },
   "outputs": [],
   "source": [
    "grade_submitter.set_answer(\"0ENlN\", prediction_test)"
   ]
  },
  {
   "cell_type": "code",
   "execution_count": 351,
   "metadata": {
    "collapsed": true
   },
   "outputs": [],
   "source": [
    "loss_test = s.run(\n",
    "    loss, {\n",
    "        input_X: X[:100],\n",
    "        input_y: y[-100:],\n",
    "        weights: test_weights+1.21e-3,\n",
    "        b: -1e-1})\n",
    "# Yes, the X/y indices mistmach is intentional"
   ]
  },
  {
   "cell_type": "code",
   "execution_count": 352,
   "metadata": {
    "collapsed": true
   },
   "outputs": [],
   "source": [
    "grade_submitter.set_answer(\"mMVpM\", loss_test)"
   ]
  },
  {
   "cell_type": "code",
   "execution_count": 353,
   "metadata": {
    "collapsed": true
   },
   "outputs": [],
   "source": [
    "grade_submitter.set_answer(\"D16Rc\", roc_auc_score(y_test, s.run(predicted_y, {input_X:X_test})))"
   ]
  },
  {
   "cell_type": "markdown",
   "metadata": {},
   "source": [
    "Please use the credentials obtained from the Coursera assignment page."
   ]
  },
  {
   "cell_type": "code",
   "execution_count": 354,
   "metadata": {},
   "outputs": [
    {
     "name": "stdout",
     "output_type": "stream",
     "text": [
      "Submitted to Coursera platform. See results on assignment page!\n"
     ]
    }
   ],
   "source": [
    "grade_submitter.submit('VENHEADs@yandex.ru','Ql8oMDjpRi9D6k6z')"
   ]
  }
 ],
 "metadata": {
  "kernelspec": {
   "display_name": "Python 3",
   "language": "python",
   "name": "python3"
  },
  "language_info": {
   "codemirror_mode": {
    "name": "ipython",
    "version": 3
   },
   "file_extension": ".py",
   "mimetype": "text/x-python",
   "name": "python",
   "nbconvert_exporter": "python",
   "pygments_lexer": "ipython3",
   "version": "3.6.0"
  }
 },
 "nbformat": 4,
 "nbformat_minor": 1
}
