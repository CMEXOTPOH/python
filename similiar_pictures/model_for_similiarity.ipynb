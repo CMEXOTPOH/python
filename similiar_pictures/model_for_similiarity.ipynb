{
 "cells": [
  {
   "cell_type": "code",
   "execution_count": 43,
   "metadata": {},
   "outputs": [],
   "source": [
    "from keras.applications.resnet50 import ResNet50\n",
    "from keras.preprocessing import image\n",
    "from keras.applications.resnet50 import preprocess_input, decode_predictions\n",
    "import numpy as np\n",
    "from keras.models import Model\n",
    "from keras.layers.merge import Concatenate\n",
    "from keras.layers import Input, merge, Conv2D, MaxPooling2D, UpSampling2D, Dropout, Cropping2D\n",
    "import os\n",
    "import tqdm\n",
    "import pandas as pd\n",
    "import pickle\n",
    "from scipy.spatial.distance import cosine"
   ]
  },
  {
   "cell_type": "code",
   "execution_count": 2,
   "metadata": {},
   "outputs": [],
   "source": [
    "model = ResNet50(weights='imagenet')\n"
   ]
  },
  {
   "cell_type": "code",
   "execution_count": 47,
   "metadata": {},
   "outputs": [],
   "source": [
    "def preproc_image(img_path):\n",
    "    img = image.load_img('mirflickr/{}'.format(img_path), target_size=(224, 224))\n",
    "    x = image.img_to_array(img)\n",
    "    x = np.expand_dims(x, axis=0)\n",
    "    x = preprocess_input(x)\n",
    "    return x\n",
    "test_img = preproc_image('im3.jpg')"
   ]
  },
  {
   "cell_type": "code",
   "execution_count": 4,
   "metadata": {},
   "outputs": [
    {
     "name": "stdout",
     "output_type": "stream",
     "text": [
      "model is ok\n"
     ]
    }
   ],
   "source": [
    "model.layers.pop() \n",
    "model2 = Model(model.input, model.layers[-1].output)\n",
    "if np.sum(model2.get_weights()[0] - model.get_weights()[0]) == 0:\n",
    "    print('model is ok')"
   ]
  },
  {
   "cell_type": "code",
   "execution_count": 5,
   "metadata": {},
   "outputs": [
    {
     "name": "stdout",
     "output_type": "stream",
     "text": [
      "('Predicted:', [(u'n02776631', u'bakery', 0.67517847), (u'n07836838', u'chocolate_sauce', 0.18930493), (u'n07614500', u'ice_cream', 0.08067734)])\n"
     ]
    }
   ],
   "source": [
    "preds = model.predict(test_img)\n",
    "# decode the results into a list of tuples (class, description, probability)\n",
    "# (one such list for each sample in the batch)\n",
    "print('Predicted:', decode_predictions(preds, top=3)[0])"
   ]
  },
  {
   "cell_type": "code",
   "execution_count": 13,
   "metadata": {},
   "outputs": [],
   "source": [
    "list_names = os.listdir('mirflickr')\n",
    "list_names.pop(0)\n",
    "list_names = list_names[:-1]"
   ]
  },
  {
   "cell_type": "code",
   "execution_count": null,
   "metadata": {},
   "outputs": [],
   "source": [
    "vector_representation = []\n",
    "for name in tqdm.tqdm(list_names,miniters=10000):\n",
    "    img = preproc_image(name)\n",
    "    vector_representation.append(model2.predict(img))"
   ]
  },
  {
   "cell_type": "code",
   "execution_count": 45,
   "metadata": {},
   "outputs": [],
   "source": [
    "d = dict((key, value) for (key, value) in zip(list_names,vector_representation))"
   ]
  },
  {
   "cell_type": "code",
   "execution_count": 23,
   "metadata": {},
   "outputs": [],
   "source": [
    "with open('dict_representation.pickle', 'wb') as handle:\n",
    "    pickle.dump(d, handle, protocol=pickle.HIGHEST_PROTOCOL)"
   ]
  },
  {
   "cell_type": "code",
   "execution_count": 78,
   "metadata": {},
   "outputs": [],
   "source": [
    "img = preproc_image('im50.jpg')\n",
    "test_vector = model2.predict(img)\n",
    "\n",
    "def find_distance(vector):\n",
    "    return cosine(test_vector,vector)\n",
    "\n",
    "distance = map(find_distance,d.values())\n",
    "\n",
    "distances = pd.DataFrame(distance)\n",
    "distances['img'] = pd.DataFrame(d.keys())\n",
    "distances.rename(columns = {0:'distance'},inplace=True)\n",
    "\n",
    "print(distances.sort_values(by='distance').img.values[0])"
   ]
  },
  {
   "cell_type": "code",
   "execution_count": 121,
   "metadata": {},
   "outputs": [],
   "source": [
    "test = distances.sort_values(by='distance').img.values[0:5]"
   ]
  },
  {
   "cell_type": "code",
   "execution_count": 83,
   "metadata": {},
   "outputs": [],
   "source": [
    "model2.save('model_to_predict_vector.h5')"
   ]
  }
 ],
 "metadata": {
  "kernelspec": {
   "display_name": "Python 2",
   "language": "python",
   "name": "python2"
  },
  "language_info": {
   "codemirror_mode": {
    "name": "ipython",
    "version": 2
   },
   "file_extension": ".py",
   "mimetype": "text/x-python",
   "name": "python",
   "nbconvert_exporter": "python",
   "pygments_lexer": "ipython2",
   "version": "2.7.10"
  }
 },
 "nbformat": 4,
 "nbformat_minor": 2
}
