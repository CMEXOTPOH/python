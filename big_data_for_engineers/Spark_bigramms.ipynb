{
 "cells": [
  {
   "cell_type": "code",
   "execution_count": 1,
   "metadata": {},
   "outputs": [],
   "source": [
    "from pyspark import SparkConf, SparkContext\n",
    "from itertools import combinations\n",
    "from collections import Counter\n",
    "sc = SparkContext(conf=SparkConf().setAppName(\"MyApp\").setMaster(\"local\"))\n",
    "pair_counter = Counter()\n",
    "import re\n",
    "\n",
    "def parse_article(line):\n",
    "    try:\n",
    "        article_id, text = unicode(line.rstrip()).split('\\t', 1)\n",
    "        text = text.lower()\n",
    "        text = re.sub(\"^\\W+|\\W+$\", \"\", text, flags=re.UNICODE)\n",
    "        words = re.split(\"\\W*\\s+\\W*\", text, flags=re.UNICODE)\n",
    "        return words\n",
    "    except ValueError as e:\n",
    "        return []\n",
    "\n",
    "wiki = sc.textFile(\"/data/wiki/en_articles_part/articles-part\", 16).map(parse_article)\n",
    "#wiki = wiki.map(lambda word :(word ,1)).reduceByKey(lambda x,y: x+y)\n",
    "result = wiki.take(1)[0]"
   ]
  },
  {
   "cell_type": "code",
   "execution_count": 2,
   "metadata": {},
   "outputs": [],
   "source": [
    "def collect_pairs(lines):\n",
    "    pair_counter = Counter()\n",
    "    unique_tokens = sorted(set(lines))  # exclude duplicates in same line and sort to ensure one word is always before other\n",
    "    combos = combinations(unique_tokens, 2)\n",
    "    pair_counter += Counter(combos)\n",
    "    return pair_counter"
   ]
  },
  {
   "cell_type": "code",
   "execution_count": 3,
   "metadata": {},
   "outputs": [],
   "source": [
    "def find_bigrams(input_list):\n",
    "    bigram_dict = {}\n",
    "    for i in range(len(input_list)-1):\n",
    "        if 'narodnaya' in (input_list[i], input_list[i+1])[0]:\n",
    "            return ((str(input_list[i]) +\"_\" + str(input_list[i+1])),1)"
   ]
  },
  {
   "cell_type": "code",
   "execution_count": 4,
   "metadata": {},
   "outputs": [],
   "source": [
    "test = wiki.map(find_bigrams)\n",
    "test_2 = test.filter(lambda x: x != None)\n",
    "test_3 = test_2.reduceByKey(lambda v1,v2:v1 +v2)"
   ]
  },
  {
   "cell_type": "code",
   "execution_count": 5,
   "metadata": {},
   "outputs": [
    {
     "name": "stdout",
     "output_type": "stream",
     "text": [
      "narodnaya_gazeta 1\n",
      "narodnaya_volya 3\n"
     ]
    }
   ],
   "source": [
    "for data in test_3.take(10000):\n",
    "    print(data[0]+\" \"+ str(data[1]))\n",
    "    "
   ]
  }
 ],
 "metadata": {
  "kernelspec": {
   "display_name": "Python 2",
   "language": "python",
   "name": "python2"
  },
  "language_info": {
   "codemirror_mode": {
    "name": "ipython",
    "version": 2
   },
   "file_extension": ".py",
   "mimetype": "text/x-python",
   "name": "python",
   "nbconvert_exporter": "python",
   "pygments_lexer": "ipython2",
   "version": "2.7.12"
  }
 },
 "nbformat": 4,
 "nbformat_minor": 2
}
