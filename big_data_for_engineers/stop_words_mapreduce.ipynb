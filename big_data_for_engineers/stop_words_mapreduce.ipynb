{
 "cells": [
  {
   "cell_type": "code",
   "execution_count": 1,
   "metadata": {},
   "outputs": [
    {
     "name": "stdout",
     "output_type": "stream",
     "text": [
      "Overwriting mapper.py\n"
     ]
    }
   ],
   "source": [
    "%%writefile mapper.py\n",
    "\n",
    "import sys\n",
    "import re\n",
    "\n",
    "reload(sys)\n",
    "sys.setdefaultencoding('utf-8') # required to convert to unicode\n",
    "with open(\"stop_words_en.txt\") as f1:\n",
    "    x = f1.readlines()\n",
    "def strip(x):\n",
    "    return x.rstrip('\\r\\n')        \n",
    "stop_list_2 = map(strip,x)    \n",
    "\n",
    "\n",
    "for line in sys.stdin:\n",
    "    try:\n",
    "        article_id, text = unicode(line.strip()).split('\\t', 1)\n",
    "    except ValueError as e:\n",
    "        continue\n",
    "    words = re.split(\"\\W*\\s+\\W*\", text, flags=re.UNICODE)\n",
    "    for word in words:\n",
    "        print >> sys.stderr, \"reporter:counter:Wiki stats,Total words,%d\" % 1\n",
    "        if word in stop_list_2:\n",
    "            print >> sys.stderr, \"reporter:counter:Wiki stats,Stop words,%d\" % 1\n",
    "        print \"%s\\t%d\" % (word.lower(), 1)\n",
    "\n",
    "#print >> sys.stderr, \"reporter:counter:group,Total words/Total stop words\"\n"
   ]
  },
  {
   "cell_type": "code",
   "execution_count": 2,
   "metadata": {},
   "outputs": [
    {
     "name": "stdout",
     "output_type": "stream",
     "text": [
      "Overwriting reducer.py\n"
     ]
    }
   ],
   "source": [
    "%%writefile reducer.py\n",
    "\n",
    "import sys\n",
    "\n",
    "\n",
    "current_key = None\n",
    "word_sum = 0"
   ]
  },
  {
   "cell_type": "code",
   "execution_count": 3,
   "metadata": {},
   "outputs": [
    {
     "name": "stdout",
     "output_type": "stream",
     "text": [
      "Appending to reducer.py\n"
     ]
    }
   ],
   "source": [
    "%%writefile -a reducer.py\n",
    "\n",
    "for line in sys.stdin:\n",
    "    try:\n",
    "        key, count = line.strip().split('\\t', 1)\n",
    "        count = int(count)\n",
    "    except ValueError as e:\n",
    "        continue\n",
    "    if current_key != key:\n",
    "        if current_key:\n",
    "            print \"%s\\t%d\" % (current_key, word_sum)\n",
    "        word_sum = 0\n",
    "        current_key = key\n",
    "    word_sum += count\n",
    "\n",
    "if current_key:\n",
    "    print \"%s\\t%d\" % (current_key, word_sum)"
   ]
  },
  {
   "cell_type": "code",
   "execution_count": 4,
   "metadata": {},
   "outputs": [
    {
     "name": "stdout",
     "output_type": "stream",
     "text": [
      "Overwriting reducer_2.py\n"
     ]
    }
   ],
   "source": [
    "%%writefile reducer_2.py\n",
    "\n",
    "import sys\n",
    "\n",
    "current_key = None\n",
    "word_sum = 0\n",
    "total_sum = 0\n",
    "total_stop = 0"
   ]
  },
  {
   "cell_type": "code",
   "execution_count": 5,
   "metadata": {},
   "outputs": [
    {
     "name": "stdout",
     "output_type": "stream",
     "text": [
      "Appending to reducer_2.py\n"
     ]
    }
   ],
   "source": [
    "%%writefile -a reducer_2.py\n",
    "\n",
    "with open(\"stop_words_en.txt\") as f1:\n",
    "    x = f1.readlines()\n",
    "def strip(x):\n",
    "    return x.rstrip('\\r\\n')        \n",
    "stop_list_2 = map(strip,x)    \n",
    "\n",
    "stop_list = [1]\n",
    "for line in sys.stdin:\n",
    "    try:\n",
    "        key, count = line.strip().split('\\t', 1)\n",
    "        count = int(count)\n",
    "    except ValueError as e:\n",
    "        continue\n",
    "    total_sum+= count\n",
    "    if key in stop_list_2:\n",
    "        total_stop+=count\n",
    "#print \"%s\\t%d\" % (total_sum, total_stop)\n",
    "print total_stop* 100./total_sum"
   ]
  },
  {
   "cell_type": "raw",
   "metadata": {},
   "source": [
    "%%writefile -a reducer.py\n",
    "\n",
    "for line in sys.stdin:\n",
    "    try:\n",
    "        key, count = line.strip().split('\\t', 1)\n",
    "        count = int(count)\n",
    "    except ValueError as e:\n",
    "        continue\n",
    "    if current_key != key:\n",
    "        if current_key:\n",
    "            print \"%s\\t%d\" % (current_key, word_sum)\n",
    "        word_sum = 0\n",
    "        current_key = key\n",
    "    word_sum += count\n",
    "\n",
    "if current_key:\n",
    "    print \"%s\\t%d\" % (current_key, word_sum)"
   ]
  },
  {
   "cell_type": "code",
   "execution_count": 6,
   "metadata": {},
   "outputs": [
    {
     "name": "stdout",
     "output_type": "stream",
     "text": [
      "Found 1 items\r\n",
      "drwxrwxrwx   - jovyan supergroup          0 2017-10-17 13:15 /data/wiki/en_articles_part\r\n"
     ]
    }
   ],
   "source": [
    "! hdfs dfs -ls /data/wiki"
   ]
  },
  {
   "cell_type": "code",
   "execution_count": 7,
   "metadata": {},
   "outputs": [
    {
     "name": "stdout",
     "output_type": "stream",
     "text": [
      "41.6028241522\t\n"
     ]
    },
    {
     "name": "stderr",
     "output_type": "stream",
     "text": [
      "rm: `wordcount_result_1513931958457216': No such file or directory\n",
      "17/12/22 08:39:21 INFO client.RMProxy: Connecting to ResourceManager at /0.0.0.0:8032\n",
      "17/12/22 08:39:22 INFO client.RMProxy: Connecting to ResourceManager at /0.0.0.0:8032\n",
      "17/12/22 08:39:24 INFO mapred.FileInputFormat: Total input files to process : 1\n",
      "17/12/22 08:39:24 INFO mapreduce.JobSubmitter: number of splits:2\n",
      "17/12/22 08:39:24 INFO mapreduce.JobSubmitter: Submitting tokens for job: job_1513917445282_0015\n",
      "17/12/22 08:39:24 INFO impl.YarnClientImpl: Submitted application application_1513917445282_0015\n",
      "17/12/22 08:39:24 INFO mapreduce.Job: The url to track the job: http://371a33cc52da:8088/proxy/application_1513917445282_0015/\n",
      "17/12/22 08:39:24 INFO mapreduce.Job: Running job: job_1513917445282_0015\n",
      "17/12/22 08:39:31 INFO mapreduce.Job: Job job_1513917445282_0015 running in uber mode : false\n",
      "17/12/22 08:39:31 INFO mapreduce.Job:  map 0% reduce 0%\n",
      "17/12/22 08:39:47 INFO mapreduce.Job:  map 4% reduce 0%\n",
      "17/12/22 08:39:53 INFO mapreduce.Job:  map 6% reduce 0%\n",
      "17/12/22 08:39:59 INFO mapreduce.Job:  map 7% reduce 0%\n",
      "17/12/22 08:40:05 INFO mapreduce.Job:  map 9% reduce 0%\n",
      "17/12/22 08:40:11 INFO mapreduce.Job:  map 11% reduce 0%\n",
      "17/12/22 08:40:17 INFO mapreduce.Job:  map 13% reduce 0%\n",
      "17/12/22 08:40:23 INFO mapreduce.Job:  map 14% reduce 0%\n",
      "17/12/22 08:40:29 INFO mapreduce.Job:  map 16% reduce 0%\n",
      "17/12/22 08:40:35 INFO mapreduce.Job:  map 18% reduce 0%\n",
      "17/12/22 08:40:41 INFO mapreduce.Job:  map 20% reduce 0%\n",
      "17/12/22 08:40:47 INFO mapreduce.Job:  map 21% reduce 0%\n",
      "17/12/22 08:40:53 INFO mapreduce.Job:  map 23% reduce 0%\n",
      "17/12/22 08:40:59 INFO mapreduce.Job:  map 25% reduce 0%\n",
      "17/12/22 08:41:05 INFO mapreduce.Job:  map 27% reduce 0%\n",
      "17/12/22 08:41:11 INFO mapreduce.Job:  map 29% reduce 0%\n",
      "17/12/22 08:41:17 INFO mapreduce.Job:  map 30% reduce 0%\n",
      "17/12/22 08:41:22 INFO mapreduce.Job:  map 32% reduce 0%\n",
      "17/12/22 08:41:28 INFO mapreduce.Job:  map 34% reduce 0%\n",
      "17/12/22 08:41:34 INFO mapreduce.Job:  map 36% reduce 0%\n",
      "17/12/22 08:41:40 INFO mapreduce.Job:  map 37% reduce 0%\n",
      "17/12/22 08:41:46 INFO mapreduce.Job:  map 39% reduce 0%\n",
      "17/12/22 08:41:52 INFO mapreduce.Job:  map 41% reduce 0%\n",
      "17/12/22 08:41:58 INFO mapreduce.Job:  map 43% reduce 0%\n",
      "17/12/22 08:42:04 INFO mapreduce.Job:  map 45% reduce 0%\n",
      "17/12/22 08:42:10 INFO mapreduce.Job:  map 46% reduce 0%\n",
      "17/12/22 08:42:16 INFO mapreduce.Job:  map 48% reduce 0%\n",
      "17/12/22 08:42:22 INFO mapreduce.Job:  map 50% reduce 0%\n",
      "17/12/22 08:42:28 INFO mapreduce.Job:  map 52% reduce 0%\n",
      "17/12/22 08:42:34 INFO mapreduce.Job:  map 53% reduce 0%\n",
      "17/12/22 08:42:40 INFO mapreduce.Job:  map 55% reduce 0%\n",
      "17/12/22 08:42:46 INFO mapreduce.Job:  map 57% reduce 0%\n",
      "17/12/22 08:42:52 INFO mapreduce.Job:  map 59% reduce 0%\n",
      "17/12/22 08:42:58 INFO mapreduce.Job:  map 60% reduce 0%\n",
      "17/12/22 08:43:04 INFO mapreduce.Job:  map 62% reduce 0%\n",
      "17/12/22 08:43:10 INFO mapreduce.Job:  map 64% reduce 0%\n",
      "17/12/22 08:43:16 INFO mapreduce.Job:  map 66% reduce 0%\n",
      "17/12/22 08:43:22 INFO mapreduce.Job:  map 67% reduce 0%\n",
      "17/12/22 08:43:23 INFO mapreduce.Job:  map 83% reduce 0%\n",
      "17/12/22 08:43:29 INFO mapreduce.Job:  map 100% reduce 0%\n",
      "17/12/22 08:43:33 INFO mapreduce.Job:  map 100% reduce 100%\n",
      "17/12/22 08:43:35 INFO mapreduce.Job: Job job_1513917445282_0015 completed successfully\n",
      "17/12/22 08:43:35 INFO mapreduce.Job: Counters: 51\n",
      "\tFile System Counters\n",
      "\t\tFILE: Number of bytes read=17905364\n",
      "\t\tFILE: Number of bytes written=27279746\n",
      "\t\tFILE: Number of read operations=0\n",
      "\t\tFILE: Number of large read operations=0\n",
      "\t\tFILE: Number of write operations=0\n",
      "\t\tHDFS: Number of bytes read=76874501\n",
      "\t\tHDFS: Number of bytes written=15\n",
      "\t\tHDFS: Number of read operations=9\n",
      "\t\tHDFS: Number of large read operations=0\n",
      "\t\tHDFS: Number of write operations=2\n",
      "\tJob Counters \n",
      "\t\tLaunched map tasks=2\n",
      "\t\tLaunched reduce tasks=1\n",
      "\t\tData-local map tasks=2\n",
      "\t\tTotal time spent by all maps in occupied slots (ms)=468076\n",
      "\t\tTotal time spent by all reduces in occupied slots (ms)=8276\n",
      "\t\tTotal time spent by all map tasks (ms)=468076\n",
      "\t\tTotal time spent by all reduce tasks (ms)=8276\n",
      "\t\tTotal vcore-milliseconds taken by all map tasks=468076\n",
      "\t\tTotal vcore-milliseconds taken by all reduce tasks=8276\n",
      "\t\tTotal megabyte-milliseconds taken by all map tasks=479309824\n",
      "\t\tTotal megabyte-milliseconds taken by all reduce tasks=8474624\n",
      "\tMap-Reduce Framework\n",
      "\t\tMap input records=4100\n",
      "\t\tMap output records=11937375\n",
      "\t\tMap output bytes=97842436\n",
      "\t\tMap output materialized bytes=8952679\n",
      "\t\tInput split bytes=228\n",
      "\t\tCombine input records=11937375\n",
      "\t\tCombine output records=640011\n",
      "\t\tReduce input groups=427175\n",
      "\t\tReduce shuffle bytes=8952679\n",
      "\t\tReduce input records=640011\n",
      "\t\tReduce output records=1\n",
      "\t\tSpilled Records=1920033\n",
      "\t\tShuffled Maps =2\n",
      "\t\tFailed Shuffles=0\n",
      "\t\tMerged Map outputs=2\n",
      "\t\tGC time elapsed (ms)=1131\n",
      "\t\tCPU time spent (ms)=649950\n",
      "\t\tPhysical memory (bytes) snapshot=752361472\n",
      "\t\tVirtual memory (bytes) snapshot=6047641600\n",
      "\t\tTotal committed heap usage (bytes)=492830720\n",
      "\tShuffle Errors\n",
      "\t\tBAD_ID=0\n",
      "\t\tCONNECTION=0\n",
      "\t\tIO_ERROR=0\n",
      "\t\tWRONG_LENGTH=0\n",
      "\t\tWRONG_MAP=0\n",
      "\t\tWRONG_REDUCE=0\n",
      "\tWiki stats\n",
      "\t\tStop words=4588771\n",
      "\t\tTotal words=11937375\n",
      "\tFile Input Format Counters \n",
      "\t\tBytes Read=76874273\n",
      "\tFile Output Format Counters \n",
      "\t\tBytes Written=15\n",
      "17/12/22 08:43:35 INFO streaming.StreamJob: Output directory: wordcount_result_1513931958457216\n"
     ]
    }
   ],
   "source": [
    "%%bash\n",
    "\n",
    "OUT_DIR=\"wordcount_result_\"$(date +\"%s%6N\")\n",
    "NUM_REDUCERS=1\n",
    "\n",
    "hdfs dfs -rm -r -skipTrash ${OUT_DIR} > /dev/null\n",
    "\n",
    "yarn jar /opt/cloudera/parcels/CDH/lib/hadoop-mapreduce/hadoop-streaming.jar \\\n",
    "    -D mapred.jab.name=\"Streaming wordCount\" \\\n",
    "    -D mapreduce.job.reduces=${NUM_REDUCERS} \\\n",
    "    -files mapper.py,reducer.py,reducer_2.py,/datasets/stop_words_en.txt \\\n",
    "    -mapper \"python mapper.py\" \\\n",
    "    -combiner \"python reducer.py\" \\\n",
    "    -reducer \"python reducer_2.py\" \\\n",
    "    -input /data/wiki/en_articles_part \\\n",
    "    -output ${OUT_DIR} > /dev/null\n",
    "\n",
    "hdfs dfs -cat ${OUT_DIR}/part-00000 | head"
   ]
  },
  {
   "cell_type": "code",
   "execution_count": null,
   "metadata": {},
   "outputs": [],
   "source": []
  }
 ],
 "metadata": {
  "kernelspec": {
   "display_name": "Python 2",
   "language": "python",
   "name": "python2"
  },
  "language_info": {
   "codemirror_mode": {
    "name": "ipython",
    "version": 2
   },
   "file_extension": ".py",
   "mimetype": "text/x-python",
   "name": "python",
   "nbconvert_exporter": "python",
   "pygments_lexer": "ipython2",
   "version": "2.7.12"
  }
 },
 "nbformat": 4,
 "nbformat_minor": 2
}
