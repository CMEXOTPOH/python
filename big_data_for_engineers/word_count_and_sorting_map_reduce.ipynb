{
 "cells": [
  {
   "cell_type": "code",
   "execution_count": 1,
   "metadata": {},
   "outputs": [
    {
     "name": "stdout",
     "output_type": "stream",
     "text": [
      "Overwriting mapper.py\n"
     ]
    }
   ],
   "source": [
    "%%writefile mapper.py\n",
    "\n",
    "import sys\n",
    "import re\n",
    "\n",
    "reload(sys)\n",
    "sys.setdefaultencoding('utf-8') # required to convert to unicode\n",
    "\n",
    "for line in sys.stdin:\n",
    "    try:\n",
    "        article_id, text = unicode(line.strip()).split('\\t', 1)\n",
    "    except ValueError as e:\n",
    "        continue\n",
    "    words = re.split(\"\\W*\\s+\\W*\", text, flags=re.UNICODE)\n",
    "    for word in words:\n",
    "        print >> sys.stderr, \"reporter:counter:Wiki stats,Total words,%d\" % 1\n",
    "        print \"%s\\t%d\" % (word.lower(), 1)"
   ]
  },
  {
   "cell_type": "code",
   "execution_count": 2,
   "metadata": {},
   "outputs": [
    {
     "name": "stdout",
     "output_type": "stream",
     "text": [
      "Overwriting reducer.py\n"
     ]
    }
   ],
   "source": [
    "%%writefile reducer.py\n",
    "\n",
    "import sys\n",
    "\n",
    "\n",
    "current_key = None\n",
    "word_sum = 0"
   ]
  },
  {
   "cell_type": "code",
   "execution_count": 3,
   "metadata": {},
   "outputs": [
    {
     "name": "stdout",
     "output_type": "stream",
     "text": [
      "Appending to reducer.py\n"
     ]
    }
   ],
   "source": [
    "%%writefile -a reducer.py\n",
    "\n",
    "for line in sys.stdin:\n",
    "    try:\n",
    "        key, count = line.strip().split('\\t', 1)\n",
    "        count = int(count)\n",
    "    except ValueError as e:\n",
    "        continue\n",
    "    if current_key != key:\n",
    "        if current_key:\n",
    "            print \"%s\\t%d\" % (current_key, word_sum)\n",
    "        word_sum = 0\n",
    "        current_key = key\n",
    "    word_sum += count\n",
    "\n",
    "if current_key:\n",
    "    print \"%s\\t%d\" % (current_key, word_sum)"
   ]
  },
  {
   "cell_type": "code",
   "execution_count": 4,
   "metadata": {},
   "outputs": [
    {
     "name": "stdout",
     "output_type": "stream",
     "text": [
      "Overwriting reducer2.py\n"
     ]
    }
   ],
   "source": [
    "%%writefile reducer2.py\n",
    "\n",
    "import sys\n",
    "import collections\n",
    "\n",
    "current_key = None\n",
    "word_sum = 0\n"
   ]
  },
  {
   "cell_type": "code",
   "execution_count": 5,
   "metadata": {},
   "outputs": [
    {
     "name": "stdout",
     "output_type": "stream",
     "text": [
      "Appending to reducer2.py\n"
     ]
    }
   ],
   "source": [
    "%%writefile -a reducer2.py\n",
    "\n",
    "\n",
    "diction = {}\n",
    "for line in sys.stdin:\n",
    "    try:\n",
    "        key, count = line.strip().split('\\t', 1)\n",
    "        count = int(count)\n",
    "    except ValueError as e:\n",
    "        continue\n",
    "    if current_key != key:\n",
    "        if current_key:\n",
    "            diction[current_key] = word_sum\n",
    "            if current_key == \"the\":\n",
    "                spare_key = current_key\n",
    "    \n",
    "        word_sum = 0\n",
    "        current_key = key\n",
    "    word_sum += count\n",
    "\n",
    "if current_key:\n",
    "    diction[current_key] = word_sum\n",
    "new_dict = sorted(diction.items(), key=lambda x: x[1],reverse=True)\n",
    "#print \"%s\\t%d\" % ('the', diction['the'])\n",
    "for k in new_dict:\n",
    "    print \"%s\\t%d\" % (k[0], k[1])\n",
    "\n"
   ]
  },
  {
   "cell_type": "code",
   "execution_count": 6,
   "metadata": {},
   "outputs": [
    {
     "name": "stdout",
     "output_type": "stream",
     "text": [
      "Found 1 items\r\n",
      "drwxrwxrwx   - jovyan supergroup          0 2017-10-17 13:15 /data/wiki/en_articles_part\r\n"
     ]
    }
   ],
   "source": [
    "! hdfs dfs -ls /data/wiki"
   ]
  },
  {
   "cell_type": "code",
   "execution_count": 7,
   "metadata": {},
   "outputs": [
    {
     "name": "stdout",
     "output_type": "stream",
     "text": [
      "is\t126420\n"
     ]
    },
    {
     "name": "stderr",
     "output_type": "stream",
     "text": [
      "rm: `wordcount_result_1513789754187530': No such file or directory\n",
      "17/12/20 17:09:17 INFO client.RMProxy: Connecting to ResourceManager at /0.0.0.0:8032\n",
      "17/12/20 17:09:17 INFO client.RMProxy: Connecting to ResourceManager at /0.0.0.0:8032\n",
      "17/12/20 17:09:18 INFO mapred.FileInputFormat: Total input files to process : 1\n",
      "17/12/20 17:09:18 INFO mapreduce.JobSubmitter: number of splits:2\n",
      "17/12/20 17:09:18 INFO mapreduce.JobSubmitter: Submitting tokens for job: job_1513735525749_0053\n",
      "17/12/20 17:09:18 INFO impl.YarnClientImpl: Submitted application application_1513735525749_0053\n",
      "17/12/20 17:09:19 INFO mapreduce.Job: The url to track the job: http://f6bf87a81fd4:8088/proxy/application_1513735525749_0053/\n",
      "17/12/20 17:09:19 INFO mapreduce.Job: Running job: job_1513735525749_0053\n",
      "17/12/20 17:09:24 INFO mapreduce.Job: Job job_1513735525749_0053 running in uber mode : false\n",
      "17/12/20 17:09:24 INFO mapreduce.Job:  map 0% reduce 0%\n",
      "17/12/20 17:09:40 INFO mapreduce.Job:  map 30% reduce 0%\n",
      "17/12/20 17:09:46 INFO mapreduce.Job:  map 45% reduce 0%\n",
      "17/12/20 17:09:52 INFO mapreduce.Job:  map 48% reduce 0%\n",
      "17/12/20 17:09:58 INFO mapreduce.Job:  map 62% reduce 0%\n",
      "17/12/20 17:10:04 INFO mapreduce.Job:  map 67% reduce 0%\n",
      "17/12/20 17:10:05 INFO mapreduce.Job:  map 83% reduce 0%\n",
      "17/12/20 17:10:07 INFO mapreduce.Job:  map 100% reduce 0%\n",
      "17/12/20 17:10:11 INFO mapreduce.Job:  map 100% reduce 100%\n",
      "17/12/20 17:10:12 INFO mapreduce.Job: Job job_1513735525749_0053 completed successfully\n",
      "17/12/20 17:10:12 INFO mapreduce.Job: Counters: 50\n",
      "\tFile System Counters\n",
      "\t\tFILE: Number of bytes read=17910916\n",
      "\t\tFILE: Number of bytes written=27419099\n",
      "\t\tFILE: Number of read operations=0\n",
      "\t\tFILE: Number of large read operations=0\n",
      "\t\tFILE: Number of write operations=0\n",
      "\t\tHDFS: Number of bytes read=76874501\n",
      "\t\tHDFS: Number of bytes written=5370513\n",
      "\t\tHDFS: Number of read operations=12\n",
      "\t\tHDFS: Number of large read operations=0\n",
      "\t\tHDFS: Number of write operations=4\n",
      "\tJob Counters \n",
      "\t\tLaunched map tasks=2\n",
      "\t\tLaunched reduce tasks=2\n",
      "\t\tData-local map tasks=2\n",
      "\t\tTotal time spent by all maps in occupied slots (ms)=78610\n",
      "\t\tTotal time spent by all reduces in occupied slots (ms)=7146\n",
      "\t\tTotal time spent by all map tasks (ms)=78610\n",
      "\t\tTotal time spent by all reduce tasks (ms)=7146\n",
      "\t\tTotal vcore-milliseconds taken by all map tasks=78610\n",
      "\t\tTotal vcore-milliseconds taken by all reduce tasks=7146\n",
      "\t\tTotal megabyte-milliseconds taken by all map tasks=80496640\n",
      "\t\tTotal megabyte-milliseconds taken by all reduce tasks=7317504\n",
      "\tMap-Reduce Framework\n",
      "\t\tMap input records=4100\n",
      "\t\tMap output records=11937375\n",
      "\t\tMap output bytes=97842436\n",
      "\t\tMap output materialized bytes=8952691\n",
      "\t\tInput split bytes=228\n",
      "\t\tCombine input records=11937375\n",
      "\t\tCombine output records=640011\n",
      "\t\tReduce input groups=427175\n",
      "\t\tReduce shuffle bytes=8952691\n",
      "\t\tReduce input records=640011\n",
      "\t\tReduce output records=427175\n",
      "\t\tSpilled Records=1920033\n",
      "\t\tShuffled Maps =4\n",
      "\t\tFailed Shuffles=0\n",
      "\t\tMerged Map outputs=4\n",
      "\t\tGC time elapsed (ms)=1183\n",
      "\t\tCPU time spent (ms)=137000\n",
      "\t\tPhysical memory (bytes) snapshot=1075769344\n",
      "\t\tVirtual memory (bytes) snapshot=8080691200\n",
      "\t\tTotal committed heap usage (bytes)=705691648\n",
      "\tShuffle Errors\n",
      "\t\tBAD_ID=0\n",
      "\t\tCONNECTION=0\n",
      "\t\tIO_ERROR=0\n",
      "\t\tWRONG_LENGTH=0\n",
      "\t\tWRONG_MAP=0\n",
      "\t\tWRONG_REDUCE=0\n",
      "\tWiki stats\n",
      "\t\tTotal words=11937375\n",
      "\tFile Input Format Counters \n",
      "\t\tBytes Read=76874273\n",
      "\tFile Output Format Counters \n",
      "\t\tBytes Written=5370513\n",
      "17/12/20 17:10:12 INFO streaming.StreamJob: Output directory: wordcount_result_1513789754187530\n",
      "sort: write failed: 'standard output': Broken pipe\n",
      "sort: write error\n"
     ]
    }
   ],
   "source": [
    "%%bash\n",
    "\n",
    "OUT_DIR=\"wordcount_result_\"$(date +\"%s%6N\")\n",
    "NUM_REDUCERS=2\n",
    "\n",
    "hdfs dfs -rm -r -skipTrash ${OUT_DIR} > /dev/null\n",
    "\n",
    "yarn jar /opt/cloudera/parcels/CDH/lib/hadoop-mapreduce/hadoop-streaming.jar \\\n",
    "    -D mapred.jab.name=\"Streaming wordCount\" \\\n",
    "    -D mapreduce.job.reduces=${NUM_REDUCERS} \\\n",
    "    -files mapper.py,reducer.py,reducer2.py \\\n",
    "    -mapper \"python mapper.py\" \\\n",
    "    -combiner \"python reducer.py\" \\\n",
    "    -reducer \"python reducer2.py\" \\\n",
    "    -input /data/wiki/en_articles_part \\\n",
    "    -output ${OUT_DIR} > /dev/null\n",
    "hdfs dfs -cat ${OUT_DIR}/part-00000  ${OUT_DIR}/part-00001 | sort -nrk2| head -7 | tail -1\n"
   ]
  }
 ],
 "metadata": {
  "kernelspec": {
   "display_name": "Python 2",
   "language": "python",
   "name": "python2"
  },
  "language_info": {
   "codemirror_mode": {
    "name": "ipython",
    "version": 2
   },
   "file_extension": ".py",
   "mimetype": "text/x-python",
   "name": "python",
   "nbconvert_exporter": "python",
   "pygments_lexer": "ipython2",
   "version": "2.7.12"
  }
 },
 "nbformat": 4,
 "nbformat_minor": 2
}
