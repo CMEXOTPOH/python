{
 "cells": [
  {
   "cell_type": "code",
   "execution_count": 1,
   "metadata": {
    "collapsed": false
   },
   "outputs": [],
   "source": [
    "import numpy as np\n",
    "import pandas as pd\n",
    "from datetime import datetime\n",
    "from sklearn.preprocessing import StandardScaler\n",
    "from sklearn.cross_validation import KFold\n",
    "from sklearn.metrics import mean_absolute_error\n",
    "from scipy.stats import skew, boxcox\n",
    "from math import exp, log\n",
    "import os\n",
    "from os import listdir\n",
    "import csv\n",
    "from sklearn.ensemble import RandomForestRegressor as RandomForest\n",
    "%matplotlib inline\n",
    "import pylab\n",
    "from matplotlib.mlab import PCA as mlabPCA\n",
    "import matplotlib.pyplot as plt\n",
    "import math\n",
    "import pickle"
   ]
  },
  {
   "cell_type": "markdown",
   "metadata": {},
   "source": [
    "### Модель 1  Отделение 1005625\n",
    "### Модель 2  Отделение 1005839\n",
    "### Модель 3  Отделение 1006034\n",
    "### Модель 4  Отделение 1006255\n",
    "### Модель 5  Отделение 1005609\n"
   ]
  },
  {
   "cell_type": "markdown",
   "metadata": {},
   "source": [
    "### Считываем данные"
   ]
  },
  {
   "cell_type": "code",
   "execution_count": 2,
   "metadata": {
    "collapsed": true
   },
   "outputs": [],
   "source": [
    "model1 = pd.read_csv('bracnh1_model.csv', header=0) # base8_nr900_p10¬_cleaned\n",
    "model2 = pd.read_csv('bracnh2_model.csv', header=0) # base8_nr900_p10¬_cleaned\n",
    "model3 = pd.read_csv('bracnh3_model.csv', header=0) # base8_nr900_p10¬_cleaned\n",
    "model4 = pd.read_csv('bracnh4_model.csv', header=0) # base8_nr900_p10¬_cleaned\n",
    "model5 = pd.read_csv('bracnh5_model.csv', header=0) # base8_nr900_p10¬_cleaned\n"
   ]
  },
  {
   "cell_type": "markdown",
   "metadata": {},
   "source": [
    "### Выкидываем лишнюю колонку"
   ]
  },
  {
   "cell_type": "code",
   "execution_count": 3,
   "metadata": {
    "collapsed": false
   },
   "outputs": [],
   "source": [
    "model1 = model1.drop(\"bracnh1$EVENT_DTTM\",axis=1)\n",
    "model2 = model2.drop(\"bracnh2$EVENT_DTTM\",axis=1)\n",
    "model3 = model3.drop(\"bracnh3$EVENT_DTTM\",axis=1)\n",
    "model4 = model4.drop(\"bracnh4$EVENT_DTTM\",axis=1)\n",
    "model5 = model5.drop(\"bracnh5$EVENT_DTTM\",axis=1)"
   ]
  },
  {
   "cell_type": "code",
   "execution_count": 4,
   "metadata": {
    "collapsed": true
   },
   "outputs": [],
   "source": [
    "model1.count = np.asarray(model1.iloc[:,0:1])\n",
    "model2.count = np.asarray(model2.iloc[:,0:1])\n",
    "model3.count = np.asarray(model3.iloc[:,0:1])\n",
    "model4.count = np.asarray(model4.iloc[:,0:1])\n",
    "model5.count = np.asarray(model5.iloc[:,0:1])"
   ]
  },
  {
   "cell_type": "markdown",
   "metadata": {},
   "source": [
    "### Разбиваем на маркировку и обучающую выборку"
   ]
  },
  {
   "cell_type": "code",
   "execution_count": 5,
   "metadata": {
    "collapsed": false
   },
   "outputs": [],
   "source": [
    "train1=model1.iloc[:,1:5]\n",
    "train2=model2.iloc[:,1:5]\n",
    "train3=model3.iloc[:,1:5]\n",
    "train4=model4.iloc[:,1:5]\n",
    "train5=model5.iloc[:,1:5]\n",
    "target1 = np.ravel(model1.iloc[:,0:1])\n",
    "target2 = np.ravel(model2.iloc[:,0:1])\n",
    "target3 = np.ravel(model3.iloc[:,0:1])\n",
    "target4 = np.ravel(model4.iloc[:,0:1])\n",
    "target5 = np.ravel(model5.iloc[:,0:1])"
   ]
  },
  {
   "cell_type": "markdown",
   "metadata": {},
   "source": [
    "### Оценим распределение"
   ]
  },
  {
   "cell_type": "code",
   "execution_count": 6,
   "metadata": {
    "collapsed": false
   },
   "outputs": [
    {
     "data": {
      "text/plain": [
       "(array([  2.58400000e+03,   1.20000000e+02,   2.49000000e+02,\n",
       "          1.13000000e+02,   2.00000000e+01,   1.00000000e+00,\n",
       "          1.00000000e+00,   0.00000000e+00,   2.00000000e+00,\n",
       "          1.00000000e+00]),\n",
       " array([   1. ,   97.9,  194.8,  291.7,  388.6,  485.5,  582.4,  679.3,\n",
       "         776.2,  873.1,  970. ]),\n",
       " <a list of 10 Patch objects>)"
      ]
     },
     "execution_count": 6,
     "metadata": {},
     "output_type": "execute_result"
    },
    {
     "data": {
      "image/png": "[encoded data removed]",
      "text/plain": [
       "<matplotlib.figure.Figure at 0x1699cc0>"
      ]
     },
     "metadata": {},
     "output_type": "display_data"
    }
   ],
   "source": [
    "plt.hist(target1)"
   ]
  },
  {
   "cell_type": "code",
   "execution_count": 7,
   "metadata": {
    "collapsed": false
   },
   "outputs": [
    {
     "data": {
      "text/plain": [
       "(array([  1.81700000e+03,   2.53400000e+03,   2.13100000e+03,\n",
       "          1.13000000e+03,   2.98000000e+02,   7.70000000e+01,\n",
       "          1.30000000e+01,   3.00000000e+00,   1.00000000e+00,\n",
       "          1.00000000e+00]),\n",
       " array([  1. ,  10.3,  19.6,  28.9,  38.2,  47.5,  56.8,  66.1,  75.4,\n",
       "         84.7,  94. ]),\n",
       " <a list of 10 Patch objects>)"
      ]
     },
     "execution_count": 7,
     "metadata": {},
     "output_type": "execute_result"
    },
    {
     "data": {
      "image/png": "[encoded data removed]",
      "text/plain": [
       "<matplotlib.figure.Figure at 0xcaa3a90>"
      ]
     },
     "metadata": {},
     "output_type": "display_data"
    }
   ],
   "source": [
    "plt.hist(target2)"
   ]
  },
  {
   "cell_type": "code",
   "execution_count": 8,
   "metadata": {
    "collapsed": false
   },
   "outputs": [
    {
     "data": {
      "text/plain": [
       "(array([  2.03600000e+03,   3.54000000e+03,   2.12200000e+03,\n",
       "          5.77000000e+02,   9.90000000e+01,   1.40000000e+01,\n",
       "          4.00000000e+00,   0.00000000e+00,   0.00000000e+00,\n",
       "          1.00000000e+00]),\n",
       " array([   1.,   16.,   31.,   46.,   61.,   76.,   91.,  106.,  121.,\n",
       "         136.,  151.]),\n",
       " <a list of 10 Patch objects>)"
      ]
     },
     "execution_count": 8,
     "metadata": {},
     "output_type": "execute_result"
    },
    {
     "data": {
      "image/png": "[encoded data removed]",
      "text/plain": [
       "<matplotlib.figure.Figure at 0xce45978>"
      ]
     },
     "metadata": {},
     "output_type": "display_data"
    }
   ],
   "source": [
    "plt.hist(target3)"
   ]
  },
  {
   "cell_type": "code",
   "execution_count": 9,
   "metadata": {
    "collapsed": false
   },
   "outputs": [
    {
     "data": {
      "text/plain": [
       "(array([ 1281.,  1427.,  1517.,  1344.,   659.,   308.,   145.,    47.,\n",
       "           20.,     7.]),\n",
       " array([  1. ,   6.3,  11.6,  16.9,  22.2,  27.5,  32.8,  38.1,  43.4,\n",
       "         48.7,  54. ]),\n",
       " <a list of 10 Patch objects>)"
      ]
     },
     "execution_count": 9,
     "metadata": {},
     "output_type": "execute_result"
    },
    {
     "data": {
      "image/png": "[encoded data removed]",
      "text/plain": [
       "<matplotlib.figure.Figure at 0xd0d7cc0>"
      ]
     },
     "metadata": {},
     "output_type": "display_data"
    }
   ],
   "source": [
    "plt.hist(target4)"
   ]
  },
  {
   "cell_type": "code",
   "execution_count": 10,
   "metadata": {
    "collapsed": false
   },
   "outputs": [
    {
     "data": {
      "text/plain": [
       "(array([  1.75000000e+03,   2.55300000e+03,   2.24200000e+03,\n",
       "          1.16300000e+03,   4.13000000e+02,   1.25000000e+02,\n",
       "          2.80000000e+01,   9.00000000e+00,   4.00000000e+00,\n",
       "          2.00000000e+00]),\n",
       " array([   1. ,   11.2,   21.4,   31.6,   41.8,   52. ,   62.2,   72.4,\n",
       "          82.6,   92.8,  103. ]),\n",
       " <a list of 10 Patch objects>)"
      ]
     },
     "execution_count": 10,
     "metadata": {},
     "output_type": "execute_result"
    },
    {
     "data": {
      "image/png": "[encoded data removed]",
      "text/plain": [
       "<matplotlib.figure.Figure at 0xd400470>"
      ]
     },
     "metadata": {},
     "output_type": "display_data"
    }
   ],
   "source": [
    "plt.hist(target5)"
   ]
  },
  {
   "cell_type": "markdown",
   "metadata": {},
   "source": [
    "### Есть явная аномалия с первым набором образцом. Остальные можно почистить - но стоит уточнить, возможно изредка возможно такое большое количество посещений ~100. Очевидно однако, что 900 посещений в час ночи - ошибка в записи данных"
   ]
  },
  {
   "cell_type": "markdown",
   "metadata": {},
   "source": [
    "### Когда происходит аномалия"
   ]
  },
  {
   "cell_type": "code",
   "execution_count": 11,
   "metadata": {
    "collapsed": false
   },
   "outputs": [
    {
     "data": {
      "text/plain": [
       "7    74\n",
       "9    71\n",
       "8    65\n",
       "4    50\n",
       "3    48\n",
       "2    46\n",
       "6    43\n",
       "5    39\n",
       "1    38\n",
       "Name: Hour, dtype: int64"
      ]
     },
     "execution_count": 11,
     "metadata": {},
     "output_type": "execute_result"
    }
   ],
   "source": [
    "model1_2 = model1[model1.count>140]\n",
    "model1_2.Hour.value_counts() #В эти часы, причем явно это не рабочие часы"
   ]
  },
  {
   "cell_type": "markdown",
   "metadata": {},
   "source": [
    "### Посмотрим на паттерны"
   ]
  },
  {
   "cell_type": "code",
   "execution_count": 12,
   "metadata": {
    "collapsed": false
   },
   "outputs": [],
   "source": [
    "list = []\n",
    "list.append(model2)\n",
    "list.append(model3)\n",
    "list.append(model4)\n",
    "list.append(model5)\n",
    "t = np.zeros((16,1))"
   ]
  },
  {
   "cell_type": "code",
   "execution_count": 13,
   "metadata": {
    "collapsed": false
   },
   "outputs": [],
   "source": [
    "for j in list: #посчитаем количество посещаний для каждого часа\n",
    "    #print '---------------------------------------'\n",
    "    for i in np.arange(8,24):\n",
    "            #print i,\"ч.\", sum(j[j.Hour==i][\"count\"])\n",
    "            t[i-8]+=sum(j[j.Hour==i][\"count\"])"
   ]
  },
  {
   "cell_type": "code",
   "execution_count": 14,
   "metadata": {
    "collapsed": false
   },
   "outputs": [],
   "source": [
    "coef = np.zeros((16,2)) #посещений в час/сколько всего посещений\n",
    "coef[:,0]=np.arange(8,24)\n",
    "for i in np.arange(0,16):\n",
    "    #print t[i]/sum(t)\n",
    "    coef[i,1]=t[i]/sum(t)"
   ]
  },
  {
   "cell_type": "code",
   "execution_count": 15,
   "metadata": {
    "collapsed": false
   },
   "outputs": [
    {
     "data": {
      "text/plain": [
       "<matplotlib.text.Text at 0xdf2eb00>"
      ]
     },
     "execution_count": 15,
     "metadata": {},
     "output_type": "execute_result"
    },
    {
     "data": {
      "image/png": "[encoded data removed]",
      "text/plain": [
       "<matplotlib.figure.Figure at 0xcf9f898>"
      ]
     },
     "metadata": {},
     "output_type": "display_data"
    }
   ],
   "source": [
    "plt.plot(np.arange(8,24),coef[:,1]*100)\n",
    "plt.xlabel('TIME')\n",
    "plt.ylabel('% FROM TOTAL')"
   ]
  },
  {
   "cell_type": "markdown",
   "metadata": {},
   "source": [
    "### Создадим массив c  коэффициентами для каждого часа и умножим на количество посещений в этот день"
   ]
  },
  {
   "cell_type": "code",
   "execution_count": 16,
   "metadata": {
    "collapsed": false
   },
   "outputs": [],
   "source": [
    "z=0\n",
    "for i in np.arange(1,11):\n",
    "    z+= len(model1[model1.Hour==i])\n",
    "sum(model1.Hour.unique()>9) # количество разных часов\n",
    "x = np.zeros((z*16,5))\n",
    "total = model1[model1.Hour==1] # объединим аномальные массивы где часы от 1 до 10 включительно\n",
    "for i in np.arange(2,11):\n",
    "    total = total.append(model1[model1.Hour==i])"
   ]
  },
  {
   "cell_type": "code",
   "execution_count": 17,
   "metadata": {
    "collapsed": false
   },
   "outputs": [],
   "source": [
    "for i in np.arange(0,z*14,16):\n",
    "        x[0+i:16+i,0]=coef[:,1]#записываем коэффициенты\n",
    "        x[0+i:16+i,4] = coef[:,0] #записываем часы новые"
   ]
  },
  {
   "cell_type": "code",
   "execution_count": 18,
   "metadata": {
    "collapsed": false
   },
   "outputs": [],
   "source": [
    "j=0  #количество посещений в день\n",
    "for i in np.arange(0,z*14,16):\n",
    "    x[0+i:16+i,0]=x[0+i:16+i,0]*total.iloc[j,0]  #количество посещений\n",
    "    x[0+i:16+i,1:4]=total.iloc[j,1:4]  #год месяц день\n",
    "    j+=1"
   ]
  },
  {
   "cell_type": "code",
   "execution_count": 19,
   "metadata": {
    "collapsed": false
   },
   "outputs": [],
   "source": [
    "df =pd.DataFrame(x)\n",
    "df.columns=['count','Year','Month','Day','Hour']"
   ]
  },
  {
   "cell_type": "code",
   "execution_count": 20,
   "metadata": {
    "collapsed": false
   },
   "outputs": [],
   "source": [
    "new_model1 = model1[model1.Hour==11] # cjzz\n",
    "for i in np.arange(12,24):\n",
    "    new_model1 = new_model1.append(model1[model1.Hour==i])"
   ]
  },
  {
   "cell_type": "code",
   "execution_count": 21,
   "metadata": {
    "collapsed": false
   },
   "outputs": [],
   "source": [
    "new_model1 = new_model1.append(df)\n",
    "new_model1.to_csv('task.csv', index=None)\n"
   ]
  },
  {
   "cell_type": "markdown",
   "metadata": {},
   "source": [
    "### Данные агрегированы в R и снова загружены для построения модели"
   ]
  },
  {
   "cell_type": "code",
   "execution_count": 22,
   "metadata": {
    "collapsed": true
   },
   "outputs": [],
   "source": [
    "model1_new = pd.read_csv('bracnh1_chist_good.csv', header=0) \n",
    "train_new=model1_new.iloc[:,1:5]\n",
    "target_new = np.ravel(model1_new.iloc[:,0:1])"
   ]
  },
  {
   "cell_type": "markdown",
   "metadata": {},
   "source": [
    "### Посмотрим на распределение посли очистки -  стало гораздо лучше"
   ]
  },
  {
   "cell_type": "code",
   "execution_count": 23,
   "metadata": {
    "collapsed": false
   },
   "outputs": [
    {
     "data": {
      "text/plain": [
       "(array([  4.86800000e+03,   2.66600000e+03,   2.89100000e+03,\n",
       "          9.70000000e+02,   2.89000000e+02,   8.50000000e+01,\n",
       "          2.00000000e+01,   2.10000000e+01,   1.10000000e+01,\n",
       "          3.00000000e+00]),\n",
       " array([  2.14969229e-05,   1.06524202e+01,   2.13048190e+01,\n",
       "          3.19572177e+01,   4.26096165e+01,   5.32620152e+01,\n",
       "          6.39144140e+01,   7.45668127e+01,   8.52192115e+01,\n",
       "          9.58716102e+01,   1.06524009e+02]),\n",
       " <a list of 10 Patch objects>)"
      ]
     },
     "execution_count": 23,
     "metadata": {},
     "output_type": "execute_result"
    },
    {
     "data": {
      "image/png": "[encoded data removed]",
      "text/plain": [
       "<matplotlib.figure.Figure at 0xe462fd0>"
      ]
     },
     "metadata": {},
     "output_type": "display_data"
    }
   ],
   "source": [
    "plt.hist(target_new,bins=10)"
   ]
  },
  {
   "cell_type": "markdown",
   "metadata": {},
   "source": [
    "### Доовльно много данных где количество посещений очень маленькое"
   ]
  },
  {
   "cell_type": "code",
   "execution_count": 24,
   "metadata": {
    "collapsed": false
   },
   "outputs": [
    {
     "data": {
      "text/plain": [
       "23    731\n",
       "22    731\n",
       "21    728\n",
       "20    708\n",
       "8     165\n",
       "9      51\n",
       "19     30\n",
       "10     26\n",
       "18     10\n",
       "17      1\n",
       "Name: Hour, dtype: int64"
      ]
     },
     "execution_count": 24,
     "metadata": {},
     "output_type": "execute_result"
    }
   ],
   "source": [
    "model1_new[model1_new['count']<1].Hour.value_counts()"
   ]
  },
  {
   "cell_type": "markdown",
   "metadata": {},
   "source": [
    "### Основная масса приходится на 20-23 и 8-9. Что действительно соотвествует истине. Их можно исключить из выборки, не будем однако тратить время, на итоговый результат особого влияния они оказывать не должны"
   ]
  },
  {
   "cell_type": "markdown",
   "metadata": {},
   "source": [
    "### Кросс Валидация RMSE до обработки 52 - см.ниже, после = 9"
   ]
  },
  {
   "cell_type": "code",
   "execution_count": 25,
   "metadata": {
    "collapsed": false
   },
   "outputs": [
    {
     "name": "stdout",
     "output_type": "stream",
     "text": [
      "RMSE for model 1    9.79014455541\n"
     ]
    }
   ],
   "source": [
    "from sklearn.cross_validation import KFold\n",
    "from sklearn import cross_validation\n",
    "model = RandomForest(n_estimators=500,random_state=42,n_jobs=-1)\n",
    "kf = KFold(len(target_new), n_folds=5)\n",
    "results= cross_validation.cross_val_predict(model, train_new, target_new, cv=kf, n_jobs=-1)\n",
    "print 'RMSE for model 1   ', math.sqrt(sum((results-target_new)**2)/len(target_new))"
   ]
  },
  {
   "cell_type": "code",
   "execution_count": 26,
   "metadata": {
    "collapsed": false
   },
   "outputs": [
    {
     "data": {
      "text/plain": [
       "(array([  3.00000000e+00,   9.00000000e+00,   1.80000000e+01,\n",
       "          4.60000000e+01,   1.03000000e+02,   1.40000000e+02,\n",
       "          2.85000000e+02,   5.53000000e+02,   1.23000000e+03,\n",
       "          3.66400000e+03,   3.67000000e+03,   9.61000000e+02,\n",
       "          5.23000000e+02,   2.44000000e+02,   1.57000000e+02,\n",
       "          8.50000000e+01,   4.10000000e+01,   3.20000000e+01,\n",
       "          9.00000000e+00,   5.00000000e+00]),\n",
       " array([-50., -45., -40., -35., -30., -25., -20., -15., -10.,  -5.,   0.,\n",
       "          5.,  10.,  15.,  20.,  25.,  30.,  35.,  40.,  45.,  50.]),\n",
       " <a list of 20 Patch objects>)"
      ]
     },
     "execution_count": 26,
     "metadata": {},
     "output_type": "execute_result"
    },
    {
     "data": {
      "image/png": "[encoded data removed]",
      "text/plain": [
       "<matplotlib.figure.Figure at 0xdf42940>"
      ]
     },
     "metadata": {},
     "output_type": "display_data"
    }
   ],
   "source": [
    "plt.figure(figsize=(15,15))\n",
    "plt.hist(results-target_new,bins=20,range=[-50,50])"
   ]
  },
  {
   "cell_type": "markdown",
   "metadata": {},
   "source": [
    "### Построим модели\n",
    "### Модель rf_new  Отделение 1005625\n",
    "### Модель rf2         Отделение 1005839\n",
    "### Модель rf3         Отделение 1006034\n",
    "### Модель rf4         Отделение 1006255\n",
    "### Модель rf5         Отделение 1005609\n"
   ]
  },
  {
   "cell_type": "code",
   "execution_count": 27,
   "metadata": {
    "collapsed": false
   },
   "outputs": [
    {
     "data": {
      "text/plain": [
       "RandomForestRegressor(bootstrap=True, criterion='mse', max_depth=None,\n",
       "           max_features='auto', max_leaf_nodes=None, min_samples_leaf=1,\n",
       "           min_samples_split=2, min_weight_fraction_leaf=0.0,\n",
       "           n_estimators=500, n_jobs=1, oob_score=False, random_state=None,\n",
       "           verbose=0, warm_start=False)"
      ]
     },
     "execution_count": 27,
     "metadata": {},
     "output_type": "execute_result"
    }
   ],
   "source": [
    "rf1 = RandomForest(n_estimators=500)\n",
    "rf1.fit(train1,target1)\n",
    "rf2 = RandomForest(n_estimators=500)\n",
    "rf2.fit(train2,target2)\n",
    "rf3 = RandomForest(n_estimators=500)\n",
    "rf3.fit(train3,target3)\n",
    "rf4 = RandomForest(n_estimators=500)\n",
    "rf4.fit(train4,target4)\n",
    "rf5 = RandomForest(n_estimators=500)\n",
    "rf5.fit(train5,target5)\n",
    "rf_new = RandomForest(n_estimators=500)\n",
    "rf_new.fit(train_new,target_new)"
   ]
  },
  {
   "cell_type": "markdown",
   "metadata": {},
   "source": [
    "### Какой прогноз дает модель на 10:00 на 15.01.2016 в отделения 1005625? А на 11:00? А на 12:00 на 16.01.2016? А на 30 декабря 2016 в 15 часов"
   ]
  },
  {
   "cell_type": "code",
   "execution_count": 69,
   "metadata": {
    "collapsed": false
   },
   "outputs": [
    {
     "data": {
      "text/plain": [
       "array([ 22.5170087 ,  26.07925525,  23.97999739,  62.87266756])"
      ]
     },
     "execution_count": 69,
     "metadata": {},
     "output_type": "execute_result"
    }
   ],
   "source": [
    "x = np.array([[2016,1,15,10],[2016,1,15,11],[2016,1,16,11],[2016,12,30,15]])\n",
    "rf_new.predict(x)"
   ]
  },
  {
   "cell_type": "markdown",
   "metadata": {},
   "source": [
    " ###  Подсчитаем расхождения если не чистить модели. Теоретически случайный лес не переобучается выше определенного, некритического предела"
   ]
  },
  {
   "cell_type": "code",
   "execution_count": 29,
   "metadata": {
    "collapsed": false
   },
   "outputs": [],
   "source": [
    "res1 = rf1.predict(train1)- target1\n",
    "res2 = rf2.predict(train2)- target2\n",
    "res3 = rf3.predict(train3)- target3\n",
    "res4 = rf4.predict(train4)- target4\n",
    "res5 = rf5.predict(train5)- target5"
   ]
  },
  {
   "cell_type": "markdown",
   "metadata": {},
   "source": [
    "### Подсчитаем метрику RMSE в целом"
   ]
  },
  {
   "cell_type": "code",
   "execution_count": 30,
   "metadata": {
    "collapsed": false
   },
   "outputs": [],
   "source": [
    "RMSE1 = math.sqrt(sum(res1**2)/len(target1))\n",
    "RMSE2 = math.sqrt(sum(res2**2)/len(target2))\n",
    "RMSE3 = math.sqrt(sum(res3**2)/len(target3))\n",
    "RMSE4 = math.sqrt(sum(res4**2)/len(target4))\n",
    "RMSE5 = math.sqrt(sum(res5**2)/len(target5))"
   ]
  },
  {
   "cell_type": "code",
   "execution_count": 31,
   "metadata": {
    "collapsed": false
   },
   "outputs": [
    {
     "name": "stdout",
     "output_type": "stream",
     "text": [
      "RMSE 1 withouth preprocessing   13.4156596213 RMSE 2   3.52431758068 RMSE 3   4.2683521949 RMSE 4   2.86025922829 RMSE 5   3.98476782648\n"
     ]
    }
   ],
   "source": [
    "print \"RMSE 1 withouth preprocessing  \",RMSE1,\"RMSE 2  \",RMSE2,\"RMSE 3  \",RMSE3,\"RMSE 4  \",RMSE4,\"RMSE 5  \",RMSE5"
   ]
  },
  {
   "cell_type": "markdown",
   "metadata": {},
   "source": [
    "### Кросс Валидация"
   ]
  },
  {
   "cell_type": "code",
   "execution_count": 32,
   "metadata": {
    "collapsed": true
   },
   "outputs": [],
   "source": [
    "from sklearn.cross_validation import KFold\n",
    "from sklearn import cross_validation\n"
   ]
  },
  {
   "cell_type": "code",
   "execution_count": 33,
   "metadata": {
    "collapsed": false,
    "scrolled": true
   },
   "outputs": [
    {
     "name": "stdout",
     "output_type": "stream",
     "text": [
      "RMSE for model 1 old    52.4287287496\n",
      "RMSE for model 2    10.3150424724\n",
      "RMSE for model 3    13.9921437082\n",
      "RMSE for model 4    8.81778583305\n",
      "RMSE for model 5    12.3436506274\n"
     ]
    }
   ],
   "source": [
    "model = RandomForest(n_estimators=500,random_state=42)\n",
    "kf = KFold(len(target1), n_folds=5)\n",
    "results= cross_validation.cross_val_predict(model, train1, target1, cv=kf, n_jobs=-1)\n",
    "print 'RMSE for model 1 old   ', math.sqrt(sum((results-target1)**2)/len(target1))\n",
    "kf = KFold(len(target2), n_folds=5)\n",
    "results= cross_validation.cross_val_predict(model, train2, target2, cv=kf, n_jobs=-1)\n",
    "print 'RMSE for model 2   ', math.sqrt(sum((results-target2)**2)/len(target2))\n",
    "kf = KFold(len(target3), n_folds=5)\n",
    "results= cross_validation.cross_val_predict(model, train3, target3, cv=kf, n_jobs=-1)\n",
    "print 'RMSE for model 3   ', math.sqrt(sum((results-target3)**2)/len(target3))\n",
    "kf = KFold(len(target4), n_folds=5)\n",
    "results= cross_validation.cross_val_predict(model, train4, target4, cv=kf, n_jobs=-1)\n",
    "print 'RMSE for model 4   ', math.sqrt(sum((results-target4)**2)/len(target4))\n",
    "kf = KFold(len(target5), n_folds=5)\n",
    "results= cross_validation.cross_val_predict(model, train5, target5, cv=kf, n_jobs=-1)\n",
    "print 'RMSE for model 5   ', math.sqrt(sum((results-target5)**2)/len(target5))"
   ]
  },
  {
   "cell_type": "markdown",
   "metadata": {},
   "source": [
    "### Если посмотреть на гистограммы распределений и RMSE моделей видно, что RMSE больше именно там, где присуствутют выбросы с аномально высоким количеством посещений в час. Однако прежде чем их удалять, следует проконсультироваться с бизнесом и понять причину: ошибка записи? Специфичный наплыв клиентво именно в эти дни? Ошибка не столь явно выражение как в отделении  1005625 . Скорее всего,  если убрать  выбросы, можно улучшить метрику на 2-3 пункта и сделать равной отделению 1006255 и 1005625 после очистки  . Но повторяюсь, нужно понимать их причину"
   ]
  },
  {
   "cell_type": "markdown",
   "metadata": {},
   "source": [
    "### Сохраняем модели"
   ]
  },
  {
   "cell_type": "code",
   "execution_count": 34,
   "metadata": {
    "collapsed": false
   },
   "outputs": [],
   "source": [
    "pickle.dump(rf_new,open('1005625.pkl','wb'))\n",
    "pickle.dump(rf2,open('1005839.pkl','wb'))\n",
    "pickle.dump(rf3,open('1006034.pkl','wb'))\n",
    "pickle.dump(rf4,open('1006255.pkl','wb'))\n",
    "pickle.dump(rf5,open('1005609.pkl','wb'))\n",
    "#pickle.dump(rf1,open('1005609_with_outliers.pkl','wb'))\n"
   ]
  },
  {
   "cell_type": "code",
   "execution_count": null,
   "metadata": {
    "collapsed": true
   },
   "outputs": [],
   "source": []
  }
 ],
 "metadata": {
  "kernelspec": {
   "display_name": "Python [conda root]",
   "language": "python",
   "name": "conda-root-py"
  },
  "language_info": {
   "codemirror_mode": {
    "name": "ipython",
    "version": 2
   },
   "file_extension": ".py",
   "mimetype": "text/x-python",
   "name": "python",
   "nbconvert_exporter": "python",
   "pygments_lexer": "ipython2",
   "version": "2.7.12"
  }
 },
 "nbformat": 4,
 "nbformat_minor": 1
}
