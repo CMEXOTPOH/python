{
 "cells": [
  {
   "cell_type": "code",
   "execution_count": 1,
   "metadata": {
    "collapsed": true
   },
   "outputs": [],
   "source": [
    "import xgboost as xgb\n",
    "import pandas as pd\n",
    "import numpy as np"
   ]
  },
  {
   "cell_type": "markdown",
   "metadata": {},
   "source": [
    "### Считаем очищенные данные для первого отделения с добавленными фичами"
   ]
  },
  {
   "cell_type": "code",
   "execution_count": 2,
   "metadata": {
    "collapsed": false
   },
   "outputs": [],
   "source": [
    "data = pd.read_csv(\"final_for_1.csv\")"
   ]
  },
  {
   "cell_type": "code",
   "execution_count": 3,
   "metadata": {
    "collapsed": false
   },
   "outputs": [],
   "source": [
    "data[\"half_a_year\"] = 0\n",
    "data[\"Quarter\"] = 0"
   ]
  },
  {
   "cell_type": "code",
   "execution_count": 4,
   "metadata": {
    "collapsed": false
   },
   "outputs": [],
   "source": [
    "data.half_a_year[data.Month<7]=1\n",
    "data.half_a_year[data.Month>6]=2\n"
   ]
  },
  {
   "cell_type": "code",
   "execution_count": 5,
   "metadata": {
    "collapsed": false
   },
   "outputs": [],
   "source": [
    "data.Quarter[data.Month]=1\n",
    "data.Quarter[data.Month>4]=2\n",
    "data.Quarter[data.Month>6]=3\n",
    "data.Quarter[data.Month>9]=4"
   ]
  },
  {
   "cell_type": "markdown",
   "metadata": {},
   "source": [
    "### Подсчитаем сколько было посещений в полугодии и присвоим данные посещения следующему. Для 2 полугодия 2013 года возьмем средннюю цифру, посмотрев насколько изменяется 1 полугодие и второе"
   ]
  },
  {
   "cell_type": "code",
   "execution_count": 6,
   "metadata": {
    "collapsed": false
   },
   "outputs": [],
   "source": [
    "k=0\n",
    "polugod2 = np.zeros((1,3))\n",
    "for i in range(2013,2016):\n",
    "    x = 0\n",
    "    x = sum(data.Cnt[data.Year==i][data.Month>6])\n",
    "    polugod2[0,k]=x\n",
    "    k+=1\n",
    "k=0\n",
    "polugod1 = np.zeros((1,2))\n",
    "for i in range(2014,2016):\n",
    "    x = 0\n",
    "    x = x+sum(data.Cnt[data.Year==i][data.Month<7])\n",
    "    polugod1[0,k]=x\n",
    "    k+=1\n",
    "data.number_for_previous_6m[(data.Year==2013) & (data.Month>6)]=46000\n",
    "for i in range(0,2):    \n",
    "    data.number_for_previous_6m[(data.Year==2014+i) & (data.Month>6)]=polugod1[0,i]\n",
    "for i in range(0,2):    \n",
    "    data.number_for_previous_6m[(data.Year==2014+i) & (data.Month<7)]=polugod2[0,i]\n"
   ]
  },
  {
   "cell_type": "code",
   "execution_count": 7,
   "metadata": {
    "collapsed": false
   },
   "outputs": [
    {
     "name": "stdout",
     "output_type": "stream",
     "text": [
      " Для первого полугодия 2016 цифра будет 25437.0\n"
     ]
    }
   ],
   "source": [
    "print (\" Для первого полугодия 2016 цифра будет\", polugod2[0,2])"
   ]
  },
  {
   "cell_type": "markdown",
   "metadata": {},
   "source": [
    "### Проверим модель на 2 полугодии 2015 года"
   ]
  },
  {
   "cell_type": "code",
   "execution_count": 8,
   "metadata": {
    "collapsed": false
   },
   "outputs": [
    {
     "name": "stderr",
     "output_type": "stream",
     "text": [
      "/home/ven/anaconda3/lib/python3.5/site-packages/ipykernel/__main__.py:1: UserWarning: Boolean Series key will be reindexed to match DataFrame index.\n",
      "  if __name__ == '__main__':\n"
     ]
    }
   ],
   "source": [
    "test = data[data.Year==2015][data.Month>6]\n",
    "train = data.drop(test.index)"
   ]
  },
  {
   "cell_type": "code",
   "execution_count": 9,
   "metadata": {
    "collapsed": false
   },
   "outputs": [],
   "source": [
    "x_test = test.ix[:,1:9]\n",
    "y_test = test.ix[:,0]\n",
    "x_train = train.ix[:,1:9]\n",
    "y_train = train.ix[:,0]\n",
    "xgtrain = xgb.DMatrix(x_train, label=y_train)\n",
    "xgtest = xgb.DMatrix(x_test, label=y_test)"
   ]
  },
  {
   "cell_type": "code",
   "execution_count": 10,
   "metadata": {
    "collapsed": true
   },
   "outputs": [],
   "source": [
    "watchlist = [(xgtrain, 'train'), (xgtest, 'eval')]\n",
    "RANDOM_STATE = 42\n",
    "params = {\n",
    "            'min_child_weight': 1,\n",
    "            'eta': 0.001,\n",
    "            'colsample_bytree': 0.7,\n",
    "            'max_depth': 13,\n",
    "            'subsample': 0.7,\n",
    "            'alpha': 5,\n",
    "            'gamma': 1,\n",
    "            'silent': 1,\n",
    "            'verbose_eval': True,\n",
    "            'seed': RANDOM_STATE,\n",
    "            \"print.every.n\": 100,\n",
    "            'objective': 'reg:linear'\n",
    "    \n",
    "        }"
   ]
  },
  {
   "cell_type": "code",
   "execution_count": 11,
   "metadata": {
    "collapsed": false
   },
   "outputs": [
    {
     "name": "stdout",
     "output_type": "stream",
     "text": [
      "[0]\ttrain-rmse:25.4274\teval-rmse:21.0092\n",
      "Multiple eval metrics have been passed: 'eval-rmse' will be used for early stopping.\n",
      "\n",
      "Will train until eval-rmse hasn't improved in 300 rounds.\n",
      "[500]\ttrain-rmse:16.8213\teval-rmse:13.732\n",
      "[1000]\ttrain-rmse:11.7336\teval-rmse:9.97658\n",
      "[1500]\ttrain-rmse:8.73516\teval-rmse:8.24591\n",
      "[2000]\ttrain-rmse:6.96307\teval-rmse:7.58071\n",
      "[2500]\ttrain-rmse:5.92039\teval-rmse:7.38715\n",
      "[3000]\ttrain-rmse:5.23457\teval-rmse:7.3667\n",
      "Stopping. Best iteration:\n",
      "[2851]\ttrain-rmse:5.40966\teval-rmse:7.36354\n",
      "\n"
     ]
    }
   ],
   "source": [
    " model = xgb.train(params, xgtrain, 100000, watchlist, early_stopping_rounds=300,maximize=False,verbose_eval = 500)    "
   ]
  },
  {
   "cell_type": "markdown",
   "metadata": {
    "collapsed": false
   },
   "source": [
    "### eval-rmse:7.36354 для одного часа. Посмотрим относительную ошибку при предсказании нагрузки на все полугодие"
   ]
  },
  {
   "cell_type": "code",
   "execution_count": 12,
   "metadata": {
    "collapsed": false
   },
   "outputs": [
    {
     "name": "stdout",
     "output_type": "stream",
     "text": [
      "Относительная ошибка предсказания для полугодия в в целом составляет 2.74759498567 %\n"
     ]
    }
   ],
   "source": [
    "tolerance = 100*(sum(model.predict(xgtest)) - polugod2[0,2])/polugod2[0,2]\n",
    "print (\"Относительная ошибка предсказания для полугодия в в целом составляет\", tolerance,\"%\")\n"
   ]
  },
  {
   "cell_type": "markdown",
   "metadata": {},
   "source": [
    "### Обучим модель на полной выборке"
   ]
  },
  {
   "cell_type": "code",
   "execution_count": 13,
   "metadata": {
    "collapsed": false
   },
   "outputs": [],
   "source": [
    "x_data = data.ix[:,1:9]\n",
    "y_data = data.ix[:,0]\n",
    "xdata = xgb.DMatrix(x_data, label=y_data)"
   ]
  },
  {
   "cell_type": "code",
   "execution_count": 14,
   "metadata": {
    "collapsed": true
   },
   "outputs": [],
   "source": [
    "params = {\n",
    "            'min_child_weight': 1,\n",
    "            'eta': 0.001,\n",
    "            'colsample_bytree': 0.7,\n",
    "            'max_depth': 13,\n",
    "            'subsample': 0.7,\n",
    "            'alpha': 5,\n",
    "            'gamma': 1,\n",
    "            'silent': 1,\n",
    "            'verbose_eval': True,\n",
    "            'seed': RANDOM_STATE,\n",
    "            \"print.every.n\": 100,\n",
    "            'objective': 'reg:linear'\n",
    "    \n",
    "        }"
   ]
  },
  {
   "cell_type": "code",
   "execution_count": 15,
   "metadata": {
    "collapsed": false
   },
   "outputs": [
    {
     "name": "stdout",
     "output_type": "stream",
     "text": [
      "[0]\ttrain-rmse:24.7716+0.0986539\ttest-rmse:24.7711+0.197585\n",
      "[500]\ttrain-rmse:16.501+0.0588237\ttest-rmse:16.5716+0.121899\n",
      "[1000]\ttrain-rmse:11.6272+0.0300698\ttest-rmse:11.8189+0.0780179\n",
      "[1500]\ttrain-rmse:8.79017+0.0159055\ttest-rmse:9.15362+0.0496148\n",
      "[2000]\ttrain-rmse:7.10118+0.0194012\ttest-rmse:7.66896+0.039569\n",
      "[2500]\ttrain-rmse:6.06709+0.0314633\ttest-rmse:6.84684+0.0329871\n",
      "[3000]\ttrain-rmse:5.39159+0.0292198\ttest-rmse:6.37519+0.0186717\n",
      "[3500]\ttrain-rmse:4.92058+0.0306903\ttest-rmse:6.08887+0.00348082\n",
      "[4000]\ttrain-rmse:4.57045+0.0339257\ttest-rmse:5.90848+0.00783901\n",
      "[4500]\ttrain-rmse:4.30332+0.0382854\ttest-rmse:5.79584+0.0197317\n",
      "[5000]\ttrain-rmse:4.08036+0.0395061\ttest-rmse:5.71715+0.0275735\n",
      "[5500]\ttrain-rmse:3.8975+0.0435094\ttest-rmse:5.66261+0.0338723\n",
      "[6000]\ttrain-rmse:3.73667+0.0444691\ttest-rmse:5.62612+0.0428124\n",
      "[6500]\ttrain-rmse:3.59249+0.046445\ttest-rmse:5.60053+0.0502463\n",
      "[7000]\ttrain-rmse:3.46146+0.0443831\ttest-rmse:5.58194+0.0555173\n",
      "[7500]\ttrain-rmse:3.3411+0.0469998\ttest-rmse:5.56953+0.0605762\n",
      "[8000]\ttrain-rmse:3.23263+0.0491648\ttest-rmse:5.56246+0.065581\n",
      "[8500]\ttrain-rmse:3.12953+0.0477306\ttest-rmse:5.55866+0.0699061\n",
      "[9000]\ttrain-rmse:3.03562+0.050798\ttest-rmse:5.55776+0.0738771\n"
     ]
    }
   ],
   "source": [
    "model = xgb.cv(params, xdata, 100000, early_stopping_rounds=300,maximize=False,verbose_eval=500)    "
   ]
  },
  {
   "cell_type": "markdown",
   "metadata": {},
   "source": [
    "### Точность улучшились. Что связано как с увеличением числа наблюдений, так и с самой методикой оценки. "
   ]
  },
  {
   "cell_type": "code",
   "execution_count": 16,
   "metadata": {
    "collapsed": false
   },
   "outputs": [],
   "source": [
    "model = xgb.train(params, xdata, 9000)    "
   ]
  },
  {
   "cell_type": "markdown",
   "metadata": {},
   "source": [
    "### Проверим. Количество посещений за 2 полугодие 2015 было 25437.0"
   ]
  },
  {
   "cell_type": "code",
   "execution_count": 17,
   "metadata": {
    "collapsed": false
   },
   "outputs": [],
   "source": [
    "x = np.array([[2016,1,11,8,1,25437,1,1],[2016,1,11,9,1,25437,1,1],[2016,1,11,10,1,25437,1,1],[2016,1,11,11,1,25437,1,1]]) # задаем год = 2016, месяц - 1(январь), день месяца 11, час - 10, день недели \n",
    "# понедельник - 1 , количество посещений за предыдущее полугодие 25437.0, полугодие -1, квартал - 1"
   ]
  },
  {
   "cell_type": "code",
   "execution_count": 18,
   "metadata": {
    "collapsed": false
   },
   "outputs": [
    {
     "name": "stdout",
     "output_type": "stream",
     "text": [
      "11 Января 2016 года в 8 утра придет 9.0 ,в 9 утра 18.0 ,в 10 утра 26.0 ,в 11 утра 29.0\n"
     ]
    }
   ],
   "source": [
    "x = pd.DataFrame(x)\n",
    "x.columns = x_data.columns\n",
    "proverka = xgb.DMatrix(x)\n",
    "pr = np.round(model.predict(proverka),0)\n",
    "print('11 Января 2016 года в 8 утра придет', pr[0], ',в 9 утра', pr[1], ',в 10 утра', pr[2], ',в 11 утра', pr[3])"
   ]
  },
  {
   "cell_type": "code",
   "execution_count": 19,
   "metadata": {
    "collapsed": true
   },
   "outputs": [],
   "source": [
    "model.save_model(\"bst.model\")\n"
   ]
  },
  {
   "cell_type": "code",
   "execution_count": null,
   "metadata": {
    "collapsed": true
   },
   "outputs": [],
   "source": []
  }
 ],
 "metadata": {
  "anaconda-cloud": {},
  "kernelspec": {
   "display_name": "Python [conda root]",
   "language": "python",
   "name": "conda-root-py"
  },
  "language_info": {
   "codemirror_mode": {
    "name": "ipython",
    "version": 3
   },
   "file_extension": ".py",
   "mimetype": "text/x-python",
   "name": "python",
   "nbconvert_exporter": "python",
   "pygments_lexer": "ipython3",
   "version": "3.5.2"
  }
 },
 "nbformat": 4,
 "nbformat_minor": 1
}
